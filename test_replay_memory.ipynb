{
 "cells": [
  {
   "cell_type": "markdown",
   "id": "af7feedd",
   "metadata": {},
   "source": [
    "# Test replay memory\n",
    "\n",
    "A continuación, se realizan casos de prueba para la replay memory."
   ]
  },
  {
   "cell_type": "code",
   "execution_count": 5,
   "id": "e7ffd015",
   "metadata": {},
   "outputs": [],
   "source": [
    "from replay_memory import ReplayMemory, Transition"
   ]
  },
  {
   "cell_type": "markdown",
   "id": "131438b7",
   "metadata": {},
   "source": [
    "## 1er caso - Sobrescritura de los \"slots\" de memoria\n",
    "\n",
    "caso inicial: se realiza la creación de una memoria con tamaño 3\n",
    "\n",
    "acción: se ingresan 6 estados y se solicita una muestra de 3 elementos a la memoria\n",
    "\n",
    "resultado esperado: se muestran las transiciones 4, 5 y 6\n",
    "\n"
   ]
  },
  {
   "cell_type": "code",
   "execution_count": 6,
   "id": "bc9ecbcc",
   "metadata": {},
   "outputs": [
    {
     "name": "stdout",
     "output_type": "stream",
     "text": [
      "Memory sample:\n",
      "Sample 0: Transition(state='state4', action='action4', reward='reward4', done='done4', next_state='next_state4')\n",
      "Sample 1: Transition(state='state6', action='action6', reward='reward6', done='done6', next_state='next_state6')\n",
      "Sample 2: Transition(state='state5', action='action5', reward='reward5', done='done5', next_state='next_state5')\n"
     ]
    }
   ],
   "source": [
    "# Creamos la memoria de repetición\n",
    "replay_memory = ReplayMemory(3)\n",
    "\n",
    "# Añadimos transiciones a la memoria (solo las 3 últimas se guardan)\n",
    "replay_memory.add('state1', 'action1', 'reward1', 'done1', 'next_state1')\n",
    "replay_memory.add('state2', 'action2', 'reward2', 'done2', 'next_state2')\n",
    "replay_memory.add('state3', 'action3', 'reward3', 'done3', 'next_state3')\n",
    "replay_memory.add('state4', 'action4', 'reward4', 'done4', 'next_state4')\n",
    "replay_memory.add('state5', 'action5', 'reward5', 'done5', 'next_state5')\n",
    "replay_memory.add('state6', 'action6', 'reward6', 'done6', 'next_state6')\n",
    "\n",
    "# Obtenemos las últimas 3\n",
    "sampled = replay_memory.sample(3)\n",
    "print(f\"Memory sample:\")\n",
    "for i, sample in enumerate(sampled):\n",
    "    print(f\"Sample {i}: {sample}\")"
   ]
  },
  {
   "cell_type": "markdown",
   "id": "bf195055",
   "metadata": {},
   "source": [
    "## 2o caso - Obtener el tamaño de la memoria actualmente\n",
    "\n",
    "caso inicial: memoria creada con 3 elementos (llena)\n",
    "\n",
    "acción: se consulta el tamaño de la memoria\n",
    "\n",
    "resultado esperado: Se muestra en pantalla la salida \"Tamaño de la memoria: 3\""
   ]
  },
  {
   "cell_type": "code",
   "execution_count": 7,
   "id": "022bcf93",
   "metadata": {},
   "outputs": [
    {
     "name": "stdout",
     "output_type": "stream",
     "text": [
      "Tamaño de la memoria: 3\n"
     ]
    }
   ],
   "source": [
    "print(f\"Tamaño de la memoria: {len(replay_memory)}\")"
   ]
  },
  {
   "cell_type": "markdown",
   "id": "217ea234",
   "metadata": {},
   "source": [
    "## 3er caso - Limpiar la memoria\n",
    "\n",
    "caso inicial: se encuentran datos en memoria\n",
    "\n",
    "acción: se procede a eliminar los datos de la memoria\n",
    "\n",
    "resultado esperado: el tamaño de la memoria es 0"
   ]
  },
  {
   "cell_type": "code",
   "execution_count": 8,
   "id": "7d2ed670",
   "metadata": {},
   "outputs": [
    {
     "name": "stdout",
     "output_type": "stream",
     "text": [
      "Tamaño de la memoria después de limpiar: 0\n"
     ]
    }
   ],
   "source": [
    "replay_memory.clear()\n",
    "print(f\"Tamaño de la memoria después de limpiar: {len(replay_memory)}\")"
   ]
  }
 ],
 "metadata": {
  "kernelspec": {
   "display_name": "obl_taller_ia",
   "language": "python",
   "name": "python3"
  },
  "language_info": {
   "codemirror_mode": {
    "name": "ipython",
    "version": 3
   },
   "file_extension": ".py",
   "mimetype": "text/x-python",
   "name": "python",
   "nbconvert_exporter": "python",
   "pygments_lexer": "ipython3",
   "version": "3.12.10"
  }
 },
 "nbformat": 4,
 "nbformat_minor": 5
}
