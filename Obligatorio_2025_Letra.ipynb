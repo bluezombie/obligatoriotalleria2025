{
 "cells": [
  {
   "cell_type": "markdown",
   "metadata": {},
   "source": [
    "# Obligatorio - Taller Agentes Inteligentes 2025\n",
    "\n",
    "En este trabajo obligatorio aplicaremos los conceptos vistos en el curso para diseñar, implementar y evaluar agentes capaces de aprender a jugar al clásico **Breakout** de Atari, utilizando el entorno provisto por Farama Gymnasium ([https://ale.farama.org/environments/breakout/](https://ale.farama.org/environments/breakout/)). \n",
    "\n",
    "<p align=\"center\">\n",
    "  <img src=\"https://media.tenor.com/oMxHgRrISJsAAAAM/atari-deep-learning.gif\" alt=\"Atari Deep Learning\"/>\n",
    "</p>\n",
    "\n",
    "\n",
    "El ejercicio se enmarca en un contexto de aprendizaje práctico, donde trabajaremos con las interfaces estándar de Gymnasium para:\n",
    "\n",
    "1. **Profundizar en algoritmos de valor**: implementaremos y compararemos dos variantes de Q-Learning basadas en redes neuronales profundas:\n",
    "   * **Deep Q Learning (DQN)**\n",
    "   * **Double Deep Q Learning (DDQN)**\n",
    "2. **Evaluar rendimiento y estabilidad**: registraremos las recompensas obtenidas durante el entrenamiento de cada agente y analizaremos su comportamiento mediante gráficas comparativas.\n",
    "3. **Demostrar resultados de forma visual**: capturaremos vídeos que muestren a cada agente “resolviendo” el entorno, entendido como la habilidad de romper al menos cinco bloques en una partida.\n",
    "\n",
    "Debido a las limitaciones de tiempo y cómputo propias de un entorno de curso, no se espera entrenar modelos durante más de diez horas por agente. Por ello, será fundamental:\n",
    "\n",
    "* Integrar puntos de **checkpoint** para guardar periódicamente los pesos de la red.\n",
    "* Seguir en los puntos 2 y 3 la arquitectura y técnicas originales propuestas en los papers seminales de DQN y DDQN, dejando la experimentación adicional para el punto extra.\n",
    "* Flexibilizar la notebook de guía: pueden reorganizarla o dividirla en múltiples archivos según su conveniencia.\n"
   ]
  },
  {
   "cell_type": "markdown",
   "metadata": {},
   "source": [
    "## Objetivos y tareas\n",
    "\n",
    "1. **Completar la implementación**\n",
    "   * Rellenar el código faltante en la notebook y en los módulos auxiliares para que los agentes puedan interactuar con el entorno de Breakout.\n",
    "2. **Entrenar agentes**\n",
    "   * Ajustar y entrenar un **DQN** que alcance la condición de “resolver” (romper ≥ 10 bloques).\n",
    "   * Ajustar y entrenar un **DDQN** con la misma meta de desempeño.\n",
    "3. **Visualizar y analizar resultados**\n",
    "   * Generar **gráficas comparativas** de las recompensas obtenidas por ambos agentes en el mismo entorno (una gráfica por ambiente). Además se sugiere gráficas que muestren el valor de la función de valor Q para cada agente.\n",
    "   * Extraer **al menos dos conclusiones** por gráfica, comentando diferencias en convergencia, estabilidad y comportamiento exploratorio.\n",
    "4. **Registro de demostraciones**\n",
    "   * Grabar y entregar un **video demostrativo** de cada agente resolviendo el entorno.\n",
    "5. **Experimentación**\n",
    "   * Probar otras arquitecturas, técnicas de mejora o módulos de procesamiento de entradas más avanzados, documentando brevemente su impacto/"
   ]
  },
  {
   "cell_type": "markdown",
   "metadata": {},
   "source": [
    "## Criterios de evaluación\n",
    "\n",
    "| Criterio                                  | Descripción                                                  | Peso |\n",
    "| ----------------------------------------- | ------------------------------------------------------------ | ---- |\n",
    "| **Implementación y rendimiento**          | DQN y DDQN completados; cada agente rompe ≥ 10 bloques       | 40%  |\n",
    "| **Estructura y narrativa de la notebook** | Secciones claras, explicación de decisiones, “historia”      | 20%  |\n",
    "| **Análisis de resultados**                | Gráficas comparativas; ≥ 2 conclusiones por gráfico          | 20%  |\n",
    "| **Presentación visual**                   | Vídeos demostrativos de cada agente                          | 10%  |\n",
    "| **Experimentación**                       | Experimentación adicional documentada y analizada brevemente | 10%  |"
   ]
  },
  {
   "cell_type": "markdown",
   "metadata": {},
   "source": [
    "## Bibliografía\n",
    "\n",
    "* **Mnih, V.**, Kavukcuoglu, K., Silver, D., Rusu, A. A., Veness, J., Bellemare, M. G., … Hassabis, D. (2013). *Playing Atari with Deep Reinforcement Learning*. [arXiv:1312.5602](https://arxiv.org/abs/1312.5602)\n",
    "* **van Hasselt, H.**, Guez, A., & Silver, D. (2015). *Deep Reinforcement Learning with Double Q-learning*. [arXiv:1509.06461](https://arxiv.org/abs/1509.06461)\n",
    "* **Sutton, R. S.**, & Barto, A. G. (2018). *Reinforcement Learning: An Introduction* (2nd ed.), capítulo 16.5: “Human-level Video Game Play”. MIT Press."
   ]
  },
  {
   "cell_type": "markdown",
   "metadata": {},
   "source": [
    "## Setup"
   ]
  },
  {
   "cell_type": "markdown",
   "metadata": {
    "id": "gc6t9etEt9I2",
    "pycharm": {
     "name": "#%%\n"
    }
   },
   "source": [
    "**Imports**"
   ]
  },
  {
   "cell_type": "code",
   "execution_count": 1,
   "metadata": {
    "id": "cwHCw6PMt9I3",
    "pycharm": {
     "name": "#%%\n"
    }
   },
   "outputs": [],
   "source": [
    "import os\n",
    "import torch\n",
    "import numpy as np\n",
    "import random\n",
    "import numpy as np\n",
    "import torch.nn as nn\n",
    "import torch.nn.functional as F\n",
    "from torchinfo import summary\n",
    "import gymnasium\n",
    "import ale_py\n",
    "from utils import make_env, show_observation_stack\n",
    "from IPython.display import Video"
   ]
  },
  {
   "cell_type": "markdown",
   "metadata": {},
   "source": [
    "ALE (Atari Learning Environment) es un entorno de aprendizaje para videojuegos de Atari. En este caso, utilizaremos el entorno de Breakout. Es necesario entender que se separa el entorno de los roms de Atari, que son los juegos en sí. El entorno de ALE permite interactuar con los juegos de Atari a través de una API estándar, facilitando la implementación de algoritmos de aprendizaje por refuerzo.\n",
    "\n",
    "Debemos instalar los roms por separado, para ello primero tenemos que saber donde están los roms de Atari. "
   ]
  },
  {
   "cell_type": "code",
   "execution_count": 3,
   "metadata": {},
   "outputs": [
    {
     "name": "stdout",
     "output_type": "stream",
     "text": [
      "/opt/anaconda3/envs/obl_taller_ia/lib/python3.12/site-packages/ale_py/roms\n"
     ]
    }
   ],
   "source": [
    "gymnasium.register_envs(ale_py) # registramos todos los entornos de ale_py\n",
    "ruta_init = ale_py.roms.__file__ # debemos saber donde se encuentra la carpeta roms\n",
    "ALE_ROMS_PATH = os.path.dirname(ruta_init)\n",
    "print(ALE_ROMS_PATH)"
   ]
  },
  {
   "cell_type": "code",
   "execution_count": 4,
   "metadata": {},
   "outputs": [
    {
     "name": "stdout",
     "output_type": "stream",
     "text": [
      "ROMs path: /opt/anaconda3/envs/obl_taller_ia/lib/python3.12/site-packages/ale_py/roms\n"
     ]
    }
   ],
   "source": [
    "print(f\"ROMs path: {ALE_ROMS_PATH}\")"
   ]
  },
  {
   "cell_type": "markdown",
   "metadata": {},
   "source": [
    "Podemos usar los siguientes comando para instalar los roms y colocalos en la carpeta correcta."
   ]
  },
  {
   "cell_type": "code",
   "execution_count": 4,
   "metadata": {},
   "outputs": [
    {
     "name": "stdout",
     "output_type": "stream",
     "text": [
      "Requirement already satisfied: autorom[accept-rom-license] in /opt/anaconda3/envs/obl_taller_ia/lib/python3.12/site-packages (0.6.1)\n",
      "Requirement already satisfied: click in /opt/anaconda3/envs/obl_taller_ia/lib/python3.12/site-packages (from autorom[accept-rom-license]) (8.2.0)\n",
      "Requirement already satisfied: requests in /opt/anaconda3/envs/obl_taller_ia/lib/python3.12/site-packages (from autorom[accept-rom-license]) (2.32.3)\n",
      "Requirement already satisfied: AutoROM.accept-rom-license in /opt/anaconda3/envs/obl_taller_ia/lib/python3.12/site-packages (from autorom[accept-rom-license]) (0.6.1)\n",
      "Requirement already satisfied: charset_normalizer<4,>=2 in /opt/anaconda3/envs/obl_taller_ia/lib/python3.12/site-packages (from requests->autorom[accept-rom-license]) (3.4.2)\n",
      "Requirement already satisfied: idna<4,>=2.5 in /opt/anaconda3/envs/obl_taller_ia/lib/python3.12/site-packages (from requests->autorom[accept-rom-license]) (3.10)\n",
      "Requirement already satisfied: urllib3<3,>=1.21.1 in /opt/anaconda3/envs/obl_taller_ia/lib/python3.12/site-packages (from requests->autorom[accept-rom-license]) (2.4.0)\n",
      "Requirement already satisfied: certifi>=2017.4.17 in /opt/anaconda3/envs/obl_taller_ia/lib/python3.12/site-packages (from requests->autorom[accept-rom-license]) (2025.4.26)\n",
      "AutoROM will download the Atari 2600 ROMs.\n",
      "They will be installed to:\n",
      "\t/opt/anaconda3/envs/obl_taller_ia/lib/python3.12/site-packages/ale_py/roms\n",
      "\n",
      "Existing ROMs will be overwritten.\n",
      "\n",
      "I own a license to these Atari 2600 ROMs.\n",
      "I agree to not distribute these ROMs and wish to proceed: [Y/n]: ^C\n"
     ]
    }
   ],
   "source": [
    "!pip install \"autorom[accept-rom-license]\"\n",
    "!AutoROM --accept-license --install-dir {ALE_ROMS_PATH}"
   ]
  },
  {
   "cell_type": "markdown",
   "metadata": {},
   "source": [
    "Fijamos la semilla para que los resultados sean reproducibles"
   ]
  },
  {
   "cell_type": "code",
   "execution_count": 5,
   "metadata": {},
   "outputs": [],
   "source": [
    "SEED = 23\n",
    "\n",
    "torch.manual_seed(SEED)\n",
    "torch.backends.cudnn.deterministic=True # https://discuss.pytorch.org/t/what-is-the-differenc-between-cudnn-deterministic-and-cudnn-benchmark/38054\n",
    "torch.backends.cudnn.benchmark=True # https://discuss.pytorch.org/t/what-does-torch-backends-cudnn-benchmark-do/5936/4\n",
    "np.random.seed(SEED)\n",
    "random.seed(SEED)"
   ]
  },
  {
   "cell_type": "markdown",
   "metadata": {},
   "source": [
    "Vemos que dispositivo tenemos, si es GPU, MPS o CPU. **El uso de GPU es altamente recomendable** para acelerar el entrenamiento de los modelos. "
   ]
  },
  {
   "cell_type": "code",
   "execution_count": 6,
   "metadata": {},
   "outputs": [
    {
     "name": "stdout",
     "output_type": "stream",
     "text": [
      "Device: mps\n"
     ]
    }
   ],
   "source": [
    "# Algunas constantes\n",
    "\n",
    "# definimos el dispositivo que vamos a usar\n",
    "DEVICE = \"cpu\"  # por defecto, usamos la CPU\n",
    "if torch.cuda.is_available():\n",
    "    DEVICE = \"cuda\"  # si hay GPU, usamos la GPU\n",
    "elif torch.backends.mps.is_available():\n",
    "    DEVICE = \"mps\"  # si no hay GPU, pero hay MPS, usamos MPS\n",
    "\n",
    "print(f\"Device: {DEVICE}\")"
   ]
  },
  {
   "cell_type": "markdown",
   "metadata": {},
   "source": [
    "## Preprocesando Atari\n",
    "\n",
    "Para reproducir fielmente el enfoque de Mnih et al. (2013) y reducir la carga computacional al trabajar con imágenes de Atari (210 × 160 píxeles, 128 colores), aplicamos el siguiente preprocesado φ a las últimas **4** frames del entorno:\n",
    "\n",
    "1. **Conversión a escala de grises**\n",
    "   Eliminamos la información de color (GRAYSCALE = True), pues la luminosidad es suficiente para capturar la dinámica de juego y reduce drásticamente la dimensionalidad de la entrada.\n",
    "\n",
    "2. **Down-sampling y recorte**\n",
    "   * Redimensionamos la imagen original a 110 × 84 píxeles, manteniendo la proporción horizontal.\n",
    "   * Recortamos un área central de 84 × 84 píxeles que contiene la “zona de juego”, descartando bordes innecesarios.\n",
    "     Este paso (SCREEN_SIZE = 84) no solo concentra la atención del modelo en la región relevante, sino que también garantiza un tamaño cuadrado compatible con las implementaciones de convoluciones en GPU.\n",
    "\n",
    "3. **Saltos temporales (frame skipping)**\n",
    "   Procesamos cada 4 frames (SKIP_FRAMES = 4), repitiendo la misma acción durante esos pasos. Esto reduce la redundancia temporal, acelera el entrenamiento y mantiene la coherencia del movimiento de la paleta y la bola.\n",
    "\n",
    "4. **Apilamiento de frames**\n",
    "   Finalmente, acumulamos las últimas 4 imágenes preprocesadas (NUM_STACKED_FRAMES = 4) en un único tensor de entrada. Así el agente puede inferir la velocidad y dirección de los elementos móviles a partir de la diferencia entre frames.\n",
    "\n",
    "Este esquema de preprocesado es fundamental para disminuir el espacio de entrada, acelerar las convoluciones y proporcionar al Q-net una representación compacta y rica en información dinámica, tal como se describe en el algoritmo 1 del paper original .\n",
    "\n",
    "> Se recomienda ver el método `make_env` en el archivo `utils.py` para entender cómo se implementa este preprocesado. "
   ]
  },
  {
   "cell_type": "code",
   "execution_count": 7,
   "metadata": {},
   "outputs": [],
   "source": [
    "GRAY_SCALE = True # si True, convertimos la imagen a escala de grises\n",
    "SCREEN_SIZE = 84 # redimensionamos a SCREEN_SIZExSCREEN_SIZE\n",
    "NUM_STACKED_FRAMES = 4 # apilamos NUM_STACKED_FRAMES frames\n",
    "SKIP_FRAMES = 4 # saltamos SKIP_FRAMES frames (haciendo la misma acción)"
   ]
  },
  {
   "cell_type": "code",
   "execution_count": 8,
   "metadata": {
    "colab": {
     "base_uri": "https://localhost:8080/"
    },
    "id": "loVxQPrwt9I5",
    "outputId": "18b7ed97-88dd-4b1e-a2cc-b2636686bfc7"
   },
   "outputs": [
    {
     "name": "stderr",
     "output_type": "stream",
     "text": [
      "A.L.E: Arcade Learning Environment (version 0.10.2+unknown)\n",
      "[Powered by Stella]\n",
      "Game console created:\n",
      "  ROM file:  /opt/anaconda3/envs/obl_taller_ia/lib/python3.12/site-packages/ale_py/roms/breakout.bin\n",
      "  Cart Name: Breakout - Breakaway IV (1978) (Atari)\n",
      "  Cart MD5:  f34f08e5eb96e500e851a80be3277a56\n",
      "  Display Format:  AUTO-DETECT ==> NTSC\n",
      "  ROM Size:        2048\n",
      "  Bankswitch Type: AUTO-DETECT ==> 2K\n",
      "\n",
      "Running ROM file...\n",
      "Random seed is -212500544\n",
      "/opt/anaconda3/envs/obl_taller_ia/lib/python3.12/site-packages/gymnasium/wrappers/rendering.py:283: UserWarning: \u001b[33mWARN: Overwriting existing videos at /Users/gotero/facultad/2025/taller_ia/obligatorio/videos/random folder (try specifying a different `video_folder` for the `RecordVideo` wrapper if this is not desired)\u001b[0m\n",
      "  logger.warn(\n"
     ]
    },
    {
     "data": {
      "image/png": "[encoded data removed]",
      "text/plain": [
       "<Figure size 640x480 with 1 Axes>"
      ]
     },
     "metadata": {},
     "output_type": "display_data"
    },
    {
     "data": {
      "image/png": "[encoded data removed]",
      "text/plain": [
       "<Figure size 640x480 with 1 Axes>"
      ]
     },
     "metadata": {},
     "output_type": "display_data"
    },
    {
     "data": {
      "image/png": "[encoded data removed]",
      "text/plain": [
       "<Figure size 640x480 with 1 Axes>"
      ]
     },
     "metadata": {},
     "output_type": "display_data"
    },
    {
     "data": {
      "image/png": "[encoded data removed]",
      "text/plain": [
       "<Figure size 640x480 with 1 Axes>"
      ]
     },
     "metadata": {},
     "output_type": "display_data"
    },
    {
     "name": "stdout",
     "output_type": "stream",
     "text": [
      "Episode 1 finished with total reward: 1\n"
     ]
    }
   ],
   "source": [
    "# https://ale.farama.org/environments/breakout/\n",
    "ENV_NAME = \"ALE/Breakout-v5\" \n",
    "\n",
    "env = make_env(ENV_NAME,\n",
    "                video_folder='./videos/random',\n",
    "                name_prefix=\"breakout\",\n",
    "                record_every=1,\n",
    "                grayscale=GRAY_SCALE,\n",
    "                screen_size=SCREEN_SIZE,\n",
    "                stack_frames=NUM_STACKED_FRAMES,\n",
    "                skip_frames=SKIP_FRAMES\n",
    "                )\n",
    "\n",
    "for episode_num in range(1):\n",
    "    obs, info = env.reset()\n",
    "    show_observation_stack(obs)\n",
    "    reward_total = 0\n",
    "    episode_over = False\n",
    "    while not episode_over:\n",
    "        action = env.action_space.sample()  # seleccionamos una acción aleatoria\n",
    "        obs, reward, terminated, truncated, info = env.step(action)\n",
    "        reward_total += reward\n",
    "        episode_over = terminated or truncated\n",
    "    print(f\"Episode {episode_num + 1} finished with total reward: {reward_total}\")\n",
    "\n",
    "env.close()"
   ]
  },
  {
   "cell_type": "markdown",
   "metadata": {},
   "source": [
    "Además, podemos mostrar los videos capturados por el entorno de Atari de la siguiente manera:"
   ]
  },
  {
   "cell_type": "code",
   "execution_count": 9,
   "metadata": {},
   "outputs": [
    {
     "data": {
      "text/html": [
       "<video controls  width=\"600\" >\n",
       " <source src=\"data:video/mp4;base64,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\" type=\"video/mp4\">\n",
       " Your browser does not support the video tag.\n",
       " </video>"
      ],
      "text/plain": [
       "<IPython.core.display.Video object>"
      ]
     },
     "execution_count": 9,
     "metadata": {},
     "output_type": "execute_result"
    }
   ],
   "source": [
    "# Ruta al archivo de vídeo en tu sistema de ficheros\n",
    "video_path = \"./videos/random/breakout-episode-0.mp4\"\n",
    "\n",
    "# Muestra el vídeo\n",
    "Video(video_path, embed=True, width=600)"
   ]
  },
  {
   "cell_type": "markdown",
   "metadata": {
    "id": "2bYVG_TKt9I5"
   },
   "source": [
    "# Exploración del entorno"
   ]
  },
  {
   "cell_type": "code",
   "execution_count": 10,
   "metadata": {},
   "outputs": [
    {
     "name": "stdout",
     "output_type": "stream",
     "text": [
      "Actions shape: Discrete(4)\n",
      "Observation shape: (4, 84, 84)\n",
      "(4, 84, 84),\n",
      " 0,\n",
      " False,\n",
      " {'lives': 5, 'episode_frame_number': 12, 'frame_number': 752}\n"
     ]
    }
   ],
   "source": [
    "print(\"Actions shape:\",env.action_space)\n",
    "print(\"Observation shape:\",env.observation_space.shape)\n",
    "env.reset()\n",
    "next_state, reward, terminated, truncated, info = env.step(action=0)\n",
    "\n",
    "print(f\"{next_state.shape},\\n {reward},\\n {terminated},\\n {info}\")"
   ]
  },
  {
   "cell_type": "markdown",
   "metadata": {},
   "source": [
    "### Acciones\n",
    "..."
   ]
  },
  {
   "cell_type": "markdown",
   "metadata": {},
   "source": [
    "### Observaciones\n",
    "..."
   ]
  },
  {
   "cell_type": "markdown",
   "metadata": {
    "id": "XIHpwiaat9I7"
   },
   "source": [
    "# Deep Q Learning\n",
    "\n",
    "Deep Q Learning extiende el algoritmo clásico de Q-learning al emplear una **red neuronal profunda** como aproximador de la función de valor $Q(s,a)$. Inspirado en Mnih et al. (2013), este método utiliza una **red convolucional** para procesar directamente las imágenes del entorno Atari, un **replay buffer** para romper la correlación temporal de las muestras. La política sigue un esquema **ε-greedy**, balanceando exploración y explotación, y se entrena minimizando el error de la ecuación de Bellman sobre lotes de transiciones muestreadas de manera aleatoria.\n",
    "\n",
    "<p align=\"center\">\n",
    "  <img src=\"https://www.researchgate.net/profile/Faris-Mismar/publication/327045314/figure/fig4/AS:819677282455553@1572437701142/Structure-of-the-neural-network-used-for-the-Deep-Q-learning-Network-implementation-with.png\" alt=\"DQN\"/>\n",
    "</p>\n",
    "\n",
    "Fuente: [arXiv:1312.5602](https://arxiv.org/abs/1312.5602)"
   ]
  },
  {
   "cell_type": "markdown",
   "metadata": {
    "id": "ajTGajUftSgY",
    "pycharm": {
     "name": "#%% md\n"
    }
   },
   "source": [
    "## Memoria\n",
    "\n",
    "El algoritmo de Deep Q Learning presentado en el paper utiliza una memoria (llamada Replay Memory) para almacenar transiciones pasadas. Tuplas que contienen un estado base, la accion tomada, la recompensa obtenida, una bandera que indica si el siguiente estado es final o no; y el estado siguiente.\n",
    "\n",
    "Esta memoria es circular, es decir, tiene un límite maximo de elementos y una vez esté llena comienza a reemplazar los elementos más viejos.\n",
    "\n",
    "Vamos a necesitar crear una función **sample** que obtiene una mustra aleatoria de elementos de la memoria.  Esto puede ser una lista de Transiciones o listas separadas (pero alineadas) de los elementos que las componen.\n",
    "\n",
    "\n",
    "> Para implementar esta funcionalidad se debe modificar el archivo **replay_memory.py**"
   ]
  },
  {
   "cell_type": "code",
   "execution_count": 11,
   "metadata": {
    "id": "scPtpbz4tTAh",
    "outputId": "0890f48a-e673-4416-bd69-7dcf2730ba64",
    "pycharm": {
     "name": "#%%\n"
    }
   },
   "outputs": [
    {
     "name": "stdout",
     "output_type": "stream",
     "text": [
      "Memory size: 3\n",
      "\n",
      "Memory sample:\n",
      "Sample 0: Transition(state='state2', action='action2', reward='reward2', done='done2', next_state='next_state2')\n",
      "Sample 1: Transition(state='state4', action='action4', reward='reward4', done='done4', next_state='next_state4')\n"
     ]
    }
   ],
   "source": [
    "from replay_memory import ReplayMemory, Transition\n",
    "\n",
    "# Creamos la memoria de repetición\n",
    "replay_memory = ReplayMemory(3)\n",
    "\n",
    "# Añadimos transiciones a la memoria (solo las 3 últimas se guardan)\n",
    "replay_memory.add('state1', 'action1', 'reward1', 'done1', 'next_state1' )\n",
    "replay_memory.add('state2', 'action2', 'reward2', 'done2', 'next_state2')\n",
    "replay_memory.add('state3', 'action3', 'reward3', 'done3', 'next_state3')\n",
    "replay_memory.add('state4', 'action4', 'reward4', 'done4', 'next_state4')\n",
    "\n",
    "# Mostramos el tamaño de la memoria\n",
    "print(f\"Memory size: {len(replay_memory)}\\n\")\n",
    "\n",
    "# Mostramos un sample de la memoria\n",
    "sampled = replay_memory.sample(2)\n",
    "print(f\"Memory sample:\")\n",
    "for i, sample in enumerate(sampled):\n",
    "    print(f\"Sample {i}: {sample}\")\n"
   ]
  },
  {
   "cell_type": "markdown",
   "metadata": {
    "id": "j7Ygv5Mjtb-F",
    "pycharm": {
     "name": "#%% md\n"
    }
   },
   "source": [
    "## Modelo\n",
    "\n",
    "Vamos a usar un mismo modelo FeedForward para estos dos problemas (entrenado en cada problema particular). Recomendamos simplicidad en la creación del mismo, pero tienen total libertad al momento de implementarlo.\n",
    "\n",
    "> Para implementar esta funcionalidad se debe modificar el archivo **dqn_cnn_model.py**. Se recomienda empezar por una arquitectura simple como la que se muestra en el paper de Mnih et al. (2013) y luego experimentar con arquitecturas más complejas."
   ]
  },
  {
   "cell_type": "code",
   "execution_count": 12,
   "metadata": {
    "id": "bkNBvJB6ryp7",
    "pycharm": {
     "name": "#%%\n"
    }
   },
   "outputs": [
    {
     "name": "stdout",
     "output_type": "stream",
     "text": [
      "Actions shape: Discrete(4)\n",
      "Observatiion shape: (4, 84, 84)\n"
     ]
    },
    {
     "name": "stderr",
     "output_type": "stream",
     "text": [
      "A.L.E: Arcade Learning Environment (version 0.10.2+unknown)\n",
      "[Powered by Stella]\n",
      "Game console created:\n",
      "  ROM file:  /opt/anaconda3/envs/obl_taller_ia/lib/python3.12/site-packages/ale_py/roms/breakout.bin\n",
      "  Cart Name: Breakout - Breakaway IV (1978) (Atari)\n",
      "  Cart MD5:  f34f08e5eb96e500e851a80be3277a56\n",
      "  Display Format:  AUTO-DETECT ==> NTSC\n",
      "  ROM Size:        2048\n",
      "  Bankswitch Type: AUTO-DETECT ==> 2K\n",
      "\n",
      "Running ROM file...\n",
      "Random seed is 501056339\n",
      "/opt/anaconda3/envs/obl_taller_ia/lib/python3.12/site-packages/gymnasium/wrappers/rendering.py:416: UserWarning: \u001b[33mWARN: Unable to save last video! Did you call close()?\u001b[0m\n",
      "  logger.warn(\"Unable to save last video! Did you call close()?\")\n"
     ]
    },
    {
     "data": {
      "text/plain": [
       "==========================================================================================\n",
       "Layer (type:depth-idx)                   Output Shape              Param #\n",
       "==========================================================================================\n",
       "DQN_CNN_Model                            --                        --\n",
       "==========================================================================================\n",
       "Total params: 0\n",
       "Trainable params: 0\n",
       "Non-trainable params: 0\n",
       "Total mult-adds (Units.MEGABYTES): 0\n",
       "==========================================================================================\n",
       "Input size (MB): 3.61\n",
       "Forward/backward pass size (MB): 0.00\n",
       "Params size (MB): 0.00\n",
       "Estimated Total Size (MB): 3.61\n",
       "=========================================================================================="
      ]
     },
     "execution_count": 12,
     "metadata": {},
     "output_type": "execute_result"
    }
   ],
   "source": [
    "from dqn_cnn_model import DQN_CNN_Model\n",
    "\n",
    "env = make_env(ENV_NAME,\n",
    "                record_every=None,\n",
    "                grayscale=GRAY_SCALE,\n",
    "                screen_size=SCREEN_SIZE,\n",
    "                stack_frames=NUM_STACKED_FRAMES,\n",
    "                skip_frames=SKIP_FRAMES\n",
    "                )\n",
    "print(\"Actions shape:\",env.action_space)\n",
    "print(\"Observatiion shape:\",env.observation_space.shape)\n",
    "\n",
    "env.close()\n",
    "\n",
    "cnn_model = DQN_CNN_Model(env.observation_space.shape, env.action_space.n).to(DEVICE)\n",
    "summary(cnn_model, input_size=(32, SKIP_FRAMES, SCREEN_SIZE, SCREEN_SIZE), device=DEVICE) # 32 es el batch size"
   ]
  },
  {
   "cell_type": "code",
   "execution_count": null,
   "metadata": {},
   "outputs": [],
   "source": []
  },
  {
   "cell_type": "markdown",
   "metadata": {},
   "source": [
    "La red esta definida para que reciba un tensor de 4 dimensiones (batch_size, num_frames, height, width) y devuelve un tensor de 2 dimensiones (batch_size, num_actions). La función `forward` es la encargada de definir el flujo de datos a través de la red. En este caso, se utiliza una red convolucional seguida de capas totalmente conectadas"
   ]
  },
  {
   "cell_type": "code",
   "execution_count": null,
   "metadata": {},
   "outputs": [],
   "source": [
    "obs_tensor_batch = torch.rand((NUM_STACKED_FRAMES,SCREEN_SIZE,SCREEN_SIZE)).unsqueeze(0).to(DEVICE) # Añadimos una dimensión para el batch y lo pasamos al dispositivo\n",
    "print(f\"Q-values shape: {cnn_model(obs_tensor_batch).shape}\") # shape: (1, num_actions) "
   ]
  },
  {
   "cell_type": "markdown",
   "metadata": {},
   "source": [
    "Los valores de Q se obtienen a partir de la salida de la red, cada columna representa el valor Q para cada acción posible en el estado actual. "
   ]
  },
  {
   "cell_type": "code",
   "execution_count": null,
   "metadata": {},
   "outputs": [],
   "source": [
    "cnn_model(obs_tensor_batch) "
   ]
  },
  {
   "cell_type": "markdown",
   "metadata": {},
   "source": [
    "Podemos preguntar cuál es la acción con mayor valor Q en un estado."
   ]
  },
  {
   "cell_type": "code",
   "execution_count": null,
   "metadata": {},
   "outputs": [],
   "source": [
    "cnn_model(obs_tensor_batch).max(1)"
   ]
  },
  {
   "cell_type": "markdown",
   "metadata": {},
   "source": [
    "En el siguiente ejemplo vamos a ver cómo tomar los valores de acciones deseables para un conjunto de estados. "
   ]
  },
  {
   "cell_type": "code",
   "execution_count": null,
   "metadata": {},
   "outputs": [],
   "source": [
    "# Creamos 3 observaciones aleatorias para probar el modelo\n",
    "obs_ran1 = torch.rand(4, 84, 84)\n",
    "obs_ran2 = torch.rand(4, 84, 84)\n",
    "obs_ran3 = torch.rand(4, 84, 84)\n",
    "\n",
    "batch = torch.stack([obs_ran1, obs_ran2, obs_ran3], dim=0).to(DEVICE) # shape: (3, 4, 84, 84)\n",
    "print(f\"Batch shape: {batch.shape}\")\n",
    "\n",
    "actions =  torch.tensor([1, 2, 3], device=DEVICE).unsqueeze(1) # queremos la acción 1 para la primera observación, la acción 2 para la segunda y la acción 3 para la tercera\n",
    "\n",
    "Q_test = cnn_model(batch)\n",
    "print(f\"Q-values: {Q_test}\")\n",
    "print(f\"Q-values: {Q_test.gather(1, actions)}\") # https://pytorch.org/docs/main/generated/torch.gather.html"
   ]
  },
  {
   "cell_type": "markdown",
   "metadata": {},
   "source": [
    "## Phi \n",
    "\n",
    "La función para procesar los estados (phi en el paper) que es necesaria para poder usar el modelo de Pytorch con las representaciones de gym. Esta función pasa una observación de gym a un tensor de Pytorch y la normaliza.\n",
    "\n",
    "> Técnicamente la función phi tiene más responsabilidades, como la de apilar los frames y el downsampling. En nuestro caso se lo delegamos a los wrappers de gymnasium."
   ]
  },
  {
   "cell_type": "code",
   "execution_count": null,
   "metadata": {
    "id": "oegpMg25t9I9",
    "pycharm": {
     "name": "#%%\n"
    }
   },
   "outputs": [],
   "source": [
    "def process_state(obs):\n",
    "    \"\"\"\n",
    "    Preprocess the state to be used as input for the model (transform to tensor).\n",
    "    \"\"\"\n",
    "    return torch.tensor(obs, dtype=torch.float32, device=DEVICE) / 255.0\n",
    "\n",
    "obs, _ = env.reset()\n",
    "obs_tensor = process_state(obs)\n",
    "print(f\"Observation shape: {obs_tensor.shape}\")"
   ]
  },
  {
   "cell_type": "markdown",
   "metadata": {
    "id": "z9B7ZY9Htj_F",
    "pycharm": {
     "name": "#%% md\n"
    }
   },
   "source": [
    "## Agente\n",
    "\n",
    "Vamos a definir una clase agente (abstracto), encargado de interactuar con el ambiente y entrenar los modelos. Los métdos definidos deben funcionar para ambos problemas simplemente cambiando el modelo a utilizar para cada ambiente.\n",
    "\n",
    "Abajo dejamos un esqueleto del mismo y las funciones a completar. Recomendamos no alterar la estructura del mismo, pero pueden definir las funciones auxiliares que consideren necesarias.\n",
    "\n",
    "> Para implementar esta funcionalidad se debe modificar los archivos **abstract_agent.py** y **dqn_agent.py**.\n",
    "\n",
    "Funciones a completar:\n",
    "\n",
    "\n",
    "1. **init**: que inicializa los parametros del agente.\n",
    "\n",
    "2. **compute_epsilon**: que computa el valor actual de epsilon en base al número de pasos actuales y si esta entrenando o no.\n",
    "\n",
    "3. **select_action**: Seleccionando acciones \"epsilongreedy-mente\" si estamos entranando y completamente greedy en otro caso.\n",
    "\n",
    "4. **train**: que entrena el agente por un número dado de episodios de largo determinado.\n",
    "\n",
    "5. **record_test_episode**: para grabar un episodio con el agente siempre seleccionando la mejor accion conocida."
   ]
  },
  {
   "cell_type": "markdown",
   "metadata": {
    "id": "BOD-ENZRtyMt",
    "pycharm": {
     "name": "#%% md\n"
    }
   },
   "source": [
    "## Entrenamiento"
   ]
  },
  {
   "cell_type": "code",
   "execution_count": null,
   "metadata": {},
   "outputs": [],
   "source": [
    "#Hiperparámetros de entrenamiento del agente DQN\n",
    "TOTAL_STEPS = 10_000_000\n",
    "EPISODES = 10_000\n",
    "STEPS_PER_EPISODE = 20_000\n",
    "\n",
    "EPSILON_INI = 1\n",
    "EPSILON_MIN = 0.05\n",
    "EPSILON_ANNEAL_STEPS = 1_000_000\n",
    "\n",
    "EPISODE_BLOCK = 100\n",
    "\n",
    "BATCH_SIZE = 32\n",
    "BUFFER_SIZE = 50_000\n",
    "\n",
    "GAMMA = 0.995\n",
    "LEARNING_RATE = 1e-5"
   ]
  },
  {
   "cell_type": "code",
   "execution_count": null,
   "metadata": {
    "id": "BsTl-pFqt10b",
    "pycharm": {
     "name": "#%%\n"
    }
   },
   "outputs": [],
   "source": [
    "from dqn_agent import DQNAgent\n",
    "\n",
    "env = make_env(ENV_NAME,\n",
    "                video_folder='./videos/dqn_training',\n",
    "                name_prefix=\"breakout\",\n",
    "                record_every=500,\n",
    "                grayscale=GRAY_SCALE,\n",
    "                screen_size=SCREEN_SIZE,\n",
    "                stack_frames=NUM_STACKED_FRAMES,\n",
    "                skip_frames=SKIP_FRAMES\n",
    "                )\n",
    "\n",
    "net = DQN_CNN_Model(env.observation_space.shape, env.action_space.n).to(DEVICE)\n",
    "\n",
    "dqn_agent = DQNAgent(env, net, process_state, BUFFER_SIZE, BATCH_SIZE, LEARNING_RATE, GAMMA, epsilon_i=EPSILON_INI, epsilon_f=EPSILON_MIN, epsilon_anneal_steps=EPSILON_ANNEAL_STEPS, episode_block=EPISODE_BLOCK, device=DEVICE)\n",
    "\n",
    "dqn_rewards = dqn_agent.train(EPISODES, STEPS_PER_EPISODE, TOTAL_STEPS)\n",
    "\n",
    "env.close()"
   ]
  },
  {
   "cell_type": "code",
   "execution_count": null,
   "metadata": {},
   "outputs": [],
   "source": [
    "env = make_env(ENV_NAME,\n",
    "                video_folder='./videos/dqn_validation',\n",
    "                name_prefix=\"breakout\",\n",
    "                record_every=1,\n",
    "                grayscale=GRAY_SCALE,\n",
    "                screen_size=SCREEN_SIZE,\n",
    "                stack_frames=NUM_STACKED_FRAMES,\n",
    "                skip_frames=SKIP_FRAMES\n",
    "                )\n",
    "\n",
    "dqn_agent.play(env, episodes=3)\n",
    "\n",
    "env.close()"
   ]
  },
  {
   "cell_type": "code",
   "execution_count": null,
   "metadata": {},
   "outputs": [],
   "source": [
    "# Ruta al archivo de vídeo en tu sistema de ficheros\n",
    "video_path = \"./videos/dqn_validation/breakout-episode-0.mp4\"\n",
    "\n",
    "# Muestra el vídeo\n",
    "Video(video_path, embed=True, width=600)"
   ]
  },
  {
   "cell_type": "markdown",
   "metadata": {},
   "source": [
    "#### Graficas \n",
    "..."
   ]
  },
  {
   "cell_type": "markdown",
   "metadata": {
    "id": "QETh1K7pt9I_"
   },
   "source": [
    "# Double Deep Q Learning\n",
    "\n",
    "Double DQN mejora la versión clásica de DQN corrigiendo el sesgo de sobreestimación de los valores \n",
    "𝑄\n",
    "Q. Para ello, desacopla la selección de la acción de su evaluación: en cada paso, la red online elige la acción que maximiza \n",
    "𝑄\n",
    "Q, pero la red objetivo distinta estima el valor de esa acción. Esta separación reduce el sesgo hacia valores demasiado optimistas y aporta mayor estabilidad al entrenamiento. El resto de la estructura —replay buffer, política ε-greedy, etc— se mantiene igual que en DQN, aprovechando así un diseño casi idéntico al original pero con resultados más fiables .\n",
    "\n",
    "Fuente: [arXiv:1509.06461](https://arxiv.org/abs/1509.06461)\n",
    "\n",
    "> Vamos a utilizar el mismo modelo de red neuronal creado para el problema anterior y la misma implementación de memoria, dejamos un esqueleto de un agente de Double Deep Q learning para completar en el archivo **double_dqn_agent.py**"
   ]
  },
  {
   "cell_type": "code",
   "execution_count": null,
   "metadata": {
    "id": "kDNkAtdMt9I_",
    "pycharm": {
     "name": "#%%\n"
    }
   },
   "outputs": [],
   "source": [
    "from double_dqn_agent import DoubleDQNAgent\n",
    "\n",
    "env = make_env(ENV_NAME,\n",
    "                video_folder='./videos/ddqn_training',\n",
    "                name_prefix=\"breakout\",\n",
    "                record_every=500,\n",
    "                grayscale=GRAY_SCALE,\n",
    "                screen_size=SCREEN_SIZE,\n",
    "                stack_frames=NUM_STACKED_FRAMES,\n",
    "                skip_frames=SKIP_FRAMES\n",
    "                )\n",
    "\n",
    "\n",
    "modelo_a = DQN_CNN_Model(env.observation_space.shape, env.action_space.n).to(DEVICE)\n",
    "modelo_b = DQN_CNN_Model(env.observation_space.shape, env.action_space.n).to(DEVICE)\n",
    "\n",
    "ddqn_agent = DoubleDQNAgent(env, modelo_a, modelo_b, process_state, BUFFER_SIZE, BATCH_SIZE, LEARNING_RATE, GAMMA, epsilon_i= EPSILON_INI, epsilon_f=EPSILON_MIN, epsilon_anneal_steps=EPSILON_ANNEAL_STEPS, episode_block = EPISODE_BLOCK, device=DEVICE)\n",
    "\n",
    "ddqn_rewards = ddqn_agent.train(EPISODES, STEPS_PER_EPISODE, TOTAL_STEPS)"
   ]
  },
  {
   "cell_type": "code",
   "execution_count": null,
   "metadata": {},
   "outputs": [],
   "source": [
    "env = make_env(ENV_NAME,\n",
    "                video_folder='./videos/ddqn_validation',\n",
    "                name_prefix=\"breakout\",\n",
    "                record_every=1,\n",
    "                grayscale=GRAY_SCALE,\n",
    "                screen_size=SCREEN_SIZE,\n",
    "                stack_frames=NUM_STACKED_FRAMES,\n",
    "                skip_frames=SKIP_FRAMES\n",
    "                )\n",
    "\n",
    "ddqn_agent.play(env, episodes=3)\n",
    "\n",
    "env.close()"
   ]
  },
  {
   "cell_type": "code",
   "execution_count": null,
   "metadata": {},
   "outputs": [],
   "source": [
    "# Ruta al archivo de vídeo en tu sistema de ficheros\n",
    "video_path = \"./videos/ddqn_validation/breakout-episode-0.mp4\"\n",
    "\n",
    "# Muestra el vídeo\n",
    "Video(video_path, embed=True, width=600)"
   ]
  },
  {
   "cell_type": "markdown",
   "metadata": {},
   "source": [
    "#### Graficas \n",
    "..."
   ]
  },
  {
   "cell_type": "markdown",
   "metadata": {},
   "source": [
    "# Experimentación\n",
    "Aquí con libertad total, pueden probar diferentes arquitecturas de red, diferentes hiperparámetros, diferentes técnicas de exploración, etc.\n",
    "..."
   ]
  },
  {
   "cell_type": "markdown",
   "metadata": {
    "id": "YNNvsKiEt9I_"
   },
   "source": [
    "# Comparaciones, Resultados, Comentarios...\n",
    "De aquí en adelante son libres de presentar como gusten los resultados comparativos de las técnicas.\n",
    "..."
   ]
  }
 ],
 "metadata": {
  "accelerator": "GPU",
  "colab": {
   "provenance": []
  },
  "kernelspec": {
   "display_name": "obl_taller_ia",
   "language": "python",
   "name": "python3"
  },
  "language_info": {
   "codemirror_mode": {
    "name": "ipython",
    "version": 3
   },
   "file_extension": ".py",
   "mimetype": "text/x-python",
   "name": "python",
   "nbconvert_exporter": "python",
   "pygments_lexer": "ipython3",
   "version": "3.12.10"
  }
 },
 "nbformat": 4,
 "nbformat_minor": 1
}
