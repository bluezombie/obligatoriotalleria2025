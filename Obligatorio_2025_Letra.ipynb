{
 "cells": [
  {
   "cell_type": "markdown",
   "metadata": {
    "id": "9QtHKgX3NXih"
   },
   "source": [
    "# Obligatorio - Taller Agentes Inteligentes 2025\n",
    "\n",
    "En este trabajo obligatorio aplicaremos los conceptos vistos en el curso para diseñar, implementar y evaluar agentes capaces de aprender a jugar al clásico **Breakout** de Atari, utilizando el entorno provisto por Farama Gymnasium ([https://ale.farama.org/environments/breakout/](https://ale.farama.org/environments/breakout/)).\n",
    "\n",
    "<p align=\"center\">\n",
    "  <img src=\"https://media.tenor.com/oMxHgRrISJsAAAAM/atari-deep-learning.gif\" alt=\"Atari Deep Learning\"/>\n",
    "</p>\n",
    "\n",
    "\n",
    "El ejercicio se enmarca en un contexto de aprendizaje práctico, donde trabajaremos con las interfaces estándar de Gymnasium para:\n",
    "\n",
    "1. **Profundizar en algoritmos de valor**: implementaremos y compararemos dos variantes de Q-Learning basadas en redes neuronales profundas:\n",
    "   * **Deep Q Learning (DQN)**\n",
    "   * **Double Deep Q Learning (DDQN)**\n",
    "2. **Evaluar rendimiento y estabilidad**: registraremos las recompensas obtenidas durante el entrenamiento de cada agente y analizaremos su comportamiento mediante gráficas comparativas.\n",
    "3. **Demostrar resultados de forma visual**: capturaremos vídeos que muestren a cada agente “resolviendo” el entorno, entendido como la habilidad de romper al menos cinco bloques en una partida.\n",
    "\n",
    "Debido a las limitaciones de tiempo y cómputo propias de un entorno de curso, no se espera entrenar modelos durante más de diez horas por agente. Por ello, será fundamental:\n",
    "\n",
    "* Integrar puntos de **checkpoint** para guardar periódicamente los pesos de la red.\n",
    "* Seguir en los puntos 2 y 3 la arquitectura y técnicas originales propuestas en los papers seminales de DQN y DDQN, dejando la experimentación adicional para el punto extra.\n",
    "* Flexibilizar la notebook de guía: pueden reorganizarla o dividirla en múltiples archivos según su conveniencia.\n"
   ]
  },
  {
   "cell_type": "markdown",
   "metadata": {
    "id": "6pYpY7BsNXil"
   },
   "source": [
    "## Objetivos y tareas\n",
    "\n",
    "1. **Completar la implementación**\n",
    "   * Rellenar el código faltante en la notebook y en los módulos auxiliares para que los agentes puedan interactuar con el entorno de Breakout.\n",
    "2. **Entrenar agentes**\n",
    "   * Ajustar y entrenar un **DQN** que alcance la condición de “resolver” (romper ≥ 10 bloques).\n",
    "   * Ajustar y entrenar un **DDQN** con la misma meta de desempeño.\n",
    "3. **Visualizar y analizar resultados**\n",
    "   * Generar **gráficas comparativas** de las recompensas obtenidas por ambos agentes en el mismo entorno (una gráfica por ambiente). Además se sugiere gráficas que muestren el valor de la función de valor Q para cada agente.\n",
    "   * Extraer **al menos dos conclusiones** por gráfica, comentando diferencias en convergencia, estabilidad y comportamiento exploratorio.\n",
    "4. **Registro de demostraciones**\n",
    "   * Grabar y entregar un **video demostrativo** de cada agente resolviendo el entorno.\n",
    "5. **Experimentación**\n",
    "   * Probar otras arquitecturas, técnicas de mejora o módulos de procesamiento de entradas más avanzados, documentando brevemente su impacto/"
   ]
  },
  {
   "cell_type": "markdown",
   "metadata": {
    "id": "D0LgQmfSNXim"
   },
   "source": [
    "## Criterios de evaluación\n",
    "\n",
    "| Criterio                                  | Descripción                                                  | Peso |\n",
    "| ----------------------------------------- | ------------------------------------------------------------ | ---- |\n",
    "| **Implementación y rendimiento**          | DQN y DDQN completados; cada agente rompe ≥ 10 bloques       | 40%  |\n",
    "| **Estructura y narrativa de la notebook** | Secciones claras, explicación de decisiones, “historia”      | 20%  |\n",
    "| **Análisis de resultados**                | Gráficas comparativas; ≥ 2 conclusiones por gráfico          | 20%  |\n",
    "| **Presentación visual**                   | Vídeos demostrativos de cada agente                          | 10%  |\n",
    "| **Experimentación**                       | Experimentación adicional documentada y analizada brevemente | 10%  |"
   ]
  },
  {
   "cell_type": "markdown",
   "metadata": {
    "id": "g8lXWahxNXim"
   },
   "source": [
    "## Bibliografía\n",
    "\n",
    "* **Mnih, V.**, Kavukcuoglu, K., Silver, D., Rusu, A. A., Veness, J., Bellemare, M. G., … Hassabis, D. (2013). *Playing Atari with Deep Reinforcement Learning*. [arXiv:1312.5602](https://arxiv.org/abs/1312.5602)\n",
    "* **van Hasselt, H.**, Guez, A., & Silver, D. (2015). *Deep Reinforcement Learning with Double Q-learning*. [arXiv:1509.06461](https://arxiv.org/abs/1509.06461)\n",
    "* **Sutton, R. S.**, & Barto, A. G. (2018). *Reinforcement Learning: An Introduction* (2nd ed.), capítulo 16.5: “Human-level Video Game Play”. MIT Press."
   ]
  },
  {
   "cell_type": "markdown",
   "metadata": {
    "id": "u5AfiZ0DNXim"
   },
   "source": [
    "## Setup"
   ]
  },
  {
   "cell_type": "markdown",
   "metadata": {
    "id": "R9vjC2YjNXin"
   },
   "source": [
    "**Acceso a Google Drive para persistencia**"
   ]
  },
  {
   "cell_type": "code",
   "execution_count": 1,
   "metadata": {
    "colab": {
     "base_uri": "https://localhost:8080/"
    },
    "executionInfo": {
     "elapsed": 11239,
     "status": "ok",
     "timestamp": 1750605840671,
     "user": {
      "displayName": "Germán Otero",
      "userId": "03275765356545836121"
     },
     "user_tz": 180
    },
    "id": "KU99o4ufNXin",
    "outputId": "b3ca8f89-d978-45bb-82de-268cdc8fffe4"
   },
   "outputs": [
    {
     "name": "stdout",
     "output_type": "stream",
     "text": [
      "Drive already mounted at /content/drive; to attempt to forcibly remount, call drive.mount(\"/content/drive\", force_remount=True).\n",
      "Ejecutando desde Google Colab\n",
      "Requirement already satisfied: torchinfo in /usr/local/lib/python3.11/dist-packages (1.8.0)\n"
     ]
    }
   ],
   "source": [
    "# Validamos si estamos en Google Colab, y cargamos\n",
    "# las librerías necesarias y montamos\n",
    "# la carpeta de trabajo.\n",
    "try:\n",
    "    from google.colab import drive\n",
    "    drive.mount('/content/drive')\n",
    "    import google.colab\n",
    "    IN_COLAB = True\n",
    "    print(\"Ejecutando desde Google Colab\")\n",
    "except:\n",
    "    print(\"Ejecutando de forma local\")\n",
    "    IN_COLAB = False\n",
    "\n",
    "# Agregamos módulos necesarios\n",
    "if IN_COLAB:\n",
    "  !pip install torchinfo\n",
    "\n",
    "if IN_COLAB:\n",
    "  import sys\n",
    "  import os\n",
    "  BASE_DIR = '/content/drive/MyDrive/2025obltalleria_v4'\n",
    "  sys.path.append(BASE_DIR)"
   ]
  },
  {
   "cell_type": "markdown",
   "metadata": {
    "id": "gc6t9etEt9I2"
   },
   "source": [
    "**Imports**"
   ]
  },
  {
   "cell_type": "code",
   "execution_count": 2,
   "metadata": {
    "executionInfo": {
     "elapsed": 1852,
     "status": "ok",
     "timestamp": 1750605842525,
     "user": {
      "displayName": "Germán Otero",
      "userId": "03275765356545836121"
     },
     "user_tz": 180
    },
    "id": "cwHCw6PMt9I3"
   },
   "outputs": [],
   "source": [
    "import os\n",
    "import torch\n",
    "import numpy as np\n",
    "import random\n",
    "import numpy as np\n",
    "import torch.nn as nn\n",
    "import torch.nn.functional as F\n",
    "from torchinfo import summary\n",
    "import gymnasium\n",
    "import ale_py\n",
    "from utils import make_env, show_observation_stack, plot_rewards, get_timestamp, save_numpy_array, load_numpy_array, load_model_checkpoint\n",
    "from IPython.display import Video"
   ]
  },
  {
   "cell_type": "markdown",
   "metadata": {
    "id": "MhqOrV9_NXip"
   },
   "source": [
    "ALE (Atari Learning Environment) es un entorno de aprendizaje para videojuegos de Atari. En este caso, utilizaremos el entorno de Breakout. Es necesario entender que se separa el entorno de los roms de Atari, que son los juegos en sí. El entorno de ALE permite interactuar con los juegos de Atari a través de una API estándar, facilitando la implementación de algoritmos de aprendizaje por refuerzo.\n",
    "\n",
    "Debemos instalar los roms por separado, para ello primero tenemos que saber donde están los roms de Atari."
   ]
  },
  {
   "cell_type": "code",
   "execution_count": 3,
   "metadata": {
    "colab": {
     "base_uri": "https://localhost:8080/"
    },
    "executionInfo": {
     "elapsed": 23,
     "status": "ok",
     "timestamp": 1750605842543,
     "user": {
      "displayName": "Germán Otero",
      "userId": "03275765356545836121"
     },
     "user_tz": 180
    },
    "id": "8QZGAdPoNXiq",
    "outputId": "421de739-850b-4527-dc2d-07a88607c3ad"
   },
   "outputs": [
    {
     "name": "stdout",
     "output_type": "stream",
     "text": [
      "/usr/local/lib/python3.11/dist-packages/ale_py/roms\n"
     ]
    }
   ],
   "source": [
    "gymnasium.register_envs(ale_py) # registramos todos los entornos de ale_py\n",
    "ruta_init = ale_py.roms.__file__ # debemos saber donde se encuentra la carpeta roms\n",
    "ALE_ROMS_PATH = os.path.dirname(ruta_init)\n",
    "print(ALE_ROMS_PATH)"
   ]
  },
  {
   "cell_type": "code",
   "execution_count": 4,
   "metadata": {
    "colab": {
     "base_uri": "https://localhost:8080/"
    },
    "executionInfo": {
     "elapsed": 4,
     "status": "ok",
     "timestamp": 1750605842548,
     "user": {
      "displayName": "Germán Otero",
      "userId": "03275765356545836121"
     },
     "user_tz": 180
    },
    "id": "6xRpP39FNXiq",
    "outputId": "34eb8023-416d-4d48-e227-1881d6a7eeca"
   },
   "outputs": [
    {
     "name": "stdout",
     "output_type": "stream",
     "text": [
      "ROMs path: /usr/local/lib/python3.11/dist-packages/ale_py/roms\n"
     ]
    }
   ],
   "source": [
    "print(f\"ROMs path: {ALE_ROMS_PATH}\")"
   ]
  },
  {
   "cell_type": "markdown",
   "metadata": {
    "id": "vQ2LM8Y6NXiq"
   },
   "source": [
    "Podemos usar los siguientes comando para instalar los roms y colocalos en la carpeta correcta."
   ]
  },
  {
   "cell_type": "code",
   "execution_count": 5,
   "metadata": {
    "executionInfo": {
     "elapsed": 0,
     "status": "ok",
     "timestamp": 1750605842549,
     "user": {
      "displayName": "Germán Otero",
      "userId": "03275765356545836121"
     },
     "user_tz": 180
    },
    "id": "P4-NqWn9NXiq"
   },
   "outputs": [],
   "source": [
    "# !pip install \"autorom[accept-rom-license]\"\n",
    "# !AutoROM --accept-license --install-dir {ALE_ROMS_PATH}"
   ]
  },
  {
   "cell_type": "markdown",
   "metadata": {
    "id": "OmIjf5UxNXir"
   },
   "source": [
    "Fijamos la semilla para que los resultados sean reproducibles"
   ]
  },
  {
   "cell_type": "code",
   "execution_count": 6,
   "metadata": {
    "executionInfo": {
     "elapsed": 0,
     "status": "ok",
     "timestamp": 1750605842550,
     "user": {
      "displayName": "Germán Otero",
      "userId": "03275765356545836121"
     },
     "user_tz": 180
    },
    "id": "gtN9CefwNXir"
   },
   "outputs": [],
   "source": [
    "SEED = 24\n",
    "\n",
    "torch.manual_seed(SEED)\n",
    "torch.backends.cudnn.deterministic=True # https://discuss.pytorch.org/t/what-is-the-differenc-between-cudnn-deterministic-and-cudnn-benchmark/38054\n",
    "torch.backends.cudnn.benchmark=True # https://discuss.pytorch.org/t/what-does-torch-backends-cudnn-benchmark-do/5936/4\n",
    "np.random.seed(SEED)\n",
    "random.seed(SEED)"
   ]
  },
  {
   "cell_type": "markdown",
   "metadata": {
    "id": "BJ5GzzqeNXir"
   },
   "source": [
    "Vemos que dispositivo tenemos, si es GPU, MPS o CPU. **El uso de GPU es altamente recomendable** para acelerar el entrenamiento de los modelos."
   ]
  },
  {
   "cell_type": "code",
   "execution_count": 7,
   "metadata": {
    "colab": {
     "base_uri": "https://localhost:8080/"
    },
    "executionInfo": {
     "elapsed": 50,
     "status": "ok",
     "timestamp": 1750605842618,
     "user": {
      "displayName": "Germán Otero",
      "userId": "03275765356545836121"
     },
     "user_tz": 180
    },
    "id": "wRgoUvDcNXir",
    "outputId": "4373b849-6dbd-4a9f-940c-f388fded7614"
   },
   "outputs": [
    {
     "name": "stdout",
     "output_type": "stream",
     "text": [
      "Device: cuda\n"
     ]
    }
   ],
   "source": [
    "# Algunas constantes\n",
    "\n",
    "# definimos el dispositivo que vamos a usar\n",
    "DEVICE = \"cpu\"  # por defecto, usamos la CPU\n",
    "if torch.cuda.is_available():\n",
    "    DEVICE = \"cuda\"  # si hay GPU, usamos la GPU\n",
    "elif torch.backends.mps.is_available():\n",
    "    DEVICE = \"mps\"  # si no hay GPU, pero hay MPS, usamos MPS\n",
    "\n",
    "print(f\"Device: {DEVICE}\")"
   ]
  },
  {
   "cell_type": "markdown",
   "metadata": {
    "id": "gHEmBi-QNXir"
   },
   "source": [
    "## Preprocesando Atari\n",
    "\n",
    "Para reproducir fielmente el enfoque de Mnih et al. (2013) y reducir la carga computacional al trabajar con imágenes de Atari (210 × 160 píxeles, 128 colores), aplicamos el siguiente preprocesado φ a las últimas **4** frames del entorno:\n",
    "\n",
    "1. **Conversión a escala de grises**\n",
    "   Eliminamos la información de color (GRAYSCALE = True), pues la luminosidad es suficiente para capturar la dinámica de juego y reduce drásticamente la dimensionalidad de la entrada.\n",
    "\n",
    "2. **Down-sampling y recorte**\n",
    "   * Redimensionamos la imagen original a 110 × 84 píxeles, manteniendo la proporción horizontal.\n",
    "   * Recortamos un área central de 84 × 84 píxeles que contiene la “zona de juego”, descartando bordes innecesarios.\n",
    "     Este paso (SCREEN_SIZE = 84) no solo concentra la atención del modelo en la región relevante, sino que también garantiza un tamaño cuadrado compatible con las implementaciones de convoluciones en GPU.\n",
    "\n",
    "3. **Saltos temporales (frame skipping)**\n",
    "   Procesamos cada 4 frames (SKIP_FRAMES = 4), repitiendo la misma acción durante esos pasos. Esto reduce la redundancia temporal, acelera el entrenamiento y mantiene la coherencia del movimiento de la paleta y la bola.\n",
    "\n",
    "4. **Apilamiento de frames**\n",
    "   Finalmente, acumulamos las últimas 4 imágenes preprocesadas (NUM_STACKED_FRAMES = 4) en un único tensor de entrada. Así el agente puede inferir la velocidad y dirección de los elementos móviles a partir de la diferencia entre frames.\n",
    "\n",
    "Este esquema de preprocesado es fundamental para disminuir el espacio de entrada, acelerar las convoluciones y proporcionar al Q-net una representación compacta y rica en información dinámica, tal como se describe en el algoritmo 1 del paper original .\n",
    "\n",
    "> Se recomienda ver el método `make_env` en el archivo `utils.py` para entender cómo se implementa este preprocesado."
   ]
  },
  {
   "cell_type": "code",
   "execution_count": 8,
   "metadata": {
    "executionInfo": {
     "elapsed": 0,
     "status": "ok",
     "timestamp": 1750605842619,
     "user": {
      "displayName": "Germán Otero",
      "userId": "03275765356545836121"
     },
     "user_tz": 180
    },
    "id": "xalC_-I0NXis"
   },
   "outputs": [],
   "source": [
    "GRAY_SCALE = True # si True, convertimos la imagen a escala de grises\n",
    "SCREEN_SIZE = 84 # redimensionamos a SCREEN_SIZExSCREEN_SIZE\n",
    "NUM_STACKED_FRAMES = 4 # apilamos NUM_STACKED_FRAMES frames\n",
    "SKIP_FRAMES = 4 # saltamos SKIP_FRAMES frames (haciendo la misma acción)"
   ]
  },
  {
   "cell_type": "code",
   "execution_count": 9,
   "metadata": {
    "colab": {
     "base_uri": "https://localhost:8080/",
     "height": 1000
    },
    "executionInfo": {
     "elapsed": 1715,
     "status": "ok",
     "timestamp": 1750605844335,
     "user": {
      "displayName": "Germán Otero",
      "userId": "03275765356545836121"
     },
     "user_tz": 180
    },
    "id": "loVxQPrwt9I5",
    "outputId": "d3027adf-d5b6-4ec0-d883-d61c5892d599"
   },
   "outputs": [
    {
     "name": "stderr",
     "output_type": "stream",
     "text": [
      "/usr/local/lib/python3.11/dist-packages/gymnasium/wrappers/rendering.py:283: UserWarning: \u001b[33mWARN: Overwriting existing videos at /content/drive/MyDrive/2025obltalleria_v4/videos/random folder (try specifying a different `video_folder` for the `RecordVideo` wrapper if this is not desired)\u001b[0m\n",
      "  logger.warn(\n"
     ]
    },
    {
     "data": {
      "image/png": "[encoded data removed]",
      "text/plain": [
       "<Figure size 640x480 with 1 Axes>"
      ]
     },
     "metadata": {},
     "output_type": "display_data"
    },
    {
     "data": {
      "image/png": "[encoded data removed]",
      "text/plain": [
       "<Figure size 640x480 with 1 Axes>"
      ]
     },
     "metadata": {},
     "output_type": "display_data"
    },
    {
     "data": {
      "image/png": "[encoded data removed]",
      "text/plain": [
       "<Figure size 640x480 with 1 Axes>"
      ]
     },
     "metadata": {},
     "output_type": "display_data"
    },
    {
     "data": {
      "image/png": "[encoded data removed]",
      "text/plain": [
       "<Figure size 640x480 with 1 Axes>"
      ]
     },
     "metadata": {},
     "output_type": "display_data"
    },
    {
     "name": "stdout",
     "output_type": "stream",
     "text": [
      "Episode 1 finished with total reward: 0\n"
     ]
    }
   ],
   "source": [
    "# https://ale.farama.org/environments/breakout/\n",
    "ENV_NAME = \"ALE/Breakout-v5\"\n",
    "\n",
    "env = make_env(ENV_NAME,\n",
    "                video_folder=BASE_DIR + '/videos/random',\n",
    "                name_prefix=\"breakout\",\n",
    "                record_every=1,\n",
    "                grayscale=GRAY_SCALE,\n",
    "                screen_size=SCREEN_SIZE,\n",
    "                stack_frames=NUM_STACKED_FRAMES,\n",
    "                skip_frames=SKIP_FRAMES\n",
    "                )\n",
    "\n",
    "for episode_num in range(1):\n",
    "    obs, info = env.reset()\n",
    "    show_observation_stack(obs)\n",
    "    reward_total = 0\n",
    "    episode_over = False\n",
    "    while not episode_over:\n",
    "        action = env.action_space.sample()  # seleccionamos una acción aleatoria\n",
    "        obs, reward, terminated, truncated, info = env.step(action)\n",
    "        reward_total += reward\n",
    "        episode_over = terminated or truncated\n",
    "    print(f\"Episode {episode_num + 1} finished with total reward: {reward_total}\")\n",
    "\n",
    "env.close()"
   ]
  },
  {
   "cell_type": "markdown",
   "metadata": {
    "id": "6xbB9DeuNXis"
   },
   "source": [
    "Además, podemos mostrar los videos capturados por el entorno de Atari de la siguiente manera:"
   ]
  },
  {
   "cell_type": "code",
   "execution_count": 10,
   "metadata": {
    "colab": {
     "base_uri": "https://localhost:8080/",
     "height": 809
    },
    "executionInfo": {
     "elapsed": 66,
     "status": "ok",
     "timestamp": 1750605844404,
     "user": {
      "displayName": "Germán Otero",
      "userId": "03275765356545836121"
     },
     "user_tz": 180
    },
    "id": "dRKmMh3DNXis",
    "outputId": "7cd44de5-46ef-4fc2-8bf3-5bd812f3a07e"
   },
   "outputs": [
    {
     "data": {
      "text/html": [
       "<video controls  width=\"600\" >\n",
       " <source src=\"data:video/mp4;base64,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\" type=\"video/mp4\">\n",
       " Your browser does not support the video tag.\n",
       " </video>"
      ],
      "text/plain": [
       "<IPython.core.display.Video object>"
      ]
     },
     "execution_count": 10,
     "metadata": {},
     "output_type": "execute_result"
    }
   ],
   "source": [
    "# Ruta al archivo de vídeo en tu sistema de ficheros\n",
    "video_path = BASE_DIR + \"/videos/random/breakout-episode-0.mp4\"\n",
    "\n",
    "# Muestra el vídeo\n",
    "Video(video_path, embed=True, width=600)"
   ]
  },
  {
   "cell_type": "markdown",
   "metadata": {
    "id": "2bYVG_TKt9I5"
   },
   "source": [
    "# Exploración del entorno"
   ]
  },
  {
   "cell_type": "code",
   "execution_count": 11,
   "metadata": {
    "colab": {
     "base_uri": "https://localhost:8080/"
    },
    "executionInfo": {
     "elapsed": 23,
     "status": "ok",
     "timestamp": 1750605844426,
     "user": {
      "displayName": "Germán Otero",
      "userId": "03275765356545836121"
     },
     "user_tz": 180
    },
    "id": "2YaAzTd_NXis",
    "outputId": "57e890ed-e4fa-4c13-af67-7b6872ffdf6d"
   },
   "outputs": [
    {
     "name": "stdout",
     "output_type": "stream",
     "text": [
      "Actions shape: Discrete(4)\n",
      "Observation shape: (4, 84, 84)\n",
      "(4, 84, 84),\n",
      " 0,\n",
      " False,\n",
      " {'lives': 5, 'episode_frame_number': 10, 'frame_number': 495}\n"
     ]
    }
   ],
   "source": [
    "print(\"Actions shape:\",env.action_space)\n",
    "print(\"Observation shape:\",env.observation_space.shape)\n",
    "env.reset()\n",
    "next_state, reward, terminated, truncated, info = env.step(action=0)\n",
    "\n",
    "print(f\"{next_state.shape},\\n {reward},\\n {terminated},\\n {info}\")"
   ]
  },
  {
   "cell_type": "markdown",
   "metadata": {
    "id": "O37FkA-RNXit"
   },
   "source": [
    "### Acciones\n",
    "..."
   ]
  },
  {
   "cell_type": "markdown",
   "metadata": {
    "id": "8KyMY9fsNXit"
   },
   "source": [
    "### Observaciones\n",
    "..."
   ]
  },
  {
   "cell_type": "markdown",
   "metadata": {
    "id": "XIHpwiaat9I7"
   },
   "source": [
    "# Deep Q Learning\n",
    "\n",
    "Deep Q Learning extiende el algoritmo clásico de Q-learning al emplear una **red neuronal profunda** como aproximador de la función de valor $Q(s,a)$. Inspirado en Mnih et al. (2013), este método utiliza una **red convolucional** para procesar directamente las imágenes del entorno Atari, un **replay buffer** para romper la correlación temporal de las muestras. La política sigue un esquema **ε-greedy**, balanceando exploración y explotación, y se entrena minimizando el error de la ecuación de Bellman sobre lotes de transiciones muestreadas de manera aleatoria.\n",
    "\n",
    "<p align=\"center\">\n",
    "  <img src=\"https://www.researchgate.net/profile/Faris-Mismar/publication/327045314/figure/fig4/AS:819677282455553@1572437701142/Structure-of-the-neural-network-used-for-the-Deep-Q-learning-Network-implementation-with.png\" alt=\"DQN\"/>\n",
    "</p>\n",
    "\n",
    "Fuente: [arXiv:1312.5602](https://arxiv.org/abs/1312.5602)"
   ]
  },
  {
   "cell_type": "markdown",
   "metadata": {
    "id": "ajTGajUftSgY"
   },
   "source": [
    "## Memoria\n",
    "\n",
    "El algoritmo de Deep Q Learning presentado en el paper utiliza una memoria (llamada Replay Memory) para almacenar transiciones pasadas. Tuplas que contienen un estado base, la accion tomada, la recompensa obtenida, una bandera que indica si el siguiente estado es final o no; y el estado siguiente.\n",
    "\n",
    "Esta memoria es circular, es decir, tiene un límite maximo de elementos y una vez esté llena comienza a reemplazar los elementos más viejos.\n",
    "\n",
    "Vamos a necesitar crear una función **sample** que obtiene una mustra aleatoria de elementos de la memoria.  Esto puede ser una lista de Transiciones o listas separadas (pero alineadas) de los elementos que las componen.\n",
    "\n",
    "\n",
    "> Para implementar esta funcionalidad se debe modificar el archivo **replay_memory.py**"
   ]
  },
  {
   "cell_type": "code",
   "execution_count": 12,
   "metadata": {
    "colab": {
     "base_uri": "https://localhost:8080/"
    },
    "executionInfo": {
     "elapsed": 63,
     "status": "ok",
     "timestamp": 1750605844489,
     "user": {
      "displayName": "Germán Otero",
      "userId": "03275765356545836121"
     },
     "user_tz": 180
    },
    "id": "scPtpbz4tTAh",
    "outputId": "1c6c4513-e097-4c02-da69-693f6238cb82"
   },
   "outputs": [
    {
     "name": "stdout",
     "output_type": "stream",
     "text": [
      "Memory size: 3\n",
      "\n",
      "Memory sample:\n",
      "Sample 0: Transition(state='state3', action='action3', reward='reward3', done='done3', next_state='next_state3')\n",
      "Sample 1: Transition(state='state2', action='action2', reward='reward2', done='done2', next_state='next_state2')\n"
     ]
    }
   ],
   "source": [
    "from replay_memory import ReplayMemory, Transition\n",
    "\n",
    "# Creamos la memoria de repetición\n",
    "replay_memory = ReplayMemory(3)\n",
    "\n",
    "# Añadimos transiciones a la memoria (solo las 3 últimas se guardan)\n",
    "replay_memory.add('state1', 'action1', 'reward1', 'done1', 'next_state1' )\n",
    "replay_memory.add('state2', 'action2', 'reward2', 'done2', 'next_state2')\n",
    "replay_memory.add('state3', 'action3', 'reward3', 'done3', 'next_state3')\n",
    "replay_memory.add('state4', 'action4', 'reward4', 'done4', 'next_state4')\n",
    "\n",
    "# Mostramos el tamaño de la memoria\n",
    "print(f\"Memory size: {len(replay_memory)}\\n\")\n",
    "\n",
    "# Mostramos un sample de la memoria\n",
    "sampled = replay_memory.sample(2)\n",
    "print(f\"Memory sample:\")\n",
    "for i, sample in enumerate(sampled):\n",
    "    print(f\"Sample {i}: {sample}\")\n"
   ]
  },
  {
   "cell_type": "markdown",
   "metadata": {
    "id": "j7Ygv5Mjtb-F"
   },
   "source": [
    "## Modelo\n",
    "\n",
    "Vamos a usar un mismo modelo FeedForward para estos dos problemas (entrenado en cada problema particular). Recomendamos simplicidad en la creación del mismo, pero tienen total libertad al momento de implementarlo.\n",
    "\n",
    "> Para implementar esta funcionalidad se debe modificar el archivo **dqn_cnn_model.py**. Se recomienda empezar por una arquitectura simple como la que se muestra en el paper de Mnih et al. (2013) y luego experimentar con arquitecturas más complejas."
   ]
  },
  {
   "cell_type": "code",
   "execution_count": 13,
   "metadata": {
    "colab": {
     "base_uri": "https://localhost:8080/"
    },
    "executionInfo": {
     "elapsed": 1410,
     "status": "ok",
     "timestamp": 1750605845899,
     "user": {
      "displayName": "Germán Otero",
      "userId": "03275765356545836121"
     },
     "user_tz": 180
    },
    "id": "bkNBvJB6ryp7",
    "outputId": "faf4559d-ab7c-429d-b150-a4ee0c5846b4"
   },
   "outputs": [
    {
     "name": "stdout",
     "output_type": "stream",
     "text": [
      "Actions shape: Discrete(4)\n",
      "Observation shape: (4, 84, 84)\n"
     ]
    },
    {
     "name": "stderr",
     "output_type": "stream",
     "text": [
      "/usr/local/lib/python3.11/dist-packages/gymnasium/wrappers/rendering.py:416: UserWarning: \u001b[33mWARN: Unable to save last video! Did you call close()?\u001b[0m\n",
      "  logger.warn(\"Unable to save last video! Did you call close()?\")\n"
     ]
    },
    {
     "data": {
      "text/plain": [
       "==========================================================================================\n",
       "Layer (type:depth-idx)                   Output Shape              Param #\n",
       "==========================================================================================\n",
       "DQN_CNN_Model                            [32, 4]                   --\n",
       "├─Conv2d: 1-1                            [32, 16, 20, 20]          4,112\n",
       "├─Conv2d: 1-2                            [32, 32, 9, 9]            8,224\n",
       "├─Linear: 1-3                            [32, 256]                 663,808\n",
       "├─Linear: 1-4                            [32, 4]                   1,028\n",
       "==========================================================================================\n",
       "Total params: 677,172\n",
       "Trainable params: 677,172\n",
       "Non-trainable params: 0\n",
       "Total mult-adds (Units.MEGABYTES): 95.22\n",
       "==========================================================================================\n",
       "Input size (MB): 3.61\n",
       "Forward/backward pass size (MB): 2.37\n",
       "Params size (MB): 2.71\n",
       "Estimated Total Size (MB): 8.69\n",
       "=========================================================================================="
      ]
     },
     "execution_count": 13,
     "metadata": {},
     "output_type": "execute_result"
    }
   ],
   "source": [
    "from dqn_cnn_model import DQN_CNN_Model\n",
    "\n",
    "env = make_env(ENV_NAME,\n",
    "                record_every=None,\n",
    "                grayscale=GRAY_SCALE,\n",
    "                screen_size=SCREEN_SIZE,\n",
    "                stack_frames=NUM_STACKED_FRAMES,\n",
    "                skip_frames=SKIP_FRAMES\n",
    "                )\n",
    "print(\"Actions shape:\",env.action_space)\n",
    "print(\"Observation shape:\",env.observation_space.shape)\n",
    "\n",
    "env.close()\n",
    "\n",
    "cnn_model = DQN_CNN_Model(env.observation_space.shape, env.action_space.n).to(DEVICE)\n",
    "summary(cnn_model, input_size=(32, SKIP_FRAMES, SCREEN_SIZE, SCREEN_SIZE), device=DEVICE) # 32 es el batch size"
   ]
  },
  {
   "cell_type": "markdown",
   "metadata": {
    "id": "Xc22cD33NXiu"
   },
   "source": [
    "La red esta definida para que reciba un tensor de 4 dimensiones (batch_size, num_frames, height, width) y devuelve un tensor de 2 dimensiones (batch_size, num_actions). La función `forward` es la encargada de definir el flujo de datos a través de la red. En este caso, se utiliza una red convolucional seguida de capas totalmente conectadas"
   ]
  },
  {
   "cell_type": "code",
   "execution_count": 14,
   "metadata": {
    "executionInfo": {
     "elapsed": 43,
     "status": "ok",
     "timestamp": 1750605845941,
     "user": {
      "displayName": "Germán Otero",
      "userId": "03275765356545836121"
     },
     "user_tz": 180
    },
    "id": "nWTwd8lnNXiu"
   },
   "outputs": [],
   "source": [
    "obs_tensor_batch = torch.rand((NUM_STACKED_FRAMES,SCREEN_SIZE,SCREEN_SIZE)).unsqueeze(0).to(DEVICE) # Añadimos una dimensión para el batch y lo pasamos al dispositivo\n"
   ]
  },
  {
   "cell_type": "code",
   "execution_count": 15,
   "metadata": {
    "colab": {
     "base_uri": "https://localhost:8080/"
    },
    "executionInfo": {
     "elapsed": 6,
     "status": "ok",
     "timestamp": 1750605845942,
     "user": {
      "displayName": "Germán Otero",
      "userId": "03275765356545836121"
     },
     "user_tz": 180
    },
    "id": "6nzqxDCUNXiv",
    "outputId": "f1780579-f967-40f6-94c1-7551eefc2bfd"
   },
   "outputs": [
    {
     "name": "stdout",
     "output_type": "stream",
     "text": [
      "Shape del tensor de entrada: torch.Size([1, 4, 84, 84])\n"
     ]
    }
   ],
   "source": [
    "# Verificamos el shape del tensor de entrada\n",
    "# el cual deberá ser de (1, números de cuadros, 84, 84)\n",
    "# Durante nuestro entrenamiento, la primera dimensión\n",
    "# será el tamaño del batch, pero en este caso, al crearse\n",
    "# una sola muestra, el tamaño es 1.\n",
    "print(f\"Shape del tensor de entrada: {obs_tensor_batch.shape}\")"
   ]
  },
  {
   "cell_type": "markdown",
   "metadata": {
    "id": "vCtDrKi4NXiv"
   },
   "source": [
    "Los valores de Q se obtienen a partir de la salida de la red, cada columna representa el valor Q para cada acción posible en el estado actual."
   ]
  },
  {
   "cell_type": "code",
   "execution_count": 16,
   "metadata": {
    "colab": {
     "base_uri": "https://localhost:8080/"
    },
    "executionInfo": {
     "elapsed": 20,
     "status": "ok",
     "timestamp": 1750605845960,
     "user": {
      "displayName": "Germán Otero",
      "userId": "03275765356545836121"
     },
     "user_tz": 180
    },
    "id": "iVHn-hHvNXiv",
    "outputId": "9742dde1-7138-4cc5-c374-158087307fe8"
   },
   "outputs": [
    {
     "name": "stdout",
     "output_type": "stream",
     "text": [
      "Q-values shape: torch.Size([1, 4])\n"
     ]
    }
   ],
   "source": [
    "print(f\"Q-values shape: {cnn_model(obs_tensor_batch).shape}\") # shape: (1, num_actions)"
   ]
  },
  {
   "cell_type": "code",
   "execution_count": 17,
   "metadata": {
    "colab": {
     "base_uri": "https://localhost:8080/"
    },
    "executionInfo": {
     "elapsed": 161,
     "status": "ok",
     "timestamp": 1750605846137,
     "user": {
      "displayName": "Germán Otero",
      "userId": "03275765356545836121"
     },
     "user_tz": 180
    },
    "id": "oSjzoM3tNXiw",
    "outputId": "d5e03d8c-a872-4f02-d57b-8224373b9498"
   },
   "outputs": [
    {
     "data": {
      "text/plain": [
       "tensor([[ 0.0396, -0.0135, -0.0619, -0.0496]], device='cuda:0',\n",
       "       grad_fn=<AddmmBackward0>)"
      ]
     },
     "execution_count": 17,
     "metadata": {},
     "output_type": "execute_result"
    }
   ],
   "source": [
    "cnn_model(obs_tensor_batch)"
   ]
  },
  {
   "cell_type": "markdown",
   "metadata": {
    "id": "lILLCSeBNXiw"
   },
   "source": [
    "Podemos preguntar cuál es la acción con mayor valor Q en un estado."
   ]
  },
  {
   "cell_type": "code",
   "execution_count": 18,
   "metadata": {
    "colab": {
     "base_uri": "https://localhost:8080/"
    },
    "executionInfo": {
     "elapsed": 51,
     "status": "ok",
     "timestamp": 1750605846186,
     "user": {
      "displayName": "Germán Otero",
      "userId": "03275765356545836121"
     },
     "user_tz": 180
    },
    "id": "RGWN0oOENXix",
    "outputId": "ffcda258-eade-403d-d5fb-2996c19af030"
   },
   "outputs": [
    {
     "data": {
      "text/plain": [
       "torch.return_types.max(\n",
       "values=tensor([0.0396], device='cuda:0', grad_fn=<MaxBackward0>),\n",
       "indices=tensor([0], device='cuda:0'))"
      ]
     },
     "execution_count": 18,
     "metadata": {},
     "output_type": "execute_result"
    }
   ],
   "source": [
    "cnn_model(obs_tensor_batch).max(1)"
   ]
  },
  {
   "cell_type": "markdown",
   "metadata": {
    "id": "sxhIEVZMNXix"
   },
   "source": [
    "En el siguiente ejemplo vamos a ver cómo tomar los valores de acciones deseables para un conjunto de estados."
   ]
  },
  {
   "cell_type": "code",
   "execution_count": 19,
   "metadata": {
    "colab": {
     "base_uri": "https://localhost:8080/"
    },
    "executionInfo": {
     "elapsed": 22,
     "status": "ok",
     "timestamp": 1750605846207,
     "user": {
      "displayName": "Germán Otero",
      "userId": "03275765356545836121"
     },
     "user_tz": 180
    },
    "id": "2TVxCHxjNXix",
    "outputId": "0c76344a-4857-48f5-ce64-2230004a7774"
   },
   "outputs": [
    {
     "name": "stdout",
     "output_type": "stream",
     "text": [
      "Batch shape: torch.Size([3, 4, 84, 84])\n",
      "torch.Size([3, 1])\n",
      "Q-values: tensor([[ 0.0155, -0.0168, -0.0644, -0.0498],\n",
      "        [ 0.0401, -0.0106, -0.0751, -0.0769],\n",
      "        [ 0.0320, -0.0209, -0.0616, -0.0352]], device='cuda:0',\n",
      "       grad_fn=<AddmmBackward0>)\n",
      "Q-values: tensor([[-0.0168],\n",
      "        [-0.0751],\n",
      "        [-0.0352]], device='cuda:0', grad_fn=<GatherBackward0>)\n"
     ]
    }
   ],
   "source": [
    "# Creamos 3 observaciones aleatorias para probar el modelo\n",
    "obs_ran1 = torch.rand(4, 84, 84)\n",
    "obs_ran2 = torch.rand(4, 84, 84)\n",
    "obs_ran3 = torch.rand(4, 84, 84)\n",
    "\n",
    "batch = torch.stack([obs_ran1, obs_ran2, obs_ran3], dim=0).to(DEVICE) # shape: (3, 4, 84, 84)\n",
    "print(f\"Batch shape: {batch.shape}\")\n",
    "\n",
    "actions =  torch.tensor([1, 2, 3], device=DEVICE).unsqueeze(1) # queremos la acción 1 para la primera observación, la acción 2 para la segunda y la acción 3 para la tercera\n",
    "print(actions.shape)\n",
    "\n",
    "Q_test = cnn_model(batch)\n",
    "print(f\"Q-values: {Q_test}\")\n",
    "print(f\"Q-values: {Q_test.gather(1, actions)}\") # https://pytorch.org/docs/main/generated/torch.gather.html"
   ]
  },
  {
   "cell_type": "markdown",
   "metadata": {
    "id": "ewfErqKkNXix"
   },
   "source": [
    "## Phi\n",
    "\n",
    "La función para procesar los estados (phi en el paper) que es necesaria para poder usar el modelo de Pytorch con las representaciones de gym. Esta función pasa una observación de gym a un tensor de Pytorch y la normaliza.\n",
    "\n",
    "> Técnicamente la función phi tiene más responsabilidades, como la de apilar los frames y el downsampling. En nuestro caso se lo delegamos a los wrappers de gymnasium."
   ]
  },
  {
   "cell_type": "code",
   "execution_count": 20,
   "metadata": {
    "colab": {
     "base_uri": "https://localhost:8080/"
    },
    "executionInfo": {
     "elapsed": 27,
     "status": "ok",
     "timestamp": 1750605846249,
     "user": {
      "displayName": "Germán Otero",
      "userId": "03275765356545836121"
     },
     "user_tz": 180
    },
    "id": "oegpMg25t9I9",
    "outputId": "e1afb661-cfcb-4014-d536-5279517d8eab"
   },
   "outputs": [
    {
     "name": "stdout",
     "output_type": "stream",
     "text": [
      "Observation shape: torch.Size([4, 84, 84])\n"
     ]
    }
   ],
   "source": [
    "def process_state(obs):\n",
    "    \"\"\"\n",
    "    Preprocess the state to be used as input for the model (transform to tensor).\n",
    "    \"\"\"\n",
    "    return torch.tensor(obs, dtype=torch.float32, device=DEVICE) / 255.0\n",
    "\n",
    "obs, _ = env.reset()\n",
    "obs_tensor = process_state(obs)\n",
    "print(f\"Observation shape: {obs_tensor.shape}\")"
   ]
  },
  {
   "cell_type": "markdown",
   "metadata": {
    "id": "z9B7ZY9Htj_F"
   },
   "source": [
    "## Agente\n",
    "\n",
    "Vamos a definir una clase agente (abstracto), encargado de interactuar con el ambiente y entrenar los modelos. Los métdos definidos deben funcionar para ambos problemas simplemente cambiando el modelo a utilizar para cada ambiente.\n",
    "\n",
    "Abajo dejamos un esqueleto del mismo y las funciones a completar. Recomendamos no alterar la estructura del mismo, pero pueden definir las funciones auxiliares que consideren necesarias.\n",
    "\n",
    "> Para implementar esta funcionalidad se debe modificar los archivos **abstract_agent.py** y **dqn_agent.py**.\n",
    "\n",
    "Funciones a completar:\n",
    "\n",
    "\n",
    "1. **init**: que inicializa los parametros del agente.\n",
    "\n",
    "2. **compute_epsilon**: que computa el valor actual de epsilon en base al número de pasos actuales y si esta entrenando o no.\n",
    "\n",
    "3. **select_action**: Seleccionando acciones \"epsilongreedy-mente\" si estamos entranando y completamente greedy en otro caso.\n",
    "\n",
    "4. **train**: que entrena el agente por un número dado de episodios de largo determinado.\n",
    "\n",
    "5. **record_test_episode**: para grabar un episodio con el agente siempre seleccionando la mejor accion conocida."
   ]
  },
  {
   "cell_type": "markdown",
   "metadata": {
    "id": "BOD-ENZRtyMt"
   },
   "source": [
    "## Entrenamiento"
   ]
  },
  {
   "cell_type": "code",
   "execution_count": 21,
   "metadata": {
    "executionInfo": {
     "elapsed": 53,
     "status": "ok",
     "timestamp": 1750605846303,
     "user": {
      "displayName": "Germán Otero",
      "userId": "03275765356545836121"
     },
     "user_tz": 180
    },
    "id": "hhGDfEWYNXiy"
   },
   "outputs": [],
   "source": [
    "#Hiperparámetros de entrenamiento del agente DQN\n",
    "# TOTAL_STEPS = 10_000_000\n",
    "#TOTAL_STEPS = 1_000_000\n",
    "#EPISODES = 10_000\n",
    "#STEPS_PER_EPISODE = 20_000\n",
    "\n",
    "#EPSILON_INI = 1\n",
    "#EPSILON_MIN = 0.05\n",
    "#EPSILON_ANNEAL_STEPS = 1_000_000\n",
    "\n",
    "#EPISODE_BLOCK = 100\n",
    "\n",
    "#BATCH_SIZE = 32\n",
    "#BUFFER_SIZE = 50_000\n",
    "##BUFFER_SIZE = 10_000\n",
    "\n",
    "#GAMMA = 0.995\n",
    "#LEARNING_RATE = 1e-5"
   ]
  },
  {
   "cell_type": "code",
   "execution_count": 22,
   "metadata": {
    "executionInfo": {
     "elapsed": 2,
     "status": "ok",
     "timestamp": 1750605846304,
     "user": {
      "displayName": "Germán Otero",
      "userId": "03275765356545836121"
     },
     "user_tz": 180
    },
    "id": "jFow15NApreW"
   },
   "outputs": [],
   "source": [
    "# Hiperparámetros de Joaquín Vigna\n",
    "TOTAL_STEPS = 10_000_000\n",
    "EPISODES = 10_000\n",
    "STEPS_PER_EPISODE = 20_000\n",
    "\n",
    "EPSILON_INI = 1\n",
    "EPSILON_MIN = 0.05\n",
    "EPSILON_ANNEAL_STEPS = 1_000_000\n",
    "\n",
    "EPISODE_BLOCK = 100\n",
    "\n",
    "BATCH_SIZE = 32\n",
    "BUFFER_SIZE = 30_000\n",
    "\n",
    "GAMMA = 0.995\n",
    "LEARNING_RATE = 0.00025"
   ]
  },
  {
   "cell_type": "code",
   "execution_count": null,
   "metadata": {
    "colab": {
     "base_uri": "https://localhost:8080/"
    },
    "id": "BsTl-pFqt10b",
    "outputId": "f4846cd4-4d21-450e-bd2b-e2655adc0aad"
   },
   "outputs": [
    {
     "name": "stderr",
     "output_type": "stream",
     "text": [
      "/usr/local/lib/python3.11/dist-packages/gymnasium/wrappers/rendering.py:283: UserWarning: \u001b[33mWARN: Overwriting existing videos at /content/drive/MyDrive/2025obltalleria_v4/videos/dqn_training folder (try specifying a different `video_folder` for the `RecordVideo` wrapper if this is not desired)\u001b[0m\n",
      "  logger.warn(\n",
      "Entrenando:   0%|          | 1/10000 [00:01<4:10:48,  1.51s/episode, reward=0, epsilon=1, steps=124]"
     ]
    },
    {
     "name": "stdout",
     "output_type": "stream",
     "text": [
      "Modelo guardado en /content/drive/MyDrive/2025obltalleria_v4/data/dqn_model_0.pth\n"
     ]
    },
    {
     "name": "stderr",
     "output_type": "stream",
     "text": [
      "Entrenando:  15%|█▌        | 1501/10000 [20:26<2:03:37,  1.15episode/s, reward=1.4, epsilon=0.745, steps=267912]"
     ]
    },
    {
     "name": "stdout",
     "output_type": "stream",
     "text": [
      "Modelo guardado en /content/drive/MyDrive/2025obltalleria_v4/data/dqn_model_1500.pth\n"
     ]
    },
    {
     "name": "stderr",
     "output_type": "stream",
     "text": [
      "Entrenando:  17%|█▋        | 1737/10000 [23:45<2:13:59,  1.03episode/s, reward=1.61, epsilon=0.704, steps=312024]"
     ]
    }
   ],
   "source": [
    "from dqn_agent import DQNAgent\n",
    "import numpy\n",
    "# Por aspectos de seguridad en la serialización de la red,\n",
    "# importamos \"add_safe_globals\"\n",
    "# from torch.serialization import add_safe_globals\n",
    "# add_safe_globals([DQN_CNN_Model])\n",
    "# torch.serialization.add_safe_globals([torch.nn.modules.conv.Conv2d])\n",
    "# torch.serialization.add_safe_globals([torch.nn.modules.linear.Linear])\n",
    "# torch.serialization.add_safe_globals([numpy._core.multiarray.scalar])\n",
    "# torch.serialization.add_safe_globals([numpy.dtype])\n",
    "\n",
    "env = make_env(ENV_NAME,\n",
    "                video_folder=BASE_DIR + '/videos/dqn_training',\n",
    "                name_prefix=\"breakout\",\n",
    "                record_every=500,\n",
    "                grayscale=GRAY_SCALE,\n",
    "                screen_size=SCREEN_SIZE,\n",
    "                stack_frames=NUM_STACKED_FRAMES,\n",
    "                skip_frames=SKIP_FRAMES\n",
    "                )\n",
    "\n",
    "net = DQN_CNN_Model(env.observation_space.shape, env.action_space.n).to(DEVICE)\n",
    "\n",
    "dqn_agent = DQNAgent(env, net, process_state, BUFFER_SIZE, BATCH_SIZE, LEARNING_RATE, GAMMA, epsilon_i=EPSILON_INI, epsilon_f=EPSILON_MIN, epsilon_anneal_steps=EPSILON_ANNEAL_STEPS, episode_block=EPISODE_BLOCK, device=DEVICE)\n",
    "\n",
    "dqn_rewards = dqn_agent.train(EPISODES, STEPS_PER_EPISODE, TOTAL_STEPS)\n",
    "\n",
    "# Salvamos los rewards en disco, por si la sesión se desconecta\n",
    "DATA_BASE_DIR = BASE_DIR + 'data/'\n",
    "save_numpy_array(DATA_BASE_DIR, 'dqn_rewards', dqn_rewards)\n",
    "\n",
    "env.close()"
   ]
  },
  {
   "cell_type": "code",
   "execution_count": null,
   "metadata": {
    "id": "kxzQh6T8NXiy"
   },
   "outputs": [],
   "source": [
    "# Mostramos la evolución de las recomensas\n",
    "dqn_rewards_2 = dqn_rewards[::1000]\n",
    "plot_rewards(dqn_rewards_2, title=\"DQN Agent Training Rewards\")\n"
   ]
  },
  {
   "cell_type": "code",
   "execution_count": null,
   "metadata": {
    "id": "QnbFUHwDNXiy"
   },
   "outputs": [],
   "source": [
    "env = make_env(ENV_NAME,\n",
    "                video_folder=BASE_dir + '/videos/dqn_validation',\n",
    "                name_prefix=\"breakout\",\n",
    "                record_every=1,\n",
    "                grayscale=GRAY_SCALE,\n",
    "                screen_size=SCREEN_SIZE,\n",
    "                stack_frames=NUM_STACKED_FRAMES,\n",
    "                skip_frames=SKIP_FRAMES\n",
    "                )\n",
    "\n",
    "dqn_agent.play(env, episodes=3)\n",
    "\n",
    "env.close()"
   ]
  },
  {
   "cell_type": "code",
   "execution_count": null,
   "metadata": {
    "id": "edtUqqS7NXiy"
   },
   "outputs": [],
   "source": [
    "# Ruta al archivo de vídeo en tu sistema de ficheros\n",
    "video_path = BASE_DIR + \"/videos/dqn_validation/breakout-episode-0.mp4\"\n",
    "\n",
    "# Muestra el vídeo\n",
    "Video(video_path, embed=True, width=600)"
   ]
  },
  {
   "cell_type": "markdown",
   "metadata": {
    "id": "_hnUw2mfNXiy"
   },
   "source": [
    "#### Graficas\n",
    "..."
   ]
  },
  {
   "cell_type": "markdown",
   "metadata": {
    "id": "QETh1K7pt9I_"
   },
   "source": [
    "# Double Deep Q Learning\n",
    "\n",
    "Double DQN mejora la versión clásica de DQN corrigiendo el sesgo de sobreestimación de los valores\n",
    "𝑄\n",
    "Q. Para ello, desacopla la selección de la acción de su evaluación: en cada paso, la red online elige la acción que maximiza\n",
    "𝑄\n",
    "Q, pero la red objetivo distinta estima el valor de esa acción. Esta separación reduce el sesgo hacia valores demasiado optimistas y aporta mayor estabilidad al entrenamiento. El resto de la estructura —replay buffer, política ε-greedy, etc— se mantiene igual que en DQN, aprovechando así un diseño casi idéntico al original pero con resultados más fiables .\n",
    "\n",
    "Fuente: [arXiv:1509.06461](https://arxiv.org/abs/1509.06461)\n",
    "\n",
    "> Vamos a utilizar el mismo modelo de red neuronal creado para el problema anterior y la misma implementación de memoria, dejamos un esqueleto de un agente de Double Deep Q learning para completar en el archivo **double_dqn_agent.py**"
   ]
  },
  {
   "cell_type": "code",
   "execution_count": null,
   "metadata": {
    "id": "kDNkAtdMt9I_"
   },
   "outputs": [],
   "source": [
    "from double_dqn_agent import DoubleDQNAgent\n",
    "\n",
    "env = make_env(ENV_NAME,\n",
    "                video_folder='./videos/ddqn_training',\n",
    "                name_prefix=\"breakout\",\n",
    "                record_every=500,\n",
    "                grayscale=GRAY_SCALE,\n",
    "                screen_size=SCREEN_SIZE,\n",
    "                stack_frames=NUM_STACKED_FRAMES,\n",
    "                skip_frames=SKIP_FRAMES\n",
    "                )\n",
    "\n",
    "\n",
    "modelo_a = DQN_CNN_Model(env.observation_space.shape, env.action_space.n).to(DEVICE)\n",
    "modelo_b = DQN_CNN_Model(env.observation_space.shape, env.action_space.n).to(DEVICE)\n",
    "\n",
    "ddqn_agent = DoubleDQNAgent(env, modelo_a, modelo_b, process_state, BUFFER_SIZE, BATCH_SIZE, LEARNING_RATE, GAMMA, epsilon_i= EPSILON_INI, epsilon_f=EPSILON_MIN, epsilon_anneal_steps=EPSILON_ANNEAL_STEPS, episode_block = EPISODE_BLOCK, device=DEVICE)\n",
    "\n",
    "ddqn_rewards = ddqn_agent.train(EPISODES, STEPS_PER_EPISODE, TOTAL_STEPS)"
   ]
  },
  {
   "cell_type": "code",
   "execution_count": null,
   "metadata": {
    "id": "UtB5n519NXiz"
   },
   "outputs": [],
   "source": [
    "env = make_env(ENV_NAME,\n",
    "                video_folder='./videos/ddqn_validation',\n",
    "                name_prefix=\"breakout\",\n",
    "                record_every=1,\n",
    "                grayscale=GRAY_SCALE,\n",
    "                screen_size=SCREEN_SIZE,\n",
    "                stack_frames=NUM_STACKED_FRAMES,\n",
    "                skip_frames=SKIP_FRAMES\n",
    "                )\n",
    "\n",
    "ddqn_agent.play(env, episodes=3)\n",
    "\n",
    "env.close()"
   ]
  },
  {
   "cell_type": "code",
   "execution_count": null,
   "metadata": {
    "id": "R2Z4-Co9NXiz"
   },
   "outputs": [],
   "source": [
    "# Ruta al archivo de vídeo en tu sistema de ficheros\n",
    "video_path = \"./videos/ddqn_validation/breakout-episode-0.mp4\"\n",
    "\n",
    "# Muestra el vídeo\n",
    "Video(video_path, embed=True, width=600)"
   ]
  },
  {
   "cell_type": "markdown",
   "metadata": {
    "id": "zGM4WrpfNXiz"
   },
   "source": [
    "#### Graficas\n",
    "..."
   ]
  },
  {
   "cell_type": "markdown",
   "metadata": {
    "id": "MOAiwHA6NXiz"
   },
   "source": [
    "# Experimentación\n",
    "\n",
    "## Exploración de parámetros para DQN\n",
    "\n",
    "A continuación, buscaremos la combinación de hiperparámetros que permite obtener la mayor reward, para el caso DQN. Para ello, utilizaremos la herramienta \"Weight and Biases\" para explorar diferentes ejecuciones (runs) y obtener el mejor resultado."
   ]
  },
  {
   "cell_type": "code",
   "execution_count": null,
   "metadata": {},
   "outputs": [],
   "source": [
    "# Primero, realizamos el login en la herramienta\n",
    "import wandb\n",
    "wandb.login()"
   ]
  },
  {
   "cell_type": "code",
   "execution_count": null,
   "metadata": {},
   "outputs": [],
   "source": [
    "# Ahora, inicializamos el proyecto y la ejecución\n",
    "WANDB_TEAM_NAME = \"goterov-universidad-ort-uruguay\"\n",
    "WANDB_PROJECT = \"dqn-breakout\"\n",
    "\n",
    "sweep_config = {\n",
    "    \"name\": \"sweep-dqn-breakout\",\n",
    "    \"method\": \"random\",\n",
    "    \"metric\": {\"name\": \"reward\", \"goal\": \"maximize\"},\n",
    "    \"parameters\": {\n",
    "        \"learning_rate\": {\"distribution\": \"uniform\", \"max\": 0.1, \"min\": 0.0001},\n",
    "        \"optimizer\": {\"values\": [\"adam\", \"sgd\"]},\n",
    "        \"batch_size\": {\"values\": [32, 256, 1024, 4096]},\n",
    "        \"gamma\": {\"distribution\": \"uniform\", \"max\": 0.999, \"min\": 0.9},\n",
    "        \"epsilon_ini\": {\"distribution\": \"uniform\", \"max\": 1.0, \"min\": 0.1},\n",
    "        \"epsilon_min\": {\"distribution\": \"uniform\", \"max\": 0.1, \"min\": 0.01},\n",
    "        \"epsilon_anneal_steps\": {\"distribution\": \"int_uniform\", \"max\": 1000000, \"min\": 100000},\n",
    "        \"episode_block\": {\"values\": [10, 50, 100, 200]},\n",
    "        \"buffer_size\": {\"values\": [10000, 50000, 100000, 200000]},\n",
    "        \"total_steps\": {\"values\": [1000000, 5000000, 10000000]},\n",
    "        \"steps_per_episode\": {\"values\": [1000, 5000, 10000]},\n",
    "        \"num_stacked_frames\": {\"values\": [1, 2, 3, 4]},\n",
    "        \"skip_frames\": {\"values\": [1, 2, 4, 8]},\n",
    "        \"screen_size\": {\"values\": [84, 96, 128, 160]},\n",
    "        \"env_name\": {\"value\": ENV_NAME},\n",
    "        \"device\": {\"value\": DEVICE},\n",
    "        \"gray_scale\": {\"value\": GRAY_SCALE},\n",
    "        \"wandb_team_name\": {\"value\": WANDB_TEAM_NAME},\n",
    "        \"wandb_project\": {\"value\": WANDB_PROJECT},\n",
    "        \"wandb_entity\": {\"value\": \"obltalleria\"},\n",
    "        \"wandb_run_name\": {\"value\": f\"dqn_breakout_{get_timestamp()}\"},\n",
    "        \"wandb_log_freq\": {\"value\": 1000},\n",
    "        \"wandb_watch\": {\"value\": True},\n",
    "        \"wandb_save_model\": {\"value\": True},\n",
    "        \"wandb_log_rewards\": {\"value\": True},\n",
    "        \"wandb_video_folder\": {\"value\": BASE_DIR + '/videos/dqn_training/wandab'},\n",
    "        \"wandb_record_every\": {\"value\": 500},\n",
    "        \"wandb_model_path\": {\"value\": BASE_DIR + '/models/ddqn_breakout.pth'},\n",
    "        \"wandb_save_model_freq\": {\"value\": 1000},\n",
    "        \"wandb_watch_freq\": {\"value\": 1000},\n",
    "        \"wandb_log_rewards_freq\": {\"value\": 1000},\n",
    "        \"wandb_video_freq\": {\"value\": 500},\n",
    "        \"wandb_save_video\": {\"value\": True},\n",
    "        \"wandb_save_rewards\": {\"value\": True},\n",
    "    },\n",
    "}\n"
   ]
  },
  {
   "cell_type": "code",
   "execution_count": null,
   "metadata": {},
   "outputs": [],
   "source": [
    "# Creamos el sweep en Weights & Biases\n",
    "sweep_id = wandb.sweep(sweep_config, project=WANDB_PROJECT)"
   ]
  },
  {
   "cell_type": "code",
   "execution_count": null,
   "metadata": {},
   "outputs": [],
   "source": [
    "# Definimos la función \"run\" que se ejecutará en cada sweep\n",
    "def run():\n",
    "    # Inicializamos la ejecución de Weights & Biases\n",
    "    wandb.init()\n",
    "    \n",
    "    # Obtenemos los hiperparámetros del sweep\n",
    "    config = wandb.config\n",
    "    \n",
    "    # Creamos el entorno\n",
    "    env = make_env(config.env_name,\n",
    "                    video_folder=config.wandb_video_folder,\n",
    "                    name_prefix=config.wandb_run_name,\n",
    "                    record_every=config.wandb_record_every,\n",
    "                    grayscale=config.gray_scale,\n",
    "                    screen_size=config.screen_size,\n",
    "                    stack_frames=config.num_stacked_frames,\n",
    "                    skip_frames=config.skip_frames\n",
    "                    )\n",
    "    \n",
    "    # Creamos el modelo DQN\n",
    "    net = DQN_CNN_Model(env.observation_space.shape, env.action_space.n).to(config.device)\n",
    "    \n",
    "    # Creamos el agente DQN\n",
    "    dqn_agent = DQNAgent(env, net, process_state, config.buffer_size, config.batch_size, config.learning_rate, config.gamma, epsilon_i=config.epsilon_ini, epsilon_f=config.epsilon_min, epsilon_anneal_steps=config.epsilon_anneal_steps, episode_block=config.episode_block, device=config.device)\n",
    "    \n",
    "    # Entrenamos al agente DQN\n",
    "    dqn_rewards = dqn_agent.train(config.total_steps, config.steps_per_episode)\n",
    "    \n",
    "    # Guardamos los rewards en Weights & Biases\n",
    "    wandb.log({\"rewards\": dqn_rewards})\n",
    "\n",
    "     # Salvamos el mejor modelo\n",
    "    torch.save(net.state_dict(), \"model.pth\")\n",
    "    wandb.save(\"model.pth\")\n",
    "\n",
    "    # Finalizamos la ejecución de Weights & Biases\n",
    "    wandb.finish()\n",
    "    \n",
    "    # Cerramos el entorno\n",
    "    env.close()"
   ]
  },
  {
   "cell_type": "code",
   "execution_count": null,
   "metadata": {},
   "outputs": [],
   "source": [
    "# Ejecutamos el sweep\n",
    "wandb.agent(sweep_id, run, count=10) "
   ]
  },
  {
   "cell_type": "code",
   "execution_count": null,
   "metadata": {},
   "outputs": [],
   "source": [
    "# Obtenemos el mejor modelo del sweep\n",
    "best_run = wandb.Api().run(f\"{WANDB_TEAM_NAME}/{WANDB_PROJECT}/{sweep_id}\")\n",
    "best_model_path = best_run.file(\"model.pth\").download(replace=True) \n",
    "# Cargamos el mejor modelo\n",
    "best_model = DQN_CNN_Model(env.observation_space.shape, env.action_space.n).to(DEVICE)\n",
    "best_model.load_state_dict(torch.load(best_model_path, map_location=DEVICE))\n",
    "# Mostramos el resumen del mejor modelo\n",
    "summary(best_model, input_size=(1, NUM_STACKED_FRAMES, SCREEN_SIZE, SCREEN_SIZE), device=DEVICE)\n",
    "# Creamos un nuevo entorno para validar el mejor modelo\n",
    "env = make_env(ENV_NAME,\n",
    "                video_folder=BASE_DIR + '/videos/dqn_validation',\n",
    "                name_prefix=\"breakout\",\n",
    "                record_every=1,\n",
    "                grayscale=GRAY_SCALE,\n",
    "                screen_size=SCREEN_SIZE,\n",
    "                stack_frames=NUM_STACKED_FRAMES,\n",
    "                skip_frames=SKIP_FRAMES\n",
    "                )\n",
    "# Validamos el mejor modelo\n",
    "dqn_agent.play(env, episodes=3, model=best_model)"
   ]
  },
  {
   "cell_type": "markdown",
   "metadata": {
    "id": "YNNvsKiEt9I_"
   },
   "source": [
    "# Comparaciones, Resultados, Comentarios...\n",
    "De aquí en adelante son libres de presentar como gusten los resultados comparativos de las técnicas.\n",
    "..."
   ]
  }
 ],
 "metadata": {
  "accelerator": "GPU",
  "colab": {
   "gpuType": "T4",
   "provenance": []
  },
  "kernelspec": {
   "display_name": "obl_taller_ia",
   "language": "python",
   "name": "python3"
  },
  "language_info": {
   "codemirror_mode": {
    "name": "ipython",
    "version": 3
   },
   "file_extension": ".py",
   "mimetype": "text/x-python",
   "name": "python",
   "nbconvert_exporter": "python",
   "pygments_lexer": "ipython3",
   "version": "3.12.10"
  }
 },
 "nbformat": 4,
 "nbformat_minor": 0
}
