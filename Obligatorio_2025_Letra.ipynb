{
 "cells": [
  {
   "cell_type": "markdown",
   "metadata": {},
   "source": [
    "# Obligatorio - Taller Agentes Inteligentes 2025\n",
    "\n",
    "En este trabajo obligatorio aplicaremos los conceptos vistos en el curso para diseñar, implementar y evaluar agentes capaces de aprender a jugar al clásico **Breakout** de Atari, utilizando el entorno provisto por Farama Gymnasium ([https://ale.farama.org/environments/breakout/](https://ale.farama.org/environments/breakout/)). \n",
    "\n",
    "<p align=\"center\">\n",
    "  <img src=\"https://media.tenor.com/oMxHgRrISJsAAAAM/atari-deep-learning.gif\" alt=\"Atari Deep Learning\"/>\n",
    "</p>\n",
    "\n",
    "\n",
    "El ejercicio se enmarca en un contexto de aprendizaje práctico, donde trabajaremos con las interfaces estándar de Gymnasium para:\n",
    "\n",
    "1. **Profundizar en algoritmos de valor**: implementaremos y compararemos dos variantes de Q-Learning basadas en redes neuronales profundas:\n",
    "   * **Deep Q Learning (DQN)**\n",
    "   * **Double Deep Q Learning (DDQN)**\n",
    "2. **Evaluar rendimiento y estabilidad**: registraremos las recompensas obtenidas durante el entrenamiento de cada agente y analizaremos su comportamiento mediante gráficas comparativas.\n",
    "3. **Demostrar resultados de forma visual**: capturaremos vídeos que muestren a cada agente “resolviendo” el entorno, entendido como la habilidad de romper al menos cinco bloques en una partida.\n",
    "\n",
    "Debido a las limitaciones de tiempo y cómputo propias de un entorno de curso, no se espera entrenar modelos durante más de diez horas por agente. Por ello, será fundamental:\n",
    "\n",
    "* Integrar puntos de **checkpoint** para guardar periódicamente los pesos de la red.\n",
    "* Seguir en los puntos 2 y 3 la arquitectura y técnicas originales propuestas en los papers seminales de DQN y DDQN, dejando la experimentación adicional para el punto extra.\n",
    "* Flexibilizar la notebook de guía: pueden reorganizarla o dividirla en múltiples archivos según su conveniencia.\n"
   ]
  },
  {
   "cell_type": "markdown",
   "metadata": {},
   "source": [
    "## Objetivos y tareas\n",
    "\n",
    "1. **Completar la implementación**\n",
    "   * Rellenar el código faltante en la notebook y en los módulos auxiliares para que los agentes puedan interactuar con el entorno de Breakout.\n",
    "2. **Entrenar agentes**\n",
    "   * Ajustar y entrenar un **DQN** que alcance la condición de “resolver” (romper ≥ 10 bloques).\n",
    "   * Ajustar y entrenar un **DDQN** con la misma meta de desempeño.\n",
    "3. **Visualizar y analizar resultados**\n",
    "   * Generar **gráficas comparativas** de las recompensas obtenidas por ambos agentes en el mismo entorno (una gráfica por ambiente). Además se sugiere gráficas que muestren el valor de la función de valor Q para cada agente.\n",
    "   * Extraer **al menos dos conclusiones** por gráfica, comentando diferencias en convergencia, estabilidad y comportamiento exploratorio.\n",
    "4. **Registro de demostraciones**\n",
    "   * Grabar y entregar un **video demostrativo** de cada agente resolviendo el entorno.\n",
    "5. **Experimentación**\n",
    "   * Probar otras arquitecturas, técnicas de mejora o módulos de procesamiento de entradas más avanzados, documentando brevemente su impacto/"
   ]
  },
  {
   "cell_type": "markdown",
   "metadata": {},
   "source": [
    "## Criterios de evaluación\n",
    "\n",
    "| Criterio                                  | Descripción                                                  | Peso |\n",
    "| ----------------------------------------- | ------------------------------------------------------------ | ---- |\n",
    "| **Implementación y rendimiento**          | DQN y DDQN completados; cada agente rompe ≥ 10 bloques       | 40%  |\n",
    "| **Estructura y narrativa de la notebook** | Secciones claras, explicación de decisiones, “historia”      | 20%  |\n",
    "| **Análisis de resultados**                | Gráficas comparativas; ≥ 2 conclusiones por gráfico          | 20%  |\n",
    "| **Presentación visual**                   | Vídeos demostrativos de cada agente                          | 10%  |\n",
    "| **Experimentación**                       | Experimentación adicional documentada y analizada brevemente | 10%  |"
   ]
  },
  {
   "cell_type": "markdown",
   "metadata": {},
   "source": [
    "## Bibliografía\n",
    "\n",
    "* **Mnih, V.**, Kavukcuoglu, K., Silver, D., Rusu, A. A., Veness, J., Bellemare, M. G., … Hassabis, D. (2013). *Playing Atari with Deep Reinforcement Learning*. [arXiv:1312.5602](https://arxiv.org/abs/1312.5602)\n",
    "* **van Hasselt, H.**, Guez, A., & Silver, D. (2015). *Deep Reinforcement Learning with Double Q-learning*. [arXiv:1509.06461](https://arxiv.org/abs/1509.06461)\n",
    "* **Sutton, R. S.**, & Barto, A. G. (2018). *Reinforcement Learning: An Introduction* (2nd ed.), capítulo 16.5: “Human-level Video Game Play”. MIT Press."
   ]
  },
  {
   "cell_type": "markdown",
   "metadata": {},
   "source": [
    "## Setup"
   ]
  },
  {
   "cell_type": "markdown",
   "metadata": {
    "id": "gc6t9etEt9I2",
    "pycharm": {
     "name": "#%%\n"
    }
   },
   "source": [
    "**Imports**"
   ]
  },
  {
   "cell_type": "code",
   "execution_count": 1,
   "metadata": {
    "id": "cwHCw6PMt9I3",
    "pycharm": {
     "name": "#%%\n"
    }
   },
   "outputs": [],
   "source": [
    "import os\n",
    "import torch\n",
    "import numpy as np\n",
    "import random\n",
    "import numpy as np\n",
    "import torch.nn as nn\n",
    "import torch.nn.functional as F\n",
    "from torchinfo import summary\n",
    "import gymnasium\n",
    "import ale_py\n",
    "from utils import make_env, show_observation_stack\n",
    "from IPython.display import Video"
   ]
  },
  {
   "cell_type": "markdown",
   "metadata": {},
   "source": [
    "ALE (Atari Learning Environment) es un entorno de aprendizaje para videojuegos de Atari. En este caso, utilizaremos el entorno de Breakout. Es necesario entender que se separa el entorno de los roms de Atari, que son los juegos en sí. El entorno de ALE permite interactuar con los juegos de Atari a través de una API estándar, facilitando la implementación de algoritmos de aprendizaje por refuerzo.\n",
    "\n",
    "Debemos instalar los roms por separado, para ello primero tenemos que saber donde están los roms de Atari. "
   ]
  },
  {
   "cell_type": "code",
   "execution_count": 2,
   "metadata": {},
   "outputs": [
    {
     "name": "stdout",
     "output_type": "stream",
     "text": [
      "/opt/anaconda3/envs/obl_taller_ia/lib/python3.12/site-packages/ale_py/roms\n"
     ]
    }
   ],
   "source": [
    "gymnasium.register_envs(ale_py) # registramos todos los entornos de ale_py\n",
    "ruta_init = ale_py.roms.__file__ # debemos saber donde se encuentra la carpeta roms\n",
    "ALE_ROMS_PATH = os.path.dirname(ruta_init)\n",
    "print(ALE_ROMS_PATH)"
   ]
  },
  {
   "cell_type": "code",
   "execution_count": 3,
   "metadata": {},
   "outputs": [
    {
     "name": "stdout",
     "output_type": "stream",
     "text": [
      "ROMs path: /opt/anaconda3/envs/obl_taller_ia/lib/python3.12/site-packages/ale_py/roms\n"
     ]
    }
   ],
   "source": [
    "print(f\"ROMs path: {ALE_ROMS_PATH}\")"
   ]
  },
  {
   "cell_type": "markdown",
   "metadata": {},
   "source": [
    "Podemos usar los siguientes comando para instalar los roms y colocalos en la carpeta correcta."
   ]
  },
  {
   "cell_type": "code",
   "execution_count": null,
   "metadata": {},
   "outputs": [],
   "source": [
    "!pip install \"autorom[accept-rom-license]\"\n",
    "!AutoROM --accept-license --install-dir {ALE_ROMS_PATH}"
   ]
  },
  {
   "cell_type": "markdown",
   "metadata": {},
   "source": [
    "Fijamos la semilla para que los resultados sean reproducibles"
   ]
  },
  {
   "cell_type": "code",
   "execution_count": 4,
   "metadata": {},
   "outputs": [],
   "source": [
    "SEED = 23\n",
    "\n",
    "torch.manual_seed(SEED)\n",
    "torch.backends.cudnn.deterministic=True # https://discuss.pytorch.org/t/what-is-the-differenc-between-cudnn-deterministic-and-cudnn-benchmark/38054\n",
    "torch.backends.cudnn.benchmark=True # https://discuss.pytorch.org/t/what-does-torch-backends-cudnn-benchmark-do/5936/4\n",
    "np.random.seed(SEED)\n",
    "random.seed(SEED)"
   ]
  },
  {
   "cell_type": "markdown",
   "metadata": {},
   "source": [
    "Vemos que dispositivo tenemos, si es GPU, MPS o CPU. **El uso de GPU es altamente recomendable** para acelerar el entrenamiento de los modelos. "
   ]
  },
  {
   "cell_type": "code",
   "execution_count": 5,
   "metadata": {},
   "outputs": [
    {
     "name": "stdout",
     "output_type": "stream",
     "text": [
      "Device: mps\n"
     ]
    }
   ],
   "source": [
    "# Algunas constantes\n",
    "\n",
    "# definimos el dispositivo que vamos a usar\n",
    "DEVICE = \"cpu\"  # por defecto, usamos la CPU\n",
    "if torch.cuda.is_available():\n",
    "    DEVICE = \"cuda\"  # si hay GPU, usamos la GPU\n",
    "elif torch.backends.mps.is_available():\n",
    "    DEVICE = \"mps\"  # si no hay GPU, pero hay MPS, usamos MPS\n",
    "\n",
    "print(f\"Device: {DEVICE}\")"
   ]
  },
  {
   "cell_type": "markdown",
   "metadata": {},
   "source": [
    "## Preprocesando Atari\n",
    "\n",
    "Para reproducir fielmente el enfoque de Mnih et al. (2013) y reducir la carga computacional al trabajar con imágenes de Atari (210 × 160 píxeles, 128 colores), aplicamos el siguiente preprocesado φ a las últimas **4** frames del entorno:\n",
    "\n",
    "1. **Conversión a escala de grises**\n",
    "   Eliminamos la información de color (GRAYSCALE = True), pues la luminosidad es suficiente para capturar la dinámica de juego y reduce drásticamente la dimensionalidad de la entrada.\n",
    "\n",
    "2. **Down-sampling y recorte**\n",
    "   * Redimensionamos la imagen original a 110 × 84 píxeles, manteniendo la proporción horizontal.\n",
    "   * Recortamos un área central de 84 × 84 píxeles que contiene la “zona de juego”, descartando bordes innecesarios.\n",
    "     Este paso (SCREEN_SIZE = 84) no solo concentra la atención del modelo en la región relevante, sino que también garantiza un tamaño cuadrado compatible con las implementaciones de convoluciones en GPU.\n",
    "\n",
    "3. **Saltos temporales (frame skipping)**\n",
    "   Procesamos cada 4 frames (SKIP_FRAMES = 4), repitiendo la misma acción durante esos pasos. Esto reduce la redundancia temporal, acelera el entrenamiento y mantiene la coherencia del movimiento de la paleta y la bola.\n",
    "\n",
    "4. **Apilamiento de frames**\n",
    "   Finalmente, acumulamos las últimas 4 imágenes preprocesadas (NUM_STACKED_FRAMES = 4) en un único tensor de entrada. Así el agente puede inferir la velocidad y dirección de los elementos móviles a partir de la diferencia entre frames.\n",
    "\n",
    "Este esquema de preprocesado es fundamental para disminuir el espacio de entrada, acelerar las convoluciones y proporcionar al Q-net una representación compacta y rica en información dinámica, tal como se describe en el algoritmo 1 del paper original .\n",
    "\n",
    "> Se recomienda ver el método `make_env` en el archivo `utils.py` para entender cómo se implementa este preprocesado. "
   ]
  },
  {
   "cell_type": "code",
   "execution_count": 6,
   "metadata": {},
   "outputs": [],
   "source": [
    "GRAY_SCALE = True # si True, convertimos la imagen a escala de grises\n",
    "SCREEN_SIZE = 84 # redimensionamos a SCREEN_SIZExSCREEN_SIZE\n",
    "NUM_STACKED_FRAMES = 4 # apilamos NUM_STACKED_FRAMES frames\n",
    "SKIP_FRAMES = 4 # saltamos SKIP_FRAMES frames (haciendo la misma acción)"
   ]
  },
  {
   "cell_type": "code",
   "execution_count": 7,
   "metadata": {
    "colab": {
     "base_uri": "https://localhost:8080/"
    },
    "id": "loVxQPrwt9I5",
    "outputId": "18b7ed97-88dd-4b1e-a2cc-b2636686bfc7"
   },
   "outputs": [
    {
     "name": "stderr",
     "output_type": "stream",
     "text": [
      "A.L.E: Arcade Learning Environment (version 0.10.2+unknown)\n",
      "[Powered by Stella]\n",
      "Game console created:\n",
      "  ROM file:  /opt/anaconda3/envs/obl_taller_ia/lib/python3.12/site-packages/ale_py/roms/breakout.bin\n",
      "  Cart Name: Breakout - Breakaway IV (1978) (Atari)\n",
      "  Cart MD5:  f34f08e5eb96e500e851a80be3277a56\n",
      "  Display Format:  AUTO-DETECT ==> NTSC\n",
      "  ROM Size:        2048\n",
      "  Bankswitch Type: AUTO-DETECT ==> 2K\n",
      "\n",
      "Running ROM file...\n",
      "Random seed is 584062055\n",
      "/opt/anaconda3/envs/obl_taller_ia/lib/python3.12/site-packages/gymnasium/wrappers/rendering.py:283: UserWarning: \u001b[33mWARN: Overwriting existing videos at /Users/gotero/facultad/2025/taller_ia/obligatorio/videos/random folder (try specifying a different `video_folder` for the `RecordVideo` wrapper if this is not desired)\u001b[0m\n",
      "  logger.warn(\n"
     ]
    },
    {
     "data": {
      "image/png": "[encoded data removed]",
      "text/plain": [
       "<Figure size 640x480 with 1 Axes>"
      ]
     },
     "metadata": {},
     "output_type": "display_data"
    },
    {
     "data": {
      "image/png": "[encoded data removed]",
      "text/plain": [
       "<Figure size 640x480 with 1 Axes>"
      ]
     },
     "metadata": {},
     "output_type": "display_data"
    },
    {
     "data": {
      "image/png": "[encoded data removed]",
      "text/plain": [
       "<Figure size 640x480 with 1 Axes>"
      ]
     },
     "metadata": {},
     "output_type": "display_data"
    },
    {
     "data": {
      "image/png": "[encoded data removed]",
      "text/plain": [
       "<Figure size 640x480 with 1 Axes>"
      ]
     },
     "metadata": {},
     "output_type": "display_data"
    },
    {
     "name": "stdout",
     "output_type": "stream",
     "text": [
      "Episode 1 finished with total reward: 3\n"
     ]
    }
   ],
   "source": [
    "# https://ale.farama.org/environments/breakout/\n",
    "ENV_NAME = \"ALE/Breakout-v5\" \n",
    "\n",
    "env = make_env(ENV_NAME,\n",
    "                video_folder='./videos/random',\n",
    "                name_prefix=\"breakout\",\n",
    "                record_every=1,\n",
    "                grayscale=GRAY_SCALE,\n",
    "                screen_size=SCREEN_SIZE,\n",
    "                stack_frames=NUM_STACKED_FRAMES,\n",
    "                skip_frames=SKIP_FRAMES\n",
    "                )\n",
    "\n",
    "for episode_num in range(1):\n",
    "    obs, info = env.reset()\n",
    "    show_observation_stack(obs)\n",
    "    reward_total = 0\n",
    "    episode_over = False\n",
    "    while not episode_over:\n",
    "        action = env.action_space.sample()  # seleccionamos una acción aleatoria\n",
    "        obs, reward, terminated, truncated, info = env.step(action)\n",
    "        reward_total += reward\n",
    "        episode_over = terminated or truncated\n",
    "    print(f\"Episode {episode_num + 1} finished with total reward: {reward_total}\")\n",
    "\n",
    "env.close()"
   ]
  },
  {
   "cell_type": "markdown",
   "metadata": {},
   "source": [
    "Además, podemos mostrar los videos capturados por el entorno de Atari de la siguiente manera:"
   ]
  },
  {
   "cell_type": "code",
   "execution_count": 8,
   "metadata": {},
   "outputs": [
    {
     "data": {
      "text/html": [
       "<video controls  width=\"600\" >\n",
       " <source src=\"data:video/mp4;base64,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\" type=\"video/mp4\">\n",
       " Your browser does not support the video tag.\n",
       " </video>"
      ],
      "text/plain": [
       "<IPython.core.display.Video object>"
      ]
     },
     "execution_count": 8,
     "metadata": {},
     "output_type": "execute_result"
    }
   ],
   "source": [
    "# Ruta al archivo de vídeo en tu sistema de ficheros\n",
    "video_path = \"./videos/random/breakout-episode-0.mp4\"\n",
    "\n",
    "# Muestra el vídeo\n",
    "Video(video_path, embed=True, width=600)"
   ]
  },
  {
   "cell_type": "markdown",
   "metadata": {
    "id": "2bYVG_TKt9I5"
   },
   "source": [
    "# Exploración del entorno"
   ]
  },
  {
   "cell_type": "code",
   "execution_count": 9,
   "metadata": {},
   "outputs": [
    {
     "name": "stdout",
     "output_type": "stream",
     "text": [
      "Actions shape: Discrete(4)\n",
      "Observation shape: (4, 84, 84)\n",
      "(4, 84, 84),\n",
      " 0,\n",
      " False,\n",
      " {'lives': 5, 'episode_frame_number': 12, 'frame_number': 1108}\n"
     ]
    }
   ],
   "source": [
    "print(\"Actions shape:\",env.action_space)\n",
    "print(\"Observation shape:\",env.observation_space.shape)\n",
    "env.reset()\n",
    "next_state, reward, terminated, truncated, info = env.step(action=0)\n",
    "\n",
    "print(f\"{next_state.shape},\\n {reward},\\n {terminated},\\n {info}\")"
   ]
  },
  {
   "cell_type": "markdown",
   "metadata": {},
   "source": [
    "### Acciones\n",
    "..."
   ]
  },
  {
   "cell_type": "markdown",
   "metadata": {},
   "source": [
    "### Observaciones\n",
    "..."
   ]
  },
  {
   "cell_type": "markdown",
   "metadata": {
    "id": "XIHpwiaat9I7"
   },
   "source": [
    "# Deep Q Learning\n",
    "\n",
    "Deep Q Learning extiende el algoritmo clásico de Q-learning al emplear una **red neuronal profunda** como aproximador de la función de valor $Q(s,a)$. Inspirado en Mnih et al. (2013), este método utiliza una **red convolucional** para procesar directamente las imágenes del entorno Atari, un **replay buffer** para romper la correlación temporal de las muestras. La política sigue un esquema **ε-greedy**, balanceando exploración y explotación, y se entrena minimizando el error de la ecuación de Bellman sobre lotes de transiciones muestreadas de manera aleatoria.\n",
    "\n",
    "<p align=\"center\">\n",
    "  <img src=\"https://www.researchgate.net/profile/Faris-Mismar/publication/327045314/figure/fig4/AS:819677282455553@1572437701142/Structure-of-the-neural-network-used-for-the-Deep-Q-learning-Network-implementation-with.png\" alt=\"DQN\"/>\n",
    "</p>\n",
    "\n",
    "Fuente: [arXiv:1312.5602](https://arxiv.org/abs/1312.5602)"
   ]
  },
  {
   "cell_type": "markdown",
   "metadata": {
    "id": "ajTGajUftSgY",
    "pycharm": {
     "name": "#%% md\n"
    }
   },
   "source": [
    "## Memoria\n",
    "\n",
    "El algoritmo de Deep Q Learning presentado en el paper utiliza una memoria (llamada Replay Memory) para almacenar transiciones pasadas. Tuplas que contienen un estado base, la accion tomada, la recompensa obtenida, una bandera que indica si el siguiente estado es final o no; y el estado siguiente.\n",
    "\n",
    "Esta memoria es circular, es decir, tiene un límite maximo de elementos y una vez esté llena comienza a reemplazar los elementos más viejos.\n",
    "\n",
    "Vamos a necesitar crear una función **sample** que obtiene una mustra aleatoria de elementos de la memoria.  Esto puede ser una lista de Transiciones o listas separadas (pero alineadas) de los elementos que las componen.\n",
    "\n",
    "\n",
    "> Para implementar esta funcionalidad se debe modificar el archivo **replay_memory.py**"
   ]
  },
  {
   "cell_type": "code",
   "execution_count": 10,
   "metadata": {
    "id": "scPtpbz4tTAh",
    "outputId": "0890f48a-e673-4416-bd69-7dcf2730ba64",
    "pycharm": {
     "name": "#%%\n"
    }
   },
   "outputs": [
    {
     "name": "stdout",
     "output_type": "stream",
     "text": [
      "Memory size: 3\n",
      "\n",
      "Memory sample:\n",
      "Sample 0: Transition(state='state2', action='action2', reward='reward2', done='done2', next_state='next_state2')\n",
      "Sample 1: Transition(state='state4', action='action4', reward='reward4', done='done4', next_state='next_state4')\n"
     ]
    }
   ],
   "source": [
    "from replay_memory import ReplayMemory, Transition\n",
    "\n",
    "# Creamos la memoria de repetición\n",
    "replay_memory = ReplayMemory(3)\n",
    "\n",
    "# Añadimos transiciones a la memoria (solo las 3 últimas se guardan)\n",
    "replay_memory.add('state1', 'action1', 'reward1', 'done1', 'next_state1' )\n",
    "replay_memory.add('state2', 'action2', 'reward2', 'done2', 'next_state2')\n",
    "replay_memory.add('state3', 'action3', 'reward3', 'done3', 'next_state3')\n",
    "replay_memory.add('state4', 'action4', 'reward4', 'done4', 'next_state4')\n",
    "\n",
    "# Mostramos el tamaño de la memoria\n",
    "print(f\"Memory size: {len(replay_memory)}\\n\")\n",
    "\n",
    "# Mostramos un sample de la memoria\n",
    "sampled = replay_memory.sample(2)\n",
    "print(f\"Memory sample:\")\n",
    "for i, sample in enumerate(sampled):\n",
    "    print(f\"Sample {i}: {sample}\")\n"
   ]
  },
  {
   "cell_type": "markdown",
   "metadata": {
    "id": "j7Ygv5Mjtb-F",
    "pycharm": {
     "name": "#%% md\n"
    }
   },
   "source": [
    "## Modelo\n",
    "\n",
    "Vamos a usar un mismo modelo FeedForward para estos dos problemas (entrenado en cada problema particular). Recomendamos simplicidad en la creación del mismo, pero tienen total libertad al momento de implementarlo.\n",
    "\n",
    "> Para implementar esta funcionalidad se debe modificar el archivo **dqn_cnn_model.py**. Se recomienda empezar por una arquitectura simple como la que se muestra en el paper de Mnih et al. (2013) y luego experimentar con arquitecturas más complejas."
   ]
  },
  {
   "cell_type": "code",
   "execution_count": 11,
   "metadata": {
    "id": "bkNBvJB6ryp7",
    "pycharm": {
     "name": "#%%\n"
    }
   },
   "outputs": [
    {
     "name": "stderr",
     "output_type": "stream",
     "text": [
      "A.L.E: Arcade Learning Environment (version 0.10.2+unknown)\n",
      "[Powered by Stella]\n",
      "Game console created:\n",
      "  ROM file:  /opt/anaconda3/envs/obl_taller_ia/lib/python3.12/site-packages/ale_py/roms/breakout.bin\n",
      "  Cart Name: Breakout - Breakaway IV (1978) (Atari)\n",
      "  Cart MD5:  f34f08e5eb96e500e851a80be3277a56\n",
      "  Display Format:  AUTO-DETECT ==> NTSC\n",
      "  ROM Size:        2048\n",
      "  Bankswitch Type: AUTO-DETECT ==> 2K\n",
      "\n",
      "Running ROM file...\n",
      "Random seed is -291835716\n",
      "/opt/anaconda3/envs/obl_taller_ia/lib/python3.12/site-packages/gymnasium/wrappers/rendering.py:416: UserWarning: \u001b[33mWARN: Unable to save last video! Did you call close()?\u001b[0m\n",
      "  logger.warn(\"Unable to save last video! Did you call close()?\")\n"
     ]
    },
    {
     "name": "stdout",
     "output_type": "stream",
     "text": [
      "Actions shape: Discrete(4)\n",
      "Observatiion shape: (4, 84, 84)\n"
     ]
    },
    {
     "data": {
      "text/plain": [
       "==========================================================================================\n",
       "Layer (type:depth-idx)                   Output Shape              Param #\n",
       "==========================================================================================\n",
       "DQN_CNN_Model                            [32, 4]                   --\n",
       "├─Conv2d: 1-1                            [32, 16, 20, 20]          4,112\n",
       "├─Conv2d: 1-2                            [32, 32, 9, 9]            8,224\n",
       "├─Linear: 1-3                            [32, 256]                 663,808\n",
       "├─Linear: 1-4                            [32, 4]                   1,028\n",
       "==========================================================================================\n",
       "Total params: 677,172\n",
       "Trainable params: 677,172\n",
       "Non-trainable params: 0\n",
       "Total mult-adds (Units.MEGABYTES): 95.22\n",
       "==========================================================================================\n",
       "Input size (MB): 3.61\n",
       "Forward/backward pass size (MB): 2.37\n",
       "Params size (MB): 2.71\n",
       "Estimated Total Size (MB): 8.69\n",
       "=========================================================================================="
      ]
     },
     "execution_count": 11,
     "metadata": {},
     "output_type": "execute_result"
    }
   ],
   "source": [
    "from dqn_cnn_model import DQN_CNN_Model\n",
    "\n",
    "env = make_env(ENV_NAME,\n",
    "                record_every=None,\n",
    "                grayscale=GRAY_SCALE,\n",
    "                screen_size=SCREEN_SIZE,\n",
    "                stack_frames=NUM_STACKED_FRAMES,\n",
    "                skip_frames=SKIP_FRAMES\n",
    "                )\n",
    "print(\"Actions shape:\",env.action_space)\n",
    "print(\"Observatiion shape:\",env.observation_space.shape)\n",
    "\n",
    "env.close()\n",
    "\n",
    "cnn_model = DQN_CNN_Model(env.observation_space.shape, env.action_space.n).to(DEVICE)\n",
    "summary(cnn_model, input_size=(32, SKIP_FRAMES, SCREEN_SIZE, SCREEN_SIZE), device=DEVICE) # 32 es el batch size"
   ]
  },
  {
   "cell_type": "markdown",
   "metadata": {},
   "source": [
    "La red esta definida para que reciba un tensor de 4 dimensiones (batch_size, num_frames, height, width) y devuelve un tensor de 2 dimensiones (batch_size, num_actions). La función `forward` es la encargada de definir el flujo de datos a través de la red. En este caso, se utiliza una red convolucional seguida de capas totalmente conectadas"
   ]
  },
  {
   "cell_type": "code",
   "execution_count": 12,
   "metadata": {},
   "outputs": [],
   "source": [
    "obs_tensor_batch = torch.rand((NUM_STACKED_FRAMES,SCREEN_SIZE,SCREEN_SIZE)).unsqueeze(0).to(DEVICE) # Añadimos una dimensión para el batch y lo pasamos al dispositivo\n",
    " "
   ]
  },
  {
   "cell_type": "code",
   "execution_count": 13,
   "metadata": {},
   "outputs": [
    {
     "name": "stdout",
     "output_type": "stream",
     "text": [
      "Shape del tensor de entrada: torch.Size([1, 4, 84, 84])\n"
     ]
    }
   ],
   "source": [
    "# Verificamos el shape del tensor de entrada\n",
    "# el cual deberá ser de (1, números de cuadros, 84, 84)\n",
    "# Durante nuestro entrenamiento, la primera dimensión\n",
    "# será el tamaño del batch, pero en este caso, al crearse\n",
    "# una sola muestra, el tamaño es 1.\n",
    "print(f\"Shape del tensor de entrada: {obs_tensor_batch.shape}\")"
   ]
  },
  {
   "cell_type": "markdown",
   "metadata": {},
   "source": [
    "Los valores de Q se obtienen a partir de la salida de la red, cada columna representa el valor Q para cada acción posible en el estado actual. "
   ]
  },
  {
   "cell_type": "code",
   "execution_count": 14,
   "metadata": {},
   "outputs": [
    {
     "name": "stdout",
     "output_type": "stream",
     "text": [
      "Q-values shape: torch.Size([1, 4])\n"
     ]
    }
   ],
   "source": [
    "print(f\"Q-values shape: {cnn_model(obs_tensor_batch).shape}\") # shape: (1, num_actions)"
   ]
  },
  {
   "cell_type": "code",
   "execution_count": 15,
   "metadata": {},
   "outputs": [
    {
     "data": {
      "text/plain": [
       "tensor([[-0.0188,  0.0008,  0.0328,  0.0380]], device='mps:0',\n",
       "       grad_fn=<LinearBackward0>)"
      ]
     },
     "execution_count": 15,
     "metadata": {},
     "output_type": "execute_result"
    }
   ],
   "source": [
    "cnn_model(obs_tensor_batch) "
   ]
  },
  {
   "cell_type": "markdown",
   "metadata": {},
   "source": [
    "Podemos preguntar cuál es la acción con mayor valor Q en un estado."
   ]
  },
  {
   "cell_type": "code",
   "execution_count": 16,
   "metadata": {},
   "outputs": [
    {
     "data": {
      "text/plain": [
       "torch.return_types.max(\n",
       "values=tensor([0.0380], device='mps:0', grad_fn=<MaxBackward0>),\n",
       "indices=tensor([3], device='mps:0'))"
      ]
     },
     "execution_count": 16,
     "metadata": {},
     "output_type": "execute_result"
    }
   ],
   "source": [
    "cnn_model(obs_tensor_batch).max(1)"
   ]
  },
  {
   "cell_type": "markdown",
   "metadata": {},
   "source": [
    "En el siguiente ejemplo vamos a ver cómo tomar los valores de acciones deseables para un conjunto de estados. "
   ]
  },
  {
   "cell_type": "code",
   "execution_count": 17,
   "metadata": {},
   "outputs": [
    {
     "name": "stdout",
     "output_type": "stream",
     "text": [
      "Batch shape: torch.Size([3, 4, 84, 84])\n",
      "torch.Size([3, 1])\n",
      "Q-values: tensor([[-0.0399,  0.0014,  0.0332,  0.0316],\n",
      "        [-0.0319,  0.0112,  0.0292,  0.0156],\n",
      "        [-0.0356,  0.0033,  0.0296,  0.0224]], device='mps:0',\n",
      "       grad_fn=<LinearBackward0>)\n",
      "Q-values: tensor([[0.0014],\n",
      "        [0.0292],\n",
      "        [0.0224]], device='mps:0', grad_fn=<GatherBackward0>)\n"
     ]
    }
   ],
   "source": [
    "# Creamos 3 observaciones aleatorias para probar el modelo\n",
    "obs_ran1 = torch.rand(4, 84, 84)\n",
    "obs_ran2 = torch.rand(4, 84, 84)\n",
    "obs_ran3 = torch.rand(4, 84, 84)\n",
    "\n",
    "batch = torch.stack([obs_ran1, obs_ran2, obs_ran3], dim=0).to(DEVICE) # shape: (3, 4, 84, 84)\n",
    "print(f\"Batch shape: {batch.shape}\")\n",
    "\n",
    "actions =  torch.tensor([1, 2, 3], device=DEVICE).unsqueeze(1) # queremos la acción 1 para la primera observación, la acción 2 para la segunda y la acción 3 para la tercera\n",
    "print(actions.shape)\n",
    "\n",
    "Q_test = cnn_model(batch)\n",
    "print(f\"Q-values: {Q_test}\")\n",
    "print(f\"Q-values: {Q_test.gather(1, actions)}\") # https://pytorch.org/docs/main/generated/torch.gather.html"
   ]
  },
  {
   "cell_type": "markdown",
   "metadata": {},
   "source": [
    "## Phi \n",
    "\n",
    "La función para procesar los estados (phi en el paper) que es necesaria para poder usar el modelo de Pytorch con las representaciones de gym. Esta función pasa una observación de gym a un tensor de Pytorch y la normaliza.\n",
    "\n",
    "> Técnicamente la función phi tiene más responsabilidades, como la de apilar los frames y el downsampling. En nuestro caso se lo delegamos a los wrappers de gymnasium."
   ]
  },
  {
   "cell_type": "code",
   "execution_count": 18,
   "metadata": {
    "id": "oegpMg25t9I9",
    "pycharm": {
     "name": "#%%\n"
    }
   },
   "outputs": [
    {
     "name": "stdout",
     "output_type": "stream",
     "text": [
      "Observation shape: torch.Size([4, 84, 84])\n"
     ]
    }
   ],
   "source": [
    "def process_state(obs):\n",
    "    \"\"\"\n",
    "    Preprocess the state to be used as input for the model (transform to tensor).\n",
    "    \"\"\"\n",
    "    return torch.tensor(obs, dtype=torch.float32, device=DEVICE) / 255.0\n",
    "\n",
    "obs, _ = env.reset()\n",
    "obs_tensor = process_state(obs)\n",
    "print(f\"Observation shape: {obs_tensor.shape}\")"
   ]
  },
  {
   "cell_type": "markdown",
   "metadata": {
    "id": "z9B7ZY9Htj_F",
    "pycharm": {
     "name": "#%% md\n"
    }
   },
   "source": [
    "## Agente\n",
    "\n",
    "Vamos a definir una clase agente (abstracto), encargado de interactuar con el ambiente y entrenar los modelos. Los métdos definidos deben funcionar para ambos problemas simplemente cambiando el modelo a utilizar para cada ambiente.\n",
    "\n",
    "Abajo dejamos un esqueleto del mismo y las funciones a completar. Recomendamos no alterar la estructura del mismo, pero pueden definir las funciones auxiliares que consideren necesarias.\n",
    "\n",
    "> Para implementar esta funcionalidad se debe modificar los archivos **abstract_agent.py** y **dqn_agent.py**.\n",
    "\n",
    "Funciones a completar:\n",
    "\n",
    "\n",
    "1. **init**: que inicializa los parametros del agente.\n",
    "\n",
    "2. **compute_epsilon**: que computa el valor actual de epsilon en base al número de pasos actuales y si esta entrenando o no.\n",
    "\n",
    "3. **select_action**: Seleccionando acciones \"epsilongreedy-mente\" si estamos entranando y completamente greedy en otro caso.\n",
    "\n",
    "4. **train**: que entrena el agente por un número dado de episodios de largo determinado.\n",
    "\n",
    "5. **record_test_episode**: para grabar un episodio con el agente siempre seleccionando la mejor accion conocida."
   ]
  },
  {
   "cell_type": "markdown",
   "metadata": {
    "id": "BOD-ENZRtyMt",
    "pycharm": {
     "name": "#%% md\n"
    }
   },
   "source": [
    "## Entrenamiento"
   ]
  },
  {
   "cell_type": "code",
   "execution_count": 19,
   "metadata": {},
   "outputs": [],
   "source": [
    "#Hiperparámetros de entrenamiento del agente DQN\n",
    "TOTAL_STEPS = 10_000_000\n",
    "EPISODES = 10_000\n",
    "STEPS_PER_EPISODE = 20_000\n",
    "\n",
    "EPSILON_INI = 1\n",
    "EPSILON_MIN = 0.05\n",
    "EPSILON_ANNEAL_STEPS = 1_000_000\n",
    "\n",
    "EPISODE_BLOCK = 100\n",
    "\n",
    "BATCH_SIZE = 32\n",
    "BUFFER_SIZE = 50_000\n",
    "\n",
    "GAMMA = 0.995\n",
    "LEARNING_RATE = 1e-5"
   ]
  },
  {
   "cell_type": "code",
   "execution_count": 20,
   "metadata": {
    "id": "BsTl-pFqt10b",
    "pycharm": {
     "name": "#%%\n"
    }
   },
   "outputs": [
    {
     "name": "stderr",
     "output_type": "stream",
     "text": [
      "A.L.E: Arcade Learning Environment (version 0.10.2+unknown)\n",
      "[Powered by Stella]\n",
      "Game console created:\n",
      "  ROM file:  /opt/anaconda3/envs/obl_taller_ia/lib/python3.12/site-packages/ale_py/roms/breakout.bin\n",
      "  Cart Name: Breakout - Breakaway IV (1978) (Atari)\n",
      "  Cart MD5:  f34f08e5eb96e500e851a80be3277a56\n",
      "  Display Format:  AUTO-DETECT ==> NTSC\n",
      "  ROM Size:        2048\n",
      "  Bankswitch Type: AUTO-DETECT ==> 2K\n",
      "\n",
      "Running ROM file...\n",
      "Random seed is 175080110\n",
      "/opt/anaconda3/envs/obl_taller_ia/lib/python3.12/site-packages/gymnasium/wrappers/rendering.py:283: UserWarning: \u001b[33mWARN: Overwriting existing videos at /Users/gotero/facultad/2025/taller_ia/obligatorio/videos/dqn_training folder (try specifying a different `video_folder` for the `RecordVideo` wrapper if this is not desired)\u001b[0m\n",
      "  logger.warn(\n",
      "Entrenando:   0%|          | 13/10000 [00:19<3:57:00,  1.42s/episode, reward=1.31, epsilon=0.998, steps=2396]/var/folders/1s/blr559y52fn_mdjqmdysyrk80000gn/T/ipykernel_79757/1831500738.py:5: UserWarning: To copy construct from a tensor, it is recommended to use sourceTensor.detach().clone() or sourceTensor.detach().clone().requires_grad_(True), rather than torch.tensor(sourceTensor).\n",
      "  return torch.tensor(obs, dtype=torch.float32, device=DEVICE) / 255.0\n",
      "Entrenando:   0%|          | 13/10000 [00:21<4:37:09,  1.67s/episode, reward=1.31, epsilon=0.998, steps=2396]\n"
     ]
    },
    {
     "ename": "RuntimeError",
     "evalue": "linear(): input and weight.T shapes cannot be multiplied (32x81 and 2592x256)",
     "output_type": "error",
     "traceback": [
      "\u001b[31m---------------------------------------------------------------------------\u001b[39m",
      "\u001b[31mRuntimeError\u001b[39m                              Traceback (most recent call last)",
      "\u001b[36mCell\u001b[39m\u001b[36m \u001b[39m\u001b[32mIn[20]\u001b[39m\u001b[32m, line 17\u001b[39m\n\u001b[32m     13\u001b[39m net = DQN_CNN_Model(env.observation_space.shape, env.action_space.n).to(DEVICE)\n\u001b[32m     15\u001b[39m dqn_agent = DQNAgent(env, net, process_state, BUFFER_SIZE, BATCH_SIZE, LEARNING_RATE, GAMMA, epsilon_i=EPSILON_INI, epsilon_f=EPSILON_MIN, epsilon_anneal_steps=EPSILON_ANNEAL_STEPS, episode_block=EPISODE_BLOCK, device=DEVICE)\n\u001b[32m---> \u001b[39m\u001b[32m17\u001b[39m dqn_rewards = \u001b[43mdqn_agent\u001b[49m\u001b[43m.\u001b[49m\u001b[43mtrain\u001b[49m\u001b[43m(\u001b[49m\u001b[43mEPISODES\u001b[49m\u001b[43m,\u001b[49m\u001b[43m \u001b[49m\u001b[43mSTEPS_PER_EPISODE\u001b[49m\u001b[43m,\u001b[49m\u001b[43m \u001b[49m\u001b[43mTOTAL_STEPS\u001b[49m\u001b[43m)\u001b[49m\n\u001b[32m     19\u001b[39m env.close()\n",
      "\u001b[36mFile \u001b[39m\u001b[32m~/facultad/2025/taller_ia/obligatorio/abstract_agent.py:77\u001b[39m, in \u001b[36mAgent.train\u001b[39m\u001b[34m(self, number_episodes, max_steps_episode, max_steps)\u001b[39m\n\u001b[32m     69\u001b[39m \u001b[38;5;66;03m# Bucle principal de pasos dentro de un episodio\u001b[39;00m\n\u001b[32m     70\u001b[39m \u001b[38;5;28;01mfor\u001b[39;00m _ \u001b[38;5;129;01min\u001b[39;00m \u001b[38;5;28mrange\u001b[39m(max_steps):\n\u001b[32m     71\u001b[39m     \u001b[38;5;66;03m# TODO: Seleccionar acción epsilon-greedy usando select_action()\u001b[39;00m\n\u001b[32m     72\u001b[39m \n\u001b[32m     73\u001b[39m     \u001b[38;5;66;03m# Seleccionamos la acción a partir de la implementación propia de\u001b[39;00m\n\u001b[32m     74\u001b[39m     \u001b[38;5;66;03m# la clase abstracta. Luego, cada agente deberá implementar\u001b[39;00m\n\u001b[32m     75\u001b[39m     \u001b[38;5;66;03m# su propia lógica para seleccionar la acción.\u001b[39;00m\n\u001b[32m---> \u001b[39m\u001b[32m77\u001b[39m     action = \u001b[38;5;28;43mself\u001b[39;49m\u001b[43m.\u001b[49m\u001b[43mselect_action\u001b[49m\u001b[43m(\u001b[49m\u001b[43mstate_phi\u001b[49m\u001b[43m,\u001b[49m\u001b[43m \u001b[49m\u001b[43mtotal_steps\u001b[49m\u001b[43m,\u001b[49m\u001b[43m \u001b[49m\u001b[43mtrain\u001b[49m\u001b[43m=\u001b[49m\u001b[38;5;28;43;01mTrue\u001b[39;49;00m\u001b[43m)\u001b[49m\n\u001b[32m     79\u001b[39m     \u001b[38;5;66;03m# TODO: Ejecutar action = env.step(action)\u001b[39;00m\n\u001b[32m     80\u001b[39m \n\u001b[32m     81\u001b[39m     \u001b[38;5;66;03m# Ejecutamos la acción.\u001b[39;00m\n\u001b[32m     83\u001b[39m     next_state, reward, done, _, _ = \u001b[38;5;28mself\u001b[39m.env.step(action)\n",
      "\u001b[36mFile \u001b[39m\u001b[32m~/facultad/2025/taller_ia/obligatorio/dqn_agent.py:83\u001b[39m, in \u001b[36mDQNAgent.select_action\u001b[39m\u001b[34m(self, state, current_steps, train)\u001b[39m\n\u001b[32m     81\u001b[39m \u001b[38;5;66;03m# Calcular Q-values con policy_net\u001b[39;00m\n\u001b[32m     82\u001b[39m \u001b[38;5;28;01mwith\u001b[39;00m torch.no_grad():\n\u001b[32m---> \u001b[39m\u001b[32m83\u001b[39m     q_values = \u001b[38;5;28;43mself\u001b[39;49m\u001b[43m.\u001b[49m\u001b[43mpolicy_net\u001b[49m\u001b[43m(\u001b[49m\u001b[43mstate_tensor\u001b[49m\u001b[43m)\u001b[49m\n\u001b[32m     85\u001b[39m     \u001b[38;5;66;03m# Obtenemos un array de Q-values y seleccionamos la acción greedy\u001b[39;00m\n\u001b[32m     86\u001b[39m     \u001b[38;5;66;03m# con dimensiones 1 x 4\u001b[39;00m\n\u001b[32m     87\u001b[39m     greedy_action = q_values.argmax(dim=\u001b[32m1\u001b[39m).item()\n",
      "\u001b[36mFile \u001b[39m\u001b[32m/opt/anaconda3/envs/obl_taller_ia/lib/python3.12/site-packages/torch/nn/modules/module.py:1751\u001b[39m, in \u001b[36mModule._wrapped_call_impl\u001b[39m\u001b[34m(self, *args, **kwargs)\u001b[39m\n\u001b[32m   1749\u001b[39m     \u001b[38;5;28;01mreturn\u001b[39;00m \u001b[38;5;28mself\u001b[39m._compiled_call_impl(*args, **kwargs)  \u001b[38;5;66;03m# type: ignore[misc]\u001b[39;00m\n\u001b[32m   1750\u001b[39m \u001b[38;5;28;01melse\u001b[39;00m:\n\u001b[32m-> \u001b[39m\u001b[32m1751\u001b[39m     \u001b[38;5;28;01mreturn\u001b[39;00m \u001b[38;5;28;43mself\u001b[39;49m\u001b[43m.\u001b[49m\u001b[43m_call_impl\u001b[49m\u001b[43m(\u001b[49m\u001b[43m*\u001b[49m\u001b[43margs\u001b[49m\u001b[43m,\u001b[49m\u001b[43m \u001b[49m\u001b[43m*\u001b[49m\u001b[43m*\u001b[49m\u001b[43mkwargs\u001b[49m\u001b[43m)\u001b[49m\n",
      "\u001b[36mFile \u001b[39m\u001b[32m/opt/anaconda3/envs/obl_taller_ia/lib/python3.12/site-packages/torch/nn/modules/module.py:1762\u001b[39m, in \u001b[36mModule._call_impl\u001b[39m\u001b[34m(self, *args, **kwargs)\u001b[39m\n\u001b[32m   1757\u001b[39m \u001b[38;5;66;03m# If we don't have any hooks, we want to skip the rest of the logic in\u001b[39;00m\n\u001b[32m   1758\u001b[39m \u001b[38;5;66;03m# this function, and just call forward.\u001b[39;00m\n\u001b[32m   1759\u001b[39m \u001b[38;5;28;01mif\u001b[39;00m \u001b[38;5;129;01mnot\u001b[39;00m (\u001b[38;5;28mself\u001b[39m._backward_hooks \u001b[38;5;129;01mor\u001b[39;00m \u001b[38;5;28mself\u001b[39m._backward_pre_hooks \u001b[38;5;129;01mor\u001b[39;00m \u001b[38;5;28mself\u001b[39m._forward_hooks \u001b[38;5;129;01mor\u001b[39;00m \u001b[38;5;28mself\u001b[39m._forward_pre_hooks\n\u001b[32m   1760\u001b[39m         \u001b[38;5;129;01mor\u001b[39;00m _global_backward_pre_hooks \u001b[38;5;129;01mor\u001b[39;00m _global_backward_hooks\n\u001b[32m   1761\u001b[39m         \u001b[38;5;129;01mor\u001b[39;00m _global_forward_hooks \u001b[38;5;129;01mor\u001b[39;00m _global_forward_pre_hooks):\n\u001b[32m-> \u001b[39m\u001b[32m1762\u001b[39m     \u001b[38;5;28;01mreturn\u001b[39;00m \u001b[43mforward_call\u001b[49m\u001b[43m(\u001b[49m\u001b[43m*\u001b[49m\u001b[43margs\u001b[49m\u001b[43m,\u001b[49m\u001b[43m \u001b[49m\u001b[43m*\u001b[49m\u001b[43m*\u001b[49m\u001b[43mkwargs\u001b[49m\u001b[43m)\u001b[49m\n\u001b[32m   1764\u001b[39m result = \u001b[38;5;28;01mNone\u001b[39;00m\n\u001b[32m   1765\u001b[39m called_always_called_hooks = \u001b[38;5;28mset\u001b[39m()\n",
      "\u001b[36mFile \u001b[39m\u001b[32m~/facultad/2025/taller_ia/obligatorio/dqn_cnn_model.py:106\u001b[39m, in \u001b[36mDQN_CNN_Model.forward\u001b[39m\u001b[34m(self, obs)\u001b[39m\n\u001b[32m    103\u001b[39m result = result.view(result.size(\u001b[32m0\u001b[39m), -\u001b[32m1\u001b[39m)\n\u001b[32m    105\u001b[39m \u001b[38;5;66;03m# 3 Aplicamos las capas lineales\u001b[39;00m\n\u001b[32m--> \u001b[39m\u001b[32m106\u001b[39m result = F.relu(\u001b[38;5;28;43mself\u001b[39;49m\u001b[43m.\u001b[49m\u001b[43mfc1\u001b[49m\u001b[43m(\u001b[49m\u001b[43mresult\u001b[49m\u001b[43m)\u001b[49m)\n\u001b[32m    107\u001b[39m result = \u001b[38;5;28mself\u001b[39m.output(result)\n\u001b[32m    109\u001b[39m \u001b[38;5;66;03m# 4 Devolvemos el tensor de Q-values\u001b[39;00m\n",
      "\u001b[36mFile \u001b[39m\u001b[32m/opt/anaconda3/envs/obl_taller_ia/lib/python3.12/site-packages/torch/nn/modules/module.py:1751\u001b[39m, in \u001b[36mModule._wrapped_call_impl\u001b[39m\u001b[34m(self, *args, **kwargs)\u001b[39m\n\u001b[32m   1749\u001b[39m     \u001b[38;5;28;01mreturn\u001b[39;00m \u001b[38;5;28mself\u001b[39m._compiled_call_impl(*args, **kwargs)  \u001b[38;5;66;03m# type: ignore[misc]\u001b[39;00m\n\u001b[32m   1750\u001b[39m \u001b[38;5;28;01melse\u001b[39;00m:\n\u001b[32m-> \u001b[39m\u001b[32m1751\u001b[39m     \u001b[38;5;28;01mreturn\u001b[39;00m \u001b[38;5;28;43mself\u001b[39;49m\u001b[43m.\u001b[49m\u001b[43m_call_impl\u001b[49m\u001b[43m(\u001b[49m\u001b[43m*\u001b[49m\u001b[43margs\u001b[49m\u001b[43m,\u001b[49m\u001b[43m \u001b[49m\u001b[43m*\u001b[49m\u001b[43m*\u001b[49m\u001b[43mkwargs\u001b[49m\u001b[43m)\u001b[49m\n",
      "\u001b[36mFile \u001b[39m\u001b[32m/opt/anaconda3/envs/obl_taller_ia/lib/python3.12/site-packages/torch/nn/modules/module.py:1762\u001b[39m, in \u001b[36mModule._call_impl\u001b[39m\u001b[34m(self, *args, **kwargs)\u001b[39m\n\u001b[32m   1757\u001b[39m \u001b[38;5;66;03m# If we don't have any hooks, we want to skip the rest of the logic in\u001b[39;00m\n\u001b[32m   1758\u001b[39m \u001b[38;5;66;03m# this function, and just call forward.\u001b[39;00m\n\u001b[32m   1759\u001b[39m \u001b[38;5;28;01mif\u001b[39;00m \u001b[38;5;129;01mnot\u001b[39;00m (\u001b[38;5;28mself\u001b[39m._backward_hooks \u001b[38;5;129;01mor\u001b[39;00m \u001b[38;5;28mself\u001b[39m._backward_pre_hooks \u001b[38;5;129;01mor\u001b[39;00m \u001b[38;5;28mself\u001b[39m._forward_hooks \u001b[38;5;129;01mor\u001b[39;00m \u001b[38;5;28mself\u001b[39m._forward_pre_hooks\n\u001b[32m   1760\u001b[39m         \u001b[38;5;129;01mor\u001b[39;00m _global_backward_pre_hooks \u001b[38;5;129;01mor\u001b[39;00m _global_backward_hooks\n\u001b[32m   1761\u001b[39m         \u001b[38;5;129;01mor\u001b[39;00m _global_forward_hooks \u001b[38;5;129;01mor\u001b[39;00m _global_forward_pre_hooks):\n\u001b[32m-> \u001b[39m\u001b[32m1762\u001b[39m     \u001b[38;5;28;01mreturn\u001b[39;00m \u001b[43mforward_call\u001b[49m\u001b[43m(\u001b[49m\u001b[43m*\u001b[49m\u001b[43margs\u001b[49m\u001b[43m,\u001b[49m\u001b[43m \u001b[49m\u001b[43m*\u001b[49m\u001b[43m*\u001b[49m\u001b[43mkwargs\u001b[49m\u001b[43m)\u001b[49m\n\u001b[32m   1764\u001b[39m result = \u001b[38;5;28;01mNone\u001b[39;00m\n\u001b[32m   1765\u001b[39m called_always_called_hooks = \u001b[38;5;28mset\u001b[39m()\n",
      "\u001b[36mFile \u001b[39m\u001b[32m/opt/anaconda3/envs/obl_taller_ia/lib/python3.12/site-packages/torch/nn/modules/linear.py:125\u001b[39m, in \u001b[36mLinear.forward\u001b[39m\u001b[34m(self, input)\u001b[39m\n\u001b[32m    124\u001b[39m \u001b[38;5;28;01mdef\u001b[39;00m\u001b[38;5;250m \u001b[39m\u001b[34mforward\u001b[39m(\u001b[38;5;28mself\u001b[39m, \u001b[38;5;28minput\u001b[39m: Tensor) -> Tensor:\n\u001b[32m--> \u001b[39m\u001b[32m125\u001b[39m     \u001b[38;5;28;01mreturn\u001b[39;00m \u001b[43mF\u001b[49m\u001b[43m.\u001b[49m\u001b[43mlinear\u001b[49m\u001b[43m(\u001b[49m\u001b[38;5;28;43minput\u001b[39;49m\u001b[43m,\u001b[49m\u001b[43m \u001b[49m\u001b[38;5;28;43mself\u001b[39;49m\u001b[43m.\u001b[49m\u001b[43mweight\u001b[49m\u001b[43m,\u001b[49m\u001b[43m \u001b[49m\u001b[38;5;28;43mself\u001b[39;49m\u001b[43m.\u001b[49m\u001b[43mbias\u001b[49m\u001b[43m)\u001b[49m\n",
      "\u001b[31mRuntimeError\u001b[39m: linear(): input and weight.T shapes cannot be multiplied (32x81 and 2592x256)"
     ]
    }
   ],
   "source": [
    "from dqn_agent import DQNAgent\n",
    "\n",
    "env = make_env(ENV_NAME,\n",
    "                video_folder='./videos/dqn_training',\n",
    "                name_prefix=\"breakout\",\n",
    "                record_every=500,\n",
    "                grayscale=GRAY_SCALE,\n",
    "                screen_size=SCREEN_SIZE,\n",
    "                stack_frames=NUM_STACKED_FRAMES,\n",
    "                skip_frames=SKIP_FRAMES\n",
    "                )\n",
    "\n",
    "net = DQN_CNN_Model(env.observation_space.shape, env.action_space.n).to(DEVICE)\n",
    "\n",
    "dqn_agent = DQNAgent(env, net, process_state, BUFFER_SIZE, BATCH_SIZE, LEARNING_RATE, GAMMA, epsilon_i=EPSILON_INI, epsilon_f=EPSILON_MIN, epsilon_anneal_steps=EPSILON_ANNEAL_STEPS, episode_block=EPISODE_BLOCK, device=DEVICE)\n",
    "\n",
    "dqn_rewards = dqn_agent.train(EPISODES, STEPS_PER_EPISODE, TOTAL_STEPS)\n",
    "\n",
    "env.close()"
   ]
  },
  {
   "cell_type": "code",
   "execution_count": null,
   "metadata": {},
   "outputs": [],
   "source": [
    "env = make_env(ENV_NAME,\n",
    "                video_folder='./videos/dqn_validation',\n",
    "                name_prefix=\"breakout\",\n",
    "                record_every=1,\n",
    "                grayscale=GRAY_SCALE,\n",
    "                screen_size=SCREEN_SIZE,\n",
    "                stack_frames=NUM_STACKED_FRAMES,\n",
    "                skip_frames=SKIP_FRAMES\n",
    "                )\n",
    "\n",
    "dqn_agent.play(env, episodes=3)\n",
    "\n",
    "env.close()"
   ]
  },
  {
   "cell_type": "code",
   "execution_count": null,
   "metadata": {},
   "outputs": [],
   "source": [
    "# Ruta al archivo de vídeo en tu sistema de ficheros\n",
    "video_path = \"./videos/dqn_validation/breakout-episode-0.mp4\"\n",
    "\n",
    "# Muestra el vídeo\n",
    "Video(video_path, embed=True, width=600)"
   ]
  },
  {
   "cell_type": "markdown",
   "metadata": {},
   "source": [
    "#### Graficas \n",
    "..."
   ]
  },
  {
   "cell_type": "markdown",
   "metadata": {
    "id": "QETh1K7pt9I_"
   },
   "source": [
    "# Double Deep Q Learning\n",
    "\n",
    "Double DQN mejora la versión clásica de DQN corrigiendo el sesgo de sobreestimación de los valores \n",
    "𝑄\n",
    "Q. Para ello, desacopla la selección de la acción de su evaluación: en cada paso, la red online elige la acción que maximiza \n",
    "𝑄\n",
    "Q, pero la red objetivo distinta estima el valor de esa acción. Esta separación reduce el sesgo hacia valores demasiado optimistas y aporta mayor estabilidad al entrenamiento. El resto de la estructura —replay buffer, política ε-greedy, etc— se mantiene igual que en DQN, aprovechando así un diseño casi idéntico al original pero con resultados más fiables .\n",
    "\n",
    "Fuente: [arXiv:1509.06461](https://arxiv.org/abs/1509.06461)\n",
    "\n",
    "> Vamos a utilizar el mismo modelo de red neuronal creado para el problema anterior y la misma implementación de memoria, dejamos un esqueleto de un agente de Double Deep Q learning para completar en el archivo **double_dqn_agent.py**"
   ]
  },
  {
   "cell_type": "code",
   "execution_count": null,
   "metadata": {
    "id": "kDNkAtdMt9I_",
    "pycharm": {
     "name": "#%%\n"
    }
   },
   "outputs": [],
   "source": [
    "from double_dqn_agent import DoubleDQNAgent\n",
    "\n",
    "env = make_env(ENV_NAME,\n",
    "                video_folder='./videos/ddqn_training',\n",
    "                name_prefix=\"breakout\",\n",
    "                record_every=500,\n",
    "                grayscale=GRAY_SCALE,\n",
    "                screen_size=SCREEN_SIZE,\n",
    "                stack_frames=NUM_STACKED_FRAMES,\n",
    "                skip_frames=SKIP_FRAMES\n",
    "                )\n",
    "\n",
    "\n",
    "modelo_a = DQN_CNN_Model(env.observation_space.shape, env.action_space.n).to(DEVICE)\n",
    "modelo_b = DQN_CNN_Model(env.observation_space.shape, env.action_space.n).to(DEVICE)\n",
    "\n",
    "ddqn_agent = DoubleDQNAgent(env, modelo_a, modelo_b, process_state, BUFFER_SIZE, BATCH_SIZE, LEARNING_RATE, GAMMA, epsilon_i= EPSILON_INI, epsilon_f=EPSILON_MIN, epsilon_anneal_steps=EPSILON_ANNEAL_STEPS, episode_block = EPISODE_BLOCK, device=DEVICE)\n",
    "\n",
    "ddqn_rewards = ddqn_agent.train(EPISODES, STEPS_PER_EPISODE, TOTAL_STEPS)"
   ]
  },
  {
   "cell_type": "code",
   "execution_count": null,
   "metadata": {},
   "outputs": [],
   "source": [
    "env = make_env(ENV_NAME,\n",
    "                video_folder='./videos/ddqn_validation',\n",
    "                name_prefix=\"breakout\",\n",
    "                record_every=1,\n",
    "                grayscale=GRAY_SCALE,\n",
    "                screen_size=SCREEN_SIZE,\n",
    "                stack_frames=NUM_STACKED_FRAMES,\n",
    "                skip_frames=SKIP_FRAMES\n",
    "                )\n",
    "\n",
    "ddqn_agent.play(env, episodes=3)\n",
    "\n",
    "env.close()"
   ]
  },
  {
   "cell_type": "code",
   "execution_count": null,
   "metadata": {},
   "outputs": [],
   "source": [
    "# Ruta al archivo de vídeo en tu sistema de ficheros\n",
    "video_path = \"./videos/ddqn_validation/breakout-episode-0.mp4\"\n",
    "\n",
    "# Muestra el vídeo\n",
    "Video(video_path, embed=True, width=600)"
   ]
  },
  {
   "cell_type": "markdown",
   "metadata": {},
   "source": [
    "#### Graficas \n",
    "..."
   ]
  },
  {
   "cell_type": "markdown",
   "metadata": {},
   "source": [
    "# Experimentación\n",
    "Aquí con libertad total, pueden probar diferentes arquitecturas de red, diferentes hiperparámetros, diferentes técnicas de exploración, etc.\n",
    "..."
   ]
  },
  {
   "cell_type": "markdown",
   "metadata": {
    "id": "YNNvsKiEt9I_"
   },
   "source": [
    "# Comparaciones, Resultados, Comentarios...\n",
    "De aquí en adelante son libres de presentar como gusten los resultados comparativos de las técnicas.\n",
    "..."
   ]
  }
 ],
 "metadata": {
  "accelerator": "GPU",
  "colab": {
   "provenance": []
  },
  "kernelspec": {
   "display_name": "obl_taller_ia",
   "language": "python",
   "name": "python3"
  },
  "language_info": {
   "codemirror_mode": {
    "name": "ipython",
    "version": 3
   },
   "file_extension": ".py",
   "mimetype": "text/x-python",
   "name": "python",
   "nbconvert_exporter": "python",
   "pygments_lexer": "ipython3",
   "version": "3.12.10"
  }
 },
 "nbformat": 4,
 "nbformat_minor": 1
}
