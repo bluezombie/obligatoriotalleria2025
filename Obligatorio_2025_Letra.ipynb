{
 "cells": [
  {
   "cell_type": "markdown",
   "metadata": {},
   "source": [
    "# Obligatorio - Taller Agentes Inteligentes 2025\n",
    "\n",
    "En este trabajo obligatorio aplicaremos los conceptos vistos en el curso para diseñar, implementar y evaluar agentes capaces de aprender a jugar al clásico **Breakout** de Atari, utilizando el entorno provisto por Farama Gymnasium ([https://ale.farama.org/environments/breakout/](https://ale.farama.org/environments/breakout/)). \n",
    "\n",
    "<p align=\"center\">\n",
    "  <img src=\"https://media.tenor.com/oMxHgRrISJsAAAAM/atari-deep-learning.gif\" alt=\"Atari Deep Learning\"/>\n",
    "</p>\n",
    "\n",
    "\n",
    "El ejercicio se enmarca en un contexto de aprendizaje práctico, donde trabajaremos con las interfaces estándar de Gymnasium para:\n",
    "\n",
    "1. **Profundizar en algoritmos de valor**: implementaremos y compararemos dos variantes de Q-Learning basadas en redes neuronales profundas:\n",
    "   * **Deep Q Learning (DQN)**\n",
    "   * **Double Deep Q Learning (DDQN)**\n",
    "2. **Evaluar rendimiento y estabilidad**: registraremos las recompensas obtenidas durante el entrenamiento de cada agente y analizaremos su comportamiento mediante gráficas comparativas.\n",
    "3. **Demostrar resultados de forma visual**: capturaremos vídeos que muestren a cada agente “resolviendo” el entorno, entendido como la habilidad de romper al menos cinco bloques en una partida.\n",
    "\n",
    "Debido a las limitaciones de tiempo y cómputo propias de un entorno de curso, no se espera entrenar modelos durante más de diez horas por agente. Por ello, será fundamental:\n",
    "\n",
    "* Integrar puntos de **checkpoint** para guardar periódicamente los pesos de la red.\n",
    "* Seguir en los puntos 2 y 3 la arquitectura y técnicas originales propuestas en los papers seminales de DQN y DDQN, dejando la experimentación adicional para el punto extra.\n",
    "* Flexibilizar la notebook de guía: pueden reorganizarla o dividirla en múltiples archivos según su conveniencia.\n"
   ]
  },
  {
   "cell_type": "markdown",
   "metadata": {},
   "source": [
    "## Objetivos y tareas\n",
    "\n",
    "1. **Completar la implementación**\n",
    "   * Rellenar el código faltante en la notebook y en los módulos auxiliares para que los agentes puedan interactuar con el entorno de Breakout.\n",
    "2. **Entrenar agentes**\n",
    "   * Ajustar y entrenar un **DQN** que alcance la condición de “resolver” (romper ≥ 10 bloques).\n",
    "   * Ajustar y entrenar un **DDQN** con la misma meta de desempeño.\n",
    "3. **Visualizar y analizar resultados**\n",
    "   * Generar **gráficas comparativas** de las recompensas obtenidas por ambos agentes en el mismo entorno (una gráfica por ambiente). Además se sugiere gráficas que muestren el valor de la función de valor Q para cada agente.\n",
    "   * Extraer **al menos dos conclusiones** por gráfica, comentando diferencias en convergencia, estabilidad y comportamiento exploratorio.\n",
    "4. **Registro de demostraciones**\n",
    "   * Grabar y entregar un **video demostrativo** de cada agente resolviendo el entorno.\n",
    "5. **Experimentación**\n",
    "   * Probar otras arquitecturas, técnicas de mejora o módulos de procesamiento de entradas más avanzados, documentando brevemente su impacto/"
   ]
  },
  {
   "cell_type": "markdown",
   "metadata": {},
   "source": [
    "## Criterios de evaluación\n",
    "\n",
    "| Criterio                                  | Descripción                                                  | Peso |\n",
    "| ----------------------------------------- | ------------------------------------------------------------ | ---- |\n",
    "| **Implementación y rendimiento**          | DQN y DDQN completados; cada agente rompe ≥ 10 bloques       | 40%  |\n",
    "| **Estructura y narrativa de la notebook** | Secciones claras, explicación de decisiones, “historia”      | 20%  |\n",
    "| **Análisis de resultados**                | Gráficas comparativas; ≥ 2 conclusiones por gráfico          | 20%  |\n",
    "| **Presentación visual**                   | Vídeos demostrativos de cada agente                          | 10%  |\n",
    "| **Experimentación**                       | Experimentación adicional documentada y analizada brevemente | 10%  |"
   ]
  },
  {
   "cell_type": "markdown",
   "metadata": {},
   "source": [
    "## Bibliografía\n",
    "\n",
    "* **Mnih, V.**, Kavukcuoglu, K., Silver, D., Rusu, A. A., Veness, J., Bellemare, M. G., … Hassabis, D. (2013). *Playing Atari with Deep Reinforcement Learning*. [arXiv:1312.5602](https://arxiv.org/abs/1312.5602)\n",
    "* **van Hasselt, H.**, Guez, A., & Silver, D. (2015). *Deep Reinforcement Learning with Double Q-learning*. [arXiv:1509.06461](https://arxiv.org/abs/1509.06461)\n",
    "* **Sutton, R. S.**, & Barto, A. G. (2018). *Reinforcement Learning: An Introduction* (2nd ed.), capítulo 16.5: “Human-level Video Game Play”. MIT Press."
   ]
  },
  {
   "cell_type": "markdown",
   "metadata": {},
   "source": [
    "## Setup"
   ]
  },
  {
   "cell_type": "markdown",
   "metadata": {
    "id": "gc6t9etEt9I2",
    "pycharm": {
     "name": "#%%\n"
    }
   },
   "source": [
    "**Imports**"
   ]
  },
  {
   "cell_type": "code",
   "execution_count": 1,
   "metadata": {
    "id": "cwHCw6PMt9I3",
    "pycharm": {
     "name": "#%%\n"
    }
   },
   "outputs": [],
   "source": [
    "import os\n",
    "import torch\n",
    "import numpy as np\n",
    "import random\n",
    "import numpy as np\n",
    "import torch.nn as nn\n",
    "import torch.nn.functional as F\n",
    "from torchinfo import summary\n",
    "import gymnasium\n",
    "import ale_py\n",
    "from utils import make_env, show_observation_stack\n",
    "from IPython.display import Video"
   ]
  },
  {
   "cell_type": "markdown",
   "metadata": {},
   "source": [
    "ALE (Atari Learning Environment) es un entorno de aprendizaje para videojuegos de Atari. En este caso, utilizaremos el entorno de Breakout. Es necesario entender que se separa el entorno de los roms de Atari, que son los juegos en sí. El entorno de ALE permite interactuar con los juegos de Atari a través de una API estándar, facilitando la implementación de algoritmos de aprendizaje por refuerzo.\n",
    "\n",
    "Debemos instalar los roms por separado, para ello primero tenemos que saber donde están los roms de Atari. "
   ]
  },
  {
   "cell_type": "code",
   "execution_count": 2,
   "metadata": {},
   "outputs": [
    {
     "name": "stdout",
     "output_type": "stream",
     "text": [
      "/opt/anaconda3/envs/obl_taller_ia/lib/python3.12/site-packages/ale_py/roms\n"
     ]
    }
   ],
   "source": [
    "gymnasium.register_envs(ale_py) # registramos todos los entornos de ale_py\n",
    "ruta_init = ale_py.roms.__file__ # debemos saber donde se encuentra la carpeta roms\n",
    "ALE_ROMS_PATH = os.path.dirname(ruta_init)\n",
    "print(ALE_ROMS_PATH)"
   ]
  },
  {
   "cell_type": "code",
   "execution_count": 3,
   "metadata": {},
   "outputs": [
    {
     "name": "stdout",
     "output_type": "stream",
     "text": [
      "ROMs path: /opt/anaconda3/envs/obl_taller_ia/lib/python3.12/site-packages/ale_py/roms\n"
     ]
    }
   ],
   "source": [
    "print(f\"ROMs path: {ALE_ROMS_PATH}\")"
   ]
  },
  {
   "cell_type": "markdown",
   "metadata": {},
   "source": [
    "Podemos usar los siguientes comando para instalar los roms y colocalos en la carpeta correcta."
   ]
  },
  {
   "cell_type": "code",
   "execution_count": 4,
   "metadata": {},
   "outputs": [
    {
     "name": "stdout",
     "output_type": "stream",
     "text": [
      "Requirement already satisfied: autorom[accept-rom-license] in /opt/anaconda3/envs/obl_taller_ia/lib/python3.12/site-packages (0.6.1)\n",
      "Requirement already satisfied: click in /opt/anaconda3/envs/obl_taller_ia/lib/python3.12/site-packages (from autorom[accept-rom-license]) (8.2.0)\n",
      "Requirement already satisfied: requests in /opt/anaconda3/envs/obl_taller_ia/lib/python3.12/site-packages (from autorom[accept-rom-license]) (2.32.3)\n",
      "Requirement already satisfied: AutoROM.accept-rom-license in /opt/anaconda3/envs/obl_taller_ia/lib/python3.12/site-packages (from autorom[accept-rom-license]) (0.6.1)\n",
      "Requirement already satisfied: charset_normalizer<4,>=2 in /opt/anaconda3/envs/obl_taller_ia/lib/python3.12/site-packages (from requests->autorom[accept-rom-license]) (3.4.2)\n",
      "Requirement already satisfied: idna<4,>=2.5 in /opt/anaconda3/envs/obl_taller_ia/lib/python3.12/site-packages (from requests->autorom[accept-rom-license]) (3.10)\n",
      "Requirement already satisfied: urllib3<3,>=1.21.1 in /opt/anaconda3/envs/obl_taller_ia/lib/python3.12/site-packages (from requests->autorom[accept-rom-license]) (2.4.0)\n",
      "Requirement already satisfied: certifi>=2017.4.17 in /opt/anaconda3/envs/obl_taller_ia/lib/python3.12/site-packages (from requests->autorom[accept-rom-license]) (2025.4.26)\n",
      "AutoROM will download the Atari 2600 ROMs.\n",
      "They will be installed to:\n",
      "\t/opt/anaconda3/envs/obl_taller_ia/lib/python3.12/site-packages/ale_py/roms\n",
      "\n",
      "Existing ROMs will be overwritten.\n",
      "\n",
      "I own a license to these Atari 2600 ROMs.\n",
      "I agree to not distribute these ROMs and wish to proceed: [Y/n]: ^C\n"
     ]
    }
   ],
   "source": [
    "!pip install \"autorom[accept-rom-license]\"\n",
    "!AutoROM --accept-license --install-dir {ALE_ROMS_PATH}"
   ]
  },
  {
   "cell_type": "markdown",
   "metadata": {},
   "source": [
    "Fijamos la semilla para que los resultados sean reproducibles"
   ]
  },
  {
   "cell_type": "code",
   "execution_count": 4,
   "metadata": {},
   "outputs": [],
   "source": [
    "SEED = 23\n",
    "\n",
    "torch.manual_seed(SEED)\n",
    "torch.backends.cudnn.deterministic=True # https://discuss.pytorch.org/t/what-is-the-differenc-between-cudnn-deterministic-and-cudnn-benchmark/38054\n",
    "torch.backends.cudnn.benchmark=True # https://discuss.pytorch.org/t/what-does-torch-backends-cudnn-benchmark-do/5936/4\n",
    "np.random.seed(SEED)\n",
    "random.seed(SEED)"
   ]
  },
  {
   "cell_type": "markdown",
   "metadata": {},
   "source": [
    "Vemos que dispositivo tenemos, si es GPU, MPS o CPU. **El uso de GPU es altamente recomendable** para acelerar el entrenamiento de los modelos. "
   ]
  },
  {
   "cell_type": "code",
   "execution_count": 5,
   "metadata": {},
   "outputs": [
    {
     "name": "stdout",
     "output_type": "stream",
     "text": [
      "Device: mps\n"
     ]
    }
   ],
   "source": [
    "# Algunas constantes\n",
    "\n",
    "# definimos el dispositivo que vamos a usar\n",
    "DEVICE = \"cpu\"  # por defecto, usamos la CPU\n",
    "if torch.cuda.is_available():\n",
    "    DEVICE = \"cuda\"  # si hay GPU, usamos la GPU\n",
    "elif torch.backends.mps.is_available():\n",
    "    DEVICE = \"mps\"  # si no hay GPU, pero hay MPS, usamos MPS\n",
    "\n",
    "print(f\"Device: {DEVICE}\")"
   ]
  },
  {
   "cell_type": "markdown",
   "metadata": {},
   "source": [
    "## Preprocesando Atari\n",
    "\n",
    "Para reproducir fielmente el enfoque de Mnih et al. (2013) y reducir la carga computacional al trabajar con imágenes de Atari (210 × 160 píxeles, 128 colores), aplicamos el siguiente preprocesado φ a las últimas **4** frames del entorno:\n",
    "\n",
    "1. **Conversión a escala de grises**\n",
    "   Eliminamos la información de color (GRAYSCALE = True), pues la luminosidad es suficiente para capturar la dinámica de juego y reduce drásticamente la dimensionalidad de la entrada.\n",
    "\n",
    "2. **Down-sampling y recorte**\n",
    "   * Redimensionamos la imagen original a 110 × 84 píxeles, manteniendo la proporción horizontal.\n",
    "   * Recortamos un área central de 84 × 84 píxeles que contiene la “zona de juego”, descartando bordes innecesarios.\n",
    "     Este paso (SCREEN_SIZE = 84) no solo concentra la atención del modelo en la región relevante, sino que también garantiza un tamaño cuadrado compatible con las implementaciones de convoluciones en GPU.\n",
    "\n",
    "3. **Saltos temporales (frame skipping)**\n",
    "   Procesamos cada 4 frames (SKIP_FRAMES = 4), repitiendo la misma acción durante esos pasos. Esto reduce la redundancia temporal, acelera el entrenamiento y mantiene la coherencia del movimiento de la paleta y la bola.\n",
    "\n",
    "4. **Apilamiento de frames**\n",
    "   Finalmente, acumulamos las últimas 4 imágenes preprocesadas (NUM_STACKED_FRAMES = 4) en un único tensor de entrada. Así el agente puede inferir la velocidad y dirección de los elementos móviles a partir de la diferencia entre frames.\n",
    "\n",
    "Este esquema de preprocesado es fundamental para disminuir el espacio de entrada, acelerar las convoluciones y proporcionar al Q-net una representación compacta y rica en información dinámica, tal como se describe en el algoritmo 1 del paper original .\n",
    "\n",
    "> Se recomienda ver el método `make_env` en el archivo `utils.py` para entender cómo se implementa este preprocesado. "
   ]
  },
  {
   "cell_type": "code",
   "execution_count": 6,
   "metadata": {},
   "outputs": [],
   "source": [
    "GRAY_SCALE = True # si True, convertimos la imagen a escala de grises\n",
    "SCREEN_SIZE = 84 # redimensionamos a SCREEN_SIZExSCREEN_SIZE\n",
    "NUM_STACKED_FRAMES = 4 # apilamos NUM_STACKED_FRAMES frames\n",
    "SKIP_FRAMES = 4 # saltamos SKIP_FRAMES frames (haciendo la misma acción)"
   ]
  },
  {
   "cell_type": "code",
   "execution_count": 7,
   "metadata": {
    "colab": {
     "base_uri": "https://localhost:8080/"
    },
    "id": "loVxQPrwt9I5",
    "outputId": "18b7ed97-88dd-4b1e-a2cc-b2636686bfc7"
   },
   "outputs": [
    {
     "name": "stderr",
     "output_type": "stream",
     "text": [
      "A.L.E: Arcade Learning Environment (version 0.10.2+unknown)\n",
      "[Powered by Stella]\n",
      "Game console created:\n",
      "  ROM file:  /opt/anaconda3/envs/obl_taller_ia/lib/python3.12/site-packages/ale_py/roms/breakout.bin\n",
      "  Cart Name: Breakout - Breakaway IV (1978) (Atari)\n",
      "  Cart MD5:  f34f08e5eb96e500e851a80be3277a56\n",
      "  Display Format:  AUTO-DETECT ==> NTSC\n",
      "  ROM Size:        2048\n",
      "  Bankswitch Type: AUTO-DETECT ==> 2K\n",
      "\n",
      "Running ROM file...\n",
      "Random seed is 1716983399\n",
      "/opt/anaconda3/envs/obl_taller_ia/lib/python3.12/site-packages/gymnasium/wrappers/rendering.py:283: UserWarning: \u001b[33mWARN: Overwriting existing videos at /Users/gotero/facultad/2025/taller_ia/obligatorio/videos/random folder (try specifying a different `video_folder` for the `RecordVideo` wrapper if this is not desired)\u001b[0m\n",
      "  logger.warn(\n"
     ]
    },
    {
     "data": {
      "image/png": "[encoded data removed]",
      "text/plain": [
       "<Figure size 640x480 with 1 Axes>"
      ]
     },
     "metadata": {},
     "output_type": "display_data"
    },
    {
     "data": {
      "image/png": "[encoded data removed]",
      "text/plain": [
       "<Figure size 640x480 with 1 Axes>"
      ]
     },
     "metadata": {},
     "output_type": "display_data"
    },
    {
     "data": {
      "image/png": "[encoded data removed]",
      "text/plain": [
       "<Figure size 640x480 with 1 Axes>"
      ]
     },
     "metadata": {},
     "output_type": "display_data"
    },
    {
     "data": {
      "image/png": "[encoded data removed]",
      "text/plain": [
       "<Figure size 640x480 with 1 Axes>"
      ]
     },
     "metadata": {},
     "output_type": "display_data"
    },
    {
     "name": "stdout",
     "output_type": "stream",
     "text": [
      "Episode 1 finished with total reward: 2\n"
     ]
    }
   ],
   "source": [
    "# https://ale.farama.org/environments/breakout/\n",
    "ENV_NAME = \"ALE/Breakout-v5\" \n",
    "\n",
    "env = make_env(ENV_NAME,\n",
    "                video_folder='./videos/random',\n",
    "                name_prefix=\"breakout\",\n",
    "                record_every=1,\n",
    "                grayscale=GRAY_SCALE,\n",
    "                screen_size=SCREEN_SIZE,\n",
    "                stack_frames=NUM_STACKED_FRAMES,\n",
    "                skip_frames=SKIP_FRAMES\n",
    "                )\n",
    "\n",
    "for episode_num in range(1):\n",
    "    obs, info = env.reset()\n",
    "    show_observation_stack(obs)\n",
    "    reward_total = 0\n",
    "    episode_over = False\n",
    "    while not episode_over:\n",
    "        action = env.action_space.sample()  # seleccionamos una acción aleatoria\n",
    "        obs, reward, terminated, truncated, info = env.step(action)\n",
    "        reward_total += reward\n",
    "        episode_over = terminated or truncated\n",
    "    print(f\"Episode {episode_num + 1} finished with total reward: {reward_total}\")\n",
    "\n",
    "env.close()"
   ]
  },
  {
   "cell_type": "markdown",
   "metadata": {},
   "source": [
    "Además, podemos mostrar los videos capturados por el entorno de Atari de la siguiente manera:"
   ]
  },
  {
   "cell_type": "code",
   "execution_count": 8,
   "metadata": {},
   "outputs": [
    {
     "data": {
      "text/html": [
       "<video controls  width=\"600\" >\n",
       " <source src=\"data:video/mp4;base64,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\" type=\"video/mp4\">\n",
       " Your browser does not support the video tag.\n",
       " </video>"
      ],
      "text/plain": [
       "<IPython.core.display.Video object>"
      ]
     },
     "execution_count": 8,
     "metadata": {},
     "output_type": "execute_result"
    }
   ],
   "source": [
    "# Ruta al archivo de vídeo en tu sistema de ficheros\n",
    "video_path = \"./videos/random/breakout-episode-0.mp4\"\n",
    "\n",
    "# Muestra el vídeo\n",
    "Video(video_path, embed=True, width=600)"
   ]
  },
  {
   "cell_type": "markdown",
   "metadata": {
    "id": "2bYVG_TKt9I5"
   },
   "source": [
    "# Exploración del entorno"
   ]
  },
  {
   "cell_type": "code",
   "execution_count": 9,
   "metadata": {},
   "outputs": [
    {
     "name": "stdout",
     "output_type": "stream",
     "text": [
      "Actions shape: Discrete(4)\n",
      "Observation shape: (4, 84, 84)\n",
      "(4, 84, 84),\n",
      " 0,\n",
      " False,\n",
      " {'lives': 5, 'episode_frame_number': 11, 'frame_number': 910}\n"
     ]
    }
   ],
   "source": [
    "print(\"Actions shape:\",env.action_space)\n",
    "print(\"Observation shape:\",env.observation_space.shape)\n",
    "env.reset()\n",
    "next_state, reward, terminated, truncated, info = env.step(action=0)\n",
    "\n",
    "print(f\"{next_state.shape},\\n {reward},\\n {terminated},\\n {info}\")"
   ]
  },
  {
   "cell_type": "markdown",
   "metadata": {},
   "source": [
    "### Acciones\n",
    "..."
   ]
  },
  {
   "cell_type": "markdown",
   "metadata": {},
   "source": [
    "### Observaciones\n",
    "..."
   ]
  },
  {
   "cell_type": "markdown",
   "metadata": {
    "id": "XIHpwiaat9I7"
   },
   "source": [
    "# Deep Q Learning\n",
    "\n",
    "Deep Q Learning extiende el algoritmo clásico de Q-learning al emplear una **red neuronal profunda** como aproximador de la función de valor $Q(s,a)$. Inspirado en Mnih et al. (2013), este método utiliza una **red convolucional** para procesar directamente las imágenes del entorno Atari, un **replay buffer** para romper la correlación temporal de las muestras. La política sigue un esquema **ε-greedy**, balanceando exploración y explotación, y se entrena minimizando el error de la ecuación de Bellman sobre lotes de transiciones muestreadas de manera aleatoria.\n",
    "\n",
    "<p align=\"center\">\n",
    "  <img src=\"https://www.researchgate.net/profile/Faris-Mismar/publication/327045314/figure/fig4/AS:819677282455553@1572437701142/Structure-of-the-neural-network-used-for-the-Deep-Q-learning-Network-implementation-with.png\" alt=\"DQN\"/>\n",
    "</p>\n",
    "\n",
    "Fuente: [arXiv:1312.5602](https://arxiv.org/abs/1312.5602)"
   ]
  },
  {
   "cell_type": "markdown",
   "metadata": {
    "id": "ajTGajUftSgY",
    "pycharm": {
     "name": "#%% md\n"
    }
   },
   "source": [
    "## Memoria\n",
    "\n",
    "El algoritmo de Deep Q Learning presentado en el paper utiliza una memoria (llamada Replay Memory) para almacenar transiciones pasadas. Tuplas que contienen un estado base, la accion tomada, la recompensa obtenida, una bandera que indica si el siguiente estado es final o no; y el estado siguiente.\n",
    "\n",
    "Esta memoria es circular, es decir, tiene un límite maximo de elementos y una vez esté llena comienza a reemplazar los elementos más viejos.\n",
    "\n",
    "Vamos a necesitar crear una función **sample** que obtiene una mustra aleatoria de elementos de la memoria.  Esto puede ser una lista de Transiciones o listas separadas (pero alineadas) de los elementos que las componen.\n",
    "\n",
    "\n",
    "> Para implementar esta funcionalidad se debe modificar el archivo **replay_memory.py**"
   ]
  },
  {
   "cell_type": "code",
   "execution_count": 10,
   "metadata": {
    "id": "scPtpbz4tTAh",
    "outputId": "0890f48a-e673-4416-bd69-7dcf2730ba64",
    "pycharm": {
     "name": "#%%\n"
    }
   },
   "outputs": [
    {
     "name": "stdout",
     "output_type": "stream",
     "text": [
      "Memory size: 3\n",
      "\n",
      "Memory sample:\n",
      "Sample 0: Transition(state='state2', action='action2', reward='reward2', done='done2', next_state='next_state2')\n",
      "Sample 1: Transition(state='state4', action='action4', reward='reward4', done='done4', next_state='next_state4')\n"
     ]
    }
   ],
   "source": [
    "from replay_memory import ReplayMemory, Transition\n",
    "\n",
    "# Creamos la memoria de repetición\n",
    "replay_memory = ReplayMemory(3)\n",
    "\n",
    "# Añadimos transiciones a la memoria (solo las 3 últimas se guardan)\n",
    "replay_memory.add('state1', 'action1', 'reward1', 'done1', 'next_state1' )\n",
    "replay_memory.add('state2', 'action2', 'reward2', 'done2', 'next_state2')\n",
    "replay_memory.add('state3', 'action3', 'reward3', 'done3', 'next_state3')\n",
    "replay_memory.add('state4', 'action4', 'reward4', 'done4', 'next_state4')\n",
    "\n",
    "# Mostramos el tamaño de la memoria\n",
    "print(f\"Memory size: {len(replay_memory)}\\n\")\n",
    "\n",
    "# Mostramos un sample de la memoria\n",
    "sampled = replay_memory.sample(2)\n",
    "print(f\"Memory sample:\")\n",
    "for i, sample in enumerate(sampled):\n",
    "    print(f\"Sample {i}: {sample}\")\n"
   ]
  },
  {
   "cell_type": "markdown",
   "metadata": {
    "id": "j7Ygv5Mjtb-F",
    "pycharm": {
     "name": "#%% md\n"
    }
   },
   "source": [
    "## Modelo\n",
    "\n",
    "Vamos a usar un mismo modelo FeedForward para estos dos problemas (entrenado en cada problema particular). Recomendamos simplicidad en la creación del mismo, pero tienen total libertad al momento de implementarlo.\n",
    "\n",
    "> Para implementar esta funcionalidad se debe modificar el archivo **dqn_cnn_model.py**. Se recomienda empezar por una arquitectura simple como la que se muestra en el paper de Mnih et al. (2013) y luego experimentar con arquitecturas más complejas."
   ]
  },
  {
   "cell_type": "code",
   "execution_count": 11,
   "metadata": {
    "id": "bkNBvJB6ryp7",
    "pycharm": {
     "name": "#%%\n"
    }
   },
   "outputs": [
    {
     "name": "stderr",
     "output_type": "stream",
     "text": [
      "A.L.E: Arcade Learning Environment (version 0.10.2+unknown)\n",
      "[Powered by Stella]\n",
      "Game console created:\n",
      "  ROM file:  /opt/anaconda3/envs/obl_taller_ia/lib/python3.12/site-packages/ale_py/roms/breakout.bin\n",
      "  Cart Name: Breakout - Breakaway IV (1978) (Atari)\n",
      "  Cart MD5:  f34f08e5eb96e500e851a80be3277a56\n",
      "  Display Format:  AUTO-DETECT ==> NTSC\n",
      "  ROM Size:        2048\n",
      "  Bankswitch Type: AUTO-DETECT ==> 2K\n",
      "\n",
      "Running ROM file...\n",
      "Random seed is -697050483\n",
      "/opt/anaconda3/envs/obl_taller_ia/lib/python3.12/site-packages/gymnasium/wrappers/rendering.py:416: UserWarning: \u001b[33mWARN: Unable to save last video! Did you call close()?\u001b[0m\n",
      "  logger.warn(\"Unable to save last video! Did you call close()?\")\n"
     ]
    },
    {
     "name": "stdout",
     "output_type": "stream",
     "text": [
      "Actions shape: Discrete(4)\n",
      "Observatiion shape: (4, 84, 84)\n"
     ]
    },
    {
     "data": {
      "text/plain": [
       "==========================================================================================\n",
       "Layer (type:depth-idx)                   Output Shape              Param #\n",
       "==========================================================================================\n",
       "DQN_CNN_Model                            [32, 4]                   --\n",
       "├─Conv2d: 1-1                            [32, 16, 20, 20]          4,112\n",
       "├─Conv2d: 1-2                            [32, 32, 9, 9]            8,224\n",
       "├─Linear: 1-3                            [32, 256]                 663,808\n",
       "├─Linear: 1-4                            [32, 4]                   1,028\n",
       "==========================================================================================\n",
       "Total params: 677,172\n",
       "Trainable params: 677,172\n",
       "Non-trainable params: 0\n",
       "Total mult-adds (Units.MEGABYTES): 95.22\n",
       "==========================================================================================\n",
       "Input size (MB): 3.61\n",
       "Forward/backward pass size (MB): 2.37\n",
       "Params size (MB): 2.71\n",
       "Estimated Total Size (MB): 8.69\n",
       "=========================================================================================="
      ]
     },
     "execution_count": 11,
     "metadata": {},
     "output_type": "execute_result"
    }
   ],
   "source": [
    "from dqn_cnn_model import DQN_CNN_Model\n",
    "\n",
    "env = make_env(ENV_NAME,\n",
    "                record_every=None,\n",
    "                grayscale=GRAY_SCALE,\n",
    "                screen_size=SCREEN_SIZE,\n",
    "                stack_frames=NUM_STACKED_FRAMES,\n",
    "                skip_frames=SKIP_FRAMES\n",
    "                )\n",
    "print(\"Actions shape:\",env.action_space)\n",
    "print(\"Observatiion shape:\",env.observation_space.shape)\n",
    "\n",
    "env.close()\n",
    "\n",
    "cnn_model = DQN_CNN_Model(env.observation_space.shape, env.action_space.n).to(DEVICE)\n",
    "summary(cnn_model, input_size=(32, SKIP_FRAMES, SCREEN_SIZE, SCREEN_SIZE), device=DEVICE) # 32 es el batch size"
   ]
  },
  {
   "cell_type": "markdown",
   "metadata": {},
   "source": [
    "La red esta definida para que reciba un tensor de 4 dimensiones (batch_size, num_frames, height, width) y devuelve un tensor de 2 dimensiones (batch_size, num_actions). La función `forward` es la encargada de definir el flujo de datos a través de la red. En este caso, se utiliza una red convolucional seguida de capas totalmente conectadas"
   ]
  },
  {
   "cell_type": "code",
   "execution_count": 12,
   "metadata": {},
   "outputs": [],
   "source": [
    "obs_tensor_batch = torch.rand((NUM_STACKED_FRAMES,SCREEN_SIZE,SCREEN_SIZE)).unsqueeze(0).to(DEVICE) # Añadimos una dimensión para el batch y lo pasamos al dispositivo\n",
    " "
   ]
  },
  {
   "cell_type": "markdown",
   "metadata": {},
   "source": [
    "Los valores de Q se obtienen a partir de la salida de la red, cada columna representa el valor Q para cada acción posible en el estado actual. "
   ]
  },
  {
   "cell_type": "code",
   "execution_count": 13,
   "metadata": {},
   "outputs": [
    {
     "name": "stdout",
     "output_type": "stream",
     "text": [
      "Q-values shape: torch.Size([1, 4])\n"
     ]
    }
   ],
   "source": [
    "print(f\"Q-values shape: {cnn_model(obs_tensor_batch).shape}\") # shape: (1, num_actions)"
   ]
  },
  {
   "cell_type": "code",
   "execution_count": 14,
   "metadata": {},
   "outputs": [
    {
     "data": {
      "text/plain": [
       "tensor([[-0.0188,  0.0008,  0.0328,  0.0380]], device='mps:0',\n",
       "       grad_fn=<LinearBackward0>)"
      ]
     },
     "execution_count": 14,
     "metadata": {},
     "output_type": "execute_result"
    }
   ],
   "source": [
    "cnn_model(obs_tensor_batch) "
   ]
  },
  {
   "cell_type": "markdown",
   "metadata": {},
   "source": [
    "Podemos preguntar cuál es la acción con mayor valor Q en un estado."
   ]
  },
  {
   "cell_type": "code",
   "execution_count": 15,
   "metadata": {},
   "outputs": [
    {
     "data": {
      "text/plain": [
       "torch.return_types.max(\n",
       "values=tensor([0.0380], device='mps:0', grad_fn=<MaxBackward0>),\n",
       "indices=tensor([3], device='mps:0'))"
      ]
     },
     "execution_count": 15,
     "metadata": {},
     "output_type": "execute_result"
    }
   ],
   "source": [
    "cnn_model(obs_tensor_batch).max(1)"
   ]
  },
  {
   "cell_type": "markdown",
   "metadata": {},
   "source": [
    "En el siguiente ejemplo vamos a ver cómo tomar los valores de acciones deseables para un conjunto de estados. "
   ]
  },
  {
   "cell_type": "code",
   "execution_count": 16,
   "metadata": {},
   "outputs": [
    {
     "name": "stdout",
     "output_type": "stream",
     "text": [
      "Batch shape: torch.Size([3, 4, 84, 84])\n",
      "Q-values: tensor([[-0.0399,  0.0014,  0.0332,  0.0316],\n",
      "        [-0.0319,  0.0112,  0.0292,  0.0156],\n",
      "        [-0.0356,  0.0033,  0.0296,  0.0224]], device='mps:0',\n",
      "       grad_fn=<LinearBackward0>)\n",
      "Q-values: tensor([[0.0014],\n",
      "        [0.0292],\n",
      "        [0.0224]], device='mps:0', grad_fn=<GatherBackward0>)\n"
     ]
    }
   ],
   "source": [
    "# Creamos 3 observaciones aleatorias para probar el modelo\n",
    "obs_ran1 = torch.rand(4, 84, 84)\n",
    "obs_ran2 = torch.rand(4, 84, 84)\n",
    "obs_ran3 = torch.rand(4, 84, 84)\n",
    "\n",
    "batch = torch.stack([obs_ran1, obs_ran2, obs_ran3], dim=0).to(DEVICE) # shape: (3, 4, 84, 84)\n",
    "print(f\"Batch shape: {batch.shape}\")\n",
    "\n",
    "actions =  torch.tensor([1, 2, 3], device=DEVICE).unsqueeze(1) # queremos la acción 1 para la primera observación, la acción 2 para la segunda y la acción 3 para la tercera\n",
    "\n",
    "Q_test = cnn_model(batch)\n",
    "print(f\"Q-values: {Q_test}\")\n",
    "print(f\"Q-values: {Q_test.gather(1, actions)}\") # https://pytorch.org/docs/main/generated/torch.gather.html"
   ]
  },
  {
   "cell_type": "markdown",
   "metadata": {},
   "source": [
    "## Phi \n",
    "\n",
    "La función para procesar los estados (phi en el paper) que es necesaria para poder usar el modelo de Pytorch con las representaciones de gym. Esta función pasa una observación de gym a un tensor de Pytorch y la normaliza.\n",
    "\n",
    "> Técnicamente la función phi tiene más responsabilidades, como la de apilar los frames y el downsampling. En nuestro caso se lo delegamos a los wrappers de gymnasium."
   ]
  },
  {
   "cell_type": "code",
   "execution_count": 17,
   "metadata": {
    "id": "oegpMg25t9I9",
    "pycharm": {
     "name": "#%%\n"
    }
   },
   "outputs": [
    {
     "name": "stdout",
     "output_type": "stream",
     "text": [
      "Observation shape: torch.Size([4, 84, 84])\n"
     ]
    }
   ],
   "source": [
    "def process_state(obs):\n",
    "    \"\"\"\n",
    "    Preprocess the state to be used as input for the model (transform to tensor).\n",
    "    \"\"\"\n",
    "    return torch.tensor(obs, dtype=torch.float32, device=DEVICE) / 255.0\n",
    "\n",
    "obs, _ = env.reset()\n",
    "obs_tensor = process_state(obs)\n",
    "print(f\"Observation shape: {obs_tensor.shape}\")"
   ]
  },
  {
   "cell_type": "markdown",
   "metadata": {
    "id": "z9B7ZY9Htj_F",
    "pycharm": {
     "name": "#%% md\n"
    }
   },
   "source": [
    "## Agente\n",
    "\n",
    "Vamos a definir una clase agente (abstracto), encargado de interactuar con el ambiente y entrenar los modelos. Los métdos definidos deben funcionar para ambos problemas simplemente cambiando el modelo a utilizar para cada ambiente.\n",
    "\n",
    "Abajo dejamos un esqueleto del mismo y las funciones a completar. Recomendamos no alterar la estructura del mismo, pero pueden definir las funciones auxiliares que consideren necesarias.\n",
    "\n",
    "> Para implementar esta funcionalidad se debe modificar los archivos **abstract_agent.py** y **dqn_agent.py**.\n",
    "\n",
    "Funciones a completar:\n",
    "\n",
    "\n",
    "1. **init**: que inicializa los parametros del agente.\n",
    "\n",
    "2. **compute_epsilon**: que computa el valor actual de epsilon en base al número de pasos actuales y si esta entrenando o no.\n",
    "\n",
    "3. **select_action**: Seleccionando acciones \"epsilongreedy-mente\" si estamos entranando y completamente greedy en otro caso.\n",
    "\n",
    "4. **train**: que entrena el agente por un número dado de episodios de largo determinado.\n",
    "\n",
    "5. **record_test_episode**: para grabar un episodio con el agente siempre seleccionando la mejor accion conocida."
   ]
  },
  {
   "cell_type": "markdown",
   "metadata": {
    "id": "BOD-ENZRtyMt",
    "pycharm": {
     "name": "#%% md\n"
    }
   },
   "source": [
    "## Entrenamiento"
   ]
  },
  {
   "cell_type": "code",
   "execution_count": null,
   "metadata": {},
   "outputs": [],
   "source": [
    "#Hiperparámetros de entrenamiento del agente DQN\n",
    "TOTAL_STEPS = 10_000_000\n",
    "EPISODES = 10_000\n",
    "STEPS_PER_EPISODE = 20_000\n",
    "\n",
    "EPSILON_INI = 1\n",
    "EPSILON_MIN = 0.05\n",
    "EPSILON_ANNEAL_STEPS = 1_000_000\n",
    "\n",
    "EPISODE_BLOCK = 100\n",
    "\n",
    "BATCH_SIZE = 32\n",
    "BUFFER_SIZE = 50_000\n",
    "\n",
    "GAMMA = 0.995\n",
    "LEARNING_RATE = 1e-5"
   ]
  },
  {
   "cell_type": "code",
   "execution_count": null,
   "metadata": {
    "id": "BsTl-pFqt10b",
    "pycharm": {
     "name": "#%%\n"
    }
   },
   "outputs": [],
   "source": [
    "from dqn_agent import DQNAgent\n",
    "\n",
    "env = make_env(ENV_NAME,\n",
    "                video_folder='./videos/dqn_training',\n",
    "                name_prefix=\"breakout\",\n",
    "                record_every=500,\n",
    "                grayscale=GRAY_SCALE,\n",
    "                screen_size=SCREEN_SIZE,\n",
    "                stack_frames=NUM_STACKED_FRAMES,\n",
    "                skip_frames=SKIP_FRAMES\n",
    "                )\n",
    "\n",
    "net = DQN_CNN_Model(env.observation_space.shape, env.action_space.n).to(DEVICE)\n",
    "\n",
    "dqn_agent = DQNAgent(env, net, process_state, BUFFER_SIZE, BATCH_SIZE, LEARNING_RATE, GAMMA, epsilon_i=EPSILON_INI, epsilon_f=EPSILON_MIN, epsilon_anneal_steps=EPSILON_ANNEAL_STEPS, episode_block=EPISODE_BLOCK, device=DEVICE)\n",
    "\n",
    "dqn_rewards = dqn_agent.train(EPISODES, STEPS_PER_EPISODE, TOTAL_STEPS)\n",
    "\n",
    "env.close()"
   ]
  },
  {
   "cell_type": "code",
   "execution_count": null,
   "metadata": {},
   "outputs": [],
   "source": [
    "env = make_env(ENV_NAME,\n",
    "                video_folder='./videos/dqn_validation',\n",
    "                name_prefix=\"breakout\",\n",
    "                record_every=1,\n",
    "                grayscale=GRAY_SCALE,\n",
    "                screen_size=SCREEN_SIZE,\n",
    "                stack_frames=NUM_STACKED_FRAMES,\n",
    "                skip_frames=SKIP_FRAMES\n",
    "                )\n",
    "\n",
    "dqn_agent.play(env, episodes=3)\n",
    "\n",
    "env.close()"
   ]
  },
  {
   "cell_type": "code",
   "execution_count": null,
   "metadata": {},
   "outputs": [],
   "source": [
    "# Ruta al archivo de vídeo en tu sistema de ficheros\n",
    "video_path = \"./videos/dqn_validation/breakout-episode-0.mp4\"\n",
    "\n",
    "# Muestra el vídeo\n",
    "Video(video_path, embed=True, width=600)"
   ]
  },
  {
   "cell_type": "markdown",
   "metadata": {},
   "source": [
    "#### Graficas \n",
    "..."
   ]
  },
  {
   "cell_type": "markdown",
   "metadata": {
    "id": "QETh1K7pt9I_"
   },
   "source": [
    "# Double Deep Q Learning\n",
    "\n",
    "Double DQN mejora la versión clásica de DQN corrigiendo el sesgo de sobreestimación de los valores \n",
    "𝑄\n",
    "Q. Para ello, desacopla la selección de la acción de su evaluación: en cada paso, la red online elige la acción que maximiza \n",
    "𝑄\n",
    "Q, pero la red objetivo distinta estima el valor de esa acción. Esta separación reduce el sesgo hacia valores demasiado optimistas y aporta mayor estabilidad al entrenamiento. El resto de la estructura —replay buffer, política ε-greedy, etc— se mantiene igual que en DQN, aprovechando así un diseño casi idéntico al original pero con resultados más fiables .\n",
    "\n",
    "Fuente: [arXiv:1509.06461](https://arxiv.org/abs/1509.06461)\n",
    "\n",
    "> Vamos a utilizar el mismo modelo de red neuronal creado para el problema anterior y la misma implementación de memoria, dejamos un esqueleto de un agente de Double Deep Q learning para completar en el archivo **double_dqn_agent.py**"
   ]
  },
  {
   "cell_type": "code",
   "execution_count": null,
   "metadata": {
    "id": "kDNkAtdMt9I_",
    "pycharm": {
     "name": "#%%\n"
    }
   },
   "outputs": [],
   "source": [
    "from double_dqn_agent import DoubleDQNAgent\n",
    "\n",
    "env = make_env(ENV_NAME,\n",
    "                video_folder='./videos/ddqn_training',\n",
    "                name_prefix=\"breakout\",\n",
    "                record_every=500,\n",
    "                grayscale=GRAY_SCALE,\n",
    "                screen_size=SCREEN_SIZE,\n",
    "                stack_frames=NUM_STACKED_FRAMES,\n",
    "                skip_frames=SKIP_FRAMES\n",
    "                )\n",
    "\n",
    "\n",
    "modelo_a = DQN_CNN_Model(env.observation_space.shape, env.action_space.n).to(DEVICE)\n",
    "modelo_b = DQN_CNN_Model(env.observation_space.shape, env.action_space.n).to(DEVICE)\n",
    "\n",
    "ddqn_agent = DoubleDQNAgent(env, modelo_a, modelo_b, process_state, BUFFER_SIZE, BATCH_SIZE, LEARNING_RATE, GAMMA, epsilon_i= EPSILON_INI, epsilon_f=EPSILON_MIN, epsilon_anneal_steps=EPSILON_ANNEAL_STEPS, episode_block = EPISODE_BLOCK, device=DEVICE)\n",
    "\n",
    "ddqn_rewards = ddqn_agent.train(EPISODES, STEPS_PER_EPISODE, TOTAL_STEPS)"
   ]
  },
  {
   "cell_type": "code",
   "execution_count": null,
   "metadata": {},
   "outputs": [],
   "source": [
    "env = make_env(ENV_NAME,\n",
    "                video_folder='./videos/ddqn_validation',\n",
    "                name_prefix=\"breakout\",\n",
    "                record_every=1,\n",
    "                grayscale=GRAY_SCALE,\n",
    "                screen_size=SCREEN_SIZE,\n",
    "                stack_frames=NUM_STACKED_FRAMES,\n",
    "                skip_frames=SKIP_FRAMES\n",
    "                )\n",
    "\n",
    "ddqn_agent.play(env, episodes=3)\n",
    "\n",
    "env.close()"
   ]
  },
  {
   "cell_type": "code",
   "execution_count": null,
   "metadata": {},
   "outputs": [],
   "source": [
    "# Ruta al archivo de vídeo en tu sistema de ficheros\n",
    "video_path = \"./videos/ddqn_validation/breakout-episode-0.mp4\"\n",
    "\n",
    "# Muestra el vídeo\n",
    "Video(video_path, embed=True, width=600)"
   ]
  },
  {
   "cell_type": "markdown",
   "metadata": {},
   "source": [
    "#### Graficas \n",
    "..."
   ]
  },
  {
   "cell_type": "markdown",
   "metadata": {},
   "source": [
    "# Experimentación\n",
    "Aquí con libertad total, pueden probar diferentes arquitecturas de red, diferentes hiperparámetros, diferentes técnicas de exploración, etc.\n",
    "..."
   ]
  },
  {
   "cell_type": "markdown",
   "metadata": {
    "id": "YNNvsKiEt9I_"
   },
   "source": [
    "# Comparaciones, Resultados, Comentarios...\n",
    "De aquí en adelante son libres de presentar como gusten los resultados comparativos de las técnicas.\n",
    "..."
   ]
  }
 ],
 "metadata": {
  "accelerator": "GPU",
  "colab": {
   "provenance": []
  },
  "kernelspec": {
   "display_name": "obl_taller_ia",
   "language": "python",
   "name": "python3"
  },
  "language_info": {
   "codemirror_mode": {
    "name": "ipython",
    "version": 3
   },
   "file_extension": ".py",
   "mimetype": "text/x-python",
   "name": "python",
   "nbconvert_exporter": "python",
   "pygments_lexer": "ipython3",
   "version": "3.12.10"
  }
 },
 "nbformat": 4,
 "nbformat_minor": 1
}
