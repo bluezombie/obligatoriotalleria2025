{
 "cells": [
  {
   "cell_type": "markdown",
   "metadata": {},
   "source": [
    "# Obligatorio - Taller Agentes Inteligentes 2025\n",
    "\n",
    "En este trabajo obligatorio aplicaremos los conceptos vistos en el curso para diseñar, implementar y evaluar agentes capaces de aprender a jugar al clásico **Breakout** de Atari, utilizando el entorno provisto por Farama Gymnasium ([https://ale.farama.org/environments/breakout/](https://ale.farama.org/environments/breakout/)). \n",
    "\n",
    "<p align=\"center\">\n",
    "  <img src=\"https://media.tenor.com/oMxHgRrISJsAAAAM/atari-deep-learning.gif\" alt=\"Atari Deep Learning\"/>\n",
    "</p>\n",
    "\n",
    "\n",
    "El ejercicio se enmarca en un contexto de aprendizaje práctico, donde trabajaremos con las interfaces estándar de Gymnasium para:\n",
    "\n",
    "1. **Profundizar en algoritmos de valor**: implementaremos y compararemos dos variantes de Q-Learning basadas en redes neuronales profundas:\n",
    "   * **Deep Q Learning (DQN)**\n",
    "   * **Double Deep Q Learning (DDQN)**\n",
    "2. **Evaluar rendimiento y estabilidad**: registraremos las recompensas obtenidas durante el entrenamiento de cada agente y analizaremos su comportamiento mediante gráficas comparativas.\n",
    "3. **Demostrar resultados de forma visual**: capturaremos vídeos que muestren a cada agente “resolviendo” el entorno, entendido como la habilidad de romper al menos cinco bloques en una partida.\n",
    "\n",
    "Debido a las limitaciones de tiempo y cómputo propias de un entorno de curso, no se espera entrenar modelos durante más de diez horas por agente. Por ello, será fundamental:\n",
    "\n",
    "* Integrar puntos de **checkpoint** para guardar periódicamente los pesos de la red.\n",
    "* Seguir en los puntos 2 y 3 la arquitectura y técnicas originales propuestas en los papers seminales de DQN y DDQN, dejando la experimentación adicional para el punto extra.\n",
    "* Flexibilizar la notebook de guía: pueden reorganizarla o dividirla en múltiples archivos según su conveniencia.\n"
   ]
  },
  {
   "cell_type": "markdown",
   "metadata": {},
   "source": [
    "## Objetivos y tareas\n",
    "\n",
    "1. **Completar la implementación**\n",
    "   * Rellenar el código faltante en la notebook y en los módulos auxiliares para que los agentes puedan interactuar con el entorno de Breakout.\n",
    "2. **Entrenar agentes**\n",
    "   * Ajustar y entrenar un **DQN** que alcance la condición de “resolver” (romper ≥ 10 bloques).\n",
    "   * Ajustar y entrenar un **DDQN** con la misma meta de desempeño.\n",
    "3. **Visualizar y analizar resultados**\n",
    "   * Generar **gráficas comparativas** de las recompensas obtenidas por ambos agentes en el mismo entorno (una gráfica por ambiente). Además se sugiere gráficas que muestren el valor de la función de valor Q para cada agente.\n",
    "   * Extraer **al menos dos conclusiones** por gráfica, comentando diferencias en convergencia, estabilidad y comportamiento exploratorio.\n",
    "4. **Registro de demostraciones**\n",
    "   * Grabar y entregar un **video demostrativo** de cada agente resolviendo el entorno.\n",
    "5. **Experimentación**\n",
    "   * Probar otras arquitecturas, técnicas de mejora o módulos de procesamiento de entradas más avanzados, documentando brevemente su impacto/"
   ]
  },
  {
   "cell_type": "markdown",
   "metadata": {},
   "source": [
    "## Criterios de evaluación\n",
    "\n",
    "| Criterio                                  | Descripción                                                  | Peso |\n",
    "| ----------------------------------------- | ------------------------------------------------------------ | ---- |\n",
    "| **Implementación y rendimiento**          | DQN y DDQN completados; cada agente rompe ≥ 10 bloques       | 40%  |\n",
    "| **Estructura y narrativa de la notebook** | Secciones claras, explicación de decisiones, “historia”      | 20%  |\n",
    "| **Análisis de resultados**                | Gráficas comparativas; ≥ 2 conclusiones por gráfico          | 20%  |\n",
    "| **Presentación visual**                   | Vídeos demostrativos de cada agente                          | 10%  |\n",
    "| **Experimentación**                       | Experimentación adicional documentada y analizada brevemente | 10%  |"
   ]
  },
  {
   "cell_type": "markdown",
   "metadata": {},
   "source": [
    "## Bibliografía\n",
    "\n",
    "* **Mnih, V.**, Kavukcuoglu, K., Silver, D., Rusu, A. A., Veness, J., Bellemare, M. G., … Hassabis, D. (2013). *Playing Atari with Deep Reinforcement Learning*. [arXiv:1312.5602](https://arxiv.org/abs/1312.5602)\n",
    "* **van Hasselt, H.**, Guez, A., & Silver, D. (2015). *Deep Reinforcement Learning with Double Q-learning*. [arXiv:1509.06461](https://arxiv.org/abs/1509.06461)\n",
    "* **Sutton, R. S.**, & Barto, A. G. (2018). *Reinforcement Learning: An Introduction* (2nd ed.), capítulo 16.5: “Human-level Video Game Play”. MIT Press."
   ]
  },
  {
   "cell_type": "markdown",
   "metadata": {},
   "source": [
    "## Setup"
   ]
  },
  {
   "cell_type": "markdown",
   "metadata": {
    "id": "gc6t9etEt9I2",
    "pycharm": {
     "name": "#%%\n"
    }
   },
   "source": [
    "**Imports**"
   ]
  },
  {
   "cell_type": "code",
   "execution_count": 1,
   "metadata": {
    "id": "cwHCw6PMt9I3",
    "pycharm": {
     "name": "#%%\n"
    }
   },
   "outputs": [],
   "source": [
    "import os\n",
    "import torch\n",
    "import numpy as np\n",
    "import random\n",
    "import numpy as np\n",
    "import torch.nn as nn\n",
    "import torch.nn.functional as F\n",
    "from torchinfo import summary\n",
    "import gymnasium\n",
    "import ale_py\n",
    "from utils import make_env, show_observation_stack\n",
    "from IPython.display import Video"
   ]
  },
  {
   "cell_type": "markdown",
   "metadata": {},
   "source": [
    "ALE (Atari Learning Environment) es un entorno de aprendizaje para videojuegos de Atari. En este caso, utilizaremos el entorno de Breakout. Es necesario entender que se separa el entorno de los roms de Atari, que son los juegos en sí. El entorno de ALE permite interactuar con los juegos de Atari a través de una API estándar, facilitando la implementación de algoritmos de aprendizaje por refuerzo.\n",
    "\n",
    "Debemos instalar los roms por separado, para ello primero tenemos que saber donde están los roms de Atari. "
   ]
  },
  {
   "cell_type": "code",
   "execution_count": 2,
   "metadata": {},
   "outputs": [
    {
     "name": "stdout",
     "output_type": "stream",
     "text": [
      "/opt/anaconda3/envs/obl_taller_ia/lib/python3.12/site-packages/ale_py/roms\n"
     ]
    }
   ],
   "source": [
    "gymnasium.register_envs(ale_py) # registramos todos los entornos de ale_py\n",
    "ruta_init = ale_py.roms.__file__ # debemos saber donde se encuentra la carpeta roms\n",
    "ALE_ROMS_PATH = os.path.dirname(ruta_init)\n",
    "print(ALE_ROMS_PATH)"
   ]
  },
  {
   "cell_type": "markdown",
   "metadata": {},
   "source": [
    "Podemos usar los siguientes comando para instalar los roms y colocalos en la carpeta correcta."
   ]
  },
  {
   "cell_type": "code",
   "execution_count": 4,
   "metadata": {},
   "outputs": [
    {
     "name": "stdout",
     "output_type": "stream",
     "text": [
      "Requirement already satisfied: autorom[accept-rom-license] in /opt/anaconda3/envs/obl_taller_ia/lib/python3.12/site-packages (0.6.1)\n",
      "Requirement already satisfied: click in /opt/anaconda3/envs/obl_taller_ia/lib/python3.12/site-packages (from autorom[accept-rom-license]) (8.2.0)\n",
      "Requirement already satisfied: requests in /opt/anaconda3/envs/obl_taller_ia/lib/python3.12/site-packages (from autorom[accept-rom-license]) (2.32.3)\n",
      "Requirement already satisfied: AutoROM.accept-rom-license in /opt/anaconda3/envs/obl_taller_ia/lib/python3.12/site-packages (from autorom[accept-rom-license]) (0.6.1)\n",
      "Requirement already satisfied: charset_normalizer<4,>=2 in /opt/anaconda3/envs/obl_taller_ia/lib/python3.12/site-packages (from requests->autorom[accept-rom-license]) (3.4.2)\n",
      "Requirement already satisfied: idna<4,>=2.5 in /opt/anaconda3/envs/obl_taller_ia/lib/python3.12/site-packages (from requests->autorom[accept-rom-license]) (3.10)\n",
      "Requirement already satisfied: urllib3<3,>=1.21.1 in /opt/anaconda3/envs/obl_taller_ia/lib/python3.12/site-packages (from requests->autorom[accept-rom-license]) (2.4.0)\n",
      "Requirement already satisfied: certifi>=2017.4.17 in /opt/anaconda3/envs/obl_taller_ia/lib/python3.12/site-packages (from requests->autorom[accept-rom-license]) (2025.4.26)\n",
      "AutoROM will download the Atari 2600 ROMs.\n",
      "They will be installed to:\n",
      "\t/opt/anaconda3/envs/obl_taller_ia/lib/python3.12/site-packages/ale_py/roms\n",
      "\n",
      "Existing ROMs will be overwritten.\n",
      "\n",
      "I own a license to these Atari 2600 ROMs.\n",
      "I agree to not distribute these ROMs and wish to proceed: [Y/n]: ^C\n"
     ]
    }
   ],
   "source": [
    "!pip install \"autorom[accept-rom-license]\"\n",
    "!AutoROM --accept-license --install-dir {ALE_ROMS_PATH}"
   ]
  },
  {
   "cell_type": "markdown",
   "metadata": {},
   "source": [
    "Fijamos la semilla para que los resultados sean reproducibles"
   ]
  },
  {
   "cell_type": "code",
   "execution_count": 6,
   "metadata": {},
   "outputs": [],
   "source": [
    "SEED = 23\n",
    "\n",
    "torch.manual_seed(SEED)\n",
    "torch.backends.cudnn.deterministic=True # https://discuss.pytorch.org/t/what-is-the-differenc-between-cudnn-deterministic-and-cudnn-benchmark/38054\n",
    "torch.backends.cudnn.benchmark=True # https://discuss.pytorch.org/t/what-does-torch-backends-cudnn-benchmark-do/5936/4\n",
    "np.random.seed(SEED)\n",
    "random.seed(SEED)"
   ]
  },
  {
   "cell_type": "markdown",
   "metadata": {},
   "source": [
    "Vemos que dispositivo tenemos, si es GPU, MPS o CPU. **El uso de GPU es altamente recomendable** para acelerar el entrenamiento de los modelos. "
   ]
  },
  {
   "cell_type": "code",
   "execution_count": 7,
   "metadata": {},
   "outputs": [
    {
     "name": "stdout",
     "output_type": "stream",
     "text": [
      "Device: mps\n"
     ]
    }
   ],
   "source": [
    "# Algunas constantes\n",
    "\n",
    "# definimos el dispositivo que vamos a usar\n",
    "DEVICE = \"cpu\"  # por defecto, usamos la CPU\n",
    "if torch.cuda.is_available():\n",
    "    DEVICE = \"cuda\"  # si hay GPU, usamos la GPU\n",
    "elif torch.backends.mps.is_available():\n",
    "    DEVICE = \"mps\"  # si no hay GPU, pero hay MPS, usamos MPS\n",
    "\n",
    "print(f\"Device: {DEVICE}\")"
   ]
  },
  {
   "cell_type": "markdown",
   "metadata": {},
   "source": [
    "## Preprocesando Atari\n",
    "\n",
    "Para reproducir fielmente el enfoque de Mnih et al. (2013) y reducir la carga computacional al trabajar con imágenes de Atari (210 × 160 píxeles, 128 colores), aplicamos el siguiente preprocesado φ a las últimas **4** frames del entorno:\n",
    "\n",
    "1. **Conversión a escala de grises**\n",
    "   Eliminamos la información de color (GRAYSCALE = True), pues la luminosidad es suficiente para capturar la dinámica de juego y reduce drásticamente la dimensionalidad de la entrada.\n",
    "\n",
    "2. **Down-sampling y recorte**\n",
    "   * Redimensionamos la imagen original a 110 × 84 píxeles, manteniendo la proporción horizontal.\n",
    "   * Recortamos un área central de 84 × 84 píxeles que contiene la “zona de juego”, descartando bordes innecesarios.\n",
    "     Este paso (SCREEN_SIZE = 84) no solo concentra la atención del modelo en la región relevante, sino que también garantiza un tamaño cuadrado compatible con las implementaciones de convoluciones en GPU.\n",
    "\n",
    "3. **Saltos temporales (frame skipping)**\n",
    "   Procesamos cada 4 frames (SKIP_FRAMES = 4), repitiendo la misma acción durante esos pasos. Esto reduce la redundancia temporal, acelera el entrenamiento y mantiene la coherencia del movimiento de la paleta y la bola.\n",
    "\n",
    "4. **Apilamiento de frames**\n",
    "   Finalmente, acumulamos las últimas 4 imágenes preprocesadas (NUM_STACKED_FRAMES = 4) en un único tensor de entrada. Así el agente puede inferir la velocidad y dirección de los elementos móviles a partir de la diferencia entre frames.\n",
    "\n",
    "Este esquema de preprocesado es fundamental para disminuir el espacio de entrada, acelerar las convoluciones y proporcionar al Q-net una representación compacta y rica en información dinámica, tal como se describe en el algoritmo 1 del paper original .\n",
    "\n",
    "> Se recomienda ver el método `make_env` en el archivo `utils.py` para entender cómo se implementa este preprocesado. "
   ]
  },
  {
   "cell_type": "code",
   "execution_count": 8,
   "metadata": {},
   "outputs": [],
   "source": [
    "GRAY_SCALE = True # si True, convertimos la imagen a escala de grises\n",
    "SCREEN_SIZE = 84 # redimensionamos a SCREEN_SIZExSCREEN_SIZE\n",
    "NUM_STACKED_FRAMES = 4 # apilamos NUM_STACKED_FRAMES frames\n",
    "SKIP_FRAMES = 4 # saltamos SKIP_FRAMES frames (haciendo la misma acción)"
   ]
  },
  {
   "cell_type": "code",
   "execution_count": 9,
   "metadata": {
    "colab": {
     "base_uri": "https://localhost:8080/"
    },
    "id": "loVxQPrwt9I5",
    "outputId": "18b7ed97-88dd-4b1e-a2cc-b2636686bfc7"
   },
   "outputs": [
    {
     "name": "stderr",
     "output_type": "stream",
     "text": [
      "A.L.E: Arcade Learning Environment (version 0.10.2+unknown)\n",
      "[Powered by Stella]\n",
      "Game console created:\n",
      "  ROM file:  /opt/anaconda3/envs/obl_taller_ia/lib/python3.12/site-packages/ale_py/roms/breakout.bin\n",
      "  Cart Name: Breakout - Breakaway IV (1978) (Atari)\n",
      "  Cart MD5:  f34f08e5eb96e500e851a80be3277a56\n",
      "  Display Format:  AUTO-DETECT ==> NTSC\n",
      "  ROM Size:        2048\n",
      "  Bankswitch Type: AUTO-DETECT ==> 2K\n",
      "\n",
      "Running ROM file...\n",
      "Random seed is 119311888\n"
     ]
    },
    {
     "data": {
      "image/png": "[encoded data removed]",
      "text/plain": [
       "<Figure size 640x480 with 1 Axes>"
      ]
     },
     "metadata": {},
     "output_type": "display_data"
    },
    {
     "data": {
      "image/png": "[encoded data removed]",
      "text/plain": [
       "<Figure size 640x480 with 1 Axes>"
      ]
     },
     "metadata": {},
     "output_type": "display_data"
    },
    {
     "data": {
      "image/png": "[encoded data removed]",
      "text/plain": [
       "<Figure size 640x480 with 1 Axes>"
      ]
     },
     "metadata": {},
     "output_type": "display_data"
    },
    {
     "data": {
      "image/png": "[encoded data removed]",
      "text/plain": [
       "<Figure size 640x480 with 1 Axes>"
      ]
     },
     "metadata": {},
     "output_type": "display_data"
    },
    {
     "name": "stdout",
     "output_type": "stream",
     "text": [
      "Episode 1 finished with total reward: 1\n"
     ]
    }
   ],
   "source": [
    "# https://ale.farama.org/environments/breakout/\n",
    "ENV_NAME = \"ALE/Breakout-v5\" \n",
    "\n",
    "env = make_env(ENV_NAME,\n",
    "                video_folder='./videos/random',\n",
    "                name_prefix=\"breakout\",\n",
    "                record_every=1,\n",
    "                grayscale=GRAY_SCALE,\n",
    "                screen_size=SCREEN_SIZE,\n",
    "                stack_frames=NUM_STACKED_FRAMES,\n",
    "                skip_frames=SKIP_FRAMES\n",
    "                )\n",
    "\n",
    "for episode_num in range(1):\n",
    "    obs, info = env.reset()\n",
    "    show_observation_stack(obs)\n",
    "    reward_total = 0\n",
    "    episode_over = False\n",
    "    while not episode_over:\n",
    "        action = env.action_space.sample()  # seleccionamos una acción aleatoria\n",
    "        obs, reward, terminated, truncated, info = env.step(action)\n",
    "        reward_total += reward\n",
    "        episode_over = terminated or truncated\n",
    "    print(f\"Episode {episode_num + 1} finished with total reward: {reward_total}\")\n",
    "\n",
    "env.close()"
   ]
  },
  {
   "cell_type": "markdown",
   "metadata": {},
   "source": [
    "Además, podemos mostrar los videos capturados por el entorno de Atari de la siguiente manera:"
   ]
  },
  {
   "cell_type": "code",
   "execution_count": 10,
   "metadata": {},
   "outputs": [
    {
     "data": {
      "text/html": [
       "<video controls  width=\"600\" >\n",
       " <source src=\"data:video/mp4;base64,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\" type=\"video/mp4\">\n",
       " Your browser does not support the video tag.\n",
       " </video>"
      ],
      "text/plain": [
       "<IPython.core.display.Video object>"
      ]
     },
     "execution_count": 10,
     "metadata": {},
     "output_type": "execute_result"
    }
   ],
   "source": [
    "# Ruta al archivo de vídeo en tu sistema de ficheros\n",
    "video_path = \"./videos/random/breakout-episode-0.mp4\"\n",
    "\n",
    "# Muestra el vídeo\n",
    "Video(video_path, embed=True, width=600)"
   ]
  },
  {
   "cell_type": "markdown",
   "metadata": {
    "id": "2bYVG_TKt9I5"
   },
   "source": [
    "# Exploración del entorno"
   ]
  },
  {
   "cell_type": "code",
   "execution_count": 11,
   "metadata": {},
   "outputs": [
    {
     "name": "stdout",
     "output_type": "stream",
     "text": [
      "Actions shape: Discrete(4)\n",
      "Observation shape: (4, 84, 84)\n",
      "(4, 84, 84),\n",
      " 0,\n",
      " False,\n",
      " {'lives': 5, 'episode_frame_number': 11, 'frame_number': 686}\n"
     ]
    }
   ],
   "source": [
    "print(\"Actions shape:\",env.action_space)\n",
    "print(\"Observation shape:\",env.observation_space.shape)\n",
    "env.reset()\n",
    "next_state, reward, terminated, truncated, info = env.step(action=0)\n",
    "\n",
    "print(f\"{next_state.shape},\\n {reward},\\n {terminated},\\n {info}\")"
   ]
  },
  {
   "cell_type": "markdown",
   "metadata": {},
   "source": [
    "### Acciones\n",
    "..."
   ]
  },
  {
   "cell_type": "markdown",
   "metadata": {},
   "source": [
    "### Observaciones\n",
    "..."
   ]
  },
  {
   "cell_type": "markdown",
   "metadata": {
    "id": "XIHpwiaat9I7"
   },
   "source": [
    "# Deep Q Learning\n",
    "\n",
    "Deep Q Learning extiende el algoritmo clásico de Q-learning al emplear una **red neuronal profunda** como aproximador de la función de valor $Q(s,a)$. Inspirado en Mnih et al. (2013), este método utiliza una **red convolucional** para procesar directamente las imágenes del entorno Atari, un **replay buffer** para romper la correlación temporal de las muestras. La política sigue un esquema **ε-greedy**, balanceando exploración y explotación, y se entrena minimizando el error de la ecuación de Bellman sobre lotes de transiciones muestreadas de manera aleatoria.\n",
    "\n",
    "<p align=\"center\">\n",
    "  <img src=\"https://www.researchgate.net/profile/Faris-Mismar/publication/327045314/figure/fig4/AS:819677282455553@1572437701142/Structure-of-the-neural-network-used-for-the-Deep-Q-learning-Network-implementation-with.png\" alt=\"DQN\"/>\n",
    "</p>\n",
    "\n",
    "Fuente: [arXiv:1312.5602](https://arxiv.org/abs/1312.5602)"
   ]
  },
  {
   "cell_type": "markdown",
   "metadata": {
    "id": "ajTGajUftSgY",
    "pycharm": {
     "name": "#%% md\n"
    }
   },
   "source": [
    "## Memoria\n",
    "\n",
    "El algoritmo de Deep Q Learning presentado en el paper utiliza una memoria (llamada Replay Memory) para almacenar transiciones pasadas. Tuplas que contienen un estado base, la accion tomada, la recompensa obtenida, una bandera que indica si el siguiente estado es final o no; y el estado siguiente.\n",
    "\n",
    "Esta memoria es circular, es decir, tiene un límite maximo de elementos y una vez esté llena comienza a reemplazar los elementos más viejos.\n",
    "\n",
    "Vamos a necesitar crear una función **sample** que obtiene una mustra aleatoria de elementos de la memoria.  Esto puede ser una lista de Transiciones o listas separadas (pero alineadas) de los elementos que las componen.\n",
    "\n",
    "\n",
    "> Para implementar esta funcionalidad se debe modificar el archivo **replay_memory.py**"
   ]
  },
  {
   "cell_type": "code",
   "execution_count": null,
   "metadata": {
    "id": "scPtpbz4tTAh",
    "outputId": "0890f48a-e673-4416-bd69-7dcf2730ba64",
    "pycharm": {
     "name": "#%%\n"
    }
   },
   "outputs": [],
   "source": [
    "from replay_memory import ReplayMemory, Transition\n",
    "\n",
    "# Creamos la memoria de repetición\n",
    "replay_memory = ReplayMemory(3)\n",
    "\n",
    "# Añadimos transiciones a la memoria (solo las 3 últimas se guardan)\n",
    "replay_memory.add('state1', 'action1', 'reward1', 'done1', 'next_state1' )\n",
    "replay_memory.add('state2', 'action2', 'reward2', 'done2', 'next_state2')\n",
    "replay_memory.add('state3', 'action3', 'reward3', 'done3', 'next_state3')\n",
    "replay_memory.add('state4', 'action4', 'reward4', 'done4', 'next_state4')\n",
    "\n",
    "# Mostramos el tamaño de la memoria\n",
    "print(f\"Memory size: {len(replay_memory)}\\n\")\n",
    "\n",
    "# Mostramos un sample de la memoria\n",
    "sampled = replay_memory.sample(2)\n",
    "print(f\"Memory sample:\")\n",
    "for i, sample in enumerate(sampled):\n",
    "    print(f\"Sample {i}: {sample}\")\n"
   ]
  },
  {
   "cell_type": "markdown",
   "metadata": {
    "id": "j7Ygv5Mjtb-F",
    "pycharm": {
     "name": "#%% md\n"
    }
   },
   "source": [
    "## Modelo\n",
    "\n",
    "Vamos a usar un mismo modelo FeedForward para estos dos problemas (entrenado en cada problema particular). Recomendamos simplicidad en la creación del mismo, pero tienen total libertad al momento de implementarlo.\n",
    "\n",
    "> Para implementar esta funcionalidad se debe modificar el archivo **dqn_cnn_model.py**. Se recomienda empezar por una arquitectura simple como la que se muestra en el paper de Mnih et al. (2013) y luego experimentar con arquitecturas más complejas."
   ]
  },
  {
   "cell_type": "code",
   "execution_count": null,
   "metadata": {
    "id": "bkNBvJB6ryp7",
    "pycharm": {
     "name": "#%%\n"
    }
   },
   "outputs": [],
   "source": [
    "from dqn_cnn_model import DQN_CNN_Model\n",
    "\n",
    "env = make_env(ENV_NAME,\n",
    "                record_every=None,\n",
    "                grayscale=GRAY_SCALE,\n",
    "                screen_size=SCREEN_SIZE,\n",
    "                stack_frames=NUM_STACKED_FRAMES,\n",
    "                skip_frames=SKIP_FRAMES\n",
    "                )\n",
    "print(\"Actions shape:\",env.action_space)\n",
    "print(\"Observatiion shape:\",env.observation_space.shape)\n",
    "\n",
    "env.close()\n",
    "\n",
    "cnn_model = DQN_CNN_Model(env.observation_space.shape, env.action_space.n).to(DEVICE)\n",
    "summary(cnn_model, input_size=(32, SKIP_FRAMES, SCREEN_SIZE, SCREEN_SIZE), device=DEVICE) # 32 es el batch size"
   ]
  },
  {
   "cell_type": "markdown",
   "metadata": {},
   "source": [
    "La red esta definida para que reciba un tensor de 4 dimensiones (batch_size, num_frames, height, width) y devuelve un tensor de 2 dimensiones (batch_size, num_actions). La función `forward` es la encargada de definir el flujo de datos a través de la red. En este caso, se utiliza una red convolucional seguida de capas totalmente conectadas"
   ]
  },
  {
   "cell_type": "code",
   "execution_count": null,
   "metadata": {},
   "outputs": [],
   "source": [
    "obs_tensor_batch = torch.rand((NUM_STACKED_FRAMES,SCREEN_SIZE,SCREEN_SIZE)).unsqueeze(0).to(DEVICE) # Añadimos una dimensión para el batch y lo pasamos al dispositivo\n",
    "print(f\"Q-values shape: {cnn_model(obs_tensor_batch).shape}\") # shape: (1, num_actions) "
   ]
  },
  {
   "cell_type": "markdown",
   "metadata": {},
   "source": [
    "Los valores de Q se obtienen a partir de la salida de la red, cada columna representa el valor Q para cada acción posible en el estado actual. "
   ]
  },
  {
   "cell_type": "code",
   "execution_count": null,
   "metadata": {},
   "outputs": [],
   "source": [
    "cnn_model(obs_tensor_batch) "
   ]
  },
  {
   "cell_type": "markdown",
   "metadata": {},
   "source": [
    "Podemos preguntar cuál es la acción con mayor valor Q en un estado."
   ]
  },
  {
   "cell_type": "code",
   "execution_count": null,
   "metadata": {},
   "outputs": [],
   "source": [
    "cnn_model(obs_tensor_batch).max(1)"
   ]
  },
  {
   "cell_type": "markdown",
   "metadata": {},
   "source": [
    "En el siguiente ejemplo vamos a ver cómo tomar los valores de acciones deseables para un conjunto de estados. "
   ]
  },
  {
   "cell_type": "code",
   "execution_count": null,
   "metadata": {},
   "outputs": [],
   "source": [
    "# Creamos 3 observaciones aleatorias para probar el modelo\n",
    "obs_ran1 = torch.rand(4, 84, 84)\n",
    "obs_ran2 = torch.rand(4, 84, 84)\n",
    "obs_ran3 = torch.rand(4, 84, 84)\n",
    "\n",
    "batch = torch.stack([obs_ran1, obs_ran2, obs_ran3], dim=0).to(DEVICE) # shape: (3, 4, 84, 84)\n",
    "print(f\"Batch shape: {batch.shape}\")\n",
    "\n",
    "actions =  torch.tensor([1, 2, 3], device=DEVICE).unsqueeze(1) # queremos la acción 1 para la primera observación, la acción 2 para la segunda y la acción 3 para la tercera\n",
    "\n",
    "Q_test = cnn_model(batch)\n",
    "print(f\"Q-values: {Q_test}\")\n",
    "print(f\"Q-values: {Q_test.gather(1, actions)}\") # https://pytorch.org/docs/main/generated/torch.gather.html"
   ]
  },
  {
   "cell_type": "markdown",
   "metadata": {},
   "source": [
    "## Phi \n",
    "\n",
    "La función para procesar los estados (phi en el paper) que es necesaria para poder usar el modelo de Pytorch con las representaciones de gym. Esta función pasa una observación de gym a un tensor de Pytorch y la normaliza.\n",
    "\n",
    "> Técnicamente la función phi tiene más responsabilidades, como la de apilar los frames y el downsampling. En nuestro caso se lo delegamos a los wrappers de gymnasium."
   ]
  },
  {
   "cell_type": "code",
   "execution_count": null,
   "metadata": {
    "id": "oegpMg25t9I9",
    "pycharm": {
     "name": "#%%\n"
    }
   },
   "outputs": [],
   "source": [
    "def process_state(obs):\n",
    "    \"\"\"\n",
    "    Preprocess the state to be used as input for the model (transform to tensor).\n",
    "    \"\"\"\n",
    "    return torch.tensor(obs, dtype=torch.float32, device=DEVICE) / 255.0\n",
    "\n",
    "obs, _ = env.reset()\n",
    "obs_tensor = process_state(obs)\n",
    "print(f\"Observation shape: {obs_tensor.shape}\")"
   ]
  },
  {
   "cell_type": "markdown",
   "metadata": {
    "id": "z9B7ZY9Htj_F",
    "pycharm": {
     "name": "#%% md\n"
    }
   },
   "source": [
    "## Agente\n",
    "\n",
    "Vamos a definir una clase agente (abstracto), encargado de interactuar con el ambiente y entrenar los modelos. Los métdos definidos deben funcionar para ambos problemas simplemente cambiando el modelo a utilizar para cada ambiente.\n",
    "\n",
    "Abajo dejamos un esqueleto del mismo y las funciones a completar. Recomendamos no alterar la estructura del mismo, pero pueden definir las funciones auxiliares que consideren necesarias.\n",
    "\n",
    "> Para implementar esta funcionalidad se debe modificar los archivos **abstract_agent.py** y **dqn_agent.py**.\n",
    "\n",
    "Funciones a completar:\n",
    "\n",
    "\n",
    "1. **init**: que inicializa los parametros del agente.\n",
    "\n",
    "2. **compute_epsilon**: que computa el valor actual de epsilon en base al número de pasos actuales y si esta entrenando o no.\n",
    "\n",
    "3. **select_action**: Seleccionando acciones \"epsilongreedy-mente\" si estamos entranando y completamente greedy en otro caso.\n",
    "\n",
    "4. **train**: que entrena el agente por un número dado de episodios de largo determinado.\n",
    "\n",
    "5. **record_test_episode**: para grabar un episodio con el agente siempre seleccionando la mejor accion conocida."
   ]
  },
  {
   "cell_type": "markdown",
   "metadata": {
    "id": "BOD-ENZRtyMt",
    "pycharm": {
     "name": "#%% md\n"
    }
   },
   "source": [
    "## Entrenamiento"
   ]
  },
  {
   "cell_type": "code",
   "execution_count": null,
   "metadata": {},
   "outputs": [],
   "source": [
    "#Hiperparámetros de entrenamiento del agente DQN\n",
    "TOTAL_STEPS = 10_000_000\n",
    "EPISODES = 10_000\n",
    "STEPS_PER_EPISODE = 20_000\n",
    "\n",
    "EPSILON_INI = 1\n",
    "EPSILON_MIN = 0.05\n",
    "EPSILON_ANNEAL_STEPS = 1_000_000\n",
    "\n",
    "EPISODE_BLOCK = 100\n",
    "\n",
    "BATCH_SIZE = 32\n",
    "BUFFER_SIZE = 50_000\n",
    "\n",
    "GAMMA = 0.995\n",
    "LEARNING_RATE = 1e-5"
   ]
  },
  {
   "cell_type": "code",
   "execution_count": null,
   "metadata": {
    "id": "BsTl-pFqt10b",
    "pycharm": {
     "name": "#%%\n"
    }
   },
   "outputs": [],
   "source": [
    "from dqn_agent import DQNAgent\n",
    "\n",
    "env = make_env(ENV_NAME,\n",
    "                video_folder='./videos/dqn_training',\n",
    "                name_prefix=\"breakout\",\n",
    "                record_every=500,\n",
    "                grayscale=GRAY_SCALE,\n",
    "                screen_size=SCREEN_SIZE,\n",
    "                stack_frames=NUM_STACKED_FRAMES,\n",
    "                skip_frames=SKIP_FRAMES\n",
    "                )\n",
    "\n",
    "net = DQN_CNN_Model(env.observation_space.shape, env.action_space.n).to(DEVICE)\n",
    "\n",
    "dqn_agent = DQNAgent(env, net, process_state, BUFFER_SIZE, BATCH_SIZE, LEARNING_RATE, GAMMA, epsilon_i=EPSILON_INI, epsilon_f=EPSILON_MIN, epsilon_anneal_steps=EPSILON_ANNEAL_STEPS, episode_block=EPISODE_BLOCK, device=DEVICE)\n",
    "\n",
    "dqn_rewards = dqn_agent.train(EPISODES, STEPS_PER_EPISODE, TOTAL_STEPS)\n",
    "\n",
    "env.close()"
   ]
  },
  {
   "cell_type": "code",
   "execution_count": null,
   "metadata": {},
   "outputs": [],
   "source": [
    "env = make_env(ENV_NAME,\n",
    "                video_folder='./videos/dqn_validation',\n",
    "                name_prefix=\"breakout\",\n",
    "                record_every=1,\n",
    "                grayscale=GRAY_SCALE,\n",
    "                screen_size=SCREEN_SIZE,\n",
    "                stack_frames=NUM_STACKED_FRAMES,\n",
    "                skip_frames=SKIP_FRAMES\n",
    "                )\n",
    "\n",
    "dqn_agent.play(env, episodes=3)\n",
    "\n",
    "env.close()"
   ]
  },
  {
   "cell_type": "code",
   "execution_count": null,
   "metadata": {},
   "outputs": [],
   "source": [
    "# Ruta al archivo de vídeo en tu sistema de ficheros\n",
    "video_path = \"./videos/dqn_validation/breakout-episode-0.mp4\"\n",
    "\n",
    "# Muestra el vídeo\n",
    "Video(video_path, embed=True, width=600)"
   ]
  },
  {
   "cell_type": "markdown",
   "metadata": {},
   "source": [
    "#### Graficas \n",
    "..."
   ]
  },
  {
   "cell_type": "markdown",
   "metadata": {
    "id": "QETh1K7pt9I_"
   },
   "source": [
    "# Double Deep Q Learning\n",
    "\n",
    "Double DQN mejora la versión clásica de DQN corrigiendo el sesgo de sobreestimación de los valores \n",
    "𝑄\n",
    "Q. Para ello, desacopla la selección de la acción de su evaluación: en cada paso, la red online elige la acción que maximiza \n",
    "𝑄\n",
    "Q, pero la red objetivo distinta estima el valor de esa acción. Esta separación reduce el sesgo hacia valores demasiado optimistas y aporta mayor estabilidad al entrenamiento. El resto de la estructura —replay buffer, política ε-greedy, etc— se mantiene igual que en DQN, aprovechando así un diseño casi idéntico al original pero con resultados más fiables .\n",
    "\n",
    "Fuente: [arXiv:1509.06461](https://arxiv.org/abs/1509.06461)\n",
    "\n",
    "> Vamos a utilizar el mismo modelo de red neuronal creado para el problema anterior y la misma implementación de memoria, dejamos un esqueleto de un agente de Double Deep Q learning para completar en el archivo **double_dqn_agent.py**"
   ]
  },
  {
   "cell_type": "code",
   "execution_count": null,
   "metadata": {
    "id": "kDNkAtdMt9I_",
    "pycharm": {
     "name": "#%%\n"
    }
   },
   "outputs": [],
   "source": [
    "from double_dqn_agent import DoubleDQNAgent\n",
    "\n",
    "env = make_env(ENV_NAME,\n",
    "                video_folder='./videos/ddqn_training',\n",
    "                name_prefix=\"breakout\",\n",
    "                record_every=500,\n",
    "                grayscale=GRAY_SCALE,\n",
    "                screen_size=SCREEN_SIZE,\n",
    "                stack_frames=NUM_STACKED_FRAMES,\n",
    "                skip_frames=SKIP_FRAMES\n",
    "                )\n",
    "\n",
    "\n",
    "modelo_a = DQN_CNN_Model(env.observation_space.shape, env.action_space.n).to(DEVICE)\n",
    "modelo_b = DQN_CNN_Model(env.observation_space.shape, env.action_space.n).to(DEVICE)\n",
    "\n",
    "ddqn_agent = DoubleDQNAgent(env, modelo_a, modelo_b, process_state, BUFFER_SIZE, BATCH_SIZE, LEARNING_RATE, GAMMA, epsilon_i= EPSILON_INI, epsilon_f=EPSILON_MIN, epsilon_anneal_steps=EPSILON_ANNEAL_STEPS, episode_block = EPISODE_BLOCK, device=DEVICE)\n",
    "\n",
    "ddqn_rewards = ddqn_agent.train(EPISODES, STEPS_PER_EPISODE, TOTAL_STEPS)"
   ]
  },
  {
   "cell_type": "code",
   "execution_count": null,
   "metadata": {},
   "outputs": [],
   "source": [
    "env = make_env(ENV_NAME,\n",
    "                video_folder='./videos/ddqn_validation',\n",
    "                name_prefix=\"breakout\",\n",
    "                record_every=1,\n",
    "                grayscale=GRAY_SCALE,\n",
    "                screen_size=SCREEN_SIZE,\n",
    "                stack_frames=NUM_STACKED_FRAMES,\n",
    "                skip_frames=SKIP_FRAMES\n",
    "                )\n",
    "\n",
    "ddqn_agent.play(env, episodes=3)\n",
    "\n",
    "env.close()"
   ]
  },
  {
   "cell_type": "code",
   "execution_count": null,
   "metadata": {},
   "outputs": [],
   "source": [
    "# Ruta al archivo de vídeo en tu sistema de ficheros\n",
    "video_path = \"./videos/ddqn_validation/breakout-episode-0.mp4\"\n",
    "\n",
    "# Muestra el vídeo\n",
    "Video(video_path, embed=True, width=600)"
   ]
  },
  {
   "cell_type": "markdown",
   "metadata": {},
   "source": [
    "#### Graficas \n",
    "..."
   ]
  },
  {
   "cell_type": "markdown",
   "metadata": {},
   "source": [
    "# Experimentación\n",
    "Aquí con libertad total, pueden probar diferentes arquitecturas de red, diferentes hiperparámetros, diferentes técnicas de exploración, etc.\n",
    "..."
   ]
  },
  {
   "cell_type": "markdown",
   "metadata": {
    "id": "YNNvsKiEt9I_"
   },
   "source": [
    "# Comparaciones, Resultados, Comentarios...\n",
    "De aquí en adelante son libres de presentar como gusten los resultados comparativos de las técnicas.\n",
    "..."
   ]
  }
 ],
 "metadata": {
  "accelerator": "GPU",
  "colab": {
   "provenance": []
  },
  "kernelspec": {
   "display_name": "obl_taller_ia",
   "language": "python",
   "name": "python3"
  },
  "language_info": {
   "codemirror_mode": {
    "name": "ipython",
    "version": 3
   },
   "file_extension": ".py",
   "mimetype": "text/x-python",
   "name": "python",
   "nbconvert_exporter": "python",
   "pygments_lexer": "ipython3",
   "version": "3.12.10"
  }
 },
 "nbformat": 4,
 "nbformat_minor": 1
}
