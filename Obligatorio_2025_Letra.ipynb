{
 "cells": [
  {
   "cell_type": "markdown",
   "metadata": {},
   "source": [
    "# Obligatorio - Taller Agentes Inteligentes 2025\n",
    "\n",
    "En este trabajo obligatorio aplicaremos los conceptos vistos en el curso para diseñar, implementar y evaluar agentes capaces de aprender a jugar al clásico **Breakout** de Atari, utilizando el entorno provisto por Farama Gymnasium ([https://ale.farama.org/environments/breakout/](https://ale.farama.org/environments/breakout/)). \n",
    "\n",
    "<p align=\"center\">\n",
    "  <img src=\"https://media.tenor.com/oMxHgRrISJsAAAAM/atari-deep-learning.gif\" alt=\"Atari Deep Learning\"/>\n",
    "</p>\n",
    "\n",
    "\n",
    "El ejercicio se enmarca en un contexto de aprendizaje práctico, donde trabajaremos con las interfaces estándar de Gymnasium para:\n",
    "\n",
    "1. **Profundizar en algoritmos de valor**: implementaremos y compararemos dos variantes de Q-Learning basadas en redes neuronales profundas:\n",
    "   * **Deep Q Learning (DQN)**\n",
    "   * **Double Deep Q Learning (DDQN)**\n",
    "2. **Evaluar rendimiento y estabilidad**: registraremos las recompensas obtenidas durante el entrenamiento de cada agente y analizaremos su comportamiento mediante gráficas comparativas.\n",
    "3. **Demostrar resultados de forma visual**: capturaremos vídeos que muestren a cada agente “resolviendo” el entorno, entendido como la habilidad de romper al menos cinco bloques en una partida.\n",
    "\n",
    "Debido a las limitaciones de tiempo y cómputo propias de un entorno de curso, no se espera entrenar modelos durante más de diez horas por agente. Por ello, será fundamental:\n",
    "\n",
    "* Integrar puntos de **checkpoint** para guardar periódicamente los pesos de la red.\n",
    "* Seguir en los puntos 2 y 3 la arquitectura y técnicas originales propuestas en los papers seminales de DQN y DDQN, dejando la experimentación adicional para el punto extra.\n",
    "* Flexibilizar la notebook de guía: pueden reorganizarla o dividirla en múltiples archivos según su conveniencia.\n"
   ]
  },
  {
   "cell_type": "markdown",
   "metadata": {},
   "source": [
    "## Objetivos y tareas\n",
    "\n",
    "1. **Completar la implementación**\n",
    "   * Rellenar el código faltante en la notebook y en los módulos auxiliares para que los agentes puedan interactuar con el entorno de Breakout.\n",
    "2. **Entrenar agentes**\n",
    "   * Ajustar y entrenar un **DQN** que alcance la condición de “resolver” (romper ≥ 10 bloques).\n",
    "   * Ajustar y entrenar un **DDQN** con la misma meta de desempeño.\n",
    "3. **Visualizar y analizar resultados**\n",
    "   * Generar **gráficas comparativas** de las recompensas obtenidas por ambos agentes en el mismo entorno (una gráfica por ambiente). Además se sugiere gráficas que muestren el valor de la función de valor Q para cada agente.\n",
    "   * Extraer **al menos dos conclusiones** por gráfica, comentando diferencias en convergencia, estabilidad y comportamiento exploratorio.\n",
    "4. **Registro de demostraciones**\n",
    "   * Grabar y entregar un **video demostrativo** de cada agente resolviendo el entorno.\n",
    "5. **Experimentación**\n",
    "   * Probar otras arquitecturas, técnicas de mejora o módulos de procesamiento de entradas más avanzados, documentando brevemente su impacto/"
   ]
  },
  {
   "cell_type": "markdown",
   "metadata": {},
   "source": [
    "## Criterios de evaluación\n",
    "\n",
    "| Criterio                                  | Descripción                                                  | Peso |\n",
    "| ----------------------------------------- | ------------------------------------------------------------ | ---- |\n",
    "| **Implementación y rendimiento**          | DQN y DDQN completados; cada agente rompe ≥ 10 bloques       | 40%  |\n",
    "| **Estructura y narrativa de la notebook** | Secciones claras, explicación de decisiones, “historia”      | 20%  |\n",
    "| **Análisis de resultados**                | Gráficas comparativas; ≥ 2 conclusiones por gráfico          | 20%  |\n",
    "| **Presentación visual**                   | Vídeos demostrativos de cada agente                          | 10%  |\n",
    "| **Experimentación**                       | Experimentación adicional documentada y analizada brevemente | 10%  |"
   ]
  },
  {
   "cell_type": "markdown",
   "metadata": {},
   "source": [
    "## Bibliografía\n",
    "\n",
    "* **Mnih, V.**, Kavukcuoglu, K., Silver, D., Rusu, A. A., Veness, J., Bellemare, M. G., … Hassabis, D. (2013). *Playing Atari with Deep Reinforcement Learning*. [arXiv:1312.5602](https://arxiv.org/abs/1312.5602)\n",
    "* **van Hasselt, H.**, Guez, A., & Silver, D. (2015). *Deep Reinforcement Learning with Double Q-learning*. [arXiv:1509.06461](https://arxiv.org/abs/1509.06461)\n",
    "* **Sutton, R. S.**, & Barto, A. G. (2018). *Reinforcement Learning: An Introduction* (2nd ed.), capítulo 16.5: “Human-level Video Game Play”. MIT Press."
   ]
  },
  {
   "cell_type": "markdown",
   "metadata": {},
   "source": [
    "## Setup"
   ]
  },
  {
   "cell_type": "markdown",
   "metadata": {
    "id": "gc6t9etEt9I2",
    "pycharm": {
     "name": "#%%\n"
    }
   },
   "source": [
    "**Imports**"
   ]
  },
  {
   "cell_type": "code",
   "execution_count": 1,
   "metadata": {
    "id": "cwHCw6PMt9I3",
    "pycharm": {
     "name": "#%%\n"
    }
   },
   "outputs": [],
   "source": [
    "import os\n",
    "import torch\n",
    "import numpy as np\n",
    "import random\n",
    "import numpy as np\n",
    "import torch.nn as nn\n",
    "import torch.nn.functional as F\n",
    "from torchinfo import summary\n",
    "import gymnasium\n",
    "import ale_py\n",
    "from utils import make_env, show_observation_stack\n",
    "from IPython.display import Video"
   ]
  },
  {
   "cell_type": "markdown",
   "metadata": {},
   "source": [
    "ALE (Atari Learning Environment) es un entorno de aprendizaje para videojuegos de Atari. En este caso, utilizaremos el entorno de Breakout. Es necesario entender que se separa el entorno de los roms de Atari, que son los juegos en sí. El entorno de ALE permite interactuar con los juegos de Atari a través de una API estándar, facilitando la implementación de algoritmos de aprendizaje por refuerzo.\n",
    "\n",
    "Debemos instalar los roms por separado, para ello primero tenemos que saber donde están los roms de Atari. "
   ]
  },
  {
   "cell_type": "code",
   "execution_count": 2,
   "metadata": {},
   "outputs": [
    {
     "name": "stdout",
     "output_type": "stream",
     "text": [
      "/opt/anaconda3/envs/obl_taller_ia/lib/python3.12/site-packages/ale_py/roms\n"
     ]
    }
   ],
   "source": [
    "gymnasium.register_envs(ale_py) # registramos todos los entornos de ale_py\n",
    "ruta_init = ale_py.roms.__file__ # debemos saber donde se encuentra la carpeta roms\n",
    "ALE_ROMS_PATH = os.path.dirname(ruta_init)\n",
    "print(ALE_ROMS_PATH)"
   ]
  },
  {
   "cell_type": "code",
   "execution_count": 3,
   "metadata": {},
   "outputs": [
    {
     "name": "stdout",
     "output_type": "stream",
     "text": [
      "ROMs path: /opt/anaconda3/envs/obl_taller_ia/lib/python3.12/site-packages/ale_py/roms\n"
     ]
    }
   ],
   "source": [
    "print(f\"ROMs path: {ALE_ROMS_PATH}\")"
   ]
  },
  {
   "cell_type": "markdown",
   "metadata": {},
   "source": [
    "Podemos usar los siguientes comando para instalar los roms y colocalos en la carpeta correcta."
   ]
  },
  {
   "cell_type": "code",
   "execution_count": null,
   "metadata": {},
   "outputs": [],
   "source": [
    "!pip install \"autorom[accept-rom-license]\"\n",
    "!AutoROM --accept-license --install-dir {ALE_ROMS_PATH}"
   ]
  },
  {
   "cell_type": "markdown",
   "metadata": {},
   "source": [
    "Fijamos la semilla para que los resultados sean reproducibles"
   ]
  },
  {
   "cell_type": "code",
   "execution_count": 4,
   "metadata": {},
   "outputs": [],
   "source": [
    "SEED = 23\n",
    "\n",
    "torch.manual_seed(SEED)\n",
    "torch.backends.cudnn.deterministic=True # https://discuss.pytorch.org/t/what-is-the-differenc-between-cudnn-deterministic-and-cudnn-benchmark/38054\n",
    "torch.backends.cudnn.benchmark=True # https://discuss.pytorch.org/t/what-does-torch-backends-cudnn-benchmark-do/5936/4\n",
    "np.random.seed(SEED)\n",
    "random.seed(SEED)"
   ]
  },
  {
   "cell_type": "markdown",
   "metadata": {},
   "source": [
    "Vemos que dispositivo tenemos, si es GPU, MPS o CPU. **El uso de GPU es altamente recomendable** para acelerar el entrenamiento de los modelos. "
   ]
  },
  {
   "cell_type": "code",
   "execution_count": 5,
   "metadata": {},
   "outputs": [
    {
     "name": "stdout",
     "output_type": "stream",
     "text": [
      "Device: mps\n"
     ]
    }
   ],
   "source": [
    "# Algunas constantes\n",
    "\n",
    "# definimos el dispositivo que vamos a usar\n",
    "DEVICE = \"cpu\"  # por defecto, usamos la CPU\n",
    "if torch.cuda.is_available():\n",
    "    DEVICE = \"cuda\"  # si hay GPU, usamos la GPU\n",
    "elif torch.backends.mps.is_available():\n",
    "    DEVICE = \"mps\"  # si no hay GPU, pero hay MPS, usamos MPS\n",
    "\n",
    "print(f\"Device: {DEVICE}\")"
   ]
  },
  {
   "cell_type": "markdown",
   "metadata": {},
   "source": [
    "## Preprocesando Atari\n",
    "\n",
    "Para reproducir fielmente el enfoque de Mnih et al. (2013) y reducir la carga computacional al trabajar con imágenes de Atari (210 × 160 píxeles, 128 colores), aplicamos el siguiente preprocesado φ a las últimas **4** frames del entorno:\n",
    "\n",
    "1. **Conversión a escala de grises**\n",
    "   Eliminamos la información de color (GRAYSCALE = True), pues la luminosidad es suficiente para capturar la dinámica de juego y reduce drásticamente la dimensionalidad de la entrada.\n",
    "\n",
    "2. **Down-sampling y recorte**\n",
    "   * Redimensionamos la imagen original a 110 × 84 píxeles, manteniendo la proporción horizontal.\n",
    "   * Recortamos un área central de 84 × 84 píxeles que contiene la “zona de juego”, descartando bordes innecesarios.\n",
    "     Este paso (SCREEN_SIZE = 84) no solo concentra la atención del modelo en la región relevante, sino que también garantiza un tamaño cuadrado compatible con las implementaciones de convoluciones en GPU.\n",
    "\n",
    "3. **Saltos temporales (frame skipping)**\n",
    "   Procesamos cada 4 frames (SKIP_FRAMES = 4), repitiendo la misma acción durante esos pasos. Esto reduce la redundancia temporal, acelera el entrenamiento y mantiene la coherencia del movimiento de la paleta y la bola.\n",
    "\n",
    "4. **Apilamiento de frames**\n",
    "   Finalmente, acumulamos las últimas 4 imágenes preprocesadas (NUM_STACKED_FRAMES = 4) en un único tensor de entrada. Así el agente puede inferir la velocidad y dirección de los elementos móviles a partir de la diferencia entre frames.\n",
    "\n",
    "Este esquema de preprocesado es fundamental para disminuir el espacio de entrada, acelerar las convoluciones y proporcionar al Q-net una representación compacta y rica en información dinámica, tal como se describe en el algoritmo 1 del paper original .\n",
    "\n",
    "> Se recomienda ver el método `make_env` en el archivo `utils.py` para entender cómo se implementa este preprocesado. "
   ]
  },
  {
   "cell_type": "code",
   "execution_count": 6,
   "metadata": {},
   "outputs": [],
   "source": [
    "GRAY_SCALE = True # si True, convertimos la imagen a escala de grises\n",
    "SCREEN_SIZE = 84 # redimensionamos a SCREEN_SIZExSCREEN_SIZE\n",
    "NUM_STACKED_FRAMES = 4 # apilamos NUM_STACKED_FRAMES frames\n",
    "SKIP_FRAMES = 4 # saltamos SKIP_FRAMES frames (haciendo la misma acción)"
   ]
  },
  {
   "cell_type": "code",
   "execution_count": 7,
   "metadata": {
    "colab": {
     "base_uri": "https://localhost:8080/"
    },
    "id": "loVxQPrwt9I5",
    "outputId": "18b7ed97-88dd-4b1e-a2cc-b2636686bfc7"
   },
   "outputs": [
    {
     "name": "stderr",
     "output_type": "stream",
     "text": [
      "A.L.E: Arcade Learning Environment (version 0.10.2+unknown)\n",
      "[Powered by Stella]\n",
      "Game console created:\n",
      "  ROM file:  /opt/anaconda3/envs/obl_taller_ia/lib/python3.12/site-packages/ale_py/roms/breakout.bin\n",
      "  Cart Name: Breakout - Breakaway IV (1978) (Atari)\n",
      "  Cart MD5:  f34f08e5eb96e500e851a80be3277a56\n",
      "  Display Format:  AUTO-DETECT ==> NTSC\n",
      "  ROM Size:        2048\n",
      "  Bankswitch Type: AUTO-DETECT ==> 2K\n",
      "\n",
      "Running ROM file...\n",
      "Random seed is 871532803\n",
      "/opt/anaconda3/envs/obl_taller_ia/lib/python3.12/site-packages/gymnasium/wrappers/rendering.py:283: UserWarning: \u001b[33mWARN: Overwriting existing videos at /Users/gotero/facultad/2025/taller_ia/obligatorio/videos/random folder (try specifying a different `video_folder` for the `RecordVideo` wrapper if this is not desired)\u001b[0m\n",
      "  logger.warn(\n"
     ]
    },
    {
     "data": {
      "image/png": "[encoded data removed]",
      "text/plain": [
       "<Figure size 640x480 with 1 Axes>"
      ]
     },
     "metadata": {},
     "output_type": "display_data"
    },
    {
     "data": {
      "image/png": "[encoded data removed]",
      "text/plain": [
       "<Figure size 640x480 with 1 Axes>"
      ]
     },
     "metadata": {},
     "output_type": "display_data"
    },
    {
     "data": {
      "image/png": "[encoded data removed]",
      "text/plain": [
       "<Figure size 640x480 with 1 Axes>"
      ]
     },
     "metadata": {},
     "output_type": "display_data"
    },
    {
     "data": {
      "image/png": "[encoded data removed]",
      "text/plain": [
       "<Figure size 640x480 with 1 Axes>"
      ]
     },
     "metadata": {},
     "output_type": "display_data"
    },
    {
     "name": "stdout",
     "output_type": "stream",
     "text": [
      "Episode 1 finished with total reward: 2\n"
     ]
    }
   ],
   "source": [
    "# https://ale.farama.org/environments/breakout/\n",
    "ENV_NAME = \"ALE/Breakout-v5\" \n",
    "\n",
    "env = make_env(ENV_NAME,\n",
    "                video_folder='./videos/random',\n",
    "                name_prefix=\"breakout\",\n",
    "                record_every=1,\n",
    "                grayscale=GRAY_SCALE,\n",
    "                screen_size=SCREEN_SIZE,\n",
    "                stack_frames=NUM_STACKED_FRAMES,\n",
    "                skip_frames=SKIP_FRAMES\n",
    "                )\n",
    "\n",
    "for episode_num in range(1):\n",
    "    obs, info = env.reset()\n",
    "    show_observation_stack(obs)\n",
    "    reward_total = 0\n",
    "    episode_over = False\n",
    "    while not episode_over:\n",
    "        action = env.action_space.sample()  # seleccionamos una acción aleatoria\n",
    "        obs, reward, terminated, truncated, info = env.step(action)\n",
    "        reward_total += reward\n",
    "        episode_over = terminated or truncated\n",
    "    print(f\"Episode {episode_num + 1} finished with total reward: {reward_total}\")\n",
    "\n",
    "env.close()"
   ]
  },
  {
   "cell_type": "markdown",
   "metadata": {},
   "source": [
    "Además, podemos mostrar los videos capturados por el entorno de Atari de la siguiente manera:"
   ]
  },
  {
   "cell_type": "code",
   "execution_count": 8,
   "metadata": {},
   "outputs": [
    {
     "data": {
      "text/html": [
       "<video controls  width=\"600\" >\n",
       " <source src=\"data:video/mp4;base64,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\" type=\"video/mp4\">\n",
       " Your browser does not support the video tag.\n",
       " </video>"
      ],
      "text/plain": [
       "<IPython.core.display.Video object>"
      ]
     },
     "execution_count": 8,
     "metadata": {},
     "output_type": "execute_result"
    }
   ],
   "source": [
    "# Ruta al archivo de vídeo en tu sistema de ficheros\n",
    "video_path = \"./videos/random/breakout-episode-0.mp4\"\n",
    "\n",
    "# Muestra el vídeo\n",
    "Video(video_path, embed=True, width=600)"
   ]
  },
  {
   "cell_type": "markdown",
   "metadata": {
    "id": "2bYVG_TKt9I5"
   },
   "source": [
    "# Exploración del entorno"
   ]
  },
  {
   "cell_type": "code",
   "execution_count": 9,
   "metadata": {},
   "outputs": [
    {
     "name": "stdout",
     "output_type": "stream",
     "text": [
      "Actions shape: Discrete(4)\n",
      "Observation shape: (4, 84, 84)\n",
      "(4, 84, 84),\n",
      " 0,\n",
      " False,\n",
      " {'lives': 5, 'episode_frame_number': 6, 'frame_number': 816}\n"
     ]
    }
   ],
   "source": [
    "print(\"Actions shape:\",env.action_space)\n",
    "print(\"Observation shape:\",env.observation_space.shape)\n",
    "env.reset()\n",
    "next_state, reward, terminated, truncated, info = env.step(action=0)\n",
    "\n",
    "print(f\"{next_state.shape},\\n {reward},\\n {terminated},\\n {info}\")"
   ]
  },
  {
   "cell_type": "markdown",
   "metadata": {},
   "source": [
    "### Acciones\n",
    "..."
   ]
  },
  {
   "cell_type": "markdown",
   "metadata": {},
   "source": [
    "### Observaciones\n",
    "..."
   ]
  },
  {
   "cell_type": "markdown",
   "metadata": {
    "id": "XIHpwiaat9I7"
   },
   "source": [
    "# Deep Q Learning\n",
    "\n",
    "Deep Q Learning extiende el algoritmo clásico de Q-learning al emplear una **red neuronal profunda** como aproximador de la función de valor $Q(s,a)$. Inspirado en Mnih et al. (2013), este método utiliza una **red convolucional** para procesar directamente las imágenes del entorno Atari, un **replay buffer** para romper la correlación temporal de las muestras. La política sigue un esquema **ε-greedy**, balanceando exploración y explotación, y se entrena minimizando el error de la ecuación de Bellman sobre lotes de transiciones muestreadas de manera aleatoria.\n",
    "\n",
    "<p align=\"center\">\n",
    "  <img src=\"https://www.researchgate.net/profile/Faris-Mismar/publication/327045314/figure/fig4/AS:819677282455553@1572437701142/Structure-of-the-neural-network-used-for-the-Deep-Q-learning-Network-implementation-with.png\" alt=\"DQN\"/>\n",
    "</p>\n",
    "\n",
    "Fuente: [arXiv:1312.5602](https://arxiv.org/abs/1312.5602)"
   ]
  },
  {
   "cell_type": "markdown",
   "metadata": {
    "id": "ajTGajUftSgY",
    "pycharm": {
     "name": "#%% md\n"
    }
   },
   "source": [
    "## Memoria\n",
    "\n",
    "El algoritmo de Deep Q Learning presentado en el paper utiliza una memoria (llamada Replay Memory) para almacenar transiciones pasadas. Tuplas que contienen un estado base, la accion tomada, la recompensa obtenida, una bandera que indica si el siguiente estado es final o no; y el estado siguiente.\n",
    "\n",
    "Esta memoria es circular, es decir, tiene un límite maximo de elementos y una vez esté llena comienza a reemplazar los elementos más viejos.\n",
    "\n",
    "Vamos a necesitar crear una función **sample** que obtiene una mustra aleatoria de elementos de la memoria.  Esto puede ser una lista de Transiciones o listas separadas (pero alineadas) de los elementos que las componen.\n",
    "\n",
    "\n",
    "> Para implementar esta funcionalidad se debe modificar el archivo **replay_memory.py**"
   ]
  },
  {
   "cell_type": "code",
   "execution_count": 10,
   "metadata": {
    "id": "scPtpbz4tTAh",
    "outputId": "0890f48a-e673-4416-bd69-7dcf2730ba64",
    "pycharm": {
     "name": "#%%\n"
    }
   },
   "outputs": [
    {
     "name": "stdout",
     "output_type": "stream",
     "text": [
      "Memory size: 3\n",
      "\n",
      "Memory sample:\n",
      "Sample 0: Transition(state='state2', action='action2', reward='reward2', done='done2', next_state='next_state2')\n",
      "Sample 1: Transition(state='state4', action='action4', reward='reward4', done='done4', next_state='next_state4')\n"
     ]
    }
   ],
   "source": [
    "from replay_memory import ReplayMemory, Transition\n",
    "\n",
    "# Creamos la memoria de repetición\n",
    "replay_memory = ReplayMemory(3)\n",
    "\n",
    "# Añadimos transiciones a la memoria (solo las 3 últimas se guardan)\n",
    "replay_memory.add('state1', 'action1', 'reward1', 'done1', 'next_state1' )\n",
    "replay_memory.add('state2', 'action2', 'reward2', 'done2', 'next_state2')\n",
    "replay_memory.add('state3', 'action3', 'reward3', 'done3', 'next_state3')\n",
    "replay_memory.add('state4', 'action4', 'reward4', 'done4', 'next_state4')\n",
    "\n",
    "# Mostramos el tamaño de la memoria\n",
    "print(f\"Memory size: {len(replay_memory)}\\n\")\n",
    "\n",
    "# Mostramos un sample de la memoria\n",
    "sampled = replay_memory.sample(2)\n",
    "print(f\"Memory sample:\")\n",
    "for i, sample in enumerate(sampled):\n",
    "    print(f\"Sample {i}: {sample}\")\n"
   ]
  },
  {
   "cell_type": "markdown",
   "metadata": {
    "id": "j7Ygv5Mjtb-F",
    "pycharm": {
     "name": "#%% md\n"
    }
   },
   "source": [
    "## Modelo\n",
    "\n",
    "Vamos a usar un mismo modelo FeedForward para estos dos problemas (entrenado en cada problema particular). Recomendamos simplicidad en la creación del mismo, pero tienen total libertad al momento de implementarlo.\n",
    "\n",
    "> Para implementar esta funcionalidad se debe modificar el archivo **dqn_cnn_model.py**. Se recomienda empezar por una arquitectura simple como la que se muestra en el paper de Mnih et al. (2013) y luego experimentar con arquitecturas más complejas."
   ]
  },
  {
   "cell_type": "code",
   "execution_count": null,
   "metadata": {
    "id": "bkNBvJB6ryp7",
    "pycharm": {
     "name": "#%%\n"
    }
   },
   "outputs": [
    {
     "name": "stdout",
     "output_type": "stream",
     "text": [
      "Actions shape: Discrete(4)\n",
      "Observatiion shape: (4, 84, 84)\n"
     ]
    },
    {
     "name": "stderr",
     "output_type": "stream",
     "text": [
      "A.L.E: Arcade Learning Environment (version 0.10.2+unknown)\n",
      "[Powered by Stella]\n",
      "Game console created:\n",
      "  ROM file:  /opt/anaconda3/envs/obl_taller_ia/lib/python3.12/site-packages/ale_py/roms/breakout.bin\n",
      "  Cart Name: Breakout - Breakaway IV (1978) (Atari)\n",
      "  Cart MD5:  f34f08e5eb96e500e851a80be3277a56\n",
      "  Display Format:  AUTO-DETECT ==> NTSC\n",
      "  ROM Size:        2048\n",
      "  Bankswitch Type: AUTO-DETECT ==> 2K\n",
      "\n",
      "Running ROM file...\n",
      "Random seed is -760937814\n",
      "/opt/anaconda3/envs/obl_taller_ia/lib/python3.12/site-packages/gymnasium/wrappers/rendering.py:416: UserWarning: \u001b[33mWARN: Unable to save last video! Did you call close()?\u001b[0m\n",
      "  logger.warn(\"Unable to save last video! Did you call close()?\")\n"
     ]
    },
    {
     "data": {
      "text/plain": [
       "==========================================================================================\n",
       "Layer (type:depth-idx)                   Output Shape              Param #\n",
       "==========================================================================================\n",
       "DQN_CNN_Model                            [32, 4]                   --\n",
       "├─Conv2d: 1-1                            [32, 16, 20, 20]          4,112\n",
       "├─Conv2d: 1-2                            [32, 32, 9, 9]            8,224\n",
       "├─Linear: 1-3                            [32, 256]                 663,808\n",
       "├─Linear: 1-4                            [32, 4]                   1,028\n",
       "==========================================================================================\n",
       "Total params: 677,172\n",
       "Trainable params: 677,172\n",
       "Non-trainable params: 0\n",
       "Total mult-adds (Units.MEGABYTES): 95.22\n",
       "==========================================================================================\n",
       "Input size (MB): 3.61\n",
       "Forward/backward pass size (MB): 2.37\n",
       "Params size (MB): 2.71\n",
       "Estimated Total Size (MB): 8.69\n",
       "=========================================================================================="
      ]
     },
     "execution_count": 11,
     "metadata": {},
     "output_type": "execute_result"
    }
   ],
   "source": [
    "from dqn_cnn_model import DQN_CNN_Model\n",
    "\n",
    "env = make_env(ENV_NAME,\n",
    "                record_every=None,\n",
    "                grayscale=GRAY_SCALE,\n",
    "                screen_size=SCREEN_SIZE,\n",
    "                stack_frames=NUM_STACKED_FRAMES,\n",
    "                skip_frames=SKIP_FRAMES\n",
    "                )\n",
    "print(\"Actions shape:\",env.action_space)\n",
    "print(\"Observation shape:\",env.observation_space.shape)\n",
    "\n",
    "env.close()\n",
    "\n",
    "cnn_model = DQN_CNN_Model(env.observation_space.shape, env.action_space.n).to(DEVICE)\n",
    "summary(cnn_model, input_size=(32, SKIP_FRAMES, SCREEN_SIZE, SCREEN_SIZE), device=DEVICE) # 32 es el batch size"
   ]
  },
  {
   "cell_type": "markdown",
   "metadata": {},
   "source": [
    "La red esta definida para que reciba un tensor de 4 dimensiones (batch_size, num_frames, height, width) y devuelve un tensor de 2 dimensiones (batch_size, num_actions). La función `forward` es la encargada de definir el flujo de datos a través de la red. En este caso, se utiliza una red convolucional seguida de capas totalmente conectadas"
   ]
  },
  {
   "cell_type": "code",
   "execution_count": 12,
   "metadata": {},
   "outputs": [],
   "source": [
    "obs_tensor_batch = torch.rand((NUM_STACKED_FRAMES,SCREEN_SIZE,SCREEN_SIZE)).unsqueeze(0).to(DEVICE) # Añadimos una dimensión para el batch y lo pasamos al dispositivo\n",
    " "
   ]
  },
  {
   "cell_type": "code",
   "execution_count": 13,
   "metadata": {},
   "outputs": [
    {
     "name": "stdout",
     "output_type": "stream",
     "text": [
      "Shape del tensor de entrada: torch.Size([1, 4, 84, 84])\n"
     ]
    }
   ],
   "source": [
    "# Verificamos el shape del tensor de entrada\n",
    "# el cual deberá ser de (1, números de cuadros, 84, 84)\n",
    "# Durante nuestro entrenamiento, la primera dimensión\n",
    "# será el tamaño del batch, pero en este caso, al crearse\n",
    "# una sola muestra, el tamaño es 1.\n",
    "print(f\"Shape del tensor de entrada: {obs_tensor_batch.shape}\")"
   ]
  },
  {
   "cell_type": "markdown",
   "metadata": {},
   "source": [
    "Los valores de Q se obtienen a partir de la salida de la red, cada columna representa el valor Q para cada acción posible en el estado actual. "
   ]
  },
  {
   "cell_type": "code",
   "execution_count": 14,
   "metadata": {},
   "outputs": [
    {
     "name": "stdout",
     "output_type": "stream",
     "text": [
      "Q-values shape: torch.Size([1, 4])\n"
     ]
    }
   ],
   "source": [
    "print(f\"Q-values shape: {cnn_model(obs_tensor_batch).shape}\") # shape: (1, num_actions)"
   ]
  },
  {
   "cell_type": "code",
   "execution_count": 15,
   "metadata": {},
   "outputs": [
    {
     "data": {
      "text/plain": [
       "tensor([[-0.0188,  0.0008,  0.0328,  0.0380]], device='mps:0',\n",
       "       grad_fn=<LinearBackward0>)"
      ]
     },
     "execution_count": 15,
     "metadata": {},
     "output_type": "execute_result"
    }
   ],
   "source": [
    "cnn_model(obs_tensor_batch) "
   ]
  },
  {
   "cell_type": "markdown",
   "metadata": {},
   "source": [
    "Podemos preguntar cuál es la acción con mayor valor Q en un estado."
   ]
  },
  {
   "cell_type": "code",
   "execution_count": 16,
   "metadata": {},
   "outputs": [
    {
     "data": {
      "text/plain": [
       "torch.return_types.max(\n",
       "values=tensor([0.0380], device='mps:0', grad_fn=<MaxBackward0>),\n",
       "indices=tensor([3], device='mps:0'))"
      ]
     },
     "execution_count": 16,
     "metadata": {},
     "output_type": "execute_result"
    }
   ],
   "source": [
    "cnn_model(obs_tensor_batch).max(1)"
   ]
  },
  {
   "cell_type": "markdown",
   "metadata": {},
   "source": [
    "En el siguiente ejemplo vamos a ver cómo tomar los valores de acciones deseables para un conjunto de estados. "
   ]
  },
  {
   "cell_type": "code",
   "execution_count": 17,
   "metadata": {},
   "outputs": [
    {
     "name": "stdout",
     "output_type": "stream",
     "text": [
      "Batch shape: torch.Size([3, 4, 84, 84])\n",
      "torch.Size([3, 1])\n",
      "Q-values: tensor([[-0.0399,  0.0014,  0.0332,  0.0316],\n",
      "        [-0.0319,  0.0112,  0.0292,  0.0156],\n",
      "        [-0.0356,  0.0033,  0.0296,  0.0224]], device='mps:0',\n",
      "       grad_fn=<LinearBackward0>)\n",
      "Q-values: tensor([[0.0014],\n",
      "        [0.0292],\n",
      "        [0.0224]], device='mps:0', grad_fn=<GatherBackward0>)\n"
     ]
    }
   ],
   "source": [
    "# Creamos 3 observaciones aleatorias para probar el modelo\n",
    "obs_ran1 = torch.rand(4, 84, 84)\n",
    "obs_ran2 = torch.rand(4, 84, 84)\n",
    "obs_ran3 = torch.rand(4, 84, 84)\n",
    "\n",
    "batch = torch.stack([obs_ran1, obs_ran2, obs_ran3], dim=0).to(DEVICE) # shape: (3, 4, 84, 84)\n",
    "print(f\"Batch shape: {batch.shape}\")\n",
    "\n",
    "actions =  torch.tensor([1, 2, 3], device=DEVICE).unsqueeze(1) # queremos la acción 1 para la primera observación, la acción 2 para la segunda y la acción 3 para la tercera\n",
    "print(actions.shape)\n",
    "\n",
    "Q_test = cnn_model(batch)\n",
    "print(f\"Q-values: {Q_test}\")\n",
    "print(f\"Q-values: {Q_test.gather(1, actions)}\") # https://pytorch.org/docs/main/generated/torch.gather.html"
   ]
  },
  {
   "cell_type": "markdown",
   "metadata": {},
   "source": [
    "## Phi \n",
    "\n",
    "La función para procesar los estados (phi en el paper) que es necesaria para poder usar el modelo de Pytorch con las representaciones de gym. Esta función pasa una observación de gym a un tensor de Pytorch y la normaliza.\n",
    "\n",
    "> Técnicamente la función phi tiene más responsabilidades, como la de apilar los frames y el downsampling. En nuestro caso se lo delegamos a los wrappers de gymnasium."
   ]
  },
  {
   "cell_type": "code",
   "execution_count": 18,
   "metadata": {
    "id": "oegpMg25t9I9",
    "pycharm": {
     "name": "#%%\n"
    }
   },
   "outputs": [
    {
     "name": "stdout",
     "output_type": "stream",
     "text": [
      "Observation shape: torch.Size([4, 84, 84])\n"
     ]
    }
   ],
   "source": [
    "def process_state(obs):\n",
    "    \"\"\"\n",
    "    Preprocess the state to be used as input for the model (transform to tensor).\n",
    "    \"\"\"\n",
    "    return torch.tensor(obs, dtype=torch.float32, device=DEVICE) / 255.0\n",
    "\n",
    "obs, _ = env.reset()\n",
    "obs_tensor = process_state(obs)\n",
    "print(f\"Observation shape: {obs_tensor.shape}\")"
   ]
  },
  {
   "cell_type": "markdown",
   "metadata": {
    "id": "z9B7ZY9Htj_F",
    "pycharm": {
     "name": "#%% md\n"
    }
   },
   "source": [
    "## Agente\n",
    "\n",
    "Vamos a definir una clase agente (abstracto), encargado de interactuar con el ambiente y entrenar los modelos. Los métdos definidos deben funcionar para ambos problemas simplemente cambiando el modelo a utilizar para cada ambiente.\n",
    "\n",
    "Abajo dejamos un esqueleto del mismo y las funciones a completar. Recomendamos no alterar la estructura del mismo, pero pueden definir las funciones auxiliares que consideren necesarias.\n",
    "\n",
    "> Para implementar esta funcionalidad se debe modificar los archivos **abstract_agent.py** y **dqn_agent.py**.\n",
    "\n",
    "Funciones a completar:\n",
    "\n",
    "\n",
    "1. **init**: que inicializa los parametros del agente.\n",
    "\n",
    "2. **compute_epsilon**: que computa el valor actual de epsilon en base al número de pasos actuales y si esta entrenando o no.\n",
    "\n",
    "3. **select_action**: Seleccionando acciones \"epsilongreedy-mente\" si estamos entranando y completamente greedy en otro caso.\n",
    "\n",
    "4. **train**: que entrena el agente por un número dado de episodios de largo determinado.\n",
    "\n",
    "5. **record_test_episode**: para grabar un episodio con el agente siempre seleccionando la mejor accion conocida."
   ]
  },
  {
   "cell_type": "markdown",
   "metadata": {
    "id": "BOD-ENZRtyMt",
    "pycharm": {
     "name": "#%% md\n"
    }
   },
   "source": [
    "## Entrenamiento"
   ]
  },
  {
   "cell_type": "code",
   "execution_count": 19,
   "metadata": {},
   "outputs": [],
   "source": [
    "#Hiperparámetros de entrenamiento del agente DQN\n",
    "TOTAL_STEPS = 10_000_000\n",
    "EPISODES = 10_000\n",
    "STEPS_PER_EPISODE = 20_000\n",
    "\n",
    "EPSILON_INI = 1\n",
    "EPSILON_MIN = 0.05\n",
    "EPSILON_ANNEAL_STEPS = 1_000_000\n",
    "\n",
    "EPISODE_BLOCK = 100\n",
    "\n",
    "BATCH_SIZE = 32\n",
    "BUFFER_SIZE = 50_000\n",
    "\n",
    "GAMMA = 0.995\n",
    "LEARNING_RATE = 1e-5"
   ]
  },
  {
   "cell_type": "code",
   "execution_count": 20,
   "metadata": {
    "id": "BsTl-pFqt10b",
    "pycharm": {
     "name": "#%%\n"
    }
   },
   "outputs": [
    {
     "name": "stderr",
     "output_type": "stream",
     "text": [
      "A.L.E: Arcade Learning Environment (version 0.10.2+unknown)\n",
      "[Powered by Stella]\n",
      "Game console created:\n",
      "  ROM file:  /opt/anaconda3/envs/obl_taller_ia/lib/python3.12/site-packages/ale_py/roms/breakout.bin\n",
      "  Cart Name: Breakout - Breakaway IV (1978) (Atari)\n",
      "  Cart MD5:  f34f08e5eb96e500e851a80be3277a56\n",
      "  Display Format:  AUTO-DETECT ==> NTSC\n",
      "  ROM Size:        2048\n",
      "  Bankswitch Type: AUTO-DETECT ==> 2K\n",
      "\n",
      "Running ROM file...\n",
      "Random seed is -254665204\n",
      "/opt/anaconda3/envs/obl_taller_ia/lib/python3.12/site-packages/gymnasium/wrappers/rendering.py:283: UserWarning: \u001b[33mWARN: Overwriting existing videos at /Users/gotero/facultad/2025/taller_ia/obligatorio/videos/dqn_training folder (try specifying a different `video_folder` for the `RecordVideo` wrapper if this is not desired)\u001b[0m\n",
      "  logger.warn(\n",
      "Entrenando:   0%|          | 15/10000 [00:19<3:51:55,  1.39s/episode, reward=0.733, epsilon=0.998, steps=2530]/var/folders/1s/blr559y52fn_mdjqmdysyrk80000gn/T/ipykernel_88491/1831500738.py:5: UserWarning: To copy construct from a tensor, it is recommended to use sourceTensor.detach().clone() or sourceTensor.detach().clone().requires_grad_(True), rather than torch.tensor(sourceTensor).\n",
      "  return torch.tensor(obs, dtype=torch.float32, device=DEVICE) / 255.0\n",
      "Entrenando:   0%|          | 15/10000 [00:20<3:46:01,  1.36s/episode, reward=0.733, epsilon=0.998, steps=2530]\n"
     ]
    },
    {
     "ename": "RuntimeError",
     "evalue": "linear(): input and weight.T shapes cannot be multiplied (32x81 and 2592x256)",
     "output_type": "error",
     "traceback": [
      "\u001b[31m---------------------------------------------------------------------------\u001b[39m",
      "\u001b[31mRuntimeError\u001b[39m                              Traceback (most recent call last)",
      "\u001b[36mCell\u001b[39m\u001b[36m \u001b[39m\u001b[32mIn[20]\u001b[39m\u001b[32m, line 17\u001b[39m\n\u001b[32m     13\u001b[39m net = DQN_CNN_Model(env.observation_space.shape, env.action_space.n).to(DEVICE)\n\u001b[32m     15\u001b[39m dqn_agent = DQNAgent(env, net, process_state, BUFFER_SIZE, BATCH_SIZE, LEARNING_RATE, GAMMA, epsilon_i=EPSILON_INI, epsilon_f=EPSILON_MIN, epsilon_anneal_steps=EPSILON_ANNEAL_STEPS, episode_block=EPISODE_BLOCK, device=DEVICE)\n\u001b[32m---> \u001b[39m\u001b[32m17\u001b[39m dqn_rewards = \u001b[43mdqn_agent\u001b[49m\u001b[43m.\u001b[49m\u001b[43mtrain\u001b[49m\u001b[43m(\u001b[49m\u001b[43mEPISODES\u001b[49m\u001b[43m,\u001b[49m\u001b[43m \u001b[49m\u001b[43mSTEPS_PER_EPISODE\u001b[49m\u001b[43m,\u001b[49m\u001b[43m \u001b[49m\u001b[43mTOTAL_STEPS\u001b[49m\u001b[43m)\u001b[49m\n\u001b[32m     19\u001b[39m env.close()\n",
      "\u001b[36mFile \u001b[39m\u001b[32m~/facultad/2025/taller_ia/obligatorio/abstract_agent.py:77\u001b[39m, in \u001b[36mAgent.train\u001b[39m\u001b[34m(self, number_episodes, max_steps_episode, max_steps)\u001b[39m\n\u001b[32m     69\u001b[39m \u001b[38;5;66;03m# Bucle principal de pasos dentro de un episodio\u001b[39;00m\n\u001b[32m     70\u001b[39m \u001b[38;5;28;01mfor\u001b[39;00m _ \u001b[38;5;129;01min\u001b[39;00m \u001b[38;5;28mrange\u001b[39m(max_steps):\n\u001b[32m     71\u001b[39m     \u001b[38;5;66;03m# TODO: Seleccionar acción epsilon-greedy usando select_action()\u001b[39;00m\n\u001b[32m     72\u001b[39m \n\u001b[32m     73\u001b[39m     \u001b[38;5;66;03m# Seleccionamos la acción a partir de la implementación propia de\u001b[39;00m\n\u001b[32m     74\u001b[39m     \u001b[38;5;66;03m# la clase abstracta. Luego, cada agente deberá implementar\u001b[39;00m\n\u001b[32m     75\u001b[39m     \u001b[38;5;66;03m# su propia lógica para seleccionar la acción.\u001b[39;00m\n\u001b[32m---> \u001b[39m\u001b[32m77\u001b[39m     action = \u001b[38;5;28;43mself\u001b[39;49m\u001b[43m.\u001b[49m\u001b[43mselect_action\u001b[49m\u001b[43m(\u001b[49m\u001b[43mstate_phi\u001b[49m\u001b[43m,\u001b[49m\u001b[43m \u001b[49m\u001b[43mtotal_steps\u001b[49m\u001b[43m,\u001b[49m\u001b[43m \u001b[49m\u001b[43mtrain\u001b[49m\u001b[43m=\u001b[49m\u001b[38;5;28;43;01mTrue\u001b[39;49;00m\u001b[43m)\u001b[49m\n\u001b[32m     79\u001b[39m     \u001b[38;5;66;03m# TODO: Ejecutar action = env.step(action)\u001b[39;00m\n\u001b[32m     80\u001b[39m \n\u001b[32m     81\u001b[39m     \u001b[38;5;66;03m# Ejecutamos la acción.\u001b[39;00m\n\u001b[32m     83\u001b[39m     next_state, reward, done, _, _ = \u001b[38;5;28mself\u001b[39m.env.step(action)\n",
      "\u001b[36mFile \u001b[39m\u001b[32m~/facultad/2025/taller_ia/obligatorio/dqn_agent.py:83\u001b[39m, in \u001b[36mDQNAgent.select_action\u001b[39m\u001b[34m(self, state, current_steps, train)\u001b[39m\n\u001b[32m     81\u001b[39m \u001b[38;5;66;03m# Calcular Q-values con policy_net\u001b[39;00m\n\u001b[32m     82\u001b[39m \u001b[38;5;28;01mwith\u001b[39;00m torch.no_grad():\n\u001b[32m---> \u001b[39m\u001b[32m83\u001b[39m     q_values = \u001b[38;5;28;43mself\u001b[39;49m\u001b[43m.\u001b[49m\u001b[43mpolicy_net\u001b[49m\u001b[43m(\u001b[49m\u001b[43mstate_tensor\u001b[49m\u001b[43m)\u001b[49m\n\u001b[32m     85\u001b[39m     \u001b[38;5;66;03m# Obtenemos un array de Q-values y seleccionamos la acción greedy\u001b[39;00m\n\u001b[32m     86\u001b[39m     \u001b[38;5;66;03m# con dimensiones 1 x 4\u001b[39;00m\n\u001b[32m     87\u001b[39m     greedy_action = q_values.argmax(dim=\u001b[32m1\u001b[39m).item()\n",
      "\u001b[36mFile \u001b[39m\u001b[32m/opt/anaconda3/envs/obl_taller_ia/lib/python3.12/site-packages/torch/nn/modules/module.py:1751\u001b[39m, in \u001b[36mModule._wrapped_call_impl\u001b[39m\u001b[34m(self, *args, **kwargs)\u001b[39m\n\u001b[32m   1749\u001b[39m     \u001b[38;5;28;01mreturn\u001b[39;00m \u001b[38;5;28mself\u001b[39m._compiled_call_impl(*args, **kwargs)  \u001b[38;5;66;03m# type: ignore[misc]\u001b[39;00m\n\u001b[32m   1750\u001b[39m \u001b[38;5;28;01melse\u001b[39;00m:\n\u001b[32m-> \u001b[39m\u001b[32m1751\u001b[39m     \u001b[38;5;28;01mreturn\u001b[39;00m \u001b[38;5;28;43mself\u001b[39;49m\u001b[43m.\u001b[49m\u001b[43m_call_impl\u001b[49m\u001b[43m(\u001b[49m\u001b[43m*\u001b[49m\u001b[43margs\u001b[49m\u001b[43m,\u001b[49m\u001b[43m \u001b[49m\u001b[43m*\u001b[49m\u001b[43m*\u001b[49m\u001b[43mkwargs\u001b[49m\u001b[43m)\u001b[49m\n",
      "\u001b[36mFile \u001b[39m\u001b[32m/opt/anaconda3/envs/obl_taller_ia/lib/python3.12/site-packages/torch/nn/modules/module.py:1762\u001b[39m, in \u001b[36mModule._call_impl\u001b[39m\u001b[34m(self, *args, **kwargs)\u001b[39m\n\u001b[32m   1757\u001b[39m \u001b[38;5;66;03m# If we don't have any hooks, we want to skip the rest of the logic in\u001b[39;00m\n\u001b[32m   1758\u001b[39m \u001b[38;5;66;03m# this function, and just call forward.\u001b[39;00m\n\u001b[32m   1759\u001b[39m \u001b[38;5;28;01mif\u001b[39;00m \u001b[38;5;129;01mnot\u001b[39;00m (\u001b[38;5;28mself\u001b[39m._backward_hooks \u001b[38;5;129;01mor\u001b[39;00m \u001b[38;5;28mself\u001b[39m._backward_pre_hooks \u001b[38;5;129;01mor\u001b[39;00m \u001b[38;5;28mself\u001b[39m._forward_hooks \u001b[38;5;129;01mor\u001b[39;00m \u001b[38;5;28mself\u001b[39m._forward_pre_hooks\n\u001b[32m   1760\u001b[39m         \u001b[38;5;129;01mor\u001b[39;00m _global_backward_pre_hooks \u001b[38;5;129;01mor\u001b[39;00m _global_backward_hooks\n\u001b[32m   1761\u001b[39m         \u001b[38;5;129;01mor\u001b[39;00m _global_forward_hooks \u001b[38;5;129;01mor\u001b[39;00m _global_forward_pre_hooks):\n\u001b[32m-> \u001b[39m\u001b[32m1762\u001b[39m     \u001b[38;5;28;01mreturn\u001b[39;00m \u001b[43mforward_call\u001b[49m\u001b[43m(\u001b[49m\u001b[43m*\u001b[49m\u001b[43margs\u001b[49m\u001b[43m,\u001b[49m\u001b[43m \u001b[49m\u001b[43m*\u001b[49m\u001b[43m*\u001b[49m\u001b[43mkwargs\u001b[49m\u001b[43m)\u001b[49m\n\u001b[32m   1764\u001b[39m result = \u001b[38;5;28;01mNone\u001b[39;00m\n\u001b[32m   1765\u001b[39m called_always_called_hooks = \u001b[38;5;28mset\u001b[39m()\n",
      "\u001b[36mFile \u001b[39m\u001b[32m~/facultad/2025/taller_ia/obligatorio/dqn_cnn_model.py:114\u001b[39m, in \u001b[36mDQN_CNN_Model.forward\u001b[39m\u001b[34m(self, obs)\u001b[39m\n\u001b[32m    111\u001b[39m result = result.view(result.size(\u001b[32m0\u001b[39m), -\u001b[32m1\u001b[39m)\n\u001b[32m    113\u001b[39m \u001b[38;5;66;03m# 3 Aplicamos las capas lineales\u001b[39;00m\n\u001b[32m--> \u001b[39m\u001b[32m114\u001b[39m result = F.relu(\u001b[38;5;28;43mself\u001b[39;49m\u001b[43m.\u001b[49m\u001b[43mfc1\u001b[49m\u001b[43m(\u001b[49m\u001b[43mresult\u001b[49m\u001b[43m)\u001b[49m)\n\u001b[32m    115\u001b[39m result = \u001b[38;5;28mself\u001b[39m.output(result)\n\u001b[32m    117\u001b[39m \u001b[38;5;66;03m# 4 Devolvemos el tensor de Q-values\u001b[39;00m\n",
      "\u001b[36mFile \u001b[39m\u001b[32m/opt/anaconda3/envs/obl_taller_ia/lib/python3.12/site-packages/torch/nn/modules/module.py:1751\u001b[39m, in \u001b[36mModule._wrapped_call_impl\u001b[39m\u001b[34m(self, *args, **kwargs)\u001b[39m\n\u001b[32m   1749\u001b[39m     \u001b[38;5;28;01mreturn\u001b[39;00m \u001b[38;5;28mself\u001b[39m._compiled_call_impl(*args, **kwargs)  \u001b[38;5;66;03m# type: ignore[misc]\u001b[39;00m\n\u001b[32m   1750\u001b[39m \u001b[38;5;28;01melse\u001b[39;00m:\n\u001b[32m-> \u001b[39m\u001b[32m1751\u001b[39m     \u001b[38;5;28;01mreturn\u001b[39;00m \u001b[38;5;28;43mself\u001b[39;49m\u001b[43m.\u001b[49m\u001b[43m_call_impl\u001b[49m\u001b[43m(\u001b[49m\u001b[43m*\u001b[49m\u001b[43margs\u001b[49m\u001b[43m,\u001b[49m\u001b[43m \u001b[49m\u001b[43m*\u001b[49m\u001b[43m*\u001b[49m\u001b[43mkwargs\u001b[49m\u001b[43m)\u001b[49m\n",
      "\u001b[36mFile \u001b[39m\u001b[32m/opt/anaconda3/envs/obl_taller_ia/lib/python3.12/site-packages/torch/nn/modules/module.py:1762\u001b[39m, in \u001b[36mModule._call_impl\u001b[39m\u001b[34m(self, *args, **kwargs)\u001b[39m\n\u001b[32m   1757\u001b[39m \u001b[38;5;66;03m# If we don't have any hooks, we want to skip the rest of the logic in\u001b[39;00m\n\u001b[32m   1758\u001b[39m \u001b[38;5;66;03m# this function, and just call forward.\u001b[39;00m\n\u001b[32m   1759\u001b[39m \u001b[38;5;28;01mif\u001b[39;00m \u001b[38;5;129;01mnot\u001b[39;00m (\u001b[38;5;28mself\u001b[39m._backward_hooks \u001b[38;5;129;01mor\u001b[39;00m \u001b[38;5;28mself\u001b[39m._backward_pre_hooks \u001b[38;5;129;01mor\u001b[39;00m \u001b[38;5;28mself\u001b[39m._forward_hooks \u001b[38;5;129;01mor\u001b[39;00m \u001b[38;5;28mself\u001b[39m._forward_pre_hooks\n\u001b[32m   1760\u001b[39m         \u001b[38;5;129;01mor\u001b[39;00m _global_backward_pre_hooks \u001b[38;5;129;01mor\u001b[39;00m _global_backward_hooks\n\u001b[32m   1761\u001b[39m         \u001b[38;5;129;01mor\u001b[39;00m _global_forward_hooks \u001b[38;5;129;01mor\u001b[39;00m _global_forward_pre_hooks):\n\u001b[32m-> \u001b[39m\u001b[32m1762\u001b[39m     \u001b[38;5;28;01mreturn\u001b[39;00m \u001b[43mforward_call\u001b[49m\u001b[43m(\u001b[49m\u001b[43m*\u001b[49m\u001b[43margs\u001b[49m\u001b[43m,\u001b[49m\u001b[43m \u001b[49m\u001b[43m*\u001b[49m\u001b[43m*\u001b[49m\u001b[43mkwargs\u001b[49m\u001b[43m)\u001b[49m\n\u001b[32m   1764\u001b[39m result = \u001b[38;5;28;01mNone\u001b[39;00m\n\u001b[32m   1765\u001b[39m called_always_called_hooks = \u001b[38;5;28mset\u001b[39m()\n",
      "\u001b[36mFile \u001b[39m\u001b[32m/opt/anaconda3/envs/obl_taller_ia/lib/python3.12/site-packages/torch/nn/modules/linear.py:125\u001b[39m, in \u001b[36mLinear.forward\u001b[39m\u001b[34m(self, input)\u001b[39m\n\u001b[32m    124\u001b[39m \u001b[38;5;28;01mdef\u001b[39;00m\u001b[38;5;250m \u001b[39m\u001b[34mforward\u001b[39m(\u001b[38;5;28mself\u001b[39m, \u001b[38;5;28minput\u001b[39m: Tensor) -> Tensor:\n\u001b[32m--> \u001b[39m\u001b[32m125\u001b[39m     \u001b[38;5;28;01mreturn\u001b[39;00m \u001b[43mF\u001b[49m\u001b[43m.\u001b[49m\u001b[43mlinear\u001b[49m\u001b[43m(\u001b[49m\u001b[38;5;28;43minput\u001b[39;49m\u001b[43m,\u001b[49m\u001b[43m \u001b[49m\u001b[38;5;28;43mself\u001b[39;49m\u001b[43m.\u001b[49m\u001b[43mweight\u001b[49m\u001b[43m,\u001b[49m\u001b[43m \u001b[49m\u001b[38;5;28;43mself\u001b[39;49m\u001b[43m.\u001b[49m\u001b[43mbias\u001b[49m\u001b[43m)\u001b[49m\n",
      "\u001b[31mRuntimeError\u001b[39m: linear(): input and weight.T shapes cannot be multiplied (32x81 and 2592x256)"
     ]
    }
   ],
   "source": [
    "from dqn_agent import DQNAgent\n",
    "\n",
    "env = make_env(ENV_NAME,\n",
    "                video_folder='./videos/dqn_training',\n",
    "                name_prefix=\"breakout\",\n",
    "                record_every=500,\n",
    "                grayscale=GRAY_SCALE,\n",
    "                screen_size=SCREEN_SIZE,\n",
    "                stack_frames=NUM_STACKED_FRAMES,\n",
    "                skip_frames=SKIP_FRAMES\n",
    "                )\n",
    "\n",
    "net = DQN_CNN_Model(env.observation_space.shape, env.action_space.n).to(DEVICE)\n",
    "\n",
    "dqn_agent = DQNAgent(env, net, process_state, BUFFER_SIZE, BATCH_SIZE, LEARNING_RATE, GAMMA, epsilon_i=EPSILON_INI, epsilon_f=EPSILON_MIN, epsilon_anneal_steps=EPSILON_ANNEAL_STEPS, episode_block=EPISODE_BLOCK, device=DEVICE)\n",
    "\n",
    "dqn_rewards = dqn_agent.train(EPISODES, STEPS_PER_EPISODE, TOTAL_STEPS)\n",
    "\n",
    "env.close()"
   ]
  },
  {
   "cell_type": "code",
   "execution_count": null,
   "metadata": {},
   "outputs": [],
   "source": [
    "env = make_env(ENV_NAME,\n",
    "                video_folder='./videos/dqn_validation',\n",
    "                name_prefix=\"breakout\",\n",
    "                record_every=1,\n",
    "                grayscale=GRAY_SCALE,\n",
    "                screen_size=SCREEN_SIZE,\n",
    "                stack_frames=NUM_STACKED_FRAMES,\n",
    "                skip_frames=SKIP_FRAMES\n",
    "                )\n",
    "\n",
    "dqn_agent.play(env, episodes=3)\n",
    "\n",
    "env.close()"
   ]
  },
  {
   "cell_type": "code",
   "execution_count": null,
   "metadata": {},
   "outputs": [],
   "source": [
    "# Ruta al archivo de vídeo en tu sistema de ficheros\n",
    "video_path = \"./videos/dqn_validation/breakout-episode-0.mp4\"\n",
    "\n",
    "# Muestra el vídeo\n",
    "Video(video_path, embed=True, width=600)"
   ]
  },
  {
   "cell_type": "markdown",
   "metadata": {},
   "source": [
    "#### Graficas \n",
    "..."
   ]
  },
  {
   "cell_type": "markdown",
   "metadata": {
    "id": "QETh1K7pt9I_"
   },
   "source": [
    "# Double Deep Q Learning\n",
    "\n",
    "Double DQN mejora la versión clásica de DQN corrigiendo el sesgo de sobreestimación de los valores \n",
    "𝑄\n",
    "Q. Para ello, desacopla la selección de la acción de su evaluación: en cada paso, la red online elige la acción que maximiza \n",
    "𝑄\n",
    "Q, pero la red objetivo distinta estima el valor de esa acción. Esta separación reduce el sesgo hacia valores demasiado optimistas y aporta mayor estabilidad al entrenamiento. El resto de la estructura —replay buffer, política ε-greedy, etc— se mantiene igual que en DQN, aprovechando así un diseño casi idéntico al original pero con resultados más fiables .\n",
    "\n",
    "Fuente: [arXiv:1509.06461](https://arxiv.org/abs/1509.06461)\n",
    "\n",
    "> Vamos a utilizar el mismo modelo de red neuronal creado para el problema anterior y la misma implementación de memoria, dejamos un esqueleto de un agente de Double Deep Q learning para completar en el archivo **double_dqn_agent.py**"
   ]
  },
  {
   "cell_type": "code",
   "execution_count": null,
   "metadata": {
    "id": "kDNkAtdMt9I_",
    "pycharm": {
     "name": "#%%\n"
    }
   },
   "outputs": [],
   "source": [
    "from double_dqn_agent import DoubleDQNAgent\n",
    "\n",
    "env = make_env(ENV_NAME,\n",
    "                video_folder='./videos/ddqn_training',\n",
    "                name_prefix=\"breakout\",\n",
    "                record_every=500,\n",
    "                grayscale=GRAY_SCALE,\n",
    "                screen_size=SCREEN_SIZE,\n",
    "                stack_frames=NUM_STACKED_FRAMES,\n",
    "                skip_frames=SKIP_FRAMES\n",
    "                )\n",
    "\n",
    "\n",
    "modelo_a = DQN_CNN_Model(env.observation_space.shape, env.action_space.n).to(DEVICE)\n",
    "modelo_b = DQN_CNN_Model(env.observation_space.shape, env.action_space.n).to(DEVICE)\n",
    "\n",
    "ddqn_agent = DoubleDQNAgent(env, modelo_a, modelo_b, process_state, BUFFER_SIZE, BATCH_SIZE, LEARNING_RATE, GAMMA, epsilon_i= EPSILON_INI, epsilon_f=EPSILON_MIN, epsilon_anneal_steps=EPSILON_ANNEAL_STEPS, episode_block = EPISODE_BLOCK, device=DEVICE)\n",
    "\n",
    "ddqn_rewards = ddqn_agent.train(EPISODES, STEPS_PER_EPISODE, TOTAL_STEPS)"
   ]
  },
  {
   "cell_type": "code",
   "execution_count": null,
   "metadata": {},
   "outputs": [],
   "source": [
    "env = make_env(ENV_NAME,\n",
    "                video_folder='./videos/ddqn_validation',\n",
    "                name_prefix=\"breakout\",\n",
    "                record_every=1,\n",
    "                grayscale=GRAY_SCALE,\n",
    "                screen_size=SCREEN_SIZE,\n",
    "                stack_frames=NUM_STACKED_FRAMES,\n",
    "                skip_frames=SKIP_FRAMES\n",
    "                )\n",
    "\n",
    "ddqn_agent.play(env, episodes=3)\n",
    "\n",
    "env.close()"
   ]
  },
  {
   "cell_type": "code",
   "execution_count": null,
   "metadata": {},
   "outputs": [],
   "source": [
    "# Ruta al archivo de vídeo en tu sistema de ficheros\n",
    "video_path = \"./videos/ddqn_validation/breakout-episode-0.mp4\"\n",
    "\n",
    "# Muestra el vídeo\n",
    "Video(video_path, embed=True, width=600)"
   ]
  },
  {
   "cell_type": "markdown",
   "metadata": {},
   "source": [
    "#### Graficas \n",
    "..."
   ]
  },
  {
   "cell_type": "markdown",
   "metadata": {},
   "source": [
    "# Experimentación\n",
    "Aquí con libertad total, pueden probar diferentes arquitecturas de red, diferentes hiperparámetros, diferentes técnicas de exploración, etc.\n",
    "..."
   ]
  },
  {
   "cell_type": "markdown",
   "metadata": {
    "id": "YNNvsKiEt9I_"
   },
   "source": [
    "# Comparaciones, Resultados, Comentarios...\n",
    "De aquí en adelante son libres de presentar como gusten los resultados comparativos de las técnicas.\n",
    "..."
   ]
  }
 ],
 "metadata": {
  "accelerator": "GPU",
  "colab": {
   "provenance": []
  },
  "kernelspec": {
   "display_name": "obl_taller_ia",
   "language": "python",
   "name": "python3"
  },
  "language_info": {
   "codemirror_mode": {
    "name": "ipython",
    "version": 3
   },
   "file_extension": ".py",
   "mimetype": "text/x-python",
   "name": "python",
   "nbconvert_exporter": "python",
   "pygments_lexer": "ipython3",
   "version": "3.12.10"
  }
 },
 "nbformat": 4,
 "nbformat_minor": 1
}
