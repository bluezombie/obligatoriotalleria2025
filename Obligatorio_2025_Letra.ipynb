{
 "cells": [
  {
   "cell_type": "markdown",
   "metadata": {},
   "source": [
    "# Obligatorio - Taller Agentes Inteligentes 2025\n",
    "\n",
    "En este trabajo obligatorio aplicaremos los conceptos vistos en el curso para diseñar, implementar y evaluar agentes capaces de aprender a jugar al clásico **Breakout** de Atari, utilizando el entorno provisto por Farama Gymnasium ([https://ale.farama.org/environments/breakout/](https://ale.farama.org/environments/breakout/)). \n",
    "\n",
    "<p align=\"center\">\n",
    "  <img src=\"https://media.tenor.com/oMxHgRrISJsAAAAM/atari-deep-learning.gif\" alt=\"Atari Deep Learning\"/>\n",
    "</p>\n",
    "\n",
    "\n",
    "El ejercicio se enmarca en un contexto de aprendizaje práctico, donde trabajaremos con las interfaces estándar de Gymnasium para:\n",
    "\n",
    "1. **Profundizar en algoritmos de valor**: implementaremos y compararemos dos variantes de Q-Learning basadas en redes neuronales profundas:\n",
    "   * **Deep Q Learning (DQN)**\n",
    "   * **Double Deep Q Learning (DDQN)**\n",
    "2. **Evaluar rendimiento y estabilidad**: registraremos las recompensas obtenidas durante el entrenamiento de cada agente y analizaremos su comportamiento mediante gráficas comparativas.\n",
    "3. **Demostrar resultados de forma visual**: capturaremos vídeos que muestren a cada agente “resolviendo” el entorno, entendido como la habilidad de romper al menos cinco bloques en una partida.\n",
    "\n",
    "Debido a las limitaciones de tiempo y cómputo propias de un entorno de curso, no se espera entrenar modelos durante más de diez horas por agente. Por ello, será fundamental:\n",
    "\n",
    "* Integrar puntos de **checkpoint** para guardar periódicamente los pesos de la red.\n",
    "* Seguir en los puntos 2 y 3 la arquitectura y técnicas originales propuestas en los papers seminales de DQN y DDQN, dejando la experimentación adicional para el punto extra.\n",
    "* Flexibilizar la notebook de guía: pueden reorganizarla o dividirla en múltiples archivos según su conveniencia.\n"
   ]
  },
  {
   "cell_type": "markdown",
   "metadata": {},
   "source": [
    "## Objetivos y tareas\n",
    "\n",
    "1. **Completar la implementación**\n",
    "   * Rellenar el código faltante en la notebook y en los módulos auxiliares para que los agentes puedan interactuar con el entorno de Breakout.\n",
    "2. **Entrenar agentes**\n",
    "   * Ajustar y entrenar un **DQN** que alcance la condición de “resolver” (romper ≥ 10 bloques).\n",
    "   * Ajustar y entrenar un **DDQN** con la misma meta de desempeño.\n",
    "3. **Visualizar y analizar resultados**\n",
    "   * Generar **gráficas comparativas** de las recompensas obtenidas por ambos agentes en el mismo entorno (una gráfica por ambiente). Además se sugiere gráficas que muestren el valor de la función de valor Q para cada agente.\n",
    "   * Extraer **al menos dos conclusiones** por gráfica, comentando diferencias en convergencia, estabilidad y comportamiento exploratorio.\n",
    "4. **Registro de demostraciones**\n",
    "   * Grabar y entregar un **video demostrativo** de cada agente resolviendo el entorno.\n",
    "5. **Experimentación**\n",
    "   * Probar otras arquitecturas, técnicas de mejora o módulos de procesamiento de entradas más avanzados, documentando brevemente su impacto/"
   ]
  },
  {
   "cell_type": "markdown",
   "metadata": {},
   "source": [
    "## Criterios de evaluación\n",
    "\n",
    "| Criterio                                  | Descripción                                                  | Peso |\n",
    "| ----------------------------------------- | ------------------------------------------------------------ | ---- |\n",
    "| **Implementación y rendimiento**          | DQN y DDQN completados; cada agente rompe ≥ 10 bloques       | 40%  |\n",
    "| **Estructura y narrativa de la notebook** | Secciones claras, explicación de decisiones, “historia”      | 20%  |\n",
    "| **Análisis de resultados**                | Gráficas comparativas; ≥ 2 conclusiones por gráfico          | 20%  |\n",
    "| **Presentación visual**                   | Vídeos demostrativos de cada agente                          | 10%  |\n",
    "| **Experimentación**                       | Experimentación adicional documentada y analizada brevemente | 10%  |"
   ]
  },
  {
   "cell_type": "markdown",
   "metadata": {},
   "source": [
    "## Bibliografía\n",
    "\n",
    "* **Mnih, V.**, Kavukcuoglu, K., Silver, D., Rusu, A. A., Veness, J., Bellemare, M. G., … Hassabis, D. (2013). *Playing Atari with Deep Reinforcement Learning*. [arXiv:1312.5602](https://arxiv.org/abs/1312.5602)\n",
    "* **van Hasselt, H.**, Guez, A., & Silver, D. (2015). *Deep Reinforcement Learning with Double Q-learning*. [arXiv:1509.06461](https://arxiv.org/abs/1509.06461)\n",
    "* **Sutton, R. S.**, & Barto, A. G. (2018). *Reinforcement Learning: An Introduction* (2nd ed.), capítulo 16.5: “Human-level Video Game Play”. MIT Press."
   ]
  },
  {
   "cell_type": "markdown",
   "metadata": {},
   "source": [
    "## Setup"
   ]
  },
  {
   "cell_type": "markdown",
   "metadata": {
    "id": "gc6t9etEt9I2",
    "pycharm": {
     "name": "#%%\n"
    }
   },
   "source": [
    "**Imports**"
   ]
  },
  {
   "cell_type": "code",
   "execution_count": 1,
   "metadata": {
    "id": "cwHCw6PMt9I3",
    "pycharm": {
     "name": "#%%\n"
    }
   },
   "outputs": [],
   "source": [
    "import os\n",
    "import torch\n",
    "import numpy as np\n",
    "import random\n",
    "import numpy as np\n",
    "import torch.nn as nn\n",
    "import torch.nn.functional as F\n",
    "from torchinfo import summary\n",
    "import gymnasium\n",
    "import ale_py\n",
    "from utils import make_env, show_observation_stack\n",
    "from IPython.display import Video"
   ]
  },
  {
   "cell_type": "markdown",
   "metadata": {},
   "source": [
    "ALE (Atari Learning Environment) es un entorno de aprendizaje para videojuegos de Atari. En este caso, utilizaremos el entorno de Breakout. Es necesario entender que se separa el entorno de los roms de Atari, que son los juegos en sí. El entorno de ALE permite interactuar con los juegos de Atari a través de una API estándar, facilitando la implementación de algoritmos de aprendizaje por refuerzo.\n",
    "\n",
    "Debemos instalar los roms por separado, para ello primero tenemos que saber donde están los roms de Atari. "
   ]
  },
  {
   "cell_type": "code",
   "execution_count": 2,
   "metadata": {},
   "outputs": [
    {
     "name": "stdout",
     "output_type": "stream",
     "text": [
      "/opt/anaconda3/envs/obl_taller_ia/lib/python3.12/site-packages/ale_py/roms\n"
     ]
    }
   ],
   "source": [
    "gymnasium.register_envs(ale_py) # registramos todos los entornos de ale_py\n",
    "ruta_init = ale_py.roms.__file__ # debemos saber donde se encuentra la carpeta roms\n",
    "ALE_ROMS_PATH = os.path.dirname(ruta_init)\n",
    "print(ALE_ROMS_PATH)"
   ]
  },
  {
   "cell_type": "code",
   "execution_count": 3,
   "metadata": {},
   "outputs": [
    {
     "name": "stdout",
     "output_type": "stream",
     "text": [
      "ROMs path: /opt/anaconda3/envs/obl_taller_ia/lib/python3.12/site-packages/ale_py/roms\n"
     ]
    }
   ],
   "source": [
    "print(f\"ROMs path: {ALE_ROMS_PATH}\")"
   ]
  },
  {
   "cell_type": "markdown",
   "metadata": {},
   "source": [
    "Podemos usar los siguientes comando para instalar los roms y colocalos en la carpeta correcta."
   ]
  },
  {
   "cell_type": "code",
   "execution_count": null,
   "metadata": {},
   "outputs": [],
   "source": [
    "!pip install \"autorom[accept-rom-license]\"\n",
    "!AutoROM --accept-license --install-dir {ALE_ROMS_PATH}"
   ]
  },
  {
   "cell_type": "markdown",
   "metadata": {},
   "source": [
    "Fijamos la semilla para que los resultados sean reproducibles"
   ]
  },
  {
   "cell_type": "code",
   "execution_count": 4,
   "metadata": {},
   "outputs": [],
   "source": [
    "SEED = 23\n",
    "\n",
    "torch.manual_seed(SEED)\n",
    "torch.backends.cudnn.deterministic=True # https://discuss.pytorch.org/t/what-is-the-differenc-between-cudnn-deterministic-and-cudnn-benchmark/38054\n",
    "torch.backends.cudnn.benchmark=True # https://discuss.pytorch.org/t/what-does-torch-backends-cudnn-benchmark-do/5936/4\n",
    "np.random.seed(SEED)\n",
    "random.seed(SEED)"
   ]
  },
  {
   "cell_type": "markdown",
   "metadata": {},
   "source": [
    "Vemos que dispositivo tenemos, si es GPU, MPS o CPU. **El uso de GPU es altamente recomendable** para acelerar el entrenamiento de los modelos. "
   ]
  },
  {
   "cell_type": "code",
   "execution_count": 5,
   "metadata": {},
   "outputs": [
    {
     "name": "stdout",
     "output_type": "stream",
     "text": [
      "Device: mps\n"
     ]
    }
   ],
   "source": [
    "# Algunas constantes\n",
    "\n",
    "# definimos el dispositivo que vamos a usar\n",
    "DEVICE = \"cpu\"  # por defecto, usamos la CPU\n",
    "if torch.cuda.is_available():\n",
    "    DEVICE = \"cuda\"  # si hay GPU, usamos la GPU\n",
    "elif torch.backends.mps.is_available():\n",
    "    DEVICE = \"mps\"  # si no hay GPU, pero hay MPS, usamos MPS\n",
    "\n",
    "print(f\"Device: {DEVICE}\")"
   ]
  },
  {
   "cell_type": "markdown",
   "metadata": {},
   "source": [
    "## Preprocesando Atari\n",
    "\n",
    "Para reproducir fielmente el enfoque de Mnih et al. (2013) y reducir la carga computacional al trabajar con imágenes de Atari (210 × 160 píxeles, 128 colores), aplicamos el siguiente preprocesado φ a las últimas **4** frames del entorno:\n",
    "\n",
    "1. **Conversión a escala de grises**\n",
    "   Eliminamos la información de color (GRAYSCALE = True), pues la luminosidad es suficiente para capturar la dinámica de juego y reduce drásticamente la dimensionalidad de la entrada.\n",
    "\n",
    "2. **Down-sampling y recorte**\n",
    "   * Redimensionamos la imagen original a 110 × 84 píxeles, manteniendo la proporción horizontal.\n",
    "   * Recortamos un área central de 84 × 84 píxeles que contiene la “zona de juego”, descartando bordes innecesarios.\n",
    "     Este paso (SCREEN_SIZE = 84) no solo concentra la atención del modelo en la región relevante, sino que también garantiza un tamaño cuadrado compatible con las implementaciones de convoluciones en GPU.\n",
    "\n",
    "3. **Saltos temporales (frame skipping)**\n",
    "   Procesamos cada 4 frames (SKIP_FRAMES = 4), repitiendo la misma acción durante esos pasos. Esto reduce la redundancia temporal, acelera el entrenamiento y mantiene la coherencia del movimiento de la paleta y la bola.\n",
    "\n",
    "4. **Apilamiento de frames**\n",
    "   Finalmente, acumulamos las últimas 4 imágenes preprocesadas (NUM_STACKED_FRAMES = 4) en un único tensor de entrada. Así el agente puede inferir la velocidad y dirección de los elementos móviles a partir de la diferencia entre frames.\n",
    "\n",
    "Este esquema de preprocesado es fundamental para disminuir el espacio de entrada, acelerar las convoluciones y proporcionar al Q-net una representación compacta y rica en información dinámica, tal como se describe en el algoritmo 1 del paper original .\n",
    "\n",
    "> Se recomienda ver el método `make_env` en el archivo `utils.py` para entender cómo se implementa este preprocesado. "
   ]
  },
  {
   "cell_type": "code",
   "execution_count": 6,
   "metadata": {},
   "outputs": [],
   "source": [
    "GRAY_SCALE = True # si True, convertimos la imagen a escala de grises\n",
    "SCREEN_SIZE = 84 # redimensionamos a SCREEN_SIZExSCREEN_SIZE\n",
    "NUM_STACKED_FRAMES = 4 # apilamos NUM_STACKED_FRAMES frames\n",
    "SKIP_FRAMES = 4 # saltamos SKIP_FRAMES frames (haciendo la misma acción)"
   ]
  },
  {
   "cell_type": "code",
   "execution_count": 7,
   "metadata": {
    "colab": {
     "base_uri": "https://localhost:8080/"
    },
    "id": "loVxQPrwt9I5",
    "outputId": "18b7ed97-88dd-4b1e-a2cc-b2636686bfc7"
   },
   "outputs": [
    {
     "name": "stderr",
     "output_type": "stream",
     "text": [
      "A.L.E: Arcade Learning Environment (version 0.10.2+unknown)\n",
      "[Powered by Stella]\n",
      "Game console created:\n",
      "  ROM file:  /opt/anaconda3/envs/obl_taller_ia/lib/python3.12/site-packages/ale_py/roms/breakout.bin\n",
      "  Cart Name: Breakout - Breakaway IV (1978) (Atari)\n",
      "  Cart MD5:  f34f08e5eb96e500e851a80be3277a56\n",
      "  Display Format:  AUTO-DETECT ==> NTSC\n",
      "  ROM Size:        2048\n",
      "  Bankswitch Type: AUTO-DETECT ==> 2K\n",
      "\n",
      "Running ROM file...\n",
      "Random seed is -477145708\n",
      "/opt/anaconda3/envs/obl_taller_ia/lib/python3.12/site-packages/gymnasium/wrappers/rendering.py:283: UserWarning: \u001b[33mWARN: Overwriting existing videos at /Users/gotero/facultad/2025/taller_ia/obligatorio/videos/random folder (try specifying a different `video_folder` for the `RecordVideo` wrapper if this is not desired)\u001b[0m\n",
      "  logger.warn(\n"
     ]
    },
    {
     "data": {
      "image/png": "[encoded data removed]",
      "text/plain": [
       "<Figure size 640x480 with 1 Axes>"
      ]
     },
     "metadata": {},
     "output_type": "display_data"
    },
    {
     "data": {
      "image/png": "[encoded data removed]",
      "text/plain": [
       "<Figure size 640x480 with 1 Axes>"
      ]
     },
     "metadata": {},
     "output_type": "display_data"
    },
    {
     "data": {
      "image/png": "[encoded data removed]",
      "text/plain": [
       "<Figure size 640x480 with 1 Axes>"
      ]
     },
     "metadata": {},
     "output_type": "display_data"
    },
    {
     "data": {
      "image/png": "[encoded data removed]",
      "text/plain": [
       "<Figure size 640x480 with 1 Axes>"
      ]
     },
     "metadata": {},
     "output_type": "display_data"
    },
    {
     "name": "stdout",
     "output_type": "stream",
     "text": [
      "Episode 1 finished with total reward: 0\n"
     ]
    }
   ],
   "source": [
    "# https://ale.farama.org/environments/breakout/\n",
    "ENV_NAME = \"ALE/Breakout-v5\" \n",
    "\n",
    "env = make_env(ENV_NAME,\n",
    "                video_folder='./videos/random',\n",
    "                name_prefix=\"breakout\",\n",
    "                record_every=1,\n",
    "                grayscale=GRAY_SCALE,\n",
    "                screen_size=SCREEN_SIZE,\n",
    "                stack_frames=NUM_STACKED_FRAMES,\n",
    "                skip_frames=SKIP_FRAMES\n",
    "                )\n",
    "\n",
    "for episode_num in range(1):\n",
    "    obs, info = env.reset()\n",
    "    show_observation_stack(obs)\n",
    "    reward_total = 0\n",
    "    episode_over = False\n",
    "    while not episode_over:\n",
    "        action = env.action_space.sample()  # seleccionamos una acción aleatoria\n",
    "        obs, reward, terminated, truncated, info = env.step(action)\n",
    "        reward_total += reward\n",
    "        episode_over = terminated or truncated\n",
    "    print(f\"Episode {episode_num + 1} finished with total reward: {reward_total}\")\n",
    "\n",
    "env.close()"
   ]
  },
  {
   "cell_type": "markdown",
   "metadata": {},
   "source": [
    "Además, podemos mostrar los videos capturados por el entorno de Atari de la siguiente manera:"
   ]
  },
  {
   "cell_type": "code",
   "execution_count": 8,
   "metadata": {},
   "outputs": [
    {
     "data": {
      "text/html": [
       "<video controls  width=\"600\" >\n",
       " <source src=\"data:video/mp4;base64,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\" type=\"video/mp4\">\n",
       " Your browser does not support the video tag.\n",
       " </video>"
      ],
      "text/plain": [
       "<IPython.core.display.Video object>"
      ]
     },
     "execution_count": 8,
     "metadata": {},
     "output_type": "execute_result"
    }
   ],
   "source": [
    "# Ruta al archivo de vídeo en tu sistema de ficheros\n",
    "video_path = \"./videos/random/breakout-episode-0.mp4\"\n",
    "\n",
    "# Muestra el vídeo\n",
    "Video(video_path, embed=True, width=600)"
   ]
  },
  {
   "cell_type": "markdown",
   "metadata": {
    "id": "2bYVG_TKt9I5"
   },
   "source": [
    "# Exploración del entorno"
   ]
  },
  {
   "cell_type": "code",
   "execution_count": 9,
   "metadata": {},
   "outputs": [
    {
     "name": "stdout",
     "output_type": "stream",
     "text": [
      "Actions shape: Discrete(4)\n",
      "Observation shape: (4, 84, 84)\n",
      "(4, 84, 84),\n",
      " 0,\n",
      " False,\n",
      " {'lives': 5, 'episode_frame_number': 11, 'frame_number': 540}\n"
     ]
    }
   ],
   "source": [
    "print(\"Actions shape:\",env.action_space)\n",
    "print(\"Observation shape:\",env.observation_space.shape)\n",
    "env.reset()\n",
    "next_state, reward, terminated, truncated, info = env.step(action=0)\n",
    "\n",
    "print(f\"{next_state.shape},\\n {reward},\\n {terminated},\\n {info}\")"
   ]
  },
  {
   "cell_type": "markdown",
   "metadata": {},
   "source": [
    "### Acciones\n",
    "..."
   ]
  },
  {
   "cell_type": "markdown",
   "metadata": {},
   "source": [
    "### Observaciones\n",
    "..."
   ]
  },
  {
   "cell_type": "markdown",
   "metadata": {
    "id": "XIHpwiaat9I7"
   },
   "source": [
    "# Deep Q Learning\n",
    "\n",
    "Deep Q Learning extiende el algoritmo clásico de Q-learning al emplear una **red neuronal profunda** como aproximador de la función de valor $Q(s,a)$. Inspirado en Mnih et al. (2013), este método utiliza una **red convolucional** para procesar directamente las imágenes del entorno Atari, un **replay buffer** para romper la correlación temporal de las muestras. La política sigue un esquema **ε-greedy**, balanceando exploración y explotación, y se entrena minimizando el error de la ecuación de Bellman sobre lotes de transiciones muestreadas de manera aleatoria.\n",
    "\n",
    "<p align=\"center\">\n",
    "  <img src=\"https://www.researchgate.net/profile/Faris-Mismar/publication/327045314/figure/fig4/AS:819677282455553@1572437701142/Structure-of-the-neural-network-used-for-the-Deep-Q-learning-Network-implementation-with.png\" alt=\"DQN\"/>\n",
    "</p>\n",
    "\n",
    "Fuente: [arXiv:1312.5602](https://arxiv.org/abs/1312.5602)"
   ]
  },
  {
   "cell_type": "markdown",
   "metadata": {
    "id": "ajTGajUftSgY",
    "pycharm": {
     "name": "#%% md\n"
    }
   },
   "source": [
    "## Memoria\n",
    "\n",
    "El algoritmo de Deep Q Learning presentado en el paper utiliza una memoria (llamada Replay Memory) para almacenar transiciones pasadas. Tuplas que contienen un estado base, la accion tomada, la recompensa obtenida, una bandera que indica si el siguiente estado es final o no; y el estado siguiente.\n",
    "\n",
    "Esta memoria es circular, es decir, tiene un límite maximo de elementos y una vez esté llena comienza a reemplazar los elementos más viejos.\n",
    "\n",
    "Vamos a necesitar crear una función **sample** que obtiene una mustra aleatoria de elementos de la memoria.  Esto puede ser una lista de Transiciones o listas separadas (pero alineadas) de los elementos que las componen.\n",
    "\n",
    "\n",
    "> Para implementar esta funcionalidad se debe modificar el archivo **replay_memory.py**"
   ]
  },
  {
   "cell_type": "code",
   "execution_count": 10,
   "metadata": {
    "id": "scPtpbz4tTAh",
    "outputId": "0890f48a-e673-4416-bd69-7dcf2730ba64",
    "pycharm": {
     "name": "#%%\n"
    }
   },
   "outputs": [
    {
     "name": "stdout",
     "output_type": "stream",
     "text": [
      "Memory size: 3\n",
      "\n",
      "Memory sample:\n",
      "Sample 0: Transition(state='state2', action='action2', reward='reward2', done='done2', next_state='next_state2')\n",
      "Sample 1: Transition(state='state4', action='action4', reward='reward4', done='done4', next_state='next_state4')\n"
     ]
    }
   ],
   "source": [
    "from replay_memory import ReplayMemory, Transition\n",
    "\n",
    "# Creamos la memoria de repetición\n",
    "replay_memory = ReplayMemory(3)\n",
    "\n",
    "# Añadimos transiciones a la memoria (solo las 3 últimas se guardan)\n",
    "replay_memory.add('state1', 'action1', 'reward1', 'done1', 'next_state1' )\n",
    "replay_memory.add('state2', 'action2', 'reward2', 'done2', 'next_state2')\n",
    "replay_memory.add('state3', 'action3', 'reward3', 'done3', 'next_state3')\n",
    "replay_memory.add('state4', 'action4', 'reward4', 'done4', 'next_state4')\n",
    "\n",
    "# Mostramos el tamaño de la memoria\n",
    "print(f\"Memory size: {len(replay_memory)}\\n\")\n",
    "\n",
    "# Mostramos un sample de la memoria\n",
    "sampled = replay_memory.sample(2)\n",
    "print(f\"Memory sample:\")\n",
    "for i, sample in enumerate(sampled):\n",
    "    print(f\"Sample {i}: {sample}\")\n"
   ]
  },
  {
   "cell_type": "markdown",
   "metadata": {
    "id": "j7Ygv5Mjtb-F",
    "pycharm": {
     "name": "#%% md\n"
    }
   },
   "source": [
    "## Modelo\n",
    "\n",
    "Vamos a usar un mismo modelo FeedForward para estos dos problemas (entrenado en cada problema particular). Recomendamos simplicidad en la creación del mismo, pero tienen total libertad al momento de implementarlo.\n",
    "\n",
    "> Para implementar esta funcionalidad se debe modificar el archivo **dqn_cnn_model.py**. Se recomienda empezar por una arquitectura simple como la que se muestra en el paper de Mnih et al. (2013) y luego experimentar con arquitecturas más complejas."
   ]
  },
  {
   "cell_type": "code",
   "execution_count": 11,
   "metadata": {
    "id": "bkNBvJB6ryp7",
    "pycharm": {
     "name": "#%%\n"
    }
   },
   "outputs": [
    {
     "name": "stdout",
     "output_type": "stream",
     "text": [
      "Actions shape: Discrete(4)\n",
      "Observatiion shape: (4, 84, 84)\n"
     ]
    },
    {
     "name": "stderr",
     "output_type": "stream",
     "text": [
      "A.L.E: Arcade Learning Environment (version 0.10.2+unknown)\n",
      "[Powered by Stella]\n",
      "Game console created:\n",
      "  ROM file:  /opt/anaconda3/envs/obl_taller_ia/lib/python3.12/site-packages/ale_py/roms/breakout.bin\n",
      "  Cart Name: Breakout - Breakaway IV (1978) (Atari)\n",
      "  Cart MD5:  f34f08e5eb96e500e851a80be3277a56\n",
      "  Display Format:  AUTO-DETECT ==> NTSC\n",
      "  ROM Size:        2048\n",
      "  Bankswitch Type: AUTO-DETECT ==> 2K\n",
      "\n",
      "Running ROM file...\n",
      "Random seed is -1782411937\n",
      "/opt/anaconda3/envs/obl_taller_ia/lib/python3.12/site-packages/gymnasium/wrappers/rendering.py:416: UserWarning: \u001b[33mWARN: Unable to save last video! Did you call close()?\u001b[0m\n",
      "  logger.warn(\"Unable to save last video! Did you call close()?\")\n"
     ]
    },
    {
     "data": {
      "text/plain": [
       "==========================================================================================\n",
       "Layer (type:depth-idx)                   Output Shape              Param #\n",
       "==========================================================================================\n",
       "DQN_CNN_Model                            [32, 4]                   --\n",
       "├─Conv2d: 1-1                            [32, 16, 20, 20]          4,112\n",
       "├─Conv2d: 1-2                            [32, 32, 9, 9]            8,224\n",
       "├─Linear: 1-3                            [32, 256]                 663,808\n",
       "├─Linear: 1-4                            [32, 4]                   1,028\n",
       "==========================================================================================\n",
       "Total params: 677,172\n",
       "Trainable params: 677,172\n",
       "Non-trainable params: 0\n",
       "Total mult-adds (Units.MEGABYTES): 95.22\n",
       "==========================================================================================\n",
       "Input size (MB): 3.61\n",
       "Forward/backward pass size (MB): 2.37\n",
       "Params size (MB): 2.71\n",
       "Estimated Total Size (MB): 8.69\n",
       "=========================================================================================="
      ]
     },
     "execution_count": 11,
     "metadata": {},
     "output_type": "execute_result"
    }
   ],
   "source": [
    "from dqn_cnn_model import DQN_CNN_Model\n",
    "\n",
    "env = make_env(ENV_NAME,\n",
    "                record_every=None,\n",
    "                grayscale=GRAY_SCALE,\n",
    "                screen_size=SCREEN_SIZE,\n",
    "                stack_frames=NUM_STACKED_FRAMES,\n",
    "                skip_frames=SKIP_FRAMES\n",
    "                )\n",
    "print(\"Actions shape:\",env.action_space)\n",
    "print(\"Observatiion shape:\",env.observation_space.shape)\n",
    "\n",
    "env.close()\n",
    "\n",
    "cnn_model = DQN_CNN_Model(env.observation_space.shape, env.action_space.n).to(DEVICE)\n",
    "summary(cnn_model, input_size=(32, SKIP_FRAMES, SCREEN_SIZE, SCREEN_SIZE), device=DEVICE) # 32 es el batch size"
   ]
  },
  {
   "cell_type": "markdown",
   "metadata": {},
   "source": [
    "La red esta definida para que reciba un tensor de 4 dimensiones (batch_size, num_frames, height, width) y devuelve un tensor de 2 dimensiones (batch_size, num_actions). La función `forward` es la encargada de definir el flujo de datos a través de la red. En este caso, se utiliza una red convolucional seguida de capas totalmente conectadas"
   ]
  },
  {
   "cell_type": "code",
   "execution_count": 12,
   "metadata": {},
   "outputs": [],
   "source": [
    "obs_tensor_batch = torch.rand((NUM_STACKED_FRAMES,SCREEN_SIZE,SCREEN_SIZE)).unsqueeze(0).to(DEVICE) # Añadimos una dimensión para el batch y lo pasamos al dispositivo\n",
    " "
   ]
  },
  {
   "cell_type": "code",
   "execution_count": 13,
   "metadata": {},
   "outputs": [
    {
     "name": "stdout",
     "output_type": "stream",
     "text": [
      "Shape del tensor de entrada: torch.Size([1, 4, 84, 84])\n"
     ]
    }
   ],
   "source": [
    "# Verificamos el shape del tensor de entrada\n",
    "# el cual deberá ser de (1, números de cuadros, 84, 84)\n",
    "# Durante nuestro entrenamiento, la primera dimensión\n",
    "# será el tamaño del batch, pero en este caso, al crearse\n",
    "# una sola muestra, el tamaño es 1.\n",
    "print(f\"Shape del tensor de entrada: {obs_tensor_batch.shape}\")"
   ]
  },
  {
   "cell_type": "markdown",
   "metadata": {},
   "source": [
    "Los valores de Q se obtienen a partir de la salida de la red, cada columna representa el valor Q para cada acción posible en el estado actual. "
   ]
  },
  {
   "cell_type": "code",
   "execution_count": 14,
   "metadata": {},
   "outputs": [
    {
     "name": "stdout",
     "output_type": "stream",
     "text": [
      "Q-values shape: torch.Size([1, 4])\n"
     ]
    }
   ],
   "source": [
    "print(f\"Q-values shape: {cnn_model(obs_tensor_batch).shape}\") # shape: (1, num_actions)"
   ]
  },
  {
   "cell_type": "code",
   "execution_count": 15,
   "metadata": {},
   "outputs": [
    {
     "data": {
      "text/plain": [
       "tensor([[-0.0188,  0.0008,  0.0328,  0.0380]], device='mps:0',\n",
       "       grad_fn=<LinearBackward0>)"
      ]
     },
     "execution_count": 15,
     "metadata": {},
     "output_type": "execute_result"
    }
   ],
   "source": [
    "cnn_model(obs_tensor_batch) "
   ]
  },
  {
   "cell_type": "markdown",
   "metadata": {},
   "source": [
    "Podemos preguntar cuál es la acción con mayor valor Q en un estado."
   ]
  },
  {
   "cell_type": "code",
   "execution_count": 16,
   "metadata": {},
   "outputs": [
    {
     "data": {
      "text/plain": [
       "torch.return_types.max(\n",
       "values=tensor([0.0380], device='mps:0', grad_fn=<MaxBackward0>),\n",
       "indices=tensor([3], device='mps:0'))"
      ]
     },
     "execution_count": 16,
     "metadata": {},
     "output_type": "execute_result"
    }
   ],
   "source": [
    "cnn_model(obs_tensor_batch).max(1)"
   ]
  },
  {
   "cell_type": "markdown",
   "metadata": {},
   "source": [
    "En el siguiente ejemplo vamos a ver cómo tomar los valores de acciones deseables para un conjunto de estados. "
   ]
  },
  {
   "cell_type": "code",
   "execution_count": 17,
   "metadata": {},
   "outputs": [
    {
     "name": "stdout",
     "output_type": "stream",
     "text": [
      "Batch shape: torch.Size([3, 4, 84, 84])\n",
      "Q-values: tensor([[-0.0399,  0.0014,  0.0332,  0.0316],\n",
      "        [-0.0319,  0.0112,  0.0292,  0.0156],\n",
      "        [-0.0356,  0.0033,  0.0296,  0.0224]], device='mps:0',\n",
      "       grad_fn=<LinearBackward0>)\n",
      "Q-values: tensor([[0.0014],\n",
      "        [0.0292],\n",
      "        [0.0224]], device='mps:0', grad_fn=<GatherBackward0>)\n"
     ]
    }
   ],
   "source": [
    "# Creamos 3 observaciones aleatorias para probar el modelo\n",
    "obs_ran1 = torch.rand(4, 84, 84)\n",
    "obs_ran2 = torch.rand(4, 84, 84)\n",
    "obs_ran3 = torch.rand(4, 84, 84)\n",
    "\n",
    "batch = torch.stack([obs_ran1, obs_ran2, obs_ran3], dim=0).to(DEVICE) # shape: (3, 4, 84, 84)\n",
    "print(f\"Batch shape: {batch.shape}\")\n",
    "\n",
    "actions =  torch.tensor([1, 2, 3], device=DEVICE).unsqueeze(1) # queremos la acción 1 para la primera observación, la acción 2 para la segunda y la acción 3 para la tercera\n",
    "\n",
    "Q_test = cnn_model(batch)\n",
    "print(f\"Q-values: {Q_test}\")\n",
    "print(f\"Q-values: {Q_test.gather(1, actions)}\") # https://pytorch.org/docs/main/generated/torch.gather.html"
   ]
  },
  {
   "cell_type": "markdown",
   "metadata": {},
   "source": [
    "## Phi \n",
    "\n",
    "La función para procesar los estados (phi en el paper) que es necesaria para poder usar el modelo de Pytorch con las representaciones de gym. Esta función pasa una observación de gym a un tensor de Pytorch y la normaliza.\n",
    "\n",
    "> Técnicamente la función phi tiene más responsabilidades, como la de apilar los frames y el downsampling. En nuestro caso se lo delegamos a los wrappers de gymnasium."
   ]
  },
  {
   "cell_type": "code",
   "execution_count": 18,
   "metadata": {
    "id": "oegpMg25t9I9",
    "pycharm": {
     "name": "#%%\n"
    }
   },
   "outputs": [
    {
     "name": "stdout",
     "output_type": "stream",
     "text": [
      "Observation shape: torch.Size([4, 84, 84])\n"
     ]
    }
   ],
   "source": [
    "def process_state(obs):\n",
    "    \"\"\"\n",
    "    Preprocess the state to be used as input for the model (transform to tensor).\n",
    "    \"\"\"\n",
    "    return torch.tensor(obs, dtype=torch.float32, device=DEVICE) / 255.0\n",
    "\n",
    "obs, _ = env.reset()\n",
    "obs_tensor = process_state(obs)\n",
    "print(f\"Observation shape: {obs_tensor.shape}\")"
   ]
  },
  {
   "cell_type": "markdown",
   "metadata": {
    "id": "z9B7ZY9Htj_F",
    "pycharm": {
     "name": "#%% md\n"
    }
   },
   "source": [
    "## Agente\n",
    "\n",
    "Vamos a definir una clase agente (abstracto), encargado de interactuar con el ambiente y entrenar los modelos. Los métdos definidos deben funcionar para ambos problemas simplemente cambiando el modelo a utilizar para cada ambiente.\n",
    "\n",
    "Abajo dejamos un esqueleto del mismo y las funciones a completar. Recomendamos no alterar la estructura del mismo, pero pueden definir las funciones auxiliares que consideren necesarias.\n",
    "\n",
    "> Para implementar esta funcionalidad se debe modificar los archivos **abstract_agent.py** y **dqn_agent.py**.\n",
    "\n",
    "Funciones a completar:\n",
    "\n",
    "\n",
    "1. **init**: que inicializa los parametros del agente.\n",
    "\n",
    "2. **compute_epsilon**: que computa el valor actual de epsilon en base al número de pasos actuales y si esta entrenando o no.\n",
    "\n",
    "3. **select_action**: Seleccionando acciones \"epsilongreedy-mente\" si estamos entranando y completamente greedy en otro caso.\n",
    "\n",
    "4. **train**: que entrena el agente por un número dado de episodios de largo determinado.\n",
    "\n",
    "5. **record_test_episode**: para grabar un episodio con el agente siempre seleccionando la mejor accion conocida."
   ]
  },
  {
   "cell_type": "markdown",
   "metadata": {
    "id": "BOD-ENZRtyMt",
    "pycharm": {
     "name": "#%% md\n"
    }
   },
   "source": [
    "## Entrenamiento"
   ]
  },
  {
   "cell_type": "code",
   "execution_count": 19,
   "metadata": {},
   "outputs": [],
   "source": [
    "#Hiperparámetros de entrenamiento del agente DQN\n",
    "TOTAL_STEPS = 10_000_000\n",
    "EPISODES = 10_000\n",
    "STEPS_PER_EPISODE = 20_000\n",
    "\n",
    "EPSILON_INI = 1\n",
    "EPSILON_MIN = 0.05\n",
    "EPSILON_ANNEAL_STEPS = 1_000_000\n",
    "\n",
    "EPISODE_BLOCK = 100\n",
    "\n",
    "BATCH_SIZE = 32\n",
    "BUFFER_SIZE = 50_000\n",
    "\n",
    "GAMMA = 0.995\n",
    "LEARNING_RATE = 1e-5"
   ]
  },
  {
   "cell_type": "code",
   "execution_count": 20,
   "metadata": {
    "id": "BsTl-pFqt10b",
    "pycharm": {
     "name": "#%%\n"
    }
   },
   "outputs": [
    {
     "name": "stderr",
     "output_type": "stream",
     "text": [
      "A.L.E: Arcade Learning Environment (version 0.10.2+unknown)\n",
      "[Powered by Stella]\n",
      "Game console created:\n",
      "  ROM file:  /opt/anaconda3/envs/obl_taller_ia/lib/python3.12/site-packages/ale_py/roms/breakout.bin\n",
      "  Cart Name: Breakout - Breakaway IV (1978) (Atari)\n",
      "  Cart MD5:  f34f08e5eb96e500e851a80be3277a56\n",
      "  Display Format:  AUTO-DETECT ==> NTSC\n",
      "  ROM Size:        2048\n",
      "  Bankswitch Type: AUTO-DETECT ==> 2K\n",
      "\n",
      "Running ROM file...\n",
      "Random seed is -518575611\n",
      "/opt/anaconda3/envs/obl_taller_ia/lib/python3.12/site-packages/gymnasium/wrappers/rendering.py:283: UserWarning: \u001b[33mWARN: Overwriting existing videos at /Users/gotero/facultad/2025/taller_ia/obligatorio/videos/dqn_training folder (try specifying a different `video_folder` for the `RecordVideo` wrapper if this is not desired)\u001b[0m\n",
      "  logger.warn(\n",
      "Entrenando:   0%|          | 0/10000 [00:00<?, ?episode/s]\n"
     ]
    },
    {
     "ename": "TypeError",
     "evalue": "ReplayMemory.add() missing 4 required positional arguments: 'action', 'reward', 'done', and 'next_state'",
     "output_type": "error",
     "traceback": [
      "\u001b[31m---------------------------------------------------------------------------\u001b[39m",
      "\u001b[31mTypeError\u001b[39m                                 Traceback (most recent call last)",
      "\u001b[36mCell\u001b[39m\u001b[36m \u001b[39m\u001b[32mIn[20]\u001b[39m\u001b[32m, line 17\u001b[39m\n\u001b[32m     13\u001b[39m net = DQN_CNN_Model(env.observation_space.shape, env.action_space.n).to(DEVICE)\n\u001b[32m     15\u001b[39m dqn_agent = DQNAgent(env, net, process_state, BUFFER_SIZE, BATCH_SIZE, LEARNING_RATE, GAMMA, epsilon_i=EPSILON_INI, epsilon_f=EPSILON_MIN, epsilon_anneal_steps=EPSILON_ANNEAL_STEPS, episode_block=EPISODE_BLOCK, device=DEVICE)\n\u001b[32m---> \u001b[39m\u001b[32m17\u001b[39m dqn_rewards = \u001b[43mdqn_agent\u001b[49m\u001b[43m.\u001b[49m\u001b[43mtrain\u001b[49m\u001b[43m(\u001b[49m\u001b[43mEPISODES\u001b[49m\u001b[43m,\u001b[49m\u001b[43m \u001b[49m\u001b[43mSTEPS_PER_EPISODE\u001b[49m\u001b[43m,\u001b[49m\u001b[43m \u001b[49m\u001b[43mTOTAL_STEPS\u001b[49m\u001b[43m)\u001b[49m\n\u001b[32m     19\u001b[39m env.close()\n",
      "\u001b[36mFile \u001b[39m\u001b[32m~/facultad/2025/taller_ia/obligatorio/abstract_agent.py:103\u001b[39m, in \u001b[36mAgent.train\u001b[39m\u001b[34m(self, number_episodes, max_steps_episode, max_steps)\u001b[39m\n\u001b[32m     96\u001b[39m current_episode_steps += \u001b[32m1\u001b[39m\n\u001b[32m     98\u001b[39m \u001b[38;5;66;03m# TODO: Almacenar transición en replay memory\u001b[39;00m\n\u001b[32m     99\u001b[39m \n\u001b[32m    100\u001b[39m \u001b[38;5;66;03m# Ingresamos en la memoria de replay la \"Transition\" definida\u001b[39;00m\n\u001b[32m    101\u001b[39m \u001b[38;5;66;03m# en la replay memory (tupla).\u001b[39;00m\n\u001b[32m--> \u001b[39m\u001b[32m103\u001b[39m \u001b[38;5;28;43mself\u001b[39;49m\u001b[43m.\u001b[49m\u001b[43mmemory\u001b[49m\u001b[43m.\u001b[49m\u001b[43madd\u001b[49m\u001b[43m(\u001b[49m\n\u001b[32m    104\u001b[39m \u001b[43m    \u001b[49m\u001b[43mTransition\u001b[49m\u001b[43m(\u001b[49m\u001b[43mstate_phi\u001b[49m\u001b[43m,\u001b[49m\u001b[43m \u001b[49m\u001b[43maction\u001b[49m\u001b[43m,\u001b[49m\u001b[43m \u001b[49m\u001b[43mreward\u001b[49m\u001b[43m,\u001b[49m\u001b[43m \u001b[49m\u001b[43mnext_state_phi\u001b[49m\u001b[43m,\u001b[49m\u001b[43m \u001b[49m\u001b[43mdone\u001b[49m\u001b[43m)\u001b[49m\n\u001b[32m    105\u001b[39m \u001b[43m\u001b[49m\u001b[43m)\u001b[49m\n\u001b[32m    107\u001b[39m \u001b[38;5;66;03m# TODO: Llamar a update_weights() para entrenar modelo\u001b[39;00m\n\u001b[32m    109\u001b[39m \u001b[38;5;28mself\u001b[39m.update_weights()\n",
      "\u001b[31mTypeError\u001b[39m: ReplayMemory.add() missing 4 required positional arguments: 'action', 'reward', 'done', and 'next_state'"
     ]
    }
   ],
   "source": [
    "from dqn_agent import DQNAgent\n",
    "\n",
    "env = make_env(ENV_NAME,\n",
    "                video_folder='./videos/dqn_training',\n",
    "                name_prefix=\"breakout\",\n",
    "                record_every=500,\n",
    "                grayscale=GRAY_SCALE,\n",
    "                screen_size=SCREEN_SIZE,\n",
    "                stack_frames=NUM_STACKED_FRAMES,\n",
    "                skip_frames=SKIP_FRAMES\n",
    "                )\n",
    "\n",
    "net = DQN_CNN_Model(env.observation_space.shape, env.action_space.n).to(DEVICE)\n",
    "\n",
    "dqn_agent = DQNAgent(env, net, process_state, BUFFER_SIZE, BATCH_SIZE, LEARNING_RATE, GAMMA, epsilon_i=EPSILON_INI, epsilon_f=EPSILON_MIN, epsilon_anneal_steps=EPSILON_ANNEAL_STEPS, episode_block=EPISODE_BLOCK, device=DEVICE)\n",
    "\n",
    "dqn_rewards = dqn_agent.train(EPISODES, STEPS_PER_EPISODE, TOTAL_STEPS)\n",
    "\n",
    "env.close()"
   ]
  },
  {
   "cell_type": "code",
   "execution_count": null,
   "metadata": {},
   "outputs": [],
   "source": [
    "env = make_env(ENV_NAME,\n",
    "                video_folder='./videos/dqn_validation',\n",
    "                name_prefix=\"breakout\",\n",
    "                record_every=1,\n",
    "                grayscale=GRAY_SCALE,\n",
    "                screen_size=SCREEN_SIZE,\n",
    "                stack_frames=NUM_STACKED_FRAMES,\n",
    "                skip_frames=SKIP_FRAMES\n",
    "                )\n",
    "\n",
    "dqn_agent.play(env, episodes=3)\n",
    "\n",
    "env.close()"
   ]
  },
  {
   "cell_type": "code",
   "execution_count": null,
   "metadata": {},
   "outputs": [],
   "source": [
    "# Ruta al archivo de vídeo en tu sistema de ficheros\n",
    "video_path = \"./videos/dqn_validation/breakout-episode-0.mp4\"\n",
    "\n",
    "# Muestra el vídeo\n",
    "Video(video_path, embed=True, width=600)"
   ]
  },
  {
   "cell_type": "markdown",
   "metadata": {},
   "source": [
    "#### Graficas \n",
    "..."
   ]
  },
  {
   "cell_type": "markdown",
   "metadata": {
    "id": "QETh1K7pt9I_"
   },
   "source": [
    "# Double Deep Q Learning\n",
    "\n",
    "Double DQN mejora la versión clásica de DQN corrigiendo el sesgo de sobreestimación de los valores \n",
    "𝑄\n",
    "Q. Para ello, desacopla la selección de la acción de su evaluación: en cada paso, la red online elige la acción que maximiza \n",
    "𝑄\n",
    "Q, pero la red objetivo distinta estima el valor de esa acción. Esta separación reduce el sesgo hacia valores demasiado optimistas y aporta mayor estabilidad al entrenamiento. El resto de la estructura —replay buffer, política ε-greedy, etc— se mantiene igual que en DQN, aprovechando así un diseño casi idéntico al original pero con resultados más fiables .\n",
    "\n",
    "Fuente: [arXiv:1509.06461](https://arxiv.org/abs/1509.06461)\n",
    "\n",
    "> Vamos a utilizar el mismo modelo de red neuronal creado para el problema anterior y la misma implementación de memoria, dejamos un esqueleto de un agente de Double Deep Q learning para completar en el archivo **double_dqn_agent.py**"
   ]
  },
  {
   "cell_type": "code",
   "execution_count": null,
   "metadata": {
    "id": "kDNkAtdMt9I_",
    "pycharm": {
     "name": "#%%\n"
    }
   },
   "outputs": [],
   "source": [
    "from double_dqn_agent import DoubleDQNAgent\n",
    "\n",
    "env = make_env(ENV_NAME,\n",
    "                video_folder='./videos/ddqn_training',\n",
    "                name_prefix=\"breakout\",\n",
    "                record_every=500,\n",
    "                grayscale=GRAY_SCALE,\n",
    "                screen_size=SCREEN_SIZE,\n",
    "                stack_frames=NUM_STACKED_FRAMES,\n",
    "                skip_frames=SKIP_FRAMES\n",
    "                )\n",
    "\n",
    "\n",
    "modelo_a = DQN_CNN_Model(env.observation_space.shape, env.action_space.n).to(DEVICE)\n",
    "modelo_b = DQN_CNN_Model(env.observation_space.shape, env.action_space.n).to(DEVICE)\n",
    "\n",
    "ddqn_agent = DoubleDQNAgent(env, modelo_a, modelo_b, process_state, BUFFER_SIZE, BATCH_SIZE, LEARNING_RATE, GAMMA, epsilon_i= EPSILON_INI, epsilon_f=EPSILON_MIN, epsilon_anneal_steps=EPSILON_ANNEAL_STEPS, episode_block = EPISODE_BLOCK, device=DEVICE)\n",
    "\n",
    "ddqn_rewards = ddqn_agent.train(EPISODES, STEPS_PER_EPISODE, TOTAL_STEPS)"
   ]
  },
  {
   "cell_type": "code",
   "execution_count": null,
   "metadata": {},
   "outputs": [],
   "source": [
    "env = make_env(ENV_NAME,\n",
    "                video_folder='./videos/ddqn_validation',\n",
    "                name_prefix=\"breakout\",\n",
    "                record_every=1,\n",
    "                grayscale=GRAY_SCALE,\n",
    "                screen_size=SCREEN_SIZE,\n",
    "                stack_frames=NUM_STACKED_FRAMES,\n",
    "                skip_frames=SKIP_FRAMES\n",
    "                )\n",
    "\n",
    "ddqn_agent.play(env, episodes=3)\n",
    "\n",
    "env.close()"
   ]
  },
  {
   "cell_type": "code",
   "execution_count": null,
   "metadata": {},
   "outputs": [],
   "source": [
    "# Ruta al archivo de vídeo en tu sistema de ficheros\n",
    "video_path = \"./videos/ddqn_validation/breakout-episode-0.mp4\"\n",
    "\n",
    "# Muestra el vídeo\n",
    "Video(video_path, embed=True, width=600)"
   ]
  },
  {
   "cell_type": "markdown",
   "metadata": {},
   "source": [
    "#### Graficas \n",
    "..."
   ]
  },
  {
   "cell_type": "markdown",
   "metadata": {},
   "source": [
    "# Experimentación\n",
    "Aquí con libertad total, pueden probar diferentes arquitecturas de red, diferentes hiperparámetros, diferentes técnicas de exploración, etc.\n",
    "..."
   ]
  },
  {
   "cell_type": "markdown",
   "metadata": {
    "id": "YNNvsKiEt9I_"
   },
   "source": [
    "# Comparaciones, Resultados, Comentarios...\n",
    "De aquí en adelante son libres de presentar como gusten los resultados comparativos de las técnicas.\n",
    "..."
   ]
  }
 ],
 "metadata": {
  "accelerator": "GPU",
  "colab": {
   "provenance": []
  },
  "kernelspec": {
   "display_name": "obl_taller_ia",
   "language": "python",
   "name": "python3"
  },
  "language_info": {
   "codemirror_mode": {
    "name": "ipython",
    "version": 3
   },
   "file_extension": ".py",
   "mimetype": "text/x-python",
   "name": "python",
   "nbconvert_exporter": "python",
   "pygments_lexer": "ipython3",
   "version": "3.12.10"
  }
 },
 "nbformat": 4,
 "nbformat_minor": 1
}
