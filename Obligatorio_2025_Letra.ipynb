{
 "cells": [
  {
   "cell_type": "markdown",
   "metadata": {},
   "source": [
    "# Obligatorio - Taller Agentes Inteligentes 2025\n",
    "\n",
    "En este trabajo obligatorio aplicaremos los conceptos vistos en el curso para diseñar, implementar y evaluar agentes capaces de aprender a jugar al clásico **Breakout** de Atari, utilizando el entorno provisto por Farama Gymnasium ([https://ale.farama.org/environments/breakout/](https://ale.farama.org/environments/breakout/)). \n",
    "\n",
    "<p align=\"center\">\n",
    "  <img src=\"https://media.tenor.com/oMxHgRrISJsAAAAM/atari-deep-learning.gif\" alt=\"Atari Deep Learning\"/>\n",
    "</p>\n",
    "\n",
    "\n",
    "El ejercicio se enmarca en un contexto de aprendizaje práctico, donde trabajaremos con las interfaces estándar de Gymnasium para:\n",
    "\n",
    "1. **Profundizar en algoritmos de valor**: implementaremos y compararemos dos variantes de Q-Learning basadas en redes neuronales profundas:\n",
    "   * **Deep Q Learning (DQN)**\n",
    "   * **Double Deep Q Learning (DDQN)**\n",
    "2. **Evaluar rendimiento y estabilidad**: registraremos las recompensas obtenidas durante el entrenamiento de cada agente y analizaremos su comportamiento mediante gráficas comparativas.\n",
    "3. **Demostrar resultados de forma visual**: capturaremos vídeos que muestren a cada agente “resolviendo” el entorno, entendido como la habilidad de romper al menos cinco bloques en una partida.\n",
    "\n",
    "Debido a las limitaciones de tiempo y cómputo propias de un entorno de curso, no se espera entrenar modelos durante más de diez horas por agente. Por ello, será fundamental:\n",
    "\n",
    "* Integrar puntos de **checkpoint** para guardar periódicamente los pesos de la red.\n",
    "* Seguir en los puntos 2 y 3 la arquitectura y técnicas originales propuestas en los papers seminales de DQN y DDQN, dejando la experimentación adicional para el punto extra.\n",
    "* Flexibilizar la notebook de guía: pueden reorganizarla o dividirla en múltiples archivos según su conveniencia.\n"
   ]
  },
  {
   "cell_type": "markdown",
   "metadata": {},
   "source": [
    "## Objetivos y tareas\n",
    "\n",
    "1. **Completar la implementación**\n",
    "   * Rellenar el código faltante en la notebook y en los módulos auxiliares para que los agentes puedan interactuar con el entorno de Breakout.\n",
    "2. **Entrenar agentes**\n",
    "   * Ajustar y entrenar un **DQN** que alcance la condición de “resolver” (romper ≥ 10 bloques).\n",
    "   * Ajustar y entrenar un **DDQN** con la misma meta de desempeño.\n",
    "3. **Visualizar y analizar resultados**\n",
    "   * Generar **gráficas comparativas** de las recompensas obtenidas por ambos agentes en el mismo entorno (una gráfica por ambiente). Además se sugiere gráficas que muestren el valor de la función de valor Q para cada agente.\n",
    "   * Extraer **al menos dos conclusiones** por gráfica, comentando diferencias en convergencia, estabilidad y comportamiento exploratorio.\n",
    "4. **Registro de demostraciones**\n",
    "   * Grabar y entregar un **video demostrativo** de cada agente resolviendo el entorno.\n",
    "5. **Experimentación**\n",
    "   * Probar otras arquitecturas, técnicas de mejora o módulos de procesamiento de entradas más avanzados, documentando brevemente su impacto/"
   ]
  },
  {
   "cell_type": "markdown",
   "metadata": {},
   "source": [
    "## Criterios de evaluación\n",
    "\n",
    "| Criterio                                  | Descripción                                                  | Peso |\n",
    "| ----------------------------------------- | ------------------------------------------------------------ | ---- |\n",
    "| **Implementación y rendimiento**          | DQN y DDQN completados; cada agente rompe ≥ 10 bloques       | 40%  |\n",
    "| **Estructura y narrativa de la notebook** | Secciones claras, explicación de decisiones, “historia”      | 20%  |\n",
    "| **Análisis de resultados**                | Gráficas comparativas; ≥ 2 conclusiones por gráfico          | 20%  |\n",
    "| **Presentación visual**                   | Vídeos demostrativos de cada agente                          | 10%  |\n",
    "| **Experimentación**                       | Experimentación adicional documentada y analizada brevemente | 10%  |"
   ]
  },
  {
   "cell_type": "markdown",
   "metadata": {},
   "source": [
    "## Bibliografía\n",
    "\n",
    "* **Mnih, V.**, Kavukcuoglu, K., Silver, D., Rusu, A. A., Veness, J., Bellemare, M. G., … Hassabis, D. (2013). *Playing Atari with Deep Reinforcement Learning*. [arXiv:1312.5602](https://arxiv.org/abs/1312.5602)\n",
    "* **van Hasselt, H.**, Guez, A., & Silver, D. (2015). *Deep Reinforcement Learning with Double Q-learning*. [arXiv:1509.06461](https://arxiv.org/abs/1509.06461)\n",
    "* **Sutton, R. S.**, & Barto, A. G. (2018). *Reinforcement Learning: An Introduction* (2nd ed.), capítulo 16.5: “Human-level Video Game Play”. MIT Press."
   ]
  },
  {
   "cell_type": "markdown",
   "metadata": {},
   "source": [
    "## Setup"
   ]
  },
  {
   "cell_type": "markdown",
   "metadata": {
    "id": "gc6t9etEt9I2",
    "pycharm": {
     "name": "#%%\n"
    }
   },
   "source": [
    "**Imports**"
   ]
  },
  {
   "cell_type": "code",
   "execution_count": 1,
   "metadata": {
    "id": "cwHCw6PMt9I3",
    "pycharm": {
     "name": "#%%\n"
    }
   },
   "outputs": [],
   "source": [
    "import os\n",
    "import torch\n",
    "import numpy as np\n",
    "import random\n",
    "import numpy as np\n",
    "import torch.nn as nn\n",
    "import torch.nn.functional as F\n",
    "from torchinfo import summary\n",
    "import gymnasium\n",
    "import ale_py\n",
    "from utils import make_env, show_observation_stack\n",
    "from IPython.display import Video"
   ]
  },
  {
   "cell_type": "markdown",
   "metadata": {},
   "source": [
    "ALE (Atari Learning Environment) es un entorno de aprendizaje para videojuegos de Atari. En este caso, utilizaremos el entorno de Breakout. Es necesario entender que se separa el entorno de los roms de Atari, que son los juegos en sí. El entorno de ALE permite interactuar con los juegos de Atari a través de una API estándar, facilitando la implementación de algoritmos de aprendizaje por refuerzo.\n",
    "\n",
    "Debemos instalar los roms por separado, para ello primero tenemos que saber donde están los roms de Atari. "
   ]
  },
  {
   "cell_type": "code",
   "execution_count": 2,
   "metadata": {},
   "outputs": [
    {
     "name": "stdout",
     "output_type": "stream",
     "text": [
      "/opt/anaconda3/envs/obl_taller_ia/lib/python3.12/site-packages/ale_py/roms\n"
     ]
    }
   ],
   "source": [
    "gymnasium.register_envs(ale_py) # registramos todos los entornos de ale_py\n",
    "ruta_init = ale_py.roms.__file__ # debemos saber donde se encuentra la carpeta roms\n",
    "ALE_ROMS_PATH = os.path.dirname(ruta_init)\n",
    "print(ALE_ROMS_PATH)"
   ]
  },
  {
   "cell_type": "code",
   "execution_count": 3,
   "metadata": {},
   "outputs": [
    {
     "name": "stdout",
     "output_type": "stream",
     "text": [
      "ROMs path: /opt/anaconda3/envs/obl_taller_ia/lib/python3.12/site-packages/ale_py/roms\n"
     ]
    }
   ],
   "source": [
    "print(f\"ROMs path: {ALE_ROMS_PATH}\")"
   ]
  },
  {
   "cell_type": "markdown",
   "metadata": {},
   "source": [
    "Podemos usar los siguientes comando para instalar los roms y colocalos en la carpeta correcta."
   ]
  },
  {
   "cell_type": "code",
   "execution_count": 4,
   "metadata": {},
   "outputs": [
    {
     "name": "stdout",
     "output_type": "stream",
     "text": [
      "Requirement already satisfied: autorom[accept-rom-license] in /opt/anaconda3/envs/obl_taller_ia/lib/python3.12/site-packages (0.6.1)\n",
      "Requirement already satisfied: click in /opt/anaconda3/envs/obl_taller_ia/lib/python3.12/site-packages (from autorom[accept-rom-license]) (8.2.0)\n",
      "Requirement already satisfied: requests in /opt/anaconda3/envs/obl_taller_ia/lib/python3.12/site-packages (from autorom[accept-rom-license]) (2.32.3)\n",
      "Requirement already satisfied: AutoROM.accept-rom-license in /opt/anaconda3/envs/obl_taller_ia/lib/python3.12/site-packages (from autorom[accept-rom-license]) (0.6.1)\n",
      "Requirement already satisfied: charset_normalizer<4,>=2 in /opt/anaconda3/envs/obl_taller_ia/lib/python3.12/site-packages (from requests->autorom[accept-rom-license]) (3.4.2)\n",
      "Requirement already satisfied: idna<4,>=2.5 in /opt/anaconda3/envs/obl_taller_ia/lib/python3.12/site-packages (from requests->autorom[accept-rom-license]) (3.10)\n",
      "Requirement already satisfied: urllib3<3,>=1.21.1 in /opt/anaconda3/envs/obl_taller_ia/lib/python3.12/site-packages (from requests->autorom[accept-rom-license]) (2.4.0)\n",
      "Requirement already satisfied: certifi>=2017.4.17 in /opt/anaconda3/envs/obl_taller_ia/lib/python3.12/site-packages (from requests->autorom[accept-rom-license]) (2025.4.26)\n",
      "AutoROM will download the Atari 2600 ROMs.\n",
      "They will be installed to:\n",
      "\t/opt/anaconda3/envs/obl_taller_ia/lib/python3.12/site-packages/ale_py/roms\n",
      "\n",
      "Existing ROMs will be overwritten.\n",
      "\n",
      "I own a license to these Atari 2600 ROMs.\n",
      "I agree to not distribute these ROMs and wish to proceed: [Y/n]: ^C\n"
     ]
    }
   ],
   "source": [
    "!pip install \"autorom[accept-rom-license]\"\n",
    "!AutoROM --accept-license --install-dir {ALE_ROMS_PATH}"
   ]
  },
  {
   "cell_type": "markdown",
   "metadata": {},
   "source": [
    "Fijamos la semilla para que los resultados sean reproducibles"
   ]
  },
  {
   "cell_type": "code",
   "execution_count": 4,
   "metadata": {},
   "outputs": [],
   "source": [
    "SEED = 23\n",
    "\n",
    "torch.manual_seed(SEED)\n",
    "torch.backends.cudnn.deterministic=True # https://discuss.pytorch.org/t/what-is-the-differenc-between-cudnn-deterministic-and-cudnn-benchmark/38054\n",
    "torch.backends.cudnn.benchmark=True # https://discuss.pytorch.org/t/what-does-torch-backends-cudnn-benchmark-do/5936/4\n",
    "np.random.seed(SEED)\n",
    "random.seed(SEED)"
   ]
  },
  {
   "cell_type": "markdown",
   "metadata": {},
   "source": [
    "Vemos que dispositivo tenemos, si es GPU, MPS o CPU. **El uso de GPU es altamente recomendable** para acelerar el entrenamiento de los modelos. "
   ]
  },
  {
   "cell_type": "code",
   "execution_count": 5,
   "metadata": {},
   "outputs": [
    {
     "name": "stdout",
     "output_type": "stream",
     "text": [
      "Device: mps\n"
     ]
    }
   ],
   "source": [
    "# Algunas constantes\n",
    "\n",
    "# definimos el dispositivo que vamos a usar\n",
    "DEVICE = \"cpu\"  # por defecto, usamos la CPU\n",
    "if torch.cuda.is_available():\n",
    "    DEVICE = \"cuda\"  # si hay GPU, usamos la GPU\n",
    "elif torch.backends.mps.is_available():\n",
    "    DEVICE = \"mps\"  # si no hay GPU, pero hay MPS, usamos MPS\n",
    "\n",
    "print(f\"Device: {DEVICE}\")"
   ]
  },
  {
   "cell_type": "markdown",
   "metadata": {},
   "source": [
    "## Preprocesando Atari\n",
    "\n",
    "Para reproducir fielmente el enfoque de Mnih et al. (2013) y reducir la carga computacional al trabajar con imágenes de Atari (210 × 160 píxeles, 128 colores), aplicamos el siguiente preprocesado φ a las últimas **4** frames del entorno:\n",
    "\n",
    "1. **Conversión a escala de grises**\n",
    "   Eliminamos la información de color (GRAYSCALE = True), pues la luminosidad es suficiente para capturar la dinámica de juego y reduce drásticamente la dimensionalidad de la entrada.\n",
    "\n",
    "2. **Down-sampling y recorte**\n",
    "   * Redimensionamos la imagen original a 110 × 84 píxeles, manteniendo la proporción horizontal.\n",
    "   * Recortamos un área central de 84 × 84 píxeles que contiene la “zona de juego”, descartando bordes innecesarios.\n",
    "     Este paso (SCREEN_SIZE = 84) no solo concentra la atención del modelo en la región relevante, sino que también garantiza un tamaño cuadrado compatible con las implementaciones de convoluciones en GPU.\n",
    "\n",
    "3. **Saltos temporales (frame skipping)**\n",
    "   Procesamos cada 4 frames (SKIP_FRAMES = 4), repitiendo la misma acción durante esos pasos. Esto reduce la redundancia temporal, acelera el entrenamiento y mantiene la coherencia del movimiento de la paleta y la bola.\n",
    "\n",
    "4. **Apilamiento de frames**\n",
    "   Finalmente, acumulamos las últimas 4 imágenes preprocesadas (NUM_STACKED_FRAMES = 4) en un único tensor de entrada. Así el agente puede inferir la velocidad y dirección de los elementos móviles a partir de la diferencia entre frames.\n",
    "\n",
    "Este esquema de preprocesado es fundamental para disminuir el espacio de entrada, acelerar las convoluciones y proporcionar al Q-net una representación compacta y rica en información dinámica, tal como se describe en el algoritmo 1 del paper original .\n",
    "\n",
    "> Se recomienda ver el método `make_env` en el archivo `utils.py` para entender cómo se implementa este preprocesado. "
   ]
  },
  {
   "cell_type": "code",
   "execution_count": 6,
   "metadata": {},
   "outputs": [],
   "source": [
    "GRAY_SCALE = True # si True, convertimos la imagen a escala de grises\n",
    "SCREEN_SIZE = 84 # redimensionamos a SCREEN_SIZExSCREEN_SIZE\n",
    "NUM_STACKED_FRAMES = 4 # apilamos NUM_STACKED_FRAMES frames\n",
    "SKIP_FRAMES = 4 # saltamos SKIP_FRAMES frames (haciendo la misma acción)"
   ]
  },
  {
   "cell_type": "code",
   "execution_count": 7,
   "metadata": {
    "colab": {
     "base_uri": "https://localhost:8080/"
    },
    "id": "loVxQPrwt9I5",
    "outputId": "18b7ed97-88dd-4b1e-a2cc-b2636686bfc7"
   },
   "outputs": [
    {
     "name": "stderr",
     "output_type": "stream",
     "text": [
      "A.L.E: Arcade Learning Environment (version 0.10.2+unknown)\n",
      "[Powered by Stella]\n",
      "Game console created:\n",
      "  ROM file:  /opt/anaconda3/envs/obl_taller_ia/lib/python3.12/site-packages/ale_py/roms/breakout.bin\n",
      "  Cart Name: Breakout - Breakaway IV (1978) (Atari)\n",
      "  Cart MD5:  f34f08e5eb96e500e851a80be3277a56\n",
      "  Display Format:  AUTO-DETECT ==> NTSC\n",
      "  ROM Size:        2048\n",
      "  Bankswitch Type: AUTO-DETECT ==> 2K\n",
      "\n",
      "Running ROM file...\n",
      "Random seed is 1023822521\n",
      "/opt/anaconda3/envs/obl_taller_ia/lib/python3.12/site-packages/gymnasium/wrappers/rendering.py:283: UserWarning: \u001b[33mWARN: Overwriting existing videos at /Users/gotero/facultad/2025/taller_ia/obligatorio/videos/random folder (try specifying a different `video_folder` for the `RecordVideo` wrapper if this is not desired)\u001b[0m\n",
      "  logger.warn(\n"
     ]
    },
    {
     "data": {
      "image/png": "[encoded data removed]",
      "text/plain": [
       "<Figure size 640x480 with 1 Axes>"
      ]
     },
     "metadata": {},
     "output_type": "display_data"
    },
    {
     "data": {
      "image/png": "[encoded data removed]",
      "text/plain": [
       "<Figure size 640x480 with 1 Axes>"
      ]
     },
     "metadata": {},
     "output_type": "display_data"
    },
    {
     "data": {
      "image/png": "[encoded data removed]",
      "text/plain": [
       "<Figure size 640x480 with 1 Axes>"
      ]
     },
     "metadata": {},
     "output_type": "display_data"
    },
    {
     "data": {
      "image/png": "[encoded data removed]",
      "text/plain": [
       "<Figure size 640x480 with 1 Axes>"
      ]
     },
     "metadata": {},
     "output_type": "display_data"
    },
    {
     "name": "stdout",
     "output_type": "stream",
     "text": [
      "Episode 1 finished with total reward: 0\n"
     ]
    }
   ],
   "source": [
    "# https://ale.farama.org/environments/breakout/\n",
    "ENV_NAME = \"ALE/Breakout-v5\" \n",
    "\n",
    "env = make_env(ENV_NAME,\n",
    "                video_folder='./videos/random',\n",
    "                name_prefix=\"breakout\",\n",
    "                record_every=1,\n",
    "                grayscale=GRAY_SCALE,\n",
    "                screen_size=SCREEN_SIZE,\n",
    "                stack_frames=NUM_STACKED_FRAMES,\n",
    "                skip_frames=SKIP_FRAMES\n",
    "                )\n",
    "\n",
    "for episode_num in range(1):\n",
    "    obs, info = env.reset()\n",
    "    show_observation_stack(obs)\n",
    "    reward_total = 0\n",
    "    episode_over = False\n",
    "    while not episode_over:\n",
    "        action = env.action_space.sample()  # seleccionamos una acción aleatoria\n",
    "        obs, reward, terminated, truncated, info = env.step(action)\n",
    "        reward_total += reward\n",
    "        episode_over = terminated or truncated\n",
    "    print(f\"Episode {episode_num + 1} finished with total reward: {reward_total}\")\n",
    "\n",
    "env.close()"
   ]
  },
  {
   "cell_type": "markdown",
   "metadata": {},
   "source": [
    "Además, podemos mostrar los videos capturados por el entorno de Atari de la siguiente manera:"
   ]
  },
  {
   "cell_type": "code",
   "execution_count": 8,
   "metadata": {},
   "outputs": [
    {
     "data": {
      "text/html": [
       "<video controls  width=\"600\" >\n",
       " <source src=\"data:video/mp4;base64,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\" type=\"video/mp4\">\n",
       " Your browser does not support the video tag.\n",
       " </video>"
      ],
      "text/plain": [
       "<IPython.core.display.Video object>"
      ]
     },
     "execution_count": 8,
     "metadata": {},
     "output_type": "execute_result"
    }
   ],
   "source": [
    "# Ruta al archivo de vídeo en tu sistema de ficheros\n",
    "video_path = \"./videos/random/breakout-episode-0.mp4\"\n",
    "\n",
    "# Muestra el vídeo\n",
    "Video(video_path, embed=True, width=600)"
   ]
  },
  {
   "cell_type": "markdown",
   "metadata": {
    "id": "2bYVG_TKt9I5"
   },
   "source": [
    "# Exploración del entorno"
   ]
  },
  {
   "cell_type": "code",
   "execution_count": 9,
   "metadata": {},
   "outputs": [
    {
     "name": "stdout",
     "output_type": "stream",
     "text": [
      "Actions shape: Discrete(4)\n",
      "Observation shape: (4, 84, 84)\n",
      "(4, 84, 84),\n",
      " 0,\n",
      " False,\n",
      " {'lives': 5, 'episode_frame_number': 10, 'frame_number': 619}\n"
     ]
    }
   ],
   "source": [
    "print(\"Actions shape:\",env.action_space)\n",
    "print(\"Observation shape:\",env.observation_space.shape)\n",
    "env.reset()\n",
    "next_state, reward, terminated, truncated, info = env.step(action=0)\n",
    "\n",
    "print(f\"{next_state.shape},\\n {reward},\\n {terminated},\\n {info}\")"
   ]
  },
  {
   "cell_type": "markdown",
   "metadata": {},
   "source": [
    "### Acciones\n",
    "..."
   ]
  },
  {
   "cell_type": "markdown",
   "metadata": {},
   "source": [
    "### Observaciones\n",
    "..."
   ]
  },
  {
   "cell_type": "markdown",
   "metadata": {
    "id": "XIHpwiaat9I7"
   },
   "source": [
    "# Deep Q Learning\n",
    "\n",
    "Deep Q Learning extiende el algoritmo clásico de Q-learning al emplear una **red neuronal profunda** como aproximador de la función de valor $Q(s,a)$. Inspirado en Mnih et al. (2013), este método utiliza una **red convolucional** para procesar directamente las imágenes del entorno Atari, un **replay buffer** para romper la correlación temporal de las muestras. La política sigue un esquema **ε-greedy**, balanceando exploración y explotación, y se entrena minimizando el error de la ecuación de Bellman sobre lotes de transiciones muestreadas de manera aleatoria.\n",
    "\n",
    "<p align=\"center\">\n",
    "  <img src=\"https://www.researchgate.net/profile/Faris-Mismar/publication/327045314/figure/fig4/AS:819677282455553@1572437701142/Structure-of-the-neural-network-used-for-the-Deep-Q-learning-Network-implementation-with.png\" alt=\"DQN\"/>\n",
    "</p>\n",
    "\n",
    "Fuente: [arXiv:1312.5602](https://arxiv.org/abs/1312.5602)"
   ]
  },
  {
   "cell_type": "markdown",
   "metadata": {
    "id": "ajTGajUftSgY",
    "pycharm": {
     "name": "#%% md\n"
    }
   },
   "source": [
    "## Memoria\n",
    "\n",
    "El algoritmo de Deep Q Learning presentado en el paper utiliza una memoria (llamada Replay Memory) para almacenar transiciones pasadas. Tuplas que contienen un estado base, la accion tomada, la recompensa obtenida, una bandera que indica si el siguiente estado es final o no; y el estado siguiente.\n",
    "\n",
    "Esta memoria es circular, es decir, tiene un límite maximo de elementos y una vez esté llena comienza a reemplazar los elementos más viejos.\n",
    "\n",
    "Vamos a necesitar crear una función **sample** que obtiene una mustra aleatoria de elementos de la memoria.  Esto puede ser una lista de Transiciones o listas separadas (pero alineadas) de los elementos que las componen.\n",
    "\n",
    "\n",
    "> Para implementar esta funcionalidad se debe modificar el archivo **replay_memory.py**"
   ]
  },
  {
   "cell_type": "code",
   "execution_count": 10,
   "metadata": {
    "id": "scPtpbz4tTAh",
    "outputId": "0890f48a-e673-4416-bd69-7dcf2730ba64",
    "pycharm": {
     "name": "#%%\n"
    }
   },
   "outputs": [
    {
     "name": "stdout",
     "output_type": "stream",
     "text": [
      "Memory size: 3\n",
      "\n",
      "Memory sample:\n",
      "Sample 0: Transition(state='state2', action='action2', reward='reward2', done='done2', next_state='next_state2')\n",
      "Sample 1: Transition(state='state4', action='action4', reward='reward4', done='done4', next_state='next_state4')\n"
     ]
    }
   ],
   "source": [
    "from replay_memory import ReplayMemory, Transition\n",
    "\n",
    "# Creamos la memoria de repetición\n",
    "replay_memory = ReplayMemory(3)\n",
    "\n",
    "# Añadimos transiciones a la memoria (solo las 3 últimas se guardan)\n",
    "replay_memory.add('state1', 'action1', 'reward1', 'done1', 'next_state1' )\n",
    "replay_memory.add('state2', 'action2', 'reward2', 'done2', 'next_state2')\n",
    "replay_memory.add('state3', 'action3', 'reward3', 'done3', 'next_state3')\n",
    "replay_memory.add('state4', 'action4', 'reward4', 'done4', 'next_state4')\n",
    "\n",
    "# Mostramos el tamaño de la memoria\n",
    "print(f\"Memory size: {len(replay_memory)}\\n\")\n",
    "\n",
    "# Mostramos un sample de la memoria\n",
    "sampled = replay_memory.sample(2)\n",
    "print(f\"Memory sample:\")\n",
    "for i, sample in enumerate(sampled):\n",
    "    print(f\"Sample {i}: {sample}\")\n"
   ]
  },
  {
   "cell_type": "markdown",
   "metadata": {
    "id": "j7Ygv5Mjtb-F",
    "pycharm": {
     "name": "#%% md\n"
    }
   },
   "source": [
    "## Modelo\n",
    "\n",
    "Vamos a usar un mismo modelo FeedForward para estos dos problemas (entrenado en cada problema particular). Recomendamos simplicidad en la creación del mismo, pero tienen total libertad al momento de implementarlo.\n",
    "\n",
    "> Para implementar esta funcionalidad se debe modificar el archivo **dqn_cnn_model.py**. Se recomienda empezar por una arquitectura simple como la que se muestra en el paper de Mnih et al. (2013) y luego experimentar con arquitecturas más complejas."
   ]
  },
  {
   "cell_type": "code",
   "execution_count": 11,
   "metadata": {
    "id": "bkNBvJB6ryp7",
    "pycharm": {
     "name": "#%%\n"
    }
   },
   "outputs": [
    {
     "name": "stderr",
     "output_type": "stream",
     "text": [
      "A.L.E: Arcade Learning Environment (version 0.10.2+unknown)\n",
      "[Powered by Stella]\n",
      "Game console created:\n",
      "  ROM file:  /opt/anaconda3/envs/obl_taller_ia/lib/python3.12/site-packages/ale_py/roms/breakout.bin\n",
      "  Cart Name: Breakout - Breakaway IV (1978) (Atari)\n",
      "  Cart MD5:  f34f08e5eb96e500e851a80be3277a56\n",
      "  Display Format:  AUTO-DETECT ==> NTSC\n",
      "  ROM Size:        2048\n",
      "  Bankswitch Type: AUTO-DETECT ==> 2K\n",
      "\n",
      "Running ROM file...\n",
      "Random seed is 220671182\n",
      "/opt/anaconda3/envs/obl_taller_ia/lib/python3.12/site-packages/gymnasium/wrappers/rendering.py:416: UserWarning: \u001b[33mWARN: Unable to save last video! Did you call close()?\u001b[0m\n",
      "  logger.warn(\"Unable to save last video! Did you call close()?\")\n"
     ]
    },
    {
     "name": "stdout",
     "output_type": "stream",
     "text": [
      "Actions shape: Discrete(4)\n",
      "Observatiion shape: (4, 84, 84)\n"
     ]
    },
    {
     "data": {
      "text/plain": [
       "==========================================================================================\n",
       "Layer (type:depth-idx)                   Output Shape              Param #\n",
       "==========================================================================================\n",
       "DQN_CNN_Model                            [32, 4]                   --\n",
       "├─Conv2d: 1-1                            [32, 16, 20, 20]          4,112\n",
       "├─Conv2d: 1-2                            [32, 32, 9, 9]            8,224\n",
       "├─Linear: 1-3                            [32, 256]                 663,808\n",
       "├─Linear: 1-4                            [32, 4]                   1,028\n",
       "==========================================================================================\n",
       "Total params: 677,172\n",
       "Trainable params: 677,172\n",
       "Non-trainable params: 0\n",
       "Total mult-adds (Units.MEGABYTES): 95.22\n",
       "==========================================================================================\n",
       "Input size (MB): 3.61\n",
       "Forward/backward pass size (MB): 2.37\n",
       "Params size (MB): 2.71\n",
       "Estimated Total Size (MB): 8.69\n",
       "=========================================================================================="
      ]
     },
     "execution_count": 11,
     "metadata": {},
     "output_type": "execute_result"
    }
   ],
   "source": [
    "from dqn_cnn_model import DQN_CNN_Model\n",
    "\n",
    "env = make_env(ENV_NAME,\n",
    "                record_every=None,\n",
    "                grayscale=GRAY_SCALE,\n",
    "                screen_size=SCREEN_SIZE,\n",
    "                stack_frames=NUM_STACKED_FRAMES,\n",
    "                skip_frames=SKIP_FRAMES\n",
    "                )\n",
    "print(\"Actions shape:\",env.action_space)\n",
    "print(\"Observatiion shape:\",env.observation_space.shape)\n",
    "\n",
    "env.close()\n",
    "\n",
    "cnn_model = DQN_CNN_Model(env.observation_space.shape, env.action_space.n).to(DEVICE)\n",
    "summary(cnn_model, input_size=(32, SKIP_FRAMES, SCREEN_SIZE, SCREEN_SIZE), device=DEVICE) # 32 es el batch size"
   ]
  },
  {
   "cell_type": "markdown",
   "metadata": {},
   "source": [
    "La red esta definida para que reciba un tensor de 4 dimensiones (batch_size, num_frames, height, width) y devuelve un tensor de 2 dimensiones (batch_size, num_actions). La función `forward` es la encargada de definir el flujo de datos a través de la red. En este caso, se utiliza una red convolucional seguida de capas totalmente conectadas"
   ]
  },
  {
   "cell_type": "code",
   "execution_count": 12,
   "metadata": {},
   "outputs": [],
   "source": [
    "obs_tensor_batch = torch.rand((NUM_STACKED_FRAMES,SCREEN_SIZE,SCREEN_SIZE)).unsqueeze(0).to(DEVICE) # Añadimos una dimensión para el batch y lo pasamos al dispositivo\n",
    " "
   ]
  },
  {
   "cell_type": "markdown",
   "metadata": {},
   "source": [
    "Los valores de Q se obtienen a partir de la salida de la red, cada columna representa el valor Q para cada acción posible en el estado actual. "
   ]
  },
  {
   "cell_type": "code",
   "execution_count": 13,
   "metadata": {},
   "outputs": [
    {
     "name": "stdout",
     "output_type": "stream",
     "text": [
      "Q-values shape: torch.Size([1, 4])\n"
     ]
    }
   ],
   "source": [
    "print(f\"Q-values shape: {cnn_model(obs_tensor_batch).shape}\") # shape: (1, num_actions)"
   ]
  },
  {
   "cell_type": "code",
   "execution_count": 14,
   "metadata": {},
   "outputs": [
    {
     "data": {
      "text/plain": [
       "tensor([[-0.0188,  0.0008,  0.0328,  0.0380]], device='mps:0',\n",
       "       grad_fn=<LinearBackward0>)"
      ]
     },
     "execution_count": 14,
     "metadata": {},
     "output_type": "execute_result"
    }
   ],
   "source": [
    "cnn_model(obs_tensor_batch) "
   ]
  },
  {
   "cell_type": "markdown",
   "metadata": {},
   "source": [
    "Podemos preguntar cuál es la acción con mayor valor Q en un estado."
   ]
  },
  {
   "cell_type": "code",
   "execution_count": 15,
   "metadata": {},
   "outputs": [
    {
     "data": {
      "text/plain": [
       "torch.return_types.max(\n",
       "values=tensor([0.0380], device='mps:0', grad_fn=<MaxBackward0>),\n",
       "indices=tensor([3], device='mps:0'))"
      ]
     },
     "execution_count": 15,
     "metadata": {},
     "output_type": "execute_result"
    }
   ],
   "source": [
    "cnn_model(obs_tensor_batch).max(1)"
   ]
  },
  {
   "cell_type": "markdown",
   "metadata": {},
   "source": [
    "En el siguiente ejemplo vamos a ver cómo tomar los valores de acciones deseables para un conjunto de estados. "
   ]
  },
  {
   "cell_type": "code",
   "execution_count": 16,
   "metadata": {},
   "outputs": [
    {
     "name": "stdout",
     "output_type": "stream",
     "text": [
      "Batch shape: torch.Size([3, 4, 84, 84])\n",
      "Q-values: tensor([[-0.0399,  0.0014,  0.0332,  0.0316],\n",
      "        [-0.0319,  0.0112,  0.0292,  0.0156],\n",
      "        [-0.0356,  0.0033,  0.0296,  0.0224]], device='mps:0',\n",
      "       grad_fn=<LinearBackward0>)\n",
      "Q-values: tensor([[0.0014],\n",
      "        [0.0292],\n",
      "        [0.0224]], device='mps:0', grad_fn=<GatherBackward0>)\n"
     ]
    }
   ],
   "source": [
    "# Creamos 3 observaciones aleatorias para probar el modelo\n",
    "obs_ran1 = torch.rand(4, 84, 84)\n",
    "obs_ran2 = torch.rand(4, 84, 84)\n",
    "obs_ran3 = torch.rand(4, 84, 84)\n",
    "\n",
    "batch = torch.stack([obs_ran1, obs_ran2, obs_ran3], dim=0).to(DEVICE) # shape: (3, 4, 84, 84)\n",
    "print(f\"Batch shape: {batch.shape}\")\n",
    "\n",
    "actions =  torch.tensor([1, 2, 3], device=DEVICE).unsqueeze(1) # queremos la acción 1 para la primera observación, la acción 2 para la segunda y la acción 3 para la tercera\n",
    "\n",
    "Q_test = cnn_model(batch)\n",
    "print(f\"Q-values: {Q_test}\")\n",
    "print(f\"Q-values: {Q_test.gather(1, actions)}\") # https://pytorch.org/docs/main/generated/torch.gather.html"
   ]
  },
  {
   "cell_type": "markdown",
   "metadata": {},
   "source": [
    "## Phi \n",
    "\n",
    "La función para procesar los estados (phi en el paper) que es necesaria para poder usar el modelo de Pytorch con las representaciones de gym. Esta función pasa una observación de gym a un tensor de Pytorch y la normaliza.\n",
    "\n",
    "> Técnicamente la función phi tiene más responsabilidades, como la de apilar los frames y el downsampling. En nuestro caso se lo delegamos a los wrappers de gymnasium."
   ]
  },
  {
   "cell_type": "code",
   "execution_count": 17,
   "metadata": {
    "id": "oegpMg25t9I9",
    "pycharm": {
     "name": "#%%\n"
    }
   },
   "outputs": [
    {
     "name": "stdout",
     "output_type": "stream",
     "text": [
      "Observation shape: torch.Size([4, 84, 84])\n"
     ]
    }
   ],
   "source": [
    "def process_state(obs):\n",
    "    \"\"\"\n",
    "    Preprocess the state to be used as input for the model (transform to tensor).\n",
    "    \"\"\"\n",
    "    return torch.tensor(obs, dtype=torch.float32, device=DEVICE) / 255.0\n",
    "\n",
    "obs, _ = env.reset()\n",
    "obs_tensor = process_state(obs)\n",
    "print(f\"Observation shape: {obs_tensor.shape}\")"
   ]
  },
  {
   "cell_type": "markdown",
   "metadata": {
    "id": "z9B7ZY9Htj_F",
    "pycharm": {
     "name": "#%% md\n"
    }
   },
   "source": [
    "## Agente\n",
    "\n",
    "Vamos a definir una clase agente (abstracto), encargado de interactuar con el ambiente y entrenar los modelos. Los métdos definidos deben funcionar para ambos problemas simplemente cambiando el modelo a utilizar para cada ambiente.\n",
    "\n",
    "Abajo dejamos un esqueleto del mismo y las funciones a completar. Recomendamos no alterar la estructura del mismo, pero pueden definir las funciones auxiliares que consideren necesarias.\n",
    "\n",
    "> Para implementar esta funcionalidad se debe modificar los archivos **abstract_agent.py** y **dqn_agent.py**.\n",
    "\n",
    "Funciones a completar:\n",
    "\n",
    "\n",
    "1. **init**: que inicializa los parametros del agente.\n",
    "\n",
    "2. **compute_epsilon**: que computa el valor actual de epsilon en base al número de pasos actuales y si esta entrenando o no.\n",
    "\n",
    "3. **select_action**: Seleccionando acciones \"epsilongreedy-mente\" si estamos entranando y completamente greedy en otro caso.\n",
    "\n",
    "4. **train**: que entrena el agente por un número dado de episodios de largo determinado.\n",
    "\n",
    "5. **record_test_episode**: para grabar un episodio con el agente siempre seleccionando la mejor accion conocida."
   ]
  },
  {
   "cell_type": "markdown",
   "metadata": {
    "id": "BOD-ENZRtyMt",
    "pycharm": {
     "name": "#%% md\n"
    }
   },
   "source": [
    "## Entrenamiento"
   ]
  },
  {
   "cell_type": "code",
   "execution_count": null,
   "metadata": {},
   "outputs": [],
   "source": [
    "#Hiperparámetros de entrenamiento del agente DQN\n",
    "TOTAL_STEPS = 10_000_000\n",
    "EPISODES = 10_000\n",
    "STEPS_PER_EPISODE = 20_000\n",
    "\n",
    "EPSILON_INI = 1\n",
    "EPSILON_MIN = 0.05\n",
    "EPSILON_ANNEAL_STEPS = 1_000_000\n",
    "\n",
    "EPISODE_BLOCK = 100\n",
    "\n",
    "BATCH_SIZE = 32\n",
    "BUFFER_SIZE = 50_000\n",
    "\n",
    "GAMMA = 0.995\n",
    "LEARNING_RATE = 1e-5"
   ]
  },
  {
   "cell_type": "code",
   "execution_count": null,
   "metadata": {
    "id": "BsTl-pFqt10b",
    "pycharm": {
     "name": "#%%\n"
    }
   },
   "outputs": [],
   "source": [
    "from dqn_agent import DQNAgent\n",
    "\n",
    "env = make_env(ENV_NAME,\n",
    "                video_folder='./videos/dqn_training',\n",
    "                name_prefix=\"breakout\",\n",
    "                record_every=500,\n",
    "                grayscale=GRAY_SCALE,\n",
    "                screen_size=SCREEN_SIZE,\n",
    "                stack_frames=NUM_STACKED_FRAMES,\n",
    "                skip_frames=SKIP_FRAMES\n",
    "                )\n",
    "\n",
    "net = DQN_CNN_Model(env.observation_space.shape, env.action_space.n).to(DEVICE)\n",
    "\n",
    "dqn_agent = DQNAgent(env, net, process_state, BUFFER_SIZE, BATCH_SIZE, LEARNING_RATE, GAMMA, epsilon_i=EPSILON_INI, epsilon_f=EPSILON_MIN, epsilon_anneal_steps=EPSILON_ANNEAL_STEPS, episode_block=EPISODE_BLOCK, device=DEVICE)\n",
    "\n",
    "dqn_rewards = dqn_agent.train(EPISODES, STEPS_PER_EPISODE, TOTAL_STEPS)\n",
    "\n",
    "env.close()"
   ]
  },
  {
   "cell_type": "code",
   "execution_count": null,
   "metadata": {},
   "outputs": [],
   "source": [
    "env = make_env(ENV_NAME,\n",
    "                video_folder='./videos/dqn_validation',\n",
    "                name_prefix=\"breakout\",\n",
    "                record_every=1,\n",
    "                grayscale=GRAY_SCALE,\n",
    "                screen_size=SCREEN_SIZE,\n",
    "                stack_frames=NUM_STACKED_FRAMES,\n",
    "                skip_frames=SKIP_FRAMES\n",
    "                )\n",
    "\n",
    "dqn_agent.play(env, episodes=3)\n",
    "\n",
    "env.close()"
   ]
  },
  {
   "cell_type": "code",
   "execution_count": null,
   "metadata": {},
   "outputs": [],
   "source": [
    "# Ruta al archivo de vídeo en tu sistema de ficheros\n",
    "video_path = \"./videos/dqn_validation/breakout-episode-0.mp4\"\n",
    "\n",
    "# Muestra el vídeo\n",
    "Video(video_path, embed=True, width=600)"
   ]
  },
  {
   "cell_type": "markdown",
   "metadata": {},
   "source": [
    "#### Graficas \n",
    "..."
   ]
  },
  {
   "cell_type": "markdown",
   "metadata": {
    "id": "QETh1K7pt9I_"
   },
   "source": [
    "# Double Deep Q Learning\n",
    "\n",
    "Double DQN mejora la versión clásica de DQN corrigiendo el sesgo de sobreestimación de los valores \n",
    "𝑄\n",
    "Q. Para ello, desacopla la selección de la acción de su evaluación: en cada paso, la red online elige la acción que maximiza \n",
    "𝑄\n",
    "Q, pero la red objetivo distinta estima el valor de esa acción. Esta separación reduce el sesgo hacia valores demasiado optimistas y aporta mayor estabilidad al entrenamiento. El resto de la estructura —replay buffer, política ε-greedy, etc— se mantiene igual que en DQN, aprovechando así un diseño casi idéntico al original pero con resultados más fiables .\n",
    "\n",
    "Fuente: [arXiv:1509.06461](https://arxiv.org/abs/1509.06461)\n",
    "\n",
    "> Vamos a utilizar el mismo modelo de red neuronal creado para el problema anterior y la misma implementación de memoria, dejamos un esqueleto de un agente de Double Deep Q learning para completar en el archivo **double_dqn_agent.py**"
   ]
  },
  {
   "cell_type": "code",
   "execution_count": null,
   "metadata": {
    "id": "kDNkAtdMt9I_",
    "pycharm": {
     "name": "#%%\n"
    }
   },
   "outputs": [],
   "source": [
    "from double_dqn_agent import DoubleDQNAgent\n",
    "\n",
    "env = make_env(ENV_NAME,\n",
    "                video_folder='./videos/ddqn_training',\n",
    "                name_prefix=\"breakout\",\n",
    "                record_every=500,\n",
    "                grayscale=GRAY_SCALE,\n",
    "                screen_size=SCREEN_SIZE,\n",
    "                stack_frames=NUM_STACKED_FRAMES,\n",
    "                skip_frames=SKIP_FRAMES\n",
    "                )\n",
    "\n",
    "\n",
    "modelo_a = DQN_CNN_Model(env.observation_space.shape, env.action_space.n).to(DEVICE)\n",
    "modelo_b = DQN_CNN_Model(env.observation_space.shape, env.action_space.n).to(DEVICE)\n",
    "\n",
    "ddqn_agent = DoubleDQNAgent(env, modelo_a, modelo_b, process_state, BUFFER_SIZE, BATCH_SIZE, LEARNING_RATE, GAMMA, epsilon_i= EPSILON_INI, epsilon_f=EPSILON_MIN, epsilon_anneal_steps=EPSILON_ANNEAL_STEPS, episode_block = EPISODE_BLOCK, device=DEVICE)\n",
    "\n",
    "ddqn_rewards = ddqn_agent.train(EPISODES, STEPS_PER_EPISODE, TOTAL_STEPS)"
   ]
  },
  {
   "cell_type": "code",
   "execution_count": null,
   "metadata": {},
   "outputs": [],
   "source": [
    "env = make_env(ENV_NAME,\n",
    "                video_folder='./videos/ddqn_validation',\n",
    "                name_prefix=\"breakout\",\n",
    "                record_every=1,\n",
    "                grayscale=GRAY_SCALE,\n",
    "                screen_size=SCREEN_SIZE,\n",
    "                stack_frames=NUM_STACKED_FRAMES,\n",
    "                skip_frames=SKIP_FRAMES\n",
    "                )\n",
    "\n",
    "ddqn_agent.play(env, episodes=3)\n",
    "\n",
    "env.close()"
   ]
  },
  {
   "cell_type": "code",
   "execution_count": null,
   "metadata": {},
   "outputs": [],
   "source": [
    "# Ruta al archivo de vídeo en tu sistema de ficheros\n",
    "video_path = \"./videos/ddqn_validation/breakout-episode-0.mp4\"\n",
    "\n",
    "# Muestra el vídeo\n",
    "Video(video_path, embed=True, width=600)"
   ]
  },
  {
   "cell_type": "markdown",
   "metadata": {},
   "source": [
    "#### Graficas \n",
    "..."
   ]
  },
  {
   "cell_type": "markdown",
   "metadata": {},
   "source": [
    "# Experimentación\n",
    "Aquí con libertad total, pueden probar diferentes arquitecturas de red, diferentes hiperparámetros, diferentes técnicas de exploración, etc.\n",
    "..."
   ]
  },
  {
   "cell_type": "markdown",
   "metadata": {
    "id": "YNNvsKiEt9I_"
   },
   "source": [
    "# Comparaciones, Resultados, Comentarios...\n",
    "De aquí en adelante son libres de presentar como gusten los resultados comparativos de las técnicas.\n",
    "..."
   ]
  }
 ],
 "metadata": {
  "accelerator": "GPU",
  "colab": {
   "provenance": []
  },
  "kernelspec": {
   "display_name": "obl_taller_ia",
   "language": "python",
   "name": "python3"
  },
  "language_info": {
   "codemirror_mode": {
    "name": "ipython",
    "version": 3
   },
   "file_extension": ".py",
   "mimetype": "text/x-python",
   "name": "python",
   "nbconvert_exporter": "python",
   "pygments_lexer": "ipython3",
   "version": "3.12.10"
  }
 },
 "nbformat": 4,
 "nbformat_minor": 1
}
