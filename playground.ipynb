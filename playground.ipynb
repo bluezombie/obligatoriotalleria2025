{
 "cells": [
  {
   "cell_type": "markdown",
   "metadata": {},
   "source": [
    "# Simple Tensor Example with PyTorch\n",
    "\n",
    "This notebook demonstrates basic tensor operations using PyTorch."
   ]
  },
  {
   "cell_type": "code",
   "execution_count": 2,
   "metadata": {},
   "outputs": [],
   "source": [
    "# Import PyTorch\n",
    "import torch"
   ]
  },
  {
   "cell_type": "code",
   "execution_count": null,
   "metadata": {},
   "outputs": [],
   "source": [
    "# Create a tensor\n",
    "a = torch.tensor([1.0, 2.0, 3.0])\n",
    "b = torch.tensor([4.0, 5.0, 6.0])\n",
    "print('Tensor a:', a)\n",
    "print('Tensor b:', b)"
   ]
  },
  {
   "cell_type": "code",
   "execution_count": null,
   "metadata": {},
   "outputs": [],
   "source": [
    "# Tensor addition\n",
    "c = a + b\n",
    "print('a + b =', c)"
   ]
  },
  {
   "cell_type": "code",
   "execution_count": null,
   "metadata": {},
   "outputs": [],
   "source": [
    "# Tensor multiplication\n",
    "d = a * b\n",
    "print('a * b =', d)"
   ]
  },
  {
   "cell_type": "code",
   "execution_count": 2,
   "metadata": {},
   "outputs": [
    {
     "name": "stdout",
     "output_type": "stream",
     "text": [
      "Random tensor: tensor([[0.0416, 0.8330, 0.0526, 0.3848],\n",
      "        [0.2434, 0.0789, 0.6388, 0.7738],\n",
      "        [0.0138, 0.1765, 0.1523, 0.1491],\n",
      "        [0.9861, 0.1758, 0.4334, 0.4923],\n",
      "        [0.5139, 0.8459, 0.0525, 0.9042],\n",
      "        [0.7506, 0.2111, 0.6716, 0.5380],\n",
      "        [0.1517, 0.9617, 0.3286, 0.9035],\n",
      "        [0.7566, 0.1398, 0.8715, 0.8715],\n",
      "        [0.0045, 0.7886, 0.9340, 0.5170],\n",
      "        [0.8310, 0.7625, 0.0401, 0.3297],\n",
      "        [0.2088, 0.9380, 0.1715, 0.5639],\n",
      "        [0.5231, 0.1788, 0.4337, 0.8229],\n",
      "        [0.3167, 0.0139, 0.7077, 0.7343],\n",
      "        [0.8331, 0.8261, 0.0698, 0.7447],\n",
      "        [0.9102, 0.9893, 0.7294, 0.7314],\n",
      "        [0.1037, 0.6464, 0.0363, 0.3350],\n",
      "        [0.2046, 0.2072, 0.9700, 0.9722],\n",
      "        [0.1844, 0.9254, 0.3090, 0.0331],\n",
      "        [0.0258, 0.1425, 0.1398, 0.7040],\n",
      "        [0.2697, 0.6733, 0.4649, 0.4134],\n",
      "        [0.7097, 0.0143, 0.8309, 0.2223],\n",
      "        [0.7194, 0.5485, 0.7849, 0.5904],\n",
      "        [0.9204, 0.2402, 0.3045, 0.9814],\n",
      "        [0.4386, 0.9490, 0.1860, 0.7471],\n",
      "        [0.5995, 0.4469, 0.7258, 0.1029],\n",
      "        [0.9455, 0.7622, 0.1400, 0.7306],\n",
      "        [0.7849, 0.6937, 0.5830, 0.3628],\n",
      "        [0.5087, 0.5924, 0.8865, 0.5988],\n",
      "        [0.0523, 0.9180, 0.1621, 0.9313],\n",
      "        [0.9161, 0.5014, 0.9007, 0.1231],\n",
      "        [0.7993, 0.1462, 0.6362, 0.5697],\n",
      "        [0.4790, 0.6663, 0.2723, 0.6684]])\n"
     ]
    }
   ],
   "source": [
    "vals = torch.rand(32, 4)\n",
    "print('Random tensor:', vals)"
   ]
  },
  {
   "cell_type": "code",
   "execution_count": 9,
   "metadata": {},
   "outputs": [
    {
     "name": "stdout",
     "output_type": "stream",
     "text": [
      "Random actions: tensor([[0],\n",
      "        [3],\n",
      "        [1],\n",
      "        [2],\n",
      "        [1],\n",
      "        [2],\n",
      "        [3],\n",
      "        [2],\n",
      "        [1],\n",
      "        [1],\n",
      "        [3],\n",
      "        [2],\n",
      "        [0],\n",
      "        [3],\n",
      "        [0],\n",
      "        [0],\n",
      "        [2],\n",
      "        [3],\n",
      "        [3],\n",
      "        [2],\n",
      "        [0],\n",
      "        [1],\n",
      "        [2],\n",
      "        [3],\n",
      "        [1],\n",
      "        [1],\n",
      "        [0],\n",
      "        [1],\n",
      "        [3],\n",
      "        [2],\n",
      "        [0],\n",
      "        [1]])\n"
     ]
    }
   ],
   "source": [
    "actions = torch.randint(0, 4, (32,1)).long()\n",
    "print('Random actions:', actions)\n",
    "# print(actions.shape)"
   ]
  },
  {
   "cell_type": "markdown",
   "metadata": {},
   "source": [
    "Vamos a intentar obtener el q_sna con el shape correcto, a partir del q_sn con el shape correcto"
   ]
  },
  {
   "cell_type": "code",
   "execution_count": 24,
   "metadata": {},
   "outputs": [
    {
     "name": "stdout",
     "output_type": "stream",
     "text": [
      "Max Q-values: torch.Size([32, 1])\n"
     ]
    }
   ],
   "source": [
    "q_sn = torch.rand(32, 4)\n",
    "# print('Q-values:', q_sn)\n",
    "dones = torch.randint(0, 2, (32, 1)).float()\n",
    "# print('Dones:', dones)\n",
    "\n",
    "q_sna = q_sn.max(1, keepdim=True)[0] * (1 - dones)\n",
    "print('Max Q-values:', q_sna.shape)"
   ]
  },
  {
   "cell_type": "code",
   "execution_count": 25,
   "metadata": {},
   "outputs": [
    {
     "name": "stdout",
     "output_type": "stream",
     "text": [
      "Output shape: torch.Size([32, 6])\n"
     ]
    }
   ],
   "source": [
    "import torch\n",
    "import torch.nn as nn\n",
    "import torch.nn.functional as F\n",
    "\n",
    "class SimpleCNN(nn.Module):\n",
    "    def __init__(self):\n",
    "        super(SimpleCNN, self).__init__()\n",
    "        # Input: [batch_size, 4, 84, 84]\n",
    "        self.conv1 = nn.Conv2d(4, 16, kernel_size=8, stride=4)  # Output: [batch_size, 16, 20, 20]\n",
    "        self.conv2 = nn.Conv2d(16, 32, kernel_size=4, stride=2)  # Output: [batch_size, 32, 9, 9]\n",
    "        self.fc1 = nn.Linear(32 * 9 * 9, 256)  # Flattened to FC\n",
    "        self.output = nn.Linear(256, 6)  # Suppose 6 possible actions\n",
    "\n",
    "    def forward(self, x):\n",
    "        x = F.relu(self.conv1(x))  # Apply ReLU after conv1\n",
    "        x = F.relu(self.conv2(x))  # Apply ReLU after conv2\n",
    "        x = x.view(x.size(0), -1)  # Flatten to shape [batch_size, 32*9*9]\n",
    "        x = F.relu(self.fc1(x))    # Fully connected + ReLU\n",
    "        return self.output(x)      # Output layer with action Q-values\n",
    "\n",
    "# Create the model\n",
    "model = SimpleCNN()\n",
    "\n",
    "# Dummy input: batch of 32 frames of shape [4, 84, 84]\n",
    "input_tensor = torch.randn(32, 4, 84, 84)  # Shape: [batch_size, channels, height, width]\n",
    "\n",
    "# Forward pass\n",
    "output = model(input_tensor)\n",
    "\n",
    "print(\"Output shape:\", output.shape)  # Should be [32, 6]"
   ]
  }
 ],
 "metadata": {
  "kernelspec": {
   "display_name": "obl_taller_ia",
   "language": "python",
   "name": "python3"
  },
  "language_info": {
   "codemirror_mode": {
    "name": "ipython",
    "version": 3
   },
   "file_extension": ".py",
   "mimetype": "text/x-python",
   "name": "python",
   "nbconvert_exporter": "python",
   "pygments_lexer": "ipython3",
   "version": "3.12.10"
  }
 },
 "nbformat": 4,
 "nbformat_minor": 2
}
